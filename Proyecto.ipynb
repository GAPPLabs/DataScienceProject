{
 "cells": [
  {
   "cell_type": "markdown",
   "id": "cc0e109c",
   "metadata": {},
   "source": [
    "# Data Science Project"
   ]
  },
  {
   "cell_type": "markdown",
   "source": [
    "## Introduction"
   ],
   "metadata": {
    "collapsed": false,
    "pycharm": {
     "name": "#%% md\n"
    }
   }
  },
  {
   "cell_type": "markdown",
   "source": [
    "Este proyecto tiene como objetivo el poder obtener conocimiento a partir de los datos presentes en un conjunto de datos (dataset, por su traducción en ingles), lo que permitirá poder comprobar una o varias hipotesis propuestas.\n",
    "\n",
    "Para esto, se define lo siguiente:\n",
    "\n",
    "- **Conjunto de datos.** Se elegió el conjunto de datos \"futbol\" que contiene información relacionada de diversos jugadores de distintos clubes de todo el mundo; esto con su información estadistica como jugador y su algunos datos personales.\n",
    "\n",
    "\n",
    "- **Hipotesis a comprobar.** ¿Existe alguna relación entre la edad, nacionalidad, club, pierna preferida, posición, fecha de unión al club, prestamo, fecha de contrado valido, altura, peso y clausula de liberación para poder determinar el valor y precio de venta de un jugador?"
   ],
   "metadata": {
    "collapsed": false,
    "pycharm": {
     "name": "#%% md\n"
    }
   }
  },
  {
   "cell_type": "markdown",
   "source": [
    "<img src=\"https://www.freewebheaders.com/wp-content/gallery/football/sports-soccer-stadium-night-scene-web-header.jpg\" style=\"width: 100%\"/>"
   ],
   "metadata": {
    "collapsed": false,
    "pycharm": {
     "name": "#%% md\n"
    }
   }
  },
  {
   "cell_type": "markdown",
   "source": [
    "## Preparación para el preprocesamiento"
   ],
   "metadata": {
    "collapsed": false,
    "pycharm": {
     "name": "#%% md\n"
    }
   }
  },
  {
   "cell_type": "markdown",
   "source": [
    "### Importación de librerias"
   ],
   "metadata": {
    "collapsed": false,
    "pycharm": {
     "name": "#%% md\n"
    }
   }
  },
  {
   "cell_type": "markdown",
   "source": [
    "Se importando todas las librerias necesarias para este proyecto, donde las mas importante es **pandas** ya que permite la lectura, manipulación y almacenamiento de los datos."
   ],
   "metadata": {
    "collapsed": false,
    "pycharm": {
     "name": "#%% md\n"
    }
   }
  },
  {
   "cell_type": "code",
   "execution_count": 1,
   "outputs": [],
   "source": [
    "import re\n",
    "import pandas as pd\n",
    "import numpy as np\n",
    "import matplotlib.pyplot as plt\n",
    "import seaborn as sb\n",
    "from sklearn.preprocessing import MinMaxScaler\n",
    "plt.style.use('ggplot')"
   ],
   "metadata": {
    "collapsed": false,
    "pycharm": {
     "name": "#%%\n"
    }
   }
  },
  {
   "cell_type": "markdown",
   "source": [
    "### Load dataset"
   ],
   "metadata": {
    "collapsed": false,
    "pycharm": {
     "name": "#%% md\n"
    }
   }
  },
  {
   "cell_type": "markdown",
   "source": [
    "Se lee el conjunto de datos elegido pero filtrando las columnas (variables, en Ciencia de Datos) unicamente necesarias, estas se describen a continuación.\n",
    "\n",
    "- ID\n",
    "- Age\n",
    "- Nationality\n",
    "- Club\n",
    "- Value\n",
    "- Wage\n",
    "- Preferred Foot\n",
    "- Position\n",
    "- Joined\n",
    "- Loaned From\n",
    "- Contract Valid Until\n",
    "- Height\n",
    "- Weight\n",
    "- Release Clause\n",
    "\n",
    "Sin embargo, se renombran las columnas que poseen espacios con los mismos nombres pero sustituyendo los espacios con guiones bajos."
   ],
   "metadata": {
    "collapsed": false,
    "pycharm": {
     "name": "#%% md\n"
    }
   }
  },
  {
   "cell_type": "code",
   "execution_count": 2,
   "outputs": [],
   "source": [
    "dataframe = (pd.read_csv(\"futbol.csv\")).filter([\"ID\", \"Age\", \"Nationality\",\"Club\",\"Value\", \"Wage\", \"Preferred Foot\", \"Position\", \"Joined\",\"Loaned From\", \"Contract Valid Until\", \"Height\", \"Weight\", \"Release Clause\"]).rename(columns={\"Preferred Foot\":'Preferred_foot', 'Loaned From': 'Loaned_from', 'Contract Valid Until':'Contract_Valid_Until', 'Release Clause': 'Release_clause'})"
   ],
   "metadata": {
    "collapsed": false,
    "pycharm": {
     "name": "#%%\n"
    }
   }
  },
  {
   "cell_type": "markdown",
   "source": [
    "Posteriormente, se visualiza el dataframe (estructura que posee un conjunto de datos) leido."
   ],
   "metadata": {
    "collapsed": false,
    "pycharm": {
     "name": "#%% md\n"
    }
   }
  },
  {
   "cell_type": "code",
   "execution_count": 3,
   "outputs": [
    {
     "data": {
      "text/plain": "           ID  Age Nationality                 Club    Value   Wage  \\\n0      158023   31   Argentina         FC Barcelona  €110.5M  €565K   \n1       20801   33    Portugal             Juventus     €77M  €405K   \n2      190871   26      Brazil  Paris Saint-Germain  €118.5M  €290K   \n3      193080   27       Spain    Manchester United     €72M  €260K   \n4      192985   27     Belgium      Manchester City    €102M  €355K   \n...       ...  ...         ...                  ...      ...    ...   \n18202  238813   19     England      Crewe Alexandra     €60K    €1K   \n18203  243165   19      Sweden       Trelleborgs FF     €60K    €1K   \n18204  241638   16     England     Cambridge United     €60K    €1K   \n18205  246268   17     England      Tranmere Rovers     €60K    €1K   \n18206  246269   16     England      Tranmere Rovers     €60K    €1K   \n\n      Preferred_foot Position        Joined Loaned_from Contract_Valid_Until  \\\n0               Left       RF   Jul 1, 2004         NaN                 2021   \n1              Right       ST  Jul 10, 2018         NaN                 2022   \n2              Right       LW   Aug 3, 2017         NaN                 2022   \n3              Right       GK   Jul 1, 2011         NaN                 2020   \n4              Right      RCM  Aug 30, 2015         NaN                 2023   \n...              ...      ...           ...         ...                  ...   \n18202          Right       CM   May 3, 2017         NaN                 2019   \n18203          Right       ST  Mar 19, 2018         NaN                 2020   \n18204          Right       ST   Jul 1, 2017         NaN                 2021   \n18205          Right       RW  Apr 24, 2018         NaN                 2019   \n18206          Right       CM  Oct 30, 2018         NaN                 2019   \n\n      Height  Weight Release_clause  \n0        5'7  159lbs        €226.5M  \n1        6'2  183lbs        €127.1M  \n2        5'9  150lbs        €228.1M  \n3        6'4  168lbs        €138.6M  \n4       5'11  154lbs        €196.4M  \n...      ...     ...            ...  \n18202    5'9  134lbs          €143K  \n18203    6'3  170lbs          €113K  \n18204    5'8  148lbs          €165K  \n18205   5'10  154lbs          €143K  \n18206   5'10  176lbs          €165K  \n\n[18207 rows x 14 columns]",
      "text/html": "<div>\n<style scoped>\n    .dataframe tbody tr th:only-of-type {\n        vertical-align: middle;\n    }\n\n    .dataframe tbody tr th {\n        vertical-align: top;\n    }\n\n    .dataframe thead th {\n        text-align: right;\n    }\n</style>\n<table border=\"1\" class=\"dataframe\">\n  <thead>\n    <tr style=\"text-align: right;\">\n      <th></th>\n      <th>ID</th>\n      <th>Age</th>\n      <th>Nationality</th>\n      <th>Club</th>\n      <th>Value</th>\n      <th>Wage</th>\n      <th>Preferred_foot</th>\n      <th>Position</th>\n      <th>Joined</th>\n      <th>Loaned_from</th>\n      <th>Contract_Valid_Until</th>\n      <th>Height</th>\n      <th>Weight</th>\n      <th>Release_clause</th>\n    </tr>\n  </thead>\n  <tbody>\n    <tr>\n      <th>0</th>\n      <td>158023</td>\n      <td>31</td>\n      <td>Argentina</td>\n      <td>FC Barcelona</td>\n      <td>€110.5M</td>\n      <td>€565K</td>\n      <td>Left</td>\n      <td>RF</td>\n      <td>Jul 1, 2004</td>\n      <td>NaN</td>\n      <td>2021</td>\n      <td>5'7</td>\n      <td>159lbs</td>\n      <td>€226.5M</td>\n    </tr>\n    <tr>\n      <th>1</th>\n      <td>20801</td>\n      <td>33</td>\n      <td>Portugal</td>\n      <td>Juventus</td>\n      <td>€77M</td>\n      <td>€405K</td>\n      <td>Right</td>\n      <td>ST</td>\n      <td>Jul 10, 2018</td>\n      <td>NaN</td>\n      <td>2022</td>\n      <td>6'2</td>\n      <td>183lbs</td>\n      <td>€127.1M</td>\n    </tr>\n    <tr>\n      <th>2</th>\n      <td>190871</td>\n      <td>26</td>\n      <td>Brazil</td>\n      <td>Paris Saint-Germain</td>\n      <td>€118.5M</td>\n      <td>€290K</td>\n      <td>Right</td>\n      <td>LW</td>\n      <td>Aug 3, 2017</td>\n      <td>NaN</td>\n      <td>2022</td>\n      <td>5'9</td>\n      <td>150lbs</td>\n      <td>€228.1M</td>\n    </tr>\n    <tr>\n      <th>3</th>\n      <td>193080</td>\n      <td>27</td>\n      <td>Spain</td>\n      <td>Manchester United</td>\n      <td>€72M</td>\n      <td>€260K</td>\n      <td>Right</td>\n      <td>GK</td>\n      <td>Jul 1, 2011</td>\n      <td>NaN</td>\n      <td>2020</td>\n      <td>6'4</td>\n      <td>168lbs</td>\n      <td>€138.6M</td>\n    </tr>\n    <tr>\n      <th>4</th>\n      <td>192985</td>\n      <td>27</td>\n      <td>Belgium</td>\n      <td>Manchester City</td>\n      <td>€102M</td>\n      <td>€355K</td>\n      <td>Right</td>\n      <td>RCM</td>\n      <td>Aug 30, 2015</td>\n      <td>NaN</td>\n      <td>2023</td>\n      <td>5'11</td>\n      <td>154lbs</td>\n      <td>€196.4M</td>\n    </tr>\n    <tr>\n      <th>...</th>\n      <td>...</td>\n      <td>...</td>\n      <td>...</td>\n      <td>...</td>\n      <td>...</td>\n      <td>...</td>\n      <td>...</td>\n      <td>...</td>\n      <td>...</td>\n      <td>...</td>\n      <td>...</td>\n      <td>...</td>\n      <td>...</td>\n      <td>...</td>\n    </tr>\n    <tr>\n      <th>18202</th>\n      <td>238813</td>\n      <td>19</td>\n      <td>England</td>\n      <td>Crewe Alexandra</td>\n      <td>€60K</td>\n      <td>€1K</td>\n      <td>Right</td>\n      <td>CM</td>\n      <td>May 3, 2017</td>\n      <td>NaN</td>\n      <td>2019</td>\n      <td>5'9</td>\n      <td>134lbs</td>\n      <td>€143K</td>\n    </tr>\n    <tr>\n      <th>18203</th>\n      <td>243165</td>\n      <td>19</td>\n      <td>Sweden</td>\n      <td>Trelleborgs FF</td>\n      <td>€60K</td>\n      <td>€1K</td>\n      <td>Right</td>\n      <td>ST</td>\n      <td>Mar 19, 2018</td>\n      <td>NaN</td>\n      <td>2020</td>\n      <td>6'3</td>\n      <td>170lbs</td>\n      <td>€113K</td>\n    </tr>\n    <tr>\n      <th>18204</th>\n      <td>241638</td>\n      <td>16</td>\n      <td>England</td>\n      <td>Cambridge United</td>\n      <td>€60K</td>\n      <td>€1K</td>\n      <td>Right</td>\n      <td>ST</td>\n      <td>Jul 1, 2017</td>\n      <td>NaN</td>\n      <td>2021</td>\n      <td>5'8</td>\n      <td>148lbs</td>\n      <td>€165K</td>\n    </tr>\n    <tr>\n      <th>18205</th>\n      <td>246268</td>\n      <td>17</td>\n      <td>England</td>\n      <td>Tranmere Rovers</td>\n      <td>€60K</td>\n      <td>€1K</td>\n      <td>Right</td>\n      <td>RW</td>\n      <td>Apr 24, 2018</td>\n      <td>NaN</td>\n      <td>2019</td>\n      <td>5'10</td>\n      <td>154lbs</td>\n      <td>€143K</td>\n    </tr>\n    <tr>\n      <th>18206</th>\n      <td>246269</td>\n      <td>16</td>\n      <td>England</td>\n      <td>Tranmere Rovers</td>\n      <td>€60K</td>\n      <td>€1K</td>\n      <td>Right</td>\n      <td>CM</td>\n      <td>Oct 30, 2018</td>\n      <td>NaN</td>\n      <td>2019</td>\n      <td>5'10</td>\n      <td>176lbs</td>\n      <td>€165K</td>\n    </tr>\n  </tbody>\n</table>\n<p>18207 rows × 14 columns</p>\n</div>"
     },
     "execution_count": 3,
     "metadata": {},
     "output_type": "execute_result"
    }
   ],
   "source": [
    "dataframe"
   ],
   "metadata": {
    "collapsed": false,
    "pycharm": {
     "name": "#%%\n"
    }
   }
  },
  {
   "cell_type": "markdown",
   "source": [
    "## Data mining"
   ],
   "metadata": {
    "collapsed": false,
    "pycharm": {
     "name": "#%% md\n"
    }
   }
  },
  {
   "cell_type": "markdown",
   "source": [
    "### Data cleaning"
   ],
   "metadata": {
    "collapsed": false,
    "pycharm": {
     "name": "#%% md\n"
    }
   }
  },
  {
   "cell_type": "markdown",
   "source": [
    "Debido a que el conjunto de datos elegido no fue elaborado por nosotros se procede a realizar una comprobación de los registros existentes en este, el cual tiene como objetivo de corroborar si existen registros nulos o vacios.\n",
    "Comprobaremos el tipo de dato que tiene cada columna"
   ],
   "metadata": {
    "collapsed": false,
    "pycharm": {
     "name": "#%% md\n"
    }
   }
  },
  {
   "cell_type": "code",
   "execution_count": 4,
   "outputs": [
    {
     "data": {
      "text/plain": "                     Tipo de dato\nID                          int64\nAge                         int64\nNationality                object\nClub                       object\nValue                      object\nWage                       object\nPreferred_foot             object\nPosition                   object\nJoined                     object\nLoaned_from                object\nContract_Valid_Until       object\nHeight                     object\nWeight                     object\nRelease_clause             object",
      "text/html": "<div>\n<style scoped>\n    .dataframe tbody tr th:only-of-type {\n        vertical-align: middle;\n    }\n\n    .dataframe tbody tr th {\n        vertical-align: top;\n    }\n\n    .dataframe thead th {\n        text-align: right;\n    }\n</style>\n<table border=\"1\" class=\"dataframe\">\n  <thead>\n    <tr style=\"text-align: right;\">\n      <th></th>\n      <th>Tipo de dato</th>\n    </tr>\n  </thead>\n  <tbody>\n    <tr>\n      <th>ID</th>\n      <td>int64</td>\n    </tr>\n    <tr>\n      <th>Age</th>\n      <td>int64</td>\n    </tr>\n    <tr>\n      <th>Nationality</th>\n      <td>object</td>\n    </tr>\n    <tr>\n      <th>Club</th>\n      <td>object</td>\n    </tr>\n    <tr>\n      <th>Value</th>\n      <td>object</td>\n    </tr>\n    <tr>\n      <th>Wage</th>\n      <td>object</td>\n    </tr>\n    <tr>\n      <th>Preferred_foot</th>\n      <td>object</td>\n    </tr>\n    <tr>\n      <th>Position</th>\n      <td>object</td>\n    </tr>\n    <tr>\n      <th>Joined</th>\n      <td>object</td>\n    </tr>\n    <tr>\n      <th>Loaned_from</th>\n      <td>object</td>\n    </tr>\n    <tr>\n      <th>Contract_Valid_Until</th>\n      <td>object</td>\n    </tr>\n    <tr>\n      <th>Height</th>\n      <td>object</td>\n    </tr>\n    <tr>\n      <th>Weight</th>\n      <td>object</td>\n    </tr>\n    <tr>\n      <th>Release_clause</th>\n      <td>object</td>\n    </tr>\n  </tbody>\n</table>\n</div>"
     },
     "execution_count": 4,
     "metadata": {},
     "output_type": "execute_result"
    }
   ],
   "source": [
    "pd.DataFrame(dataframe.dtypes, columns=['Tipo de dato'])"
   ],
   "metadata": {
    "collapsed": false,
    "pycharm": {
     "name": "#%%\n"
    }
   }
  },
  {
   "cell_type": "markdown",
   "source": [
    "Para disminuir el tiempo de procesamiento, cambiaremos el tipo de dato int64 a uno de menor cantidad de bits, pero primero debemos comprobar que ID y Age tengan el máximo aceptable por el tipo de dato."
   ],
   "metadata": {
    "collapsed": false,
    "pycharm": {
     "name": "#%% md\n"
    }
   }
  },
  {
   "cell_type": "code",
   "execution_count": 5,
   "outputs": [
    {
     "data": {
      "text/plain": "     Tipo de dato\nID         246620\nAge            45",
      "text/html": "<div>\n<style scoped>\n    .dataframe tbody tr th:only-of-type {\n        vertical-align: middle;\n    }\n\n    .dataframe tbody tr th {\n        vertical-align: top;\n    }\n\n    .dataframe thead th {\n        text-align: right;\n    }\n</style>\n<table border=\"1\" class=\"dataframe\">\n  <thead>\n    <tr style=\"text-align: right;\">\n      <th></th>\n      <th>Tipo de dato</th>\n    </tr>\n  </thead>\n  <tbody>\n    <tr>\n      <th>ID</th>\n      <td>246620</td>\n    </tr>\n    <tr>\n      <th>Age</th>\n      <td>45</td>\n    </tr>\n  </tbody>\n</table>\n</div>"
     },
     "execution_count": 5,
     "metadata": {},
     "output_type": "execute_result"
    }
   ],
   "source": [
    "pd.DataFrame(dataframe.max(numeric_only=True), columns=['Tipo de dato'])"
   ],
   "metadata": {
    "collapsed": false,
    "pycharm": {
     "name": "#%%\n"
    }
   }
  },
  {
   "cell_type": "markdown",
   "source": [
    "Primero comprobaremos que no haya ningún problema con este cambio"
   ],
   "metadata": {
    "collapsed": false,
    "pycharm": {
     "name": "#%% md\n"
    }
   }
  },
  {
   "cell_type": "code",
   "execution_count": 6,
   "outputs": [
    {
     "data": {
      "text/plain": "True"
     },
     "execution_count": 6,
     "metadata": {},
     "output_type": "execute_result"
    }
   ],
   "source": [
    "(dataframe.ID.max() < np.iinfo(np.uint32).max) & (dataframe.Age.max() < np.iinfo(np.uint8).max)"
   ],
   "metadata": {
    "collapsed": false,
    "pycharm": {
     "name": "#%%\n"
    }
   }
  },
  {
   "cell_type": "markdown",
   "source": [
    "Sabiendo que estos datos por naturaleza no deben tener valores negativos, pero nos aseguramos de que así sea"
   ],
   "metadata": {
    "collapsed": false,
    "pycharm": {
     "name": "#%% md\n"
    }
   }
  },
  {
   "cell_type": "code",
   "execution_count": 7,
   "outputs": [
    {
     "data": {
      "text/plain": "True"
     },
     "execution_count": 7,
     "metadata": {},
     "output_type": "execute_result"
    }
   ],
   "source": [
    "(dataframe.ID.min()>= np.iinfo(np.uint32).min) & (dataframe.Age.min()>= np.iinfo(np.uint8).min)"
   ],
   "metadata": {
    "collapsed": false,
    "pycharm": {
     "name": "#%%\n"
    }
   }
  },
  {
   "cell_type": "code",
   "execution_count": 8,
   "outputs": [],
   "source": [
    "dataframe = dataframe.astype({\"ID\": np.uint32, 'Age': np.uint8})"
   ],
   "metadata": {
    "collapsed": false,
    "pycharm": {
     "name": "#%%\n"
    }
   }
  },
  {
   "cell_type": "markdown",
   "source": [
    "Visualizar cantidad de datos nulos por columna"
   ],
   "metadata": {
    "collapsed": false,
    "pycharm": {
     "name": "#%% md\n"
    }
   }
  },
  {
   "cell_type": "code",
   "execution_count": 9,
   "outputs": [
    {
     "data": {
      "text/plain": "                      Datos nulos\nID                              0\nAge                             0\nNationality                     0\nClub                          241\nValue                           0\nWage                            0\nPreferred_foot                 48\nPosition                       60\nJoined                       1553\nLoaned_from                 16943\nContract_Valid_Until          289\nHeight                         48\nWeight                         48\nRelease_clause               1564",
      "text/html": "<div>\n<style scoped>\n    .dataframe tbody tr th:only-of-type {\n        vertical-align: middle;\n    }\n\n    .dataframe tbody tr th {\n        vertical-align: top;\n    }\n\n    .dataframe thead th {\n        text-align: right;\n    }\n</style>\n<table border=\"1\" class=\"dataframe\">\n  <thead>\n    <tr style=\"text-align: right;\">\n      <th></th>\n      <th>Datos nulos</th>\n    </tr>\n  </thead>\n  <tbody>\n    <tr>\n      <th>ID</th>\n      <td>0</td>\n    </tr>\n    <tr>\n      <th>Age</th>\n      <td>0</td>\n    </tr>\n    <tr>\n      <th>Nationality</th>\n      <td>0</td>\n    </tr>\n    <tr>\n      <th>Club</th>\n      <td>241</td>\n    </tr>\n    <tr>\n      <th>Value</th>\n      <td>0</td>\n    </tr>\n    <tr>\n      <th>Wage</th>\n      <td>0</td>\n    </tr>\n    <tr>\n      <th>Preferred_foot</th>\n      <td>48</td>\n    </tr>\n    <tr>\n      <th>Position</th>\n      <td>60</td>\n    </tr>\n    <tr>\n      <th>Joined</th>\n      <td>1553</td>\n    </tr>\n    <tr>\n      <th>Loaned_from</th>\n      <td>16943</td>\n    </tr>\n    <tr>\n      <th>Contract_Valid_Until</th>\n      <td>289</td>\n    </tr>\n    <tr>\n      <th>Height</th>\n      <td>48</td>\n    </tr>\n    <tr>\n      <th>Weight</th>\n      <td>48</td>\n    </tr>\n    <tr>\n      <th>Release_clause</th>\n      <td>1564</td>\n    </tr>\n  </tbody>\n</table>\n</div>"
     },
     "execution_count": 9,
     "metadata": {},
     "output_type": "execute_result"
    }
   ],
   "source": [
    "pd.DataFrame(dataframe.isnull().sum(), columns=['Datos nulos'])"
   ],
   "metadata": {
    "collapsed": false,
    "pycharm": {
     "name": "#%%\n"
    }
   }
  },
  {
   "cell_type": "markdown",
   "source": [
    "**Nota importante:** teniendo en cuenta el contexto de los datos, se puede mencionar que los datos nulos mas importantes son todos los que no pertenescan a **Release_clause** porque estos pueden categorizarse de otra manera."
   ],
   "metadata": {
    "collapsed": false,
    "pycharm": {
     "name": "#%% md\n"
    }
   }
  },
  {
   "cell_type": "markdown",
   "source": [
    "Como primer paso, primer visualizamos los registros que se intersectan con valores nulos o vacios de acuerdo a los siguientes datos:\n",
    "\n",
    "- Preferred_foot\n",
    "- Position\n",
    "- Joined\n",
    "- Loaned_from\n",
    "- Contract_Valid_Until\n",
    "- Height\n",
    "- Weight"
   ],
   "metadata": {
    "collapsed": false,
    "pycharm": {
     "name": "#%% md\n"
    }
   }
  },
  {
   "cell_type": "code",
   "execution_count": 10,
   "outputs": [
    {
     "data": {
      "text/plain": "           ID  Age       Nationality                           Club  Value  \\\n13236  177971   33          Scotland                       Rochdale  €120K   \n13237  195380   29         Nicaragua                Boyacá Chicó FC  €300K   \n13238  139317   35           England                   Notts County  €140K   \n13239  240437   20             Italy                        Brescia  €425K   \n13240  209462   24           England         Hamilton Academical FC  €400K   \n13241  219702   21            Poland                  Śląsk Wrocław  €425K   \n13242  225590   23         Argentina         Club Atlético Aldosivi  €450K   \n13243  233782   19           England                        Everton  €600K   \n13244  239158   30           Denmark                       Hobro IK  €230K   \n13245  242998   21            Brazil                   HJK Helsinki  €425K   \n13246  244022   22            France                     AS Béziers  €425K   \n13247  189238   28           Austria                 SV Mattersburg  €240K   \n13248  211511   24  Northern Ireland                Tranmere Rovers  €375K   \n13249  224055   27          China PR  Shanghai Greenland Shenhua FC  €250K   \n13250  244535   29          Paraguay               Itagüí Leones FC  €300K   \n13251  134968   34           Belgium                      NAC Breda  €150K   \n13252  225336   22           Albania                       Malmö FF  €375K   \n13253  171320   31          Scotland                Carlisle United  €200K   \n13254  246328   17           Germany                  VfB Stuttgart  €550K   \n13255  196921   25           Germany         Hamilton Academical FC  €325K   \n13256  202809   26           England                      Dundee FC  €325K   \n13257  226617   25    Korea Republic        Suwon Samsung Bluewings  €375K   \n13258  230713   23      Saudi Arabia                       Al Wehda  €350K   \n13259  234809   27             Chile                   CD Palestino  €300K   \n13260  246073   20             Spain                    Albacete BP  €425K   \n13261  221498   25      Saudi Arabia                       Al Nassr  €300K   \n13262  244026   24           Germany               TSV 1860 München  €325K   \n13263  244538   25           Austria       FC Admira Wacker Mödling  €325K   \n13264  201019   29            France               Grenoble Foot 38  €300K   \n13265  221499   28           England                Oldham Athletic  €300K   \n13266  237371   20            Sweden                    Hammarby IF  €525K   \n13267  242491   22          Colombia               Itagüí Leones FC  €450K   \n13268  153148   37            Poland                  Miedź Legnica  €100K   \n13269  244540   26          Colombia            Jaguares de Córdoba  €375K   \n13270  245564   19            Brazil                        Bologna  €525K   \n13271  213821   26             Chile                 CD Antofagasta  €290K   \n13272  240701   22          Scotland                      Dundee FC  €450K   \n13273  242237   25           Estonia                Kristiansund BK  €400K   \n13274  244029   27             Italy               TSV 1860 München  €325K   \n13275  244541   23         Venezuela                Boyacá Chicó FC  €375K   \n13276  211006   26      Saudi Arabia                        Al Raed  €290K   \n13277  215102   26             Chile               Deportes Iquique  €325K   \n13278  246078   17       Netherlands                     FC Utrecht  €550K   \n13279  239679   22             Italy                        Perugia  €350K   \n13280  244543   19            France                Montpellier HSC  €650K   \n13281  212800   27    Korea Republic                   Gyeongnam FC  €300K   \n13282  231232   25            Mexico    Tiburones Rojos de Veracruz  €375K   \n13283  232256   25          China PR            Guizhou Hengfeng FC  €325K   \n\n      Wage Preferred_foot Position Joined Loaned_from Contract_Valid_Until  \\\n13236  €1K            NaN      NaN    NaN         NaN                  NaN   \n13237  €1K            NaN      NaN    NaN         NaN                  NaN   \n13238  €3K            NaN      NaN    NaN         NaN                  NaN   \n13239  €1K            NaN      NaN    NaN         NaN                  NaN   \n13240  €1K            NaN      NaN    NaN         NaN                  NaN   \n13241  €1K            NaN      NaN    NaN         NaN                  NaN   \n13242  €2K            NaN      NaN    NaN         NaN                  NaN   \n13243  €5K            NaN      NaN    NaN         NaN                  NaN   \n13244  €2K            NaN      NaN    NaN         NaN                  NaN   \n13245  €1K            NaN      NaN    NaN         NaN                  NaN   \n13246  €2K            NaN      NaN    NaN         NaN                  NaN   \n13247  €3K            NaN      NaN    NaN         NaN                  NaN   \n13248  €2K            NaN      NaN    NaN         NaN                  NaN   \n13249  €3K            NaN      NaN    NaN         NaN                  NaN   \n13250  €1K            NaN      NaN    NaN         NaN                  NaN   \n13251  €2K            NaN      NaN    NaN         NaN                  NaN   \n13252  €1K            NaN      NaN    NaN         NaN                  NaN   \n13253  €2K            NaN      NaN    NaN         NaN                  NaN   \n13254  €2K            NaN      NaN    NaN         NaN                  NaN   \n13255  €1K            NaN      NaN    NaN         NaN                  NaN   \n13256  €1K            NaN      NaN    NaN         NaN                  NaN   \n13257  €2K            NaN      NaN    NaN         NaN                  NaN   \n13258  €3K            NaN      NaN    NaN         NaN                  NaN   \n13259  €1K            NaN      NaN    NaN         NaN                  NaN   \n13260  €1K            NaN      NaN    NaN         NaN                  NaN   \n13261  €5K            NaN      NaN    NaN         NaN                  NaN   \n13262  €1K            NaN      NaN    NaN         NaN                  NaN   \n13263  €2K            NaN      NaN    NaN         NaN                  NaN   \n13264  €1K            NaN      NaN    NaN         NaN                  NaN   \n13265  €3K            NaN      NaN    NaN         NaN                  NaN   \n13266  €1K            NaN      NaN    NaN         NaN                  NaN   \n13267  €1K            NaN      NaN    NaN         NaN                  NaN   \n13268  €1K            NaN      NaN    NaN         NaN                  NaN   \n13269  €1K            NaN      NaN    NaN         NaN                  NaN   \n13270  €1K            NaN      NaN    NaN         NaN                  NaN   \n13271  €1K            NaN      NaN    NaN         NaN                  NaN   \n13272  €1K            NaN      NaN    NaN         NaN                  NaN   \n13273  €1K            NaN      NaN    NaN         NaN                  NaN   \n13274  €2K            NaN      NaN    NaN         NaN                  NaN   \n13275  €1K            NaN      NaN    NaN         NaN                  NaN   \n13276  €3K            NaN      NaN    NaN         NaN                  NaN   \n13277  €1K            NaN      NaN    NaN         NaN                  NaN   \n13278  €1K            NaN      NaN    NaN         NaN                  NaN   \n13279  €1K            NaN      NaN    NaN         NaN                  NaN   \n13280  €2K            NaN      NaN    NaN         NaN                  NaN   \n13281  €1K            NaN      NaN    NaN         NaN                  NaN   \n13282  €2K            NaN      NaN    NaN         NaN                  NaN   \n13283  €2K            NaN      NaN    NaN         NaN                  NaN   \n\n      Height Weight Release_clause  \n13236    NaN    NaN            NaN  \n13237    NaN    NaN            NaN  \n13238    NaN    NaN            NaN  \n13239    NaN    NaN            NaN  \n13240    NaN    NaN            NaN  \n13241    NaN    NaN            NaN  \n13242    NaN    NaN            NaN  \n13243    NaN    NaN            NaN  \n13244    NaN    NaN            NaN  \n13245    NaN    NaN            NaN  \n13246    NaN    NaN            NaN  \n13247    NaN    NaN            NaN  \n13248    NaN    NaN            NaN  \n13249    NaN    NaN            NaN  \n13250    NaN    NaN            NaN  \n13251    NaN    NaN            NaN  \n13252    NaN    NaN            NaN  \n13253    NaN    NaN            NaN  \n13254    NaN    NaN            NaN  \n13255    NaN    NaN            NaN  \n13256    NaN    NaN            NaN  \n13257    NaN    NaN            NaN  \n13258    NaN    NaN            NaN  \n13259    NaN    NaN            NaN  \n13260    NaN    NaN            NaN  \n13261    NaN    NaN            NaN  \n13262    NaN    NaN            NaN  \n13263    NaN    NaN            NaN  \n13264    NaN    NaN            NaN  \n13265    NaN    NaN            NaN  \n13266    NaN    NaN            NaN  \n13267    NaN    NaN            NaN  \n13268    NaN    NaN            NaN  \n13269    NaN    NaN            NaN  \n13270    NaN    NaN            NaN  \n13271    NaN    NaN            NaN  \n13272    NaN    NaN            NaN  \n13273    NaN    NaN            NaN  \n13274    NaN    NaN            NaN  \n13275    NaN    NaN            NaN  \n13276    NaN    NaN            NaN  \n13277    NaN    NaN            NaN  \n13278    NaN    NaN            NaN  \n13279    NaN    NaN            NaN  \n13280    NaN    NaN            NaN  \n13281    NaN    NaN            NaN  \n13282    NaN    NaN            NaN  \n13283    NaN    NaN            NaN  ",
      "text/html": "<div>\n<style scoped>\n    .dataframe tbody tr th:only-of-type {\n        vertical-align: middle;\n    }\n\n    .dataframe tbody tr th {\n        vertical-align: top;\n    }\n\n    .dataframe thead th {\n        text-align: right;\n    }\n</style>\n<table border=\"1\" class=\"dataframe\">\n  <thead>\n    <tr style=\"text-align: right;\">\n      <th></th>\n      <th>ID</th>\n      <th>Age</th>\n      <th>Nationality</th>\n      <th>Club</th>\n      <th>Value</th>\n      <th>Wage</th>\n      <th>Preferred_foot</th>\n      <th>Position</th>\n      <th>Joined</th>\n      <th>Loaned_from</th>\n      <th>Contract_Valid_Until</th>\n      <th>Height</th>\n      <th>Weight</th>\n      <th>Release_clause</th>\n    </tr>\n  </thead>\n  <tbody>\n    <tr>\n      <th>13236</th>\n      <td>177971</td>\n      <td>33</td>\n      <td>Scotland</td>\n      <td>Rochdale</td>\n      <td>€120K</td>\n      <td>€1K</td>\n      <td>NaN</td>\n      <td>NaN</td>\n      <td>NaN</td>\n      <td>NaN</td>\n      <td>NaN</td>\n      <td>NaN</td>\n      <td>NaN</td>\n      <td>NaN</td>\n    </tr>\n    <tr>\n      <th>13237</th>\n      <td>195380</td>\n      <td>29</td>\n      <td>Nicaragua</td>\n      <td>Boyacá Chicó FC</td>\n      <td>€300K</td>\n      <td>€1K</td>\n      <td>NaN</td>\n      <td>NaN</td>\n      <td>NaN</td>\n      <td>NaN</td>\n      <td>NaN</td>\n      <td>NaN</td>\n      <td>NaN</td>\n      <td>NaN</td>\n    </tr>\n    <tr>\n      <th>13238</th>\n      <td>139317</td>\n      <td>35</td>\n      <td>England</td>\n      <td>Notts County</td>\n      <td>€140K</td>\n      <td>€3K</td>\n      <td>NaN</td>\n      <td>NaN</td>\n      <td>NaN</td>\n      <td>NaN</td>\n      <td>NaN</td>\n      <td>NaN</td>\n      <td>NaN</td>\n      <td>NaN</td>\n    </tr>\n    <tr>\n      <th>13239</th>\n      <td>240437</td>\n      <td>20</td>\n      <td>Italy</td>\n      <td>Brescia</td>\n      <td>€425K</td>\n      <td>€1K</td>\n      <td>NaN</td>\n      <td>NaN</td>\n      <td>NaN</td>\n      <td>NaN</td>\n      <td>NaN</td>\n      <td>NaN</td>\n      <td>NaN</td>\n      <td>NaN</td>\n    </tr>\n    <tr>\n      <th>13240</th>\n      <td>209462</td>\n      <td>24</td>\n      <td>England</td>\n      <td>Hamilton Academical FC</td>\n      <td>€400K</td>\n      <td>€1K</td>\n      <td>NaN</td>\n      <td>NaN</td>\n      <td>NaN</td>\n      <td>NaN</td>\n      <td>NaN</td>\n      <td>NaN</td>\n      <td>NaN</td>\n      <td>NaN</td>\n    </tr>\n    <tr>\n      <th>13241</th>\n      <td>219702</td>\n      <td>21</td>\n      <td>Poland</td>\n      <td>Śląsk Wrocław</td>\n      <td>€425K</td>\n      <td>€1K</td>\n      <td>NaN</td>\n      <td>NaN</td>\n      <td>NaN</td>\n      <td>NaN</td>\n      <td>NaN</td>\n      <td>NaN</td>\n      <td>NaN</td>\n      <td>NaN</td>\n    </tr>\n    <tr>\n      <th>13242</th>\n      <td>225590</td>\n      <td>23</td>\n      <td>Argentina</td>\n      <td>Club Atlético Aldosivi</td>\n      <td>€450K</td>\n      <td>€2K</td>\n      <td>NaN</td>\n      <td>NaN</td>\n      <td>NaN</td>\n      <td>NaN</td>\n      <td>NaN</td>\n      <td>NaN</td>\n      <td>NaN</td>\n      <td>NaN</td>\n    </tr>\n    <tr>\n      <th>13243</th>\n      <td>233782</td>\n      <td>19</td>\n      <td>England</td>\n      <td>Everton</td>\n      <td>€600K</td>\n      <td>€5K</td>\n      <td>NaN</td>\n      <td>NaN</td>\n      <td>NaN</td>\n      <td>NaN</td>\n      <td>NaN</td>\n      <td>NaN</td>\n      <td>NaN</td>\n      <td>NaN</td>\n    </tr>\n    <tr>\n      <th>13244</th>\n      <td>239158</td>\n      <td>30</td>\n      <td>Denmark</td>\n      <td>Hobro IK</td>\n      <td>€230K</td>\n      <td>€2K</td>\n      <td>NaN</td>\n      <td>NaN</td>\n      <td>NaN</td>\n      <td>NaN</td>\n      <td>NaN</td>\n      <td>NaN</td>\n      <td>NaN</td>\n      <td>NaN</td>\n    </tr>\n    <tr>\n      <th>13245</th>\n      <td>242998</td>\n      <td>21</td>\n      <td>Brazil</td>\n      <td>HJK Helsinki</td>\n      <td>€425K</td>\n      <td>€1K</td>\n      <td>NaN</td>\n      <td>NaN</td>\n      <td>NaN</td>\n      <td>NaN</td>\n      <td>NaN</td>\n      <td>NaN</td>\n      <td>NaN</td>\n      <td>NaN</td>\n    </tr>\n    <tr>\n      <th>13246</th>\n      <td>244022</td>\n      <td>22</td>\n      <td>France</td>\n      <td>AS Béziers</td>\n      <td>€425K</td>\n      <td>€2K</td>\n      <td>NaN</td>\n      <td>NaN</td>\n      <td>NaN</td>\n      <td>NaN</td>\n      <td>NaN</td>\n      <td>NaN</td>\n      <td>NaN</td>\n      <td>NaN</td>\n    </tr>\n    <tr>\n      <th>13247</th>\n      <td>189238</td>\n      <td>28</td>\n      <td>Austria</td>\n      <td>SV Mattersburg</td>\n      <td>€240K</td>\n      <td>€3K</td>\n      <td>NaN</td>\n      <td>NaN</td>\n      <td>NaN</td>\n      <td>NaN</td>\n      <td>NaN</td>\n      <td>NaN</td>\n      <td>NaN</td>\n      <td>NaN</td>\n    </tr>\n    <tr>\n      <th>13248</th>\n      <td>211511</td>\n      <td>24</td>\n      <td>Northern Ireland</td>\n      <td>Tranmere Rovers</td>\n      <td>€375K</td>\n      <td>€2K</td>\n      <td>NaN</td>\n      <td>NaN</td>\n      <td>NaN</td>\n      <td>NaN</td>\n      <td>NaN</td>\n      <td>NaN</td>\n      <td>NaN</td>\n      <td>NaN</td>\n    </tr>\n    <tr>\n      <th>13249</th>\n      <td>224055</td>\n      <td>27</td>\n      <td>China PR</td>\n      <td>Shanghai Greenland Shenhua FC</td>\n      <td>€250K</td>\n      <td>€3K</td>\n      <td>NaN</td>\n      <td>NaN</td>\n      <td>NaN</td>\n      <td>NaN</td>\n      <td>NaN</td>\n      <td>NaN</td>\n      <td>NaN</td>\n      <td>NaN</td>\n    </tr>\n    <tr>\n      <th>13250</th>\n      <td>244535</td>\n      <td>29</td>\n      <td>Paraguay</td>\n      <td>Itagüí Leones FC</td>\n      <td>€300K</td>\n      <td>€1K</td>\n      <td>NaN</td>\n      <td>NaN</td>\n      <td>NaN</td>\n      <td>NaN</td>\n      <td>NaN</td>\n      <td>NaN</td>\n      <td>NaN</td>\n      <td>NaN</td>\n    </tr>\n    <tr>\n      <th>13251</th>\n      <td>134968</td>\n      <td>34</td>\n      <td>Belgium</td>\n      <td>NAC Breda</td>\n      <td>€150K</td>\n      <td>€2K</td>\n      <td>NaN</td>\n      <td>NaN</td>\n      <td>NaN</td>\n      <td>NaN</td>\n      <td>NaN</td>\n      <td>NaN</td>\n      <td>NaN</td>\n      <td>NaN</td>\n    </tr>\n    <tr>\n      <th>13252</th>\n      <td>225336</td>\n      <td>22</td>\n      <td>Albania</td>\n      <td>Malmö FF</td>\n      <td>€375K</td>\n      <td>€1K</td>\n      <td>NaN</td>\n      <td>NaN</td>\n      <td>NaN</td>\n      <td>NaN</td>\n      <td>NaN</td>\n      <td>NaN</td>\n      <td>NaN</td>\n      <td>NaN</td>\n    </tr>\n    <tr>\n      <th>13253</th>\n      <td>171320</td>\n      <td>31</td>\n      <td>Scotland</td>\n      <td>Carlisle United</td>\n      <td>€200K</td>\n      <td>€2K</td>\n      <td>NaN</td>\n      <td>NaN</td>\n      <td>NaN</td>\n      <td>NaN</td>\n      <td>NaN</td>\n      <td>NaN</td>\n      <td>NaN</td>\n      <td>NaN</td>\n    </tr>\n    <tr>\n      <th>13254</th>\n      <td>246328</td>\n      <td>17</td>\n      <td>Germany</td>\n      <td>VfB Stuttgart</td>\n      <td>€550K</td>\n      <td>€2K</td>\n      <td>NaN</td>\n      <td>NaN</td>\n      <td>NaN</td>\n      <td>NaN</td>\n      <td>NaN</td>\n      <td>NaN</td>\n      <td>NaN</td>\n      <td>NaN</td>\n    </tr>\n    <tr>\n      <th>13255</th>\n      <td>196921</td>\n      <td>25</td>\n      <td>Germany</td>\n      <td>Hamilton Academical FC</td>\n      <td>€325K</td>\n      <td>€1K</td>\n      <td>NaN</td>\n      <td>NaN</td>\n      <td>NaN</td>\n      <td>NaN</td>\n      <td>NaN</td>\n      <td>NaN</td>\n      <td>NaN</td>\n      <td>NaN</td>\n    </tr>\n    <tr>\n      <th>13256</th>\n      <td>202809</td>\n      <td>26</td>\n      <td>England</td>\n      <td>Dundee FC</td>\n      <td>€325K</td>\n      <td>€1K</td>\n      <td>NaN</td>\n      <td>NaN</td>\n      <td>NaN</td>\n      <td>NaN</td>\n      <td>NaN</td>\n      <td>NaN</td>\n      <td>NaN</td>\n      <td>NaN</td>\n    </tr>\n    <tr>\n      <th>13257</th>\n      <td>226617</td>\n      <td>25</td>\n      <td>Korea Republic</td>\n      <td>Suwon Samsung Bluewings</td>\n      <td>€375K</td>\n      <td>€2K</td>\n      <td>NaN</td>\n      <td>NaN</td>\n      <td>NaN</td>\n      <td>NaN</td>\n      <td>NaN</td>\n      <td>NaN</td>\n      <td>NaN</td>\n      <td>NaN</td>\n    </tr>\n    <tr>\n      <th>13258</th>\n      <td>230713</td>\n      <td>23</td>\n      <td>Saudi Arabia</td>\n      <td>Al Wehda</td>\n      <td>€350K</td>\n      <td>€3K</td>\n      <td>NaN</td>\n      <td>NaN</td>\n      <td>NaN</td>\n      <td>NaN</td>\n      <td>NaN</td>\n      <td>NaN</td>\n      <td>NaN</td>\n      <td>NaN</td>\n    </tr>\n    <tr>\n      <th>13259</th>\n      <td>234809</td>\n      <td>27</td>\n      <td>Chile</td>\n      <td>CD Palestino</td>\n      <td>€300K</td>\n      <td>€1K</td>\n      <td>NaN</td>\n      <td>NaN</td>\n      <td>NaN</td>\n      <td>NaN</td>\n      <td>NaN</td>\n      <td>NaN</td>\n      <td>NaN</td>\n      <td>NaN</td>\n    </tr>\n    <tr>\n      <th>13260</th>\n      <td>246073</td>\n      <td>20</td>\n      <td>Spain</td>\n      <td>Albacete BP</td>\n      <td>€425K</td>\n      <td>€1K</td>\n      <td>NaN</td>\n      <td>NaN</td>\n      <td>NaN</td>\n      <td>NaN</td>\n      <td>NaN</td>\n      <td>NaN</td>\n      <td>NaN</td>\n      <td>NaN</td>\n    </tr>\n    <tr>\n      <th>13261</th>\n      <td>221498</td>\n      <td>25</td>\n      <td>Saudi Arabia</td>\n      <td>Al Nassr</td>\n      <td>€300K</td>\n      <td>€5K</td>\n      <td>NaN</td>\n      <td>NaN</td>\n      <td>NaN</td>\n      <td>NaN</td>\n      <td>NaN</td>\n      <td>NaN</td>\n      <td>NaN</td>\n      <td>NaN</td>\n    </tr>\n    <tr>\n      <th>13262</th>\n      <td>244026</td>\n      <td>24</td>\n      <td>Germany</td>\n      <td>TSV 1860 München</td>\n      <td>€325K</td>\n      <td>€1K</td>\n      <td>NaN</td>\n      <td>NaN</td>\n      <td>NaN</td>\n      <td>NaN</td>\n      <td>NaN</td>\n      <td>NaN</td>\n      <td>NaN</td>\n      <td>NaN</td>\n    </tr>\n    <tr>\n      <th>13263</th>\n      <td>244538</td>\n      <td>25</td>\n      <td>Austria</td>\n      <td>FC Admira Wacker Mödling</td>\n      <td>€325K</td>\n      <td>€2K</td>\n      <td>NaN</td>\n      <td>NaN</td>\n      <td>NaN</td>\n      <td>NaN</td>\n      <td>NaN</td>\n      <td>NaN</td>\n      <td>NaN</td>\n      <td>NaN</td>\n    </tr>\n    <tr>\n      <th>13264</th>\n      <td>201019</td>\n      <td>29</td>\n      <td>France</td>\n      <td>Grenoble Foot 38</td>\n      <td>€300K</td>\n      <td>€1K</td>\n      <td>NaN</td>\n      <td>NaN</td>\n      <td>NaN</td>\n      <td>NaN</td>\n      <td>NaN</td>\n      <td>NaN</td>\n      <td>NaN</td>\n      <td>NaN</td>\n    </tr>\n    <tr>\n      <th>13265</th>\n      <td>221499</td>\n      <td>28</td>\n      <td>England</td>\n      <td>Oldham Athletic</td>\n      <td>€300K</td>\n      <td>€3K</td>\n      <td>NaN</td>\n      <td>NaN</td>\n      <td>NaN</td>\n      <td>NaN</td>\n      <td>NaN</td>\n      <td>NaN</td>\n      <td>NaN</td>\n      <td>NaN</td>\n    </tr>\n    <tr>\n      <th>13266</th>\n      <td>237371</td>\n      <td>20</td>\n      <td>Sweden</td>\n      <td>Hammarby IF</td>\n      <td>€525K</td>\n      <td>€1K</td>\n      <td>NaN</td>\n      <td>NaN</td>\n      <td>NaN</td>\n      <td>NaN</td>\n      <td>NaN</td>\n      <td>NaN</td>\n      <td>NaN</td>\n      <td>NaN</td>\n    </tr>\n    <tr>\n      <th>13267</th>\n      <td>242491</td>\n      <td>22</td>\n      <td>Colombia</td>\n      <td>Itagüí Leones FC</td>\n      <td>€450K</td>\n      <td>€1K</td>\n      <td>NaN</td>\n      <td>NaN</td>\n      <td>NaN</td>\n      <td>NaN</td>\n      <td>NaN</td>\n      <td>NaN</td>\n      <td>NaN</td>\n      <td>NaN</td>\n    </tr>\n    <tr>\n      <th>13268</th>\n      <td>153148</td>\n      <td>37</td>\n      <td>Poland</td>\n      <td>Miedź Legnica</td>\n      <td>€100K</td>\n      <td>€1K</td>\n      <td>NaN</td>\n      <td>NaN</td>\n      <td>NaN</td>\n      <td>NaN</td>\n      <td>NaN</td>\n      <td>NaN</td>\n      <td>NaN</td>\n      <td>NaN</td>\n    </tr>\n    <tr>\n      <th>13269</th>\n      <td>244540</td>\n      <td>26</td>\n      <td>Colombia</td>\n      <td>Jaguares de Córdoba</td>\n      <td>€375K</td>\n      <td>€1K</td>\n      <td>NaN</td>\n      <td>NaN</td>\n      <td>NaN</td>\n      <td>NaN</td>\n      <td>NaN</td>\n      <td>NaN</td>\n      <td>NaN</td>\n      <td>NaN</td>\n    </tr>\n    <tr>\n      <th>13270</th>\n      <td>245564</td>\n      <td>19</td>\n      <td>Brazil</td>\n      <td>Bologna</td>\n      <td>€525K</td>\n      <td>€1K</td>\n      <td>NaN</td>\n      <td>NaN</td>\n      <td>NaN</td>\n      <td>NaN</td>\n      <td>NaN</td>\n      <td>NaN</td>\n      <td>NaN</td>\n      <td>NaN</td>\n    </tr>\n    <tr>\n      <th>13271</th>\n      <td>213821</td>\n      <td>26</td>\n      <td>Chile</td>\n      <td>CD Antofagasta</td>\n      <td>€290K</td>\n      <td>€1K</td>\n      <td>NaN</td>\n      <td>NaN</td>\n      <td>NaN</td>\n      <td>NaN</td>\n      <td>NaN</td>\n      <td>NaN</td>\n      <td>NaN</td>\n      <td>NaN</td>\n    </tr>\n    <tr>\n      <th>13272</th>\n      <td>240701</td>\n      <td>22</td>\n      <td>Scotland</td>\n      <td>Dundee FC</td>\n      <td>€450K</td>\n      <td>€1K</td>\n      <td>NaN</td>\n      <td>NaN</td>\n      <td>NaN</td>\n      <td>NaN</td>\n      <td>NaN</td>\n      <td>NaN</td>\n      <td>NaN</td>\n      <td>NaN</td>\n    </tr>\n    <tr>\n      <th>13273</th>\n      <td>242237</td>\n      <td>25</td>\n      <td>Estonia</td>\n      <td>Kristiansund BK</td>\n      <td>€400K</td>\n      <td>€1K</td>\n      <td>NaN</td>\n      <td>NaN</td>\n      <td>NaN</td>\n      <td>NaN</td>\n      <td>NaN</td>\n      <td>NaN</td>\n      <td>NaN</td>\n      <td>NaN</td>\n    </tr>\n    <tr>\n      <th>13274</th>\n      <td>244029</td>\n      <td>27</td>\n      <td>Italy</td>\n      <td>TSV 1860 München</td>\n      <td>€325K</td>\n      <td>€2K</td>\n      <td>NaN</td>\n      <td>NaN</td>\n      <td>NaN</td>\n      <td>NaN</td>\n      <td>NaN</td>\n      <td>NaN</td>\n      <td>NaN</td>\n      <td>NaN</td>\n    </tr>\n    <tr>\n      <th>13275</th>\n      <td>244541</td>\n      <td>23</td>\n      <td>Venezuela</td>\n      <td>Boyacá Chicó FC</td>\n      <td>€375K</td>\n      <td>€1K</td>\n      <td>NaN</td>\n      <td>NaN</td>\n      <td>NaN</td>\n      <td>NaN</td>\n      <td>NaN</td>\n      <td>NaN</td>\n      <td>NaN</td>\n      <td>NaN</td>\n    </tr>\n    <tr>\n      <th>13276</th>\n      <td>211006</td>\n      <td>26</td>\n      <td>Saudi Arabia</td>\n      <td>Al Raed</td>\n      <td>€290K</td>\n      <td>€3K</td>\n      <td>NaN</td>\n      <td>NaN</td>\n      <td>NaN</td>\n      <td>NaN</td>\n      <td>NaN</td>\n      <td>NaN</td>\n      <td>NaN</td>\n      <td>NaN</td>\n    </tr>\n    <tr>\n      <th>13277</th>\n      <td>215102</td>\n      <td>26</td>\n      <td>Chile</td>\n      <td>Deportes Iquique</td>\n      <td>€325K</td>\n      <td>€1K</td>\n      <td>NaN</td>\n      <td>NaN</td>\n      <td>NaN</td>\n      <td>NaN</td>\n      <td>NaN</td>\n      <td>NaN</td>\n      <td>NaN</td>\n      <td>NaN</td>\n    </tr>\n    <tr>\n      <th>13278</th>\n      <td>246078</td>\n      <td>17</td>\n      <td>Netherlands</td>\n      <td>FC Utrecht</td>\n      <td>€550K</td>\n      <td>€1K</td>\n      <td>NaN</td>\n      <td>NaN</td>\n      <td>NaN</td>\n      <td>NaN</td>\n      <td>NaN</td>\n      <td>NaN</td>\n      <td>NaN</td>\n      <td>NaN</td>\n    </tr>\n    <tr>\n      <th>13279</th>\n      <td>239679</td>\n      <td>22</td>\n      <td>Italy</td>\n      <td>Perugia</td>\n      <td>€350K</td>\n      <td>€1K</td>\n      <td>NaN</td>\n      <td>NaN</td>\n      <td>NaN</td>\n      <td>NaN</td>\n      <td>NaN</td>\n      <td>NaN</td>\n      <td>NaN</td>\n      <td>NaN</td>\n    </tr>\n    <tr>\n      <th>13280</th>\n      <td>244543</td>\n      <td>19</td>\n      <td>France</td>\n      <td>Montpellier HSC</td>\n      <td>€650K</td>\n      <td>€2K</td>\n      <td>NaN</td>\n      <td>NaN</td>\n      <td>NaN</td>\n      <td>NaN</td>\n      <td>NaN</td>\n      <td>NaN</td>\n      <td>NaN</td>\n      <td>NaN</td>\n    </tr>\n    <tr>\n      <th>13281</th>\n      <td>212800</td>\n      <td>27</td>\n      <td>Korea Republic</td>\n      <td>Gyeongnam FC</td>\n      <td>€300K</td>\n      <td>€1K</td>\n      <td>NaN</td>\n      <td>NaN</td>\n      <td>NaN</td>\n      <td>NaN</td>\n      <td>NaN</td>\n      <td>NaN</td>\n      <td>NaN</td>\n      <td>NaN</td>\n    </tr>\n    <tr>\n      <th>13282</th>\n      <td>231232</td>\n      <td>25</td>\n      <td>Mexico</td>\n      <td>Tiburones Rojos de Veracruz</td>\n      <td>€375K</td>\n      <td>€2K</td>\n      <td>NaN</td>\n      <td>NaN</td>\n      <td>NaN</td>\n      <td>NaN</td>\n      <td>NaN</td>\n      <td>NaN</td>\n      <td>NaN</td>\n      <td>NaN</td>\n    </tr>\n    <tr>\n      <th>13283</th>\n      <td>232256</td>\n      <td>25</td>\n      <td>China PR</td>\n      <td>Guizhou Hengfeng FC</td>\n      <td>€325K</td>\n      <td>€2K</td>\n      <td>NaN</td>\n      <td>NaN</td>\n      <td>NaN</td>\n      <td>NaN</td>\n      <td>NaN</td>\n      <td>NaN</td>\n      <td>NaN</td>\n      <td>NaN</td>\n    </tr>\n  </tbody>\n</table>\n</div>"
     },
     "execution_count": 10,
     "metadata": {},
     "output_type": "execute_result"
    }
   ],
   "source": [
    "dataframe[pd.isnull(dataframe[['Preferred_foot', 'Position', 'Joined', 'Loaned_from', 'Contract_Valid_Until','Height', 'Weight']]).all(axis=1)]"
   ],
   "metadata": {
    "collapsed": false,
    "pycharm": {
     "name": "#%%\n"
    }
   }
  },
  {
   "cell_type": "markdown",
   "source": [
    "Posteriormente, se eliminan todos los registros que se intesectan partiendo de una columna común que en este caso es **Position**. Esto elimina un total de 48 registros del dataframe."
   ],
   "metadata": {
    "collapsed": false,
    "pycharm": {
     "name": "#%% md\n"
    }
   }
  },
  {
   "cell_type": "code",
   "execution_count": 11,
   "outputs": [],
   "source": [
    "dataframe.dropna(subset=['Position'], inplace=True)"
   ],
   "metadata": {
    "collapsed": false,
    "pycharm": {
     "name": "#%%\n"
    }
   }
  },
  {
   "cell_type": "markdown",
   "source": [
    "Seguido a esto, se visualiza el dataframe."
   ],
   "metadata": {
    "collapsed": false,
    "pycharm": {
     "name": "#%% md\n"
    }
   }
  },
  {
   "cell_type": "code",
   "execution_count": 12,
   "outputs": [
    {
     "data": {
      "text/plain": "           ID  Age Nationality                 Club    Value   Wage  \\\n0      158023   31   Argentina         FC Barcelona  €110.5M  €565K   \n1       20801   33    Portugal             Juventus     €77M  €405K   \n2      190871   26      Brazil  Paris Saint-Germain  €118.5M  €290K   \n3      193080   27       Spain    Manchester United     €72M  €260K   \n4      192985   27     Belgium      Manchester City    €102M  €355K   \n...       ...  ...         ...                  ...      ...    ...   \n18202  238813   19     England      Crewe Alexandra     €60K    €1K   \n18203  243165   19      Sweden       Trelleborgs FF     €60K    €1K   \n18204  241638   16     England     Cambridge United     €60K    €1K   \n18205  246268   17     England      Tranmere Rovers     €60K    €1K   \n18206  246269   16     England      Tranmere Rovers     €60K    €1K   \n\n      Preferred_foot Position        Joined Loaned_from Contract_Valid_Until  \\\n0               Left       RF   Jul 1, 2004         NaN                 2021   \n1              Right       ST  Jul 10, 2018         NaN                 2022   \n2              Right       LW   Aug 3, 2017         NaN                 2022   \n3              Right       GK   Jul 1, 2011         NaN                 2020   \n4              Right      RCM  Aug 30, 2015         NaN                 2023   \n...              ...      ...           ...         ...                  ...   \n18202          Right       CM   May 3, 2017         NaN                 2019   \n18203          Right       ST  Mar 19, 2018         NaN                 2020   \n18204          Right       ST   Jul 1, 2017         NaN                 2021   \n18205          Right       RW  Apr 24, 2018         NaN                 2019   \n18206          Right       CM  Oct 30, 2018         NaN                 2019   \n\n      Height  Weight Release_clause  \n0        5'7  159lbs        €226.5M  \n1        6'2  183lbs        €127.1M  \n2        5'9  150lbs        €228.1M  \n3        6'4  168lbs        €138.6M  \n4       5'11  154lbs        €196.4M  \n...      ...     ...            ...  \n18202    5'9  134lbs          €143K  \n18203    6'3  170lbs          €113K  \n18204    5'8  148lbs          €165K  \n18205   5'10  154lbs          €143K  \n18206   5'10  176lbs          €165K  \n\n[18147 rows x 14 columns]",
      "text/html": "<div>\n<style scoped>\n    .dataframe tbody tr th:only-of-type {\n        vertical-align: middle;\n    }\n\n    .dataframe tbody tr th {\n        vertical-align: top;\n    }\n\n    .dataframe thead th {\n        text-align: right;\n    }\n</style>\n<table border=\"1\" class=\"dataframe\">\n  <thead>\n    <tr style=\"text-align: right;\">\n      <th></th>\n      <th>ID</th>\n      <th>Age</th>\n      <th>Nationality</th>\n      <th>Club</th>\n      <th>Value</th>\n      <th>Wage</th>\n      <th>Preferred_foot</th>\n      <th>Position</th>\n      <th>Joined</th>\n      <th>Loaned_from</th>\n      <th>Contract_Valid_Until</th>\n      <th>Height</th>\n      <th>Weight</th>\n      <th>Release_clause</th>\n    </tr>\n  </thead>\n  <tbody>\n    <tr>\n      <th>0</th>\n      <td>158023</td>\n      <td>31</td>\n      <td>Argentina</td>\n      <td>FC Barcelona</td>\n      <td>€110.5M</td>\n      <td>€565K</td>\n      <td>Left</td>\n      <td>RF</td>\n      <td>Jul 1, 2004</td>\n      <td>NaN</td>\n      <td>2021</td>\n      <td>5'7</td>\n      <td>159lbs</td>\n      <td>€226.5M</td>\n    </tr>\n    <tr>\n      <th>1</th>\n      <td>20801</td>\n      <td>33</td>\n      <td>Portugal</td>\n      <td>Juventus</td>\n      <td>€77M</td>\n      <td>€405K</td>\n      <td>Right</td>\n      <td>ST</td>\n      <td>Jul 10, 2018</td>\n      <td>NaN</td>\n      <td>2022</td>\n      <td>6'2</td>\n      <td>183lbs</td>\n      <td>€127.1M</td>\n    </tr>\n    <tr>\n      <th>2</th>\n      <td>190871</td>\n      <td>26</td>\n      <td>Brazil</td>\n      <td>Paris Saint-Germain</td>\n      <td>€118.5M</td>\n      <td>€290K</td>\n      <td>Right</td>\n      <td>LW</td>\n      <td>Aug 3, 2017</td>\n      <td>NaN</td>\n      <td>2022</td>\n      <td>5'9</td>\n      <td>150lbs</td>\n      <td>€228.1M</td>\n    </tr>\n    <tr>\n      <th>3</th>\n      <td>193080</td>\n      <td>27</td>\n      <td>Spain</td>\n      <td>Manchester United</td>\n      <td>€72M</td>\n      <td>€260K</td>\n      <td>Right</td>\n      <td>GK</td>\n      <td>Jul 1, 2011</td>\n      <td>NaN</td>\n      <td>2020</td>\n      <td>6'4</td>\n      <td>168lbs</td>\n      <td>€138.6M</td>\n    </tr>\n    <tr>\n      <th>4</th>\n      <td>192985</td>\n      <td>27</td>\n      <td>Belgium</td>\n      <td>Manchester City</td>\n      <td>€102M</td>\n      <td>€355K</td>\n      <td>Right</td>\n      <td>RCM</td>\n      <td>Aug 30, 2015</td>\n      <td>NaN</td>\n      <td>2023</td>\n      <td>5'11</td>\n      <td>154lbs</td>\n      <td>€196.4M</td>\n    </tr>\n    <tr>\n      <th>...</th>\n      <td>...</td>\n      <td>...</td>\n      <td>...</td>\n      <td>...</td>\n      <td>...</td>\n      <td>...</td>\n      <td>...</td>\n      <td>...</td>\n      <td>...</td>\n      <td>...</td>\n      <td>...</td>\n      <td>...</td>\n      <td>...</td>\n      <td>...</td>\n    </tr>\n    <tr>\n      <th>18202</th>\n      <td>238813</td>\n      <td>19</td>\n      <td>England</td>\n      <td>Crewe Alexandra</td>\n      <td>€60K</td>\n      <td>€1K</td>\n      <td>Right</td>\n      <td>CM</td>\n      <td>May 3, 2017</td>\n      <td>NaN</td>\n      <td>2019</td>\n      <td>5'9</td>\n      <td>134lbs</td>\n      <td>€143K</td>\n    </tr>\n    <tr>\n      <th>18203</th>\n      <td>243165</td>\n      <td>19</td>\n      <td>Sweden</td>\n      <td>Trelleborgs FF</td>\n      <td>€60K</td>\n      <td>€1K</td>\n      <td>Right</td>\n      <td>ST</td>\n      <td>Mar 19, 2018</td>\n      <td>NaN</td>\n      <td>2020</td>\n      <td>6'3</td>\n      <td>170lbs</td>\n      <td>€113K</td>\n    </tr>\n    <tr>\n      <th>18204</th>\n      <td>241638</td>\n      <td>16</td>\n      <td>England</td>\n      <td>Cambridge United</td>\n      <td>€60K</td>\n      <td>€1K</td>\n      <td>Right</td>\n      <td>ST</td>\n      <td>Jul 1, 2017</td>\n      <td>NaN</td>\n      <td>2021</td>\n      <td>5'8</td>\n      <td>148lbs</td>\n      <td>€165K</td>\n    </tr>\n    <tr>\n      <th>18205</th>\n      <td>246268</td>\n      <td>17</td>\n      <td>England</td>\n      <td>Tranmere Rovers</td>\n      <td>€60K</td>\n      <td>€1K</td>\n      <td>Right</td>\n      <td>RW</td>\n      <td>Apr 24, 2018</td>\n      <td>NaN</td>\n      <td>2019</td>\n      <td>5'10</td>\n      <td>154lbs</td>\n      <td>€143K</td>\n    </tr>\n    <tr>\n      <th>18206</th>\n      <td>246269</td>\n      <td>16</td>\n      <td>England</td>\n      <td>Tranmere Rovers</td>\n      <td>€60K</td>\n      <td>€1K</td>\n      <td>Right</td>\n      <td>CM</td>\n      <td>Oct 30, 2018</td>\n      <td>NaN</td>\n      <td>2019</td>\n      <td>5'10</td>\n      <td>176lbs</td>\n      <td>€165K</td>\n    </tr>\n  </tbody>\n</table>\n<p>18147 rows × 14 columns</p>\n</div>"
     },
     "execution_count": 12,
     "metadata": {},
     "output_type": "execute_result"
    }
   ],
   "source": [
    "dataframe"
   ],
   "metadata": {
    "collapsed": false,
    "pycharm": {
     "name": "#%%\n"
    }
   }
  },
  {
   "cell_type": "markdown",
   "source": [
    "Nuevamente, se procede a realizar una comprobación de los registros para corroborar en cuantos aun persisten registros nulos o vacios."
   ],
   "metadata": {
    "collapsed": false,
    "pycharm": {
     "name": "#%% md\n"
    }
   }
  },
  {
   "cell_type": "code",
   "execution_count": 13,
   "outputs": [
    {
     "data": {
      "text/plain": "                      Datos nulos\nID                              0\nAge                             0\nNationality                     0\nClub                          229\nValue                           0\nWage                            0\nPreferred_foot                  0\nPosition                        0\nJoined                       1493\nLoaned_from                 16883\nContract_Valid_Until          229\nHeight                          0\nWeight                          0\nRelease_clause               1504",
      "text/html": "<div>\n<style scoped>\n    .dataframe tbody tr th:only-of-type {\n        vertical-align: middle;\n    }\n\n    .dataframe tbody tr th {\n        vertical-align: top;\n    }\n\n    .dataframe thead th {\n        text-align: right;\n    }\n</style>\n<table border=\"1\" class=\"dataframe\">\n  <thead>\n    <tr style=\"text-align: right;\">\n      <th></th>\n      <th>Datos nulos</th>\n    </tr>\n  </thead>\n  <tbody>\n    <tr>\n      <th>ID</th>\n      <td>0</td>\n    </tr>\n    <tr>\n      <th>Age</th>\n      <td>0</td>\n    </tr>\n    <tr>\n      <th>Nationality</th>\n      <td>0</td>\n    </tr>\n    <tr>\n      <th>Club</th>\n      <td>229</td>\n    </tr>\n    <tr>\n      <th>Value</th>\n      <td>0</td>\n    </tr>\n    <tr>\n      <th>Wage</th>\n      <td>0</td>\n    </tr>\n    <tr>\n      <th>Preferred_foot</th>\n      <td>0</td>\n    </tr>\n    <tr>\n      <th>Position</th>\n      <td>0</td>\n    </tr>\n    <tr>\n      <th>Joined</th>\n      <td>1493</td>\n    </tr>\n    <tr>\n      <th>Loaned_from</th>\n      <td>16883</td>\n    </tr>\n    <tr>\n      <th>Contract_Valid_Until</th>\n      <td>229</td>\n    </tr>\n    <tr>\n      <th>Height</th>\n      <td>0</td>\n    </tr>\n    <tr>\n      <th>Weight</th>\n      <td>0</td>\n    </tr>\n    <tr>\n      <th>Release_clause</th>\n      <td>1504</td>\n    </tr>\n  </tbody>\n</table>\n</div>"
     },
     "execution_count": 13,
     "metadata": {},
     "output_type": "execute_result"
    }
   ],
   "source": [
    "pd.DataFrame(dataframe.isnull().sum(), columns=['Datos nulos'])"
   ],
   "metadata": {
    "collapsed": false,
    "pycharm": {
     "name": "#%%\n"
    }
   }
  },
  {
   "cell_type": "markdown",
   "source": [
    "**Nota importante:** se puede observa que ahora existen 229 registros que no poseen un **Club** y **Contract_Valid_Until** por lo cual se puede deducir que hay una relación."
   ],
   "metadata": {
    "collapsed": false,
    "pycharm": {
     "name": "#%% md\n"
    }
   }
  },
  {
   "cell_type": "markdown",
   "source": [
    "Partiendo de primer paso anterior, se procede a visualizar los registros que se intersectan con valores nulos o vacios de acuerdo a los siguientes datos:\n",
    "\n",
    "- Joined\n",
    "- Loaned_from\n",
    "- Contract_Valid_Until"
   ],
   "metadata": {
    "collapsed": false,
    "pycharm": {
     "name": "#%% md\n"
    }
   }
  },
  {
   "cell_type": "markdown",
   "source": [
    "Buscamos la intersección de las variables con valores nulos así como se hizo el paso anterior"
   ],
   "metadata": {
    "collapsed": false,
    "pycharm": {
     "name": "#%% md\n"
    }
   }
  },
  {
   "cell_type": "code",
   "execution_count": 14,
   "outputs": [
    {
     "data": {
      "text/plain": "           ID  Age Nationality Club Value Wage Preferred_foot Position Joined  \\\n452    207439   24   Argentina  NaN    €0   €0          Right       CM    NaN   \n538    156713   33      Sweden  NaN    €0   €0          Right      LCB    NaN   \n568    229909   26      Russia  NaN    €0   €0          Right       GK    NaN   \n677    187347   29      Russia  NaN    €0   €0          Right       RB    NaN   \n874    187607   29      Russia  NaN    €0   €0          Right       ST    NaN   \n...       ...  ...         ...  ...   ...  ...            ...      ...    ...   \n16947  225489   23     Iceland  NaN    €0   €0          Right       GK    NaN   \n16976  236774   21       India  NaN    €0   €0           Left       LW    NaN   \n17008  234234   27    Bulgaria  NaN    €0   €0          Right      LDM    NaN   \n17197  245164   21       India  NaN    €0   €0          Right       GK    NaN   \n17215  243131   26     Finland  NaN    €0   €0          Right       RB    NaN   \n\n      Loaned_from Contract_Valid_Until Height  Weight Release_clause  \n452           NaN                  NaN   5'11  165lbs            NaN  \n538           NaN                  NaN    6'4  185lbs            NaN  \n568           NaN                  NaN    6'2  176lbs            NaN  \n677           NaN                  NaN   5'10  154lbs            NaN  \n874           NaN                  NaN    6'5  201lbs            NaN  \n...           ...                  ...    ...     ...            ...  \n16947         NaN                  NaN    6'5  187lbs            NaN  \n16976         NaN                  NaN    5'9  154lbs            NaN  \n17008         NaN                  NaN    6'0  163lbs            NaN  \n17197         NaN                  NaN    6'2  176lbs            NaN  \n17215         NaN                  NaN    6'4  187lbs            NaN  \n\n[229 rows x 14 columns]",
      "text/html": "<div>\n<style scoped>\n    .dataframe tbody tr th:only-of-type {\n        vertical-align: middle;\n    }\n\n    .dataframe tbody tr th {\n        vertical-align: top;\n    }\n\n    .dataframe thead th {\n        text-align: right;\n    }\n</style>\n<table border=\"1\" class=\"dataframe\">\n  <thead>\n    <tr style=\"text-align: right;\">\n      <th></th>\n      <th>ID</th>\n      <th>Age</th>\n      <th>Nationality</th>\n      <th>Club</th>\n      <th>Value</th>\n      <th>Wage</th>\n      <th>Preferred_foot</th>\n      <th>Position</th>\n      <th>Joined</th>\n      <th>Loaned_from</th>\n      <th>Contract_Valid_Until</th>\n      <th>Height</th>\n      <th>Weight</th>\n      <th>Release_clause</th>\n    </tr>\n  </thead>\n  <tbody>\n    <tr>\n      <th>452</th>\n      <td>207439</td>\n      <td>24</td>\n      <td>Argentina</td>\n      <td>NaN</td>\n      <td>€0</td>\n      <td>€0</td>\n      <td>Right</td>\n      <td>CM</td>\n      <td>NaN</td>\n      <td>NaN</td>\n      <td>NaN</td>\n      <td>5'11</td>\n      <td>165lbs</td>\n      <td>NaN</td>\n    </tr>\n    <tr>\n      <th>538</th>\n      <td>156713</td>\n      <td>33</td>\n      <td>Sweden</td>\n      <td>NaN</td>\n      <td>€0</td>\n      <td>€0</td>\n      <td>Right</td>\n      <td>LCB</td>\n      <td>NaN</td>\n      <td>NaN</td>\n      <td>NaN</td>\n      <td>6'4</td>\n      <td>185lbs</td>\n      <td>NaN</td>\n    </tr>\n    <tr>\n      <th>568</th>\n      <td>229909</td>\n      <td>26</td>\n      <td>Russia</td>\n      <td>NaN</td>\n      <td>€0</td>\n      <td>€0</td>\n      <td>Right</td>\n      <td>GK</td>\n      <td>NaN</td>\n      <td>NaN</td>\n      <td>NaN</td>\n      <td>6'2</td>\n      <td>176lbs</td>\n      <td>NaN</td>\n    </tr>\n    <tr>\n      <th>677</th>\n      <td>187347</td>\n      <td>29</td>\n      <td>Russia</td>\n      <td>NaN</td>\n      <td>€0</td>\n      <td>€0</td>\n      <td>Right</td>\n      <td>RB</td>\n      <td>NaN</td>\n      <td>NaN</td>\n      <td>NaN</td>\n      <td>5'10</td>\n      <td>154lbs</td>\n      <td>NaN</td>\n    </tr>\n    <tr>\n      <th>874</th>\n      <td>187607</td>\n      <td>29</td>\n      <td>Russia</td>\n      <td>NaN</td>\n      <td>€0</td>\n      <td>€0</td>\n      <td>Right</td>\n      <td>ST</td>\n      <td>NaN</td>\n      <td>NaN</td>\n      <td>NaN</td>\n      <td>6'5</td>\n      <td>201lbs</td>\n      <td>NaN</td>\n    </tr>\n    <tr>\n      <th>...</th>\n      <td>...</td>\n      <td>...</td>\n      <td>...</td>\n      <td>...</td>\n      <td>...</td>\n      <td>...</td>\n      <td>...</td>\n      <td>...</td>\n      <td>...</td>\n      <td>...</td>\n      <td>...</td>\n      <td>...</td>\n      <td>...</td>\n      <td>...</td>\n    </tr>\n    <tr>\n      <th>16947</th>\n      <td>225489</td>\n      <td>23</td>\n      <td>Iceland</td>\n      <td>NaN</td>\n      <td>€0</td>\n      <td>€0</td>\n      <td>Right</td>\n      <td>GK</td>\n      <td>NaN</td>\n      <td>NaN</td>\n      <td>NaN</td>\n      <td>6'5</td>\n      <td>187lbs</td>\n      <td>NaN</td>\n    </tr>\n    <tr>\n      <th>16976</th>\n      <td>236774</td>\n      <td>21</td>\n      <td>India</td>\n      <td>NaN</td>\n      <td>€0</td>\n      <td>€0</td>\n      <td>Left</td>\n      <td>LW</td>\n      <td>NaN</td>\n      <td>NaN</td>\n      <td>NaN</td>\n      <td>5'9</td>\n      <td>154lbs</td>\n      <td>NaN</td>\n    </tr>\n    <tr>\n      <th>17008</th>\n      <td>234234</td>\n      <td>27</td>\n      <td>Bulgaria</td>\n      <td>NaN</td>\n      <td>€0</td>\n      <td>€0</td>\n      <td>Right</td>\n      <td>LDM</td>\n      <td>NaN</td>\n      <td>NaN</td>\n      <td>NaN</td>\n      <td>6'0</td>\n      <td>163lbs</td>\n      <td>NaN</td>\n    </tr>\n    <tr>\n      <th>17197</th>\n      <td>245164</td>\n      <td>21</td>\n      <td>India</td>\n      <td>NaN</td>\n      <td>€0</td>\n      <td>€0</td>\n      <td>Right</td>\n      <td>GK</td>\n      <td>NaN</td>\n      <td>NaN</td>\n      <td>NaN</td>\n      <td>6'2</td>\n      <td>176lbs</td>\n      <td>NaN</td>\n    </tr>\n    <tr>\n      <th>17215</th>\n      <td>243131</td>\n      <td>26</td>\n      <td>Finland</td>\n      <td>NaN</td>\n      <td>€0</td>\n      <td>€0</td>\n      <td>Right</td>\n      <td>RB</td>\n      <td>NaN</td>\n      <td>NaN</td>\n      <td>NaN</td>\n      <td>6'4</td>\n      <td>187lbs</td>\n      <td>NaN</td>\n    </tr>\n  </tbody>\n</table>\n<p>229 rows × 14 columns</p>\n</div>"
     },
     "execution_count": 14,
     "metadata": {},
     "output_type": "execute_result"
    }
   ],
   "source": [
    "dataframe[pd.isnull(dataframe[['Joined', 'Loaned_from', 'Contract_Valid_Until']]).all(axis=1)]"
   ],
   "metadata": {
    "collapsed": false,
    "pycharm": {
     "name": "#%%\n"
    }
   }
  },
  {
   "cell_type": "markdown",
   "source": [
    "Posteriormente, se eliminan todos los registros que se intesectan partiendo de una columna común que en este caso es **Contract_Valid_Until**. Esto elimina un total de 229 registros del dataframe."
   ],
   "metadata": {
    "collapsed": false,
    "pycharm": {
     "name": "#%% md\n"
    }
   }
  },
  {
   "cell_type": "code",
   "execution_count": 15,
   "outputs": [],
   "source": [
    "dataframe.dropna(subset=['Contract_Valid_Until'], inplace=True)"
   ],
   "metadata": {
    "collapsed": false,
    "pycharm": {
     "name": "#%%\n"
    }
   }
  },
  {
   "cell_type": "markdown",
   "source": [
    "Seguido a esto, se visualiza el dataframe."
   ],
   "metadata": {
    "collapsed": false,
    "pycharm": {
     "name": "#%% md\n"
    }
   }
  },
  {
   "cell_type": "code",
   "execution_count": 16,
   "outputs": [
    {
     "data": {
      "text/plain": "           ID  Age Nationality                 Club    Value   Wage  \\\n0      158023   31   Argentina         FC Barcelona  €110.5M  €565K   \n1       20801   33    Portugal             Juventus     €77M  €405K   \n2      190871   26      Brazil  Paris Saint-Germain  €118.5M  €290K   \n3      193080   27       Spain    Manchester United     €72M  €260K   \n4      192985   27     Belgium      Manchester City    €102M  €355K   \n...       ...  ...         ...                  ...      ...    ...   \n18202  238813   19     England      Crewe Alexandra     €60K    €1K   \n18203  243165   19      Sweden       Trelleborgs FF     €60K    €1K   \n18204  241638   16     England     Cambridge United     €60K    €1K   \n18205  246268   17     England      Tranmere Rovers     €60K    €1K   \n18206  246269   16     England      Tranmere Rovers     €60K    €1K   \n\n      Preferred_foot Position        Joined Loaned_from Contract_Valid_Until  \\\n0               Left       RF   Jul 1, 2004         NaN                 2021   \n1              Right       ST  Jul 10, 2018         NaN                 2022   \n2              Right       LW   Aug 3, 2017         NaN                 2022   \n3              Right       GK   Jul 1, 2011         NaN                 2020   \n4              Right      RCM  Aug 30, 2015         NaN                 2023   \n...              ...      ...           ...         ...                  ...   \n18202          Right       CM   May 3, 2017         NaN                 2019   \n18203          Right       ST  Mar 19, 2018         NaN                 2020   \n18204          Right       ST   Jul 1, 2017         NaN                 2021   \n18205          Right       RW  Apr 24, 2018         NaN                 2019   \n18206          Right       CM  Oct 30, 2018         NaN                 2019   \n\n      Height  Weight Release_clause  \n0        5'7  159lbs        €226.5M  \n1        6'2  183lbs        €127.1M  \n2        5'9  150lbs        €228.1M  \n3        6'4  168lbs        €138.6M  \n4       5'11  154lbs        €196.4M  \n...      ...     ...            ...  \n18202    5'9  134lbs          €143K  \n18203    6'3  170lbs          €113K  \n18204    5'8  148lbs          €165K  \n18205   5'10  154lbs          €143K  \n18206   5'10  176lbs          €165K  \n\n[17918 rows x 14 columns]",
      "text/html": "<div>\n<style scoped>\n    .dataframe tbody tr th:only-of-type {\n        vertical-align: middle;\n    }\n\n    .dataframe tbody tr th {\n        vertical-align: top;\n    }\n\n    .dataframe thead th {\n        text-align: right;\n    }\n</style>\n<table border=\"1\" class=\"dataframe\">\n  <thead>\n    <tr style=\"text-align: right;\">\n      <th></th>\n      <th>ID</th>\n      <th>Age</th>\n      <th>Nationality</th>\n      <th>Club</th>\n      <th>Value</th>\n      <th>Wage</th>\n      <th>Preferred_foot</th>\n      <th>Position</th>\n      <th>Joined</th>\n      <th>Loaned_from</th>\n      <th>Contract_Valid_Until</th>\n      <th>Height</th>\n      <th>Weight</th>\n      <th>Release_clause</th>\n    </tr>\n  </thead>\n  <tbody>\n    <tr>\n      <th>0</th>\n      <td>158023</td>\n      <td>31</td>\n      <td>Argentina</td>\n      <td>FC Barcelona</td>\n      <td>€110.5M</td>\n      <td>€565K</td>\n      <td>Left</td>\n      <td>RF</td>\n      <td>Jul 1, 2004</td>\n      <td>NaN</td>\n      <td>2021</td>\n      <td>5'7</td>\n      <td>159lbs</td>\n      <td>€226.5M</td>\n    </tr>\n    <tr>\n      <th>1</th>\n      <td>20801</td>\n      <td>33</td>\n      <td>Portugal</td>\n      <td>Juventus</td>\n      <td>€77M</td>\n      <td>€405K</td>\n      <td>Right</td>\n      <td>ST</td>\n      <td>Jul 10, 2018</td>\n      <td>NaN</td>\n      <td>2022</td>\n      <td>6'2</td>\n      <td>183lbs</td>\n      <td>€127.1M</td>\n    </tr>\n    <tr>\n      <th>2</th>\n      <td>190871</td>\n      <td>26</td>\n      <td>Brazil</td>\n      <td>Paris Saint-Germain</td>\n      <td>€118.5M</td>\n      <td>€290K</td>\n      <td>Right</td>\n      <td>LW</td>\n      <td>Aug 3, 2017</td>\n      <td>NaN</td>\n      <td>2022</td>\n      <td>5'9</td>\n      <td>150lbs</td>\n      <td>€228.1M</td>\n    </tr>\n    <tr>\n      <th>3</th>\n      <td>193080</td>\n      <td>27</td>\n      <td>Spain</td>\n      <td>Manchester United</td>\n      <td>€72M</td>\n      <td>€260K</td>\n      <td>Right</td>\n      <td>GK</td>\n      <td>Jul 1, 2011</td>\n      <td>NaN</td>\n      <td>2020</td>\n      <td>6'4</td>\n      <td>168lbs</td>\n      <td>€138.6M</td>\n    </tr>\n    <tr>\n      <th>4</th>\n      <td>192985</td>\n      <td>27</td>\n      <td>Belgium</td>\n      <td>Manchester City</td>\n      <td>€102M</td>\n      <td>€355K</td>\n      <td>Right</td>\n      <td>RCM</td>\n      <td>Aug 30, 2015</td>\n      <td>NaN</td>\n      <td>2023</td>\n      <td>5'11</td>\n      <td>154lbs</td>\n      <td>€196.4M</td>\n    </tr>\n    <tr>\n      <th>...</th>\n      <td>...</td>\n      <td>...</td>\n      <td>...</td>\n      <td>...</td>\n      <td>...</td>\n      <td>...</td>\n      <td>...</td>\n      <td>...</td>\n      <td>...</td>\n      <td>...</td>\n      <td>...</td>\n      <td>...</td>\n      <td>...</td>\n      <td>...</td>\n    </tr>\n    <tr>\n      <th>18202</th>\n      <td>238813</td>\n      <td>19</td>\n      <td>England</td>\n      <td>Crewe Alexandra</td>\n      <td>€60K</td>\n      <td>€1K</td>\n      <td>Right</td>\n      <td>CM</td>\n      <td>May 3, 2017</td>\n      <td>NaN</td>\n      <td>2019</td>\n      <td>5'9</td>\n      <td>134lbs</td>\n      <td>€143K</td>\n    </tr>\n    <tr>\n      <th>18203</th>\n      <td>243165</td>\n      <td>19</td>\n      <td>Sweden</td>\n      <td>Trelleborgs FF</td>\n      <td>€60K</td>\n      <td>€1K</td>\n      <td>Right</td>\n      <td>ST</td>\n      <td>Mar 19, 2018</td>\n      <td>NaN</td>\n      <td>2020</td>\n      <td>6'3</td>\n      <td>170lbs</td>\n      <td>€113K</td>\n    </tr>\n    <tr>\n      <th>18204</th>\n      <td>241638</td>\n      <td>16</td>\n      <td>England</td>\n      <td>Cambridge United</td>\n      <td>€60K</td>\n      <td>€1K</td>\n      <td>Right</td>\n      <td>ST</td>\n      <td>Jul 1, 2017</td>\n      <td>NaN</td>\n      <td>2021</td>\n      <td>5'8</td>\n      <td>148lbs</td>\n      <td>€165K</td>\n    </tr>\n    <tr>\n      <th>18205</th>\n      <td>246268</td>\n      <td>17</td>\n      <td>England</td>\n      <td>Tranmere Rovers</td>\n      <td>€60K</td>\n      <td>€1K</td>\n      <td>Right</td>\n      <td>RW</td>\n      <td>Apr 24, 2018</td>\n      <td>NaN</td>\n      <td>2019</td>\n      <td>5'10</td>\n      <td>154lbs</td>\n      <td>€143K</td>\n    </tr>\n    <tr>\n      <th>18206</th>\n      <td>246269</td>\n      <td>16</td>\n      <td>England</td>\n      <td>Tranmere Rovers</td>\n      <td>€60K</td>\n      <td>€1K</td>\n      <td>Right</td>\n      <td>CM</td>\n      <td>Oct 30, 2018</td>\n      <td>NaN</td>\n      <td>2019</td>\n      <td>5'10</td>\n      <td>176lbs</td>\n      <td>€165K</td>\n    </tr>\n  </tbody>\n</table>\n<p>17918 rows × 14 columns</p>\n</div>"
     },
     "execution_count": 16,
     "metadata": {},
     "output_type": "execute_result"
    }
   ],
   "source": [
    "dataframe"
   ],
   "metadata": {
    "collapsed": false,
    "pycharm": {
     "name": "#%%\n"
    }
   }
  },
  {
   "cell_type": "markdown",
   "source": [
    "Nuevamente, se procede a realizar una comprobación de los registros para corroborar en cuantos aun persisten registros nulos o vacios."
   ],
   "metadata": {
    "collapsed": false,
    "pycharm": {
     "name": "#%% md\n"
    }
   }
  },
  {
   "cell_type": "code",
   "execution_count": 17,
   "outputs": [
    {
     "data": {
      "text/plain": "                      Datos nulos\nID                              0\nAge                             0\nNationality                     0\nClub                            0\nValue                           0\nWage                            0\nPreferred_foot                  0\nPosition                        0\nJoined                       1264\nLoaned_from                 16654\nContract_Valid_Until            0\nHeight                          0\nWeight                          0\nRelease_clause               1275",
      "text/html": "<div>\n<style scoped>\n    .dataframe tbody tr th:only-of-type {\n        vertical-align: middle;\n    }\n\n    .dataframe tbody tr th {\n        vertical-align: top;\n    }\n\n    .dataframe thead th {\n        text-align: right;\n    }\n</style>\n<table border=\"1\" class=\"dataframe\">\n  <thead>\n    <tr style=\"text-align: right;\">\n      <th></th>\n      <th>Datos nulos</th>\n    </tr>\n  </thead>\n  <tbody>\n    <tr>\n      <th>ID</th>\n      <td>0</td>\n    </tr>\n    <tr>\n      <th>Age</th>\n      <td>0</td>\n    </tr>\n    <tr>\n      <th>Nationality</th>\n      <td>0</td>\n    </tr>\n    <tr>\n      <th>Club</th>\n      <td>0</td>\n    </tr>\n    <tr>\n      <th>Value</th>\n      <td>0</td>\n    </tr>\n    <tr>\n      <th>Wage</th>\n      <td>0</td>\n    </tr>\n    <tr>\n      <th>Preferred_foot</th>\n      <td>0</td>\n    </tr>\n    <tr>\n      <th>Position</th>\n      <td>0</td>\n    </tr>\n    <tr>\n      <th>Joined</th>\n      <td>1264</td>\n    </tr>\n    <tr>\n      <th>Loaned_from</th>\n      <td>16654</td>\n    </tr>\n    <tr>\n      <th>Contract_Valid_Until</th>\n      <td>0</td>\n    </tr>\n    <tr>\n      <th>Height</th>\n      <td>0</td>\n    </tr>\n    <tr>\n      <th>Weight</th>\n      <td>0</td>\n    </tr>\n    <tr>\n      <th>Release_clause</th>\n      <td>1275</td>\n    </tr>\n  </tbody>\n</table>\n</div>"
     },
     "execution_count": 17,
     "metadata": {},
     "output_type": "execute_result"
    }
   ],
   "source": [
    "pd.DataFrame(dataframe.isnull().sum(), columns=['Datos nulos'])"
   ],
   "metadata": {
    "collapsed": false,
    "pycharm": {
     "name": "#%%\n"
    }
   }
  },
  {
   "cell_type": "markdown",
   "source": [
    "**Nota importante:** se puede observar que la columna de **Joined** posiblemente sea excluyente con **Loaned From** ya que al hacer la suma aritmetica de sus valores nulos dan como resultado el total del dataframe."
   ],
   "metadata": {
    "collapsed": false,
    "pycharm": {
     "name": "#%% md\n"
    }
   }
  },
  {
   "cell_type": "markdown",
   "source": [
    "Partiendo de lo observado, se procede a comprobar esta relación de excluyencia realizando la interseción de los registros de acuerdo a los siguientes criterios:\n",
    "\n",
    "- Joined (con valores no nulos o vacios)\n",
    "- Loaned_from"
   ],
   "metadata": {
    "collapsed": false,
    "pycharm": {
     "name": "#%% md\n"
    }
   }
  },
  {
   "cell_type": "code",
   "execution_count": 18,
   "outputs": [
    {
     "data": {
      "text/plain": "           ID  Age Nationality                 Club    Value   Wage  \\\n0      158023   31   Argentina         FC Barcelona  €110.5M  €565K   \n1       20801   33    Portugal             Juventus     €77M  €405K   \n2      190871   26      Brazil  Paris Saint-Germain  €118.5M  €290K   \n3      193080   27       Spain    Manchester United     €72M  €260K   \n4      192985   27     Belgium      Manchester City    €102M  €355K   \n...       ...  ...         ...                  ...      ...    ...   \n18202  238813   19     England      Crewe Alexandra     €60K    €1K   \n18203  243165   19      Sweden       Trelleborgs FF     €60K    €1K   \n18204  241638   16     England     Cambridge United     €60K    €1K   \n18205  246268   17     England      Tranmere Rovers     €60K    €1K   \n18206  246269   16     England      Tranmere Rovers     €60K    €1K   \n\n      Preferred_foot Position        Joined Loaned_from Contract_Valid_Until  \\\n0               Left       RF   Jul 1, 2004         NaN                 2021   \n1              Right       ST  Jul 10, 2018         NaN                 2022   \n2              Right       LW   Aug 3, 2017         NaN                 2022   \n3              Right       GK   Jul 1, 2011         NaN                 2020   \n4              Right      RCM  Aug 30, 2015         NaN                 2023   \n...              ...      ...           ...         ...                  ...   \n18202          Right       CM   May 3, 2017         NaN                 2019   \n18203          Right       ST  Mar 19, 2018         NaN                 2020   \n18204          Right       ST   Jul 1, 2017         NaN                 2021   \n18205          Right       RW  Apr 24, 2018         NaN                 2019   \n18206          Right       CM  Oct 30, 2018         NaN                 2019   \n\n      Height  Weight Release_clause  \n0        5'7  159lbs        €226.5M  \n1        6'2  183lbs        €127.1M  \n2        5'9  150lbs        €228.1M  \n3        6'4  168lbs        €138.6M  \n4       5'11  154lbs        €196.4M  \n...      ...     ...            ...  \n18202    5'9  134lbs          €143K  \n18203    6'3  170lbs          €113K  \n18204    5'8  148lbs          €165K  \n18205   5'10  154lbs          €143K  \n18206   5'10  176lbs          €165K  \n\n[17918 rows x 14 columns]",
      "text/html": "<div>\n<style scoped>\n    .dataframe tbody tr th:only-of-type {\n        vertical-align: middle;\n    }\n\n    .dataframe tbody tr th {\n        vertical-align: top;\n    }\n\n    .dataframe thead th {\n        text-align: right;\n    }\n</style>\n<table border=\"1\" class=\"dataframe\">\n  <thead>\n    <tr style=\"text-align: right;\">\n      <th></th>\n      <th>ID</th>\n      <th>Age</th>\n      <th>Nationality</th>\n      <th>Club</th>\n      <th>Value</th>\n      <th>Wage</th>\n      <th>Preferred_foot</th>\n      <th>Position</th>\n      <th>Joined</th>\n      <th>Loaned_from</th>\n      <th>Contract_Valid_Until</th>\n      <th>Height</th>\n      <th>Weight</th>\n      <th>Release_clause</th>\n    </tr>\n  </thead>\n  <tbody>\n    <tr>\n      <th>0</th>\n      <td>158023</td>\n      <td>31</td>\n      <td>Argentina</td>\n      <td>FC Barcelona</td>\n      <td>€110.5M</td>\n      <td>€565K</td>\n      <td>Left</td>\n      <td>RF</td>\n      <td>Jul 1, 2004</td>\n      <td>NaN</td>\n      <td>2021</td>\n      <td>5'7</td>\n      <td>159lbs</td>\n      <td>€226.5M</td>\n    </tr>\n    <tr>\n      <th>1</th>\n      <td>20801</td>\n      <td>33</td>\n      <td>Portugal</td>\n      <td>Juventus</td>\n      <td>€77M</td>\n      <td>€405K</td>\n      <td>Right</td>\n      <td>ST</td>\n      <td>Jul 10, 2018</td>\n      <td>NaN</td>\n      <td>2022</td>\n      <td>6'2</td>\n      <td>183lbs</td>\n      <td>€127.1M</td>\n    </tr>\n    <tr>\n      <th>2</th>\n      <td>190871</td>\n      <td>26</td>\n      <td>Brazil</td>\n      <td>Paris Saint-Germain</td>\n      <td>€118.5M</td>\n      <td>€290K</td>\n      <td>Right</td>\n      <td>LW</td>\n      <td>Aug 3, 2017</td>\n      <td>NaN</td>\n      <td>2022</td>\n      <td>5'9</td>\n      <td>150lbs</td>\n      <td>€228.1M</td>\n    </tr>\n    <tr>\n      <th>3</th>\n      <td>193080</td>\n      <td>27</td>\n      <td>Spain</td>\n      <td>Manchester United</td>\n      <td>€72M</td>\n      <td>€260K</td>\n      <td>Right</td>\n      <td>GK</td>\n      <td>Jul 1, 2011</td>\n      <td>NaN</td>\n      <td>2020</td>\n      <td>6'4</td>\n      <td>168lbs</td>\n      <td>€138.6M</td>\n    </tr>\n    <tr>\n      <th>4</th>\n      <td>192985</td>\n      <td>27</td>\n      <td>Belgium</td>\n      <td>Manchester City</td>\n      <td>€102M</td>\n      <td>€355K</td>\n      <td>Right</td>\n      <td>RCM</td>\n      <td>Aug 30, 2015</td>\n      <td>NaN</td>\n      <td>2023</td>\n      <td>5'11</td>\n      <td>154lbs</td>\n      <td>€196.4M</td>\n    </tr>\n    <tr>\n      <th>...</th>\n      <td>...</td>\n      <td>...</td>\n      <td>...</td>\n      <td>...</td>\n      <td>...</td>\n      <td>...</td>\n      <td>...</td>\n      <td>...</td>\n      <td>...</td>\n      <td>...</td>\n      <td>...</td>\n      <td>...</td>\n      <td>...</td>\n      <td>...</td>\n    </tr>\n    <tr>\n      <th>18202</th>\n      <td>238813</td>\n      <td>19</td>\n      <td>England</td>\n      <td>Crewe Alexandra</td>\n      <td>€60K</td>\n      <td>€1K</td>\n      <td>Right</td>\n      <td>CM</td>\n      <td>May 3, 2017</td>\n      <td>NaN</td>\n      <td>2019</td>\n      <td>5'9</td>\n      <td>134lbs</td>\n      <td>€143K</td>\n    </tr>\n    <tr>\n      <th>18203</th>\n      <td>243165</td>\n      <td>19</td>\n      <td>Sweden</td>\n      <td>Trelleborgs FF</td>\n      <td>€60K</td>\n      <td>€1K</td>\n      <td>Right</td>\n      <td>ST</td>\n      <td>Mar 19, 2018</td>\n      <td>NaN</td>\n      <td>2020</td>\n      <td>6'3</td>\n      <td>170lbs</td>\n      <td>€113K</td>\n    </tr>\n    <tr>\n      <th>18204</th>\n      <td>241638</td>\n      <td>16</td>\n      <td>England</td>\n      <td>Cambridge United</td>\n      <td>€60K</td>\n      <td>€1K</td>\n      <td>Right</td>\n      <td>ST</td>\n      <td>Jul 1, 2017</td>\n      <td>NaN</td>\n      <td>2021</td>\n      <td>5'8</td>\n      <td>148lbs</td>\n      <td>€165K</td>\n    </tr>\n    <tr>\n      <th>18205</th>\n      <td>246268</td>\n      <td>17</td>\n      <td>England</td>\n      <td>Tranmere Rovers</td>\n      <td>€60K</td>\n      <td>€1K</td>\n      <td>Right</td>\n      <td>RW</td>\n      <td>Apr 24, 2018</td>\n      <td>NaN</td>\n      <td>2019</td>\n      <td>5'10</td>\n      <td>154lbs</td>\n      <td>€143K</td>\n    </tr>\n    <tr>\n      <th>18206</th>\n      <td>246269</td>\n      <td>16</td>\n      <td>England</td>\n      <td>Tranmere Rovers</td>\n      <td>€60K</td>\n      <td>€1K</td>\n      <td>Right</td>\n      <td>CM</td>\n      <td>Oct 30, 2018</td>\n      <td>NaN</td>\n      <td>2019</td>\n      <td>5'10</td>\n      <td>176lbs</td>\n      <td>€165K</td>\n    </tr>\n  </tbody>\n</table>\n<p>17918 rows × 14 columns</p>\n</div>"
     },
     "execution_count": 18,
     "metadata": {},
     "output_type": "execute_result"
    }
   ],
   "source": [
    "dataframe[dataframe.Loaned_from.isnull() & dataframe.Joined.isnull()==False]"
   ],
   "metadata": {
    "collapsed": false,
    "pycharm": {
     "name": "#%%\n"
    }
   }
  },
  {
   "cell_type": "markdown",
   "source": [
    "Con la operación anterior se puede comprobar de forma consistente la relación de excluyencia entre estas columnas, sin embargo; se realiza una ultima comprobación para validar si el tamaño de los registros intersectados es el mismo que el tamaño del mismo dataframe."
   ],
   "metadata": {
    "collapsed": false,
    "pycharm": {
     "name": "#%% md\n"
    }
   }
  },
  {
   "cell_type": "code",
   "execution_count": 19,
   "outputs": [
    {
     "data": {
      "text/plain": "True"
     },
     "execution_count": 19,
     "metadata": {},
     "output_type": "execute_result"
    }
   ],
   "source": [
    "dataframe[dataframe.Loaned_from.isnull() & dataframe.Joined.isnull()==False].values.shape == dataframe.shape"
   ],
   "metadata": {
    "collapsed": false,
    "pycharm": {
     "name": "#%%\n"
    }
   }
  },
  {
   "cell_type": "markdown",
   "source": [
    "**Nota importante:** partiendo de la comprobación anterior, se puede verificar que el tamaño de los registros intersectados son iguales al tamaño del dataframe."
   ],
   "metadata": {
    "collapsed": false,
    "pycharm": {
     "name": "#%% md\n"
    }
   }
  },
  {
   "cell_type": "markdown",
   "source": [
    "Una vez comprobado, validado y verificado la relación de excluyencia entre las columnas **Joined** y **Loaned_from**, es necesario realizar las modificaciones a los datos presentes en estes. Sin embargo, se necesita tener en cuenta lo siguiente:\n",
    "\n",
    "- Las columnas son una cadena de texto con información compleja.\n",
    "- La columna **Joined** se refiere a la fecha que el jugador se unió al club al que pertenece actualmente.\n",
    "- La columna **Loaned_from** se refiere al club al que fue prestado incluyendo la fecha.\n",
    "\n",
    "Las modificaciones propuestas consisten en realizar un renombrado de la columna **Joined** a **Loaned**, que sea de tipo booleana y que indiquen si un jugador está en préstamo (valor true indica que hay información en la columna **Loaned_from** y false indica que hay información en la columna **Joined**)."
   ],
   "metadata": {
    "collapsed": false,
    "pycharm": {
     "name": "#%% md\n"
    }
   }
  },
  {
   "cell_type": "markdown",
   "source": [
    "Como primer paso de las modificaciones propuestas, se renombra la columna **Joined** a **Loaned**."
   ],
   "metadata": {
    "collapsed": false,
    "pycharm": {
     "name": "#%% md\n"
    }
   }
  },
  {
   "cell_type": "code",
   "execution_count": 20,
   "outputs": [],
   "source": [
    "dataframe.rename({'Joined': 'Loaned'}, axis=1, inplace=True)"
   ],
   "metadata": {
    "collapsed": false,
    "pycharm": {
     "name": "#%%\n"
    }
   }
  },
  {
   "cell_type": "markdown",
   "source": [
    "Posteriormente, se reemplazan los registros de la columna **Loaned** (anteriormente Joined) partiendo del siguiente criterio:\n",
    "- Si presenta información entonces el nuevo valor del registro es true.\n",
    "- Si no presenta información entonces el nuevo valor del registro es false."
   ],
   "metadata": {
    "collapsed": false,
    "pycharm": {
     "name": "#%% md\n"
    }
   }
  },
  {
   "cell_type": "code",
   "execution_count": 21,
   "outputs": [],
   "source": [
    "dataframe.Loaned = dataframe.Loaned.isnull()"
   ],
   "metadata": {
    "collapsed": false,
    "pycharm": {
     "name": "#%%\n"
    }
   }
  },
  {
   "cell_type": "markdown",
   "source": [
    "Para comprobar que la operación haya provisto el remplazo esperado, se procede a visualizar la siguiente intersection de los registros de acuerdo a los siguientes datos:\n",
    "- La columna **Loaned** en true\n",
    "- La columna **Loaned_from** con registros nulos o vacios."
   ],
   "metadata": {
    "collapsed": false,
    "pycharm": {
     "name": "#%% md\n"
    }
   }
  },
  {
   "cell_type": "code",
   "execution_count": 22,
   "outputs": [
    {
     "data": {
      "text/plain": "         ID  Age Nationality                            Club   Value   Wage  \\\n28   198710   26    Colombia               FC Bayern München  €69.5M  €315K   \n38   167664   30   Argentina                           Milan    €57M  €245K   \n91   187961   29      Brazil  Guangzhou Evergrande Taobao FC    €37M  €235K   \n166  212523   24      Brazil  Guangzhou Evergrande Taobao FC  €36.5M   €18K   \n176  207410   24     Croatia                         Chelsea    €35M  €165K   \n332  216409   24       Italy                           Inter  €22.5M   €57K   \n354  203890   26     Croatia                           Inter    €18M   €57K   \n357  202685   27       Italy                          Torino    €21M   €48K   \n427  226226   22   Argentina                      Real Betis    €20M   €72K   \n434  219809   23      France                           Milan    €17M   €85K   \n\n    Preferred_foot Position  Loaned          Loaned_from Contract_Valid_Until  \\\n28            Left      LAM    True          Real Madrid         Jun 30, 2019   \n38           Right       LS    True             Juventus         Jun 30, 2019   \n91           Right      LDM    True         FC Barcelona         Jun 30, 2019   \n166           Left      CAM    True           SL Benfica         Dec 31, 2018   \n176          Right      LCM    True          Real Madrid         Jun 30, 2019   \n332           Left       RM    True             Sassuolo         Jun 30, 2019   \n354          Right       RB    True      Atlético Madrid         Jun 30, 2019   \n357           Left       RS    True          Valencia CF         Jun 30, 2019   \n427           Left      RCM    True  Paris Saint-Germain         Jun 30, 2019   \n434          Right      LCM    True              Chelsea         Jun 30, 2019   \n\n    Height  Weight Release_clause  \n28    5'11  172lbs            NaN  \n38     6'1  196lbs            NaN  \n91     6'0  157lbs            NaN  \n166    6'3  176lbs            NaN  \n176    5'9  172lbs            NaN  \n332    5'7  148lbs            NaN  \n354   5'11  168lbs            NaN  \n357    6'1  185lbs            NaN  \n427    5'9  154lbs            NaN  \n434    6'2  187lbs            NaN  ",
      "text/html": "<div>\n<style scoped>\n    .dataframe tbody tr th:only-of-type {\n        vertical-align: middle;\n    }\n\n    .dataframe tbody tr th {\n        vertical-align: top;\n    }\n\n    .dataframe thead th {\n        text-align: right;\n    }\n</style>\n<table border=\"1\" class=\"dataframe\">\n  <thead>\n    <tr style=\"text-align: right;\">\n      <th></th>\n      <th>ID</th>\n      <th>Age</th>\n      <th>Nationality</th>\n      <th>Club</th>\n      <th>Value</th>\n      <th>Wage</th>\n      <th>Preferred_foot</th>\n      <th>Position</th>\n      <th>Loaned</th>\n      <th>Loaned_from</th>\n      <th>Contract_Valid_Until</th>\n      <th>Height</th>\n      <th>Weight</th>\n      <th>Release_clause</th>\n    </tr>\n  </thead>\n  <tbody>\n    <tr>\n      <th>28</th>\n      <td>198710</td>\n      <td>26</td>\n      <td>Colombia</td>\n      <td>FC Bayern München</td>\n      <td>€69.5M</td>\n      <td>€315K</td>\n      <td>Left</td>\n      <td>LAM</td>\n      <td>True</td>\n      <td>Real Madrid</td>\n      <td>Jun 30, 2019</td>\n      <td>5'11</td>\n      <td>172lbs</td>\n      <td>NaN</td>\n    </tr>\n    <tr>\n      <th>38</th>\n      <td>167664</td>\n      <td>30</td>\n      <td>Argentina</td>\n      <td>Milan</td>\n      <td>€57M</td>\n      <td>€245K</td>\n      <td>Right</td>\n      <td>LS</td>\n      <td>True</td>\n      <td>Juventus</td>\n      <td>Jun 30, 2019</td>\n      <td>6'1</td>\n      <td>196lbs</td>\n      <td>NaN</td>\n    </tr>\n    <tr>\n      <th>91</th>\n      <td>187961</td>\n      <td>29</td>\n      <td>Brazil</td>\n      <td>Guangzhou Evergrande Taobao FC</td>\n      <td>€37M</td>\n      <td>€235K</td>\n      <td>Right</td>\n      <td>LDM</td>\n      <td>True</td>\n      <td>FC Barcelona</td>\n      <td>Jun 30, 2019</td>\n      <td>6'0</td>\n      <td>157lbs</td>\n      <td>NaN</td>\n    </tr>\n    <tr>\n      <th>166</th>\n      <td>212523</td>\n      <td>24</td>\n      <td>Brazil</td>\n      <td>Guangzhou Evergrande Taobao FC</td>\n      <td>€36.5M</td>\n      <td>€18K</td>\n      <td>Left</td>\n      <td>CAM</td>\n      <td>True</td>\n      <td>SL Benfica</td>\n      <td>Dec 31, 2018</td>\n      <td>6'3</td>\n      <td>176lbs</td>\n      <td>NaN</td>\n    </tr>\n    <tr>\n      <th>176</th>\n      <td>207410</td>\n      <td>24</td>\n      <td>Croatia</td>\n      <td>Chelsea</td>\n      <td>€35M</td>\n      <td>€165K</td>\n      <td>Right</td>\n      <td>LCM</td>\n      <td>True</td>\n      <td>Real Madrid</td>\n      <td>Jun 30, 2019</td>\n      <td>5'9</td>\n      <td>172lbs</td>\n      <td>NaN</td>\n    </tr>\n    <tr>\n      <th>332</th>\n      <td>216409</td>\n      <td>24</td>\n      <td>Italy</td>\n      <td>Inter</td>\n      <td>€22.5M</td>\n      <td>€57K</td>\n      <td>Left</td>\n      <td>RM</td>\n      <td>True</td>\n      <td>Sassuolo</td>\n      <td>Jun 30, 2019</td>\n      <td>5'7</td>\n      <td>148lbs</td>\n      <td>NaN</td>\n    </tr>\n    <tr>\n      <th>354</th>\n      <td>203890</td>\n      <td>26</td>\n      <td>Croatia</td>\n      <td>Inter</td>\n      <td>€18M</td>\n      <td>€57K</td>\n      <td>Right</td>\n      <td>RB</td>\n      <td>True</td>\n      <td>Atlético Madrid</td>\n      <td>Jun 30, 2019</td>\n      <td>5'11</td>\n      <td>168lbs</td>\n      <td>NaN</td>\n    </tr>\n    <tr>\n      <th>357</th>\n      <td>202685</td>\n      <td>27</td>\n      <td>Italy</td>\n      <td>Torino</td>\n      <td>€21M</td>\n      <td>€48K</td>\n      <td>Left</td>\n      <td>RS</td>\n      <td>True</td>\n      <td>Valencia CF</td>\n      <td>Jun 30, 2019</td>\n      <td>6'1</td>\n      <td>185lbs</td>\n      <td>NaN</td>\n    </tr>\n    <tr>\n      <th>427</th>\n      <td>226226</td>\n      <td>22</td>\n      <td>Argentina</td>\n      <td>Real Betis</td>\n      <td>€20M</td>\n      <td>€72K</td>\n      <td>Left</td>\n      <td>RCM</td>\n      <td>True</td>\n      <td>Paris Saint-Germain</td>\n      <td>Jun 30, 2019</td>\n      <td>5'9</td>\n      <td>154lbs</td>\n      <td>NaN</td>\n    </tr>\n    <tr>\n      <th>434</th>\n      <td>219809</td>\n      <td>23</td>\n      <td>France</td>\n      <td>Milan</td>\n      <td>€17M</td>\n      <td>€85K</td>\n      <td>Right</td>\n      <td>LCM</td>\n      <td>True</td>\n      <td>Chelsea</td>\n      <td>Jun 30, 2019</td>\n      <td>6'2</td>\n      <td>187lbs</td>\n      <td>NaN</td>\n    </tr>\n  </tbody>\n</table>\n</div>"
     },
     "execution_count": 22,
     "metadata": {},
     "output_type": "execute_result"
    }
   ],
   "source": [
    "dataframe[dataframe.Loaned == True].head(n=10)"
   ],
   "metadata": {
    "collapsed": false,
    "pycharm": {
     "name": "#%%\n"
    }
   }
  },
  {
   "cell_type": "markdown",
   "source": [
    "Posteriormente, se visualiza la siguiente intersection de los registros de acuerdo a los siguientes datos:\n",
    "- La columna **Loaned** en false\n",
    "- La columna **Loaned_from** con registros nulos o vacios."
   ],
   "metadata": {
    "collapsed": false,
    "pycharm": {
     "name": "#%% md\n"
    }
   }
  },
  {
   "cell_type": "code",
   "execution_count": 23,
   "outputs": [
    {
     "data": {
      "text/plain": "       ID  Age Nationality                 Club    Value   Wage  \\\n0  158023   31   Argentina         FC Barcelona  €110.5M  €565K   \n1   20801   33    Portugal             Juventus     €77M  €405K   \n2  190871   26      Brazil  Paris Saint-Germain  €118.5M  €290K   \n3  193080   27       Spain    Manchester United     €72M  €260K   \n4  192985   27     Belgium      Manchester City    €102M  €355K   \n5  183277   27     Belgium              Chelsea     €93M  €340K   \n6  177003   32     Croatia          Real Madrid     €67M  €420K   \n7  176580   31     Uruguay         FC Barcelona     €80M  €455K   \n8  155862   32       Spain          Real Madrid     €51M  €380K   \n9  200389   25    Slovenia      Atlético Madrid     €68M   €94K   \n\n  Preferred_foot Position  Loaned Loaned_from Contract_Valid_Until Height  \\\n0           Left       RF   False         NaN                 2021    5'7   \n1          Right       ST   False         NaN                 2022    6'2   \n2          Right       LW   False         NaN                 2022    5'9   \n3          Right       GK   False         NaN                 2020    6'4   \n4          Right      RCM   False         NaN                 2023   5'11   \n5          Right       LF   False         NaN                 2020    5'8   \n6          Right      RCM   False         NaN                 2020    5'8   \n7          Right       RS   False         NaN                 2021    6'0   \n8          Right      RCB   False         NaN                 2020    6'0   \n9          Right       GK   False         NaN                 2021    6'2   \n\n   Weight Release_clause  \n0  159lbs        €226.5M  \n1  183lbs        €127.1M  \n2  150lbs        €228.1M  \n3  168lbs        €138.6M  \n4  154lbs        €196.4M  \n5  163lbs        €172.1M  \n6  146lbs        €137.4M  \n7  190lbs          €164M  \n8  181lbs        €104.6M  \n9  192lbs        €144.5M  ",
      "text/html": "<div>\n<style scoped>\n    .dataframe tbody tr th:only-of-type {\n        vertical-align: middle;\n    }\n\n    .dataframe tbody tr th {\n        vertical-align: top;\n    }\n\n    .dataframe thead th {\n        text-align: right;\n    }\n</style>\n<table border=\"1\" class=\"dataframe\">\n  <thead>\n    <tr style=\"text-align: right;\">\n      <th></th>\n      <th>ID</th>\n      <th>Age</th>\n      <th>Nationality</th>\n      <th>Club</th>\n      <th>Value</th>\n      <th>Wage</th>\n      <th>Preferred_foot</th>\n      <th>Position</th>\n      <th>Loaned</th>\n      <th>Loaned_from</th>\n      <th>Contract_Valid_Until</th>\n      <th>Height</th>\n      <th>Weight</th>\n      <th>Release_clause</th>\n    </tr>\n  </thead>\n  <tbody>\n    <tr>\n      <th>0</th>\n      <td>158023</td>\n      <td>31</td>\n      <td>Argentina</td>\n      <td>FC Barcelona</td>\n      <td>€110.5M</td>\n      <td>€565K</td>\n      <td>Left</td>\n      <td>RF</td>\n      <td>False</td>\n      <td>NaN</td>\n      <td>2021</td>\n      <td>5'7</td>\n      <td>159lbs</td>\n      <td>€226.5M</td>\n    </tr>\n    <tr>\n      <th>1</th>\n      <td>20801</td>\n      <td>33</td>\n      <td>Portugal</td>\n      <td>Juventus</td>\n      <td>€77M</td>\n      <td>€405K</td>\n      <td>Right</td>\n      <td>ST</td>\n      <td>False</td>\n      <td>NaN</td>\n      <td>2022</td>\n      <td>6'2</td>\n      <td>183lbs</td>\n      <td>€127.1M</td>\n    </tr>\n    <tr>\n      <th>2</th>\n      <td>190871</td>\n      <td>26</td>\n      <td>Brazil</td>\n      <td>Paris Saint-Germain</td>\n      <td>€118.5M</td>\n      <td>€290K</td>\n      <td>Right</td>\n      <td>LW</td>\n      <td>False</td>\n      <td>NaN</td>\n      <td>2022</td>\n      <td>5'9</td>\n      <td>150lbs</td>\n      <td>€228.1M</td>\n    </tr>\n    <tr>\n      <th>3</th>\n      <td>193080</td>\n      <td>27</td>\n      <td>Spain</td>\n      <td>Manchester United</td>\n      <td>€72M</td>\n      <td>€260K</td>\n      <td>Right</td>\n      <td>GK</td>\n      <td>False</td>\n      <td>NaN</td>\n      <td>2020</td>\n      <td>6'4</td>\n      <td>168lbs</td>\n      <td>€138.6M</td>\n    </tr>\n    <tr>\n      <th>4</th>\n      <td>192985</td>\n      <td>27</td>\n      <td>Belgium</td>\n      <td>Manchester City</td>\n      <td>€102M</td>\n      <td>€355K</td>\n      <td>Right</td>\n      <td>RCM</td>\n      <td>False</td>\n      <td>NaN</td>\n      <td>2023</td>\n      <td>5'11</td>\n      <td>154lbs</td>\n      <td>€196.4M</td>\n    </tr>\n    <tr>\n      <th>5</th>\n      <td>183277</td>\n      <td>27</td>\n      <td>Belgium</td>\n      <td>Chelsea</td>\n      <td>€93M</td>\n      <td>€340K</td>\n      <td>Right</td>\n      <td>LF</td>\n      <td>False</td>\n      <td>NaN</td>\n      <td>2020</td>\n      <td>5'8</td>\n      <td>163lbs</td>\n      <td>€172.1M</td>\n    </tr>\n    <tr>\n      <th>6</th>\n      <td>177003</td>\n      <td>32</td>\n      <td>Croatia</td>\n      <td>Real Madrid</td>\n      <td>€67M</td>\n      <td>€420K</td>\n      <td>Right</td>\n      <td>RCM</td>\n      <td>False</td>\n      <td>NaN</td>\n      <td>2020</td>\n      <td>5'8</td>\n      <td>146lbs</td>\n      <td>€137.4M</td>\n    </tr>\n    <tr>\n      <th>7</th>\n      <td>176580</td>\n      <td>31</td>\n      <td>Uruguay</td>\n      <td>FC Barcelona</td>\n      <td>€80M</td>\n      <td>€455K</td>\n      <td>Right</td>\n      <td>RS</td>\n      <td>False</td>\n      <td>NaN</td>\n      <td>2021</td>\n      <td>6'0</td>\n      <td>190lbs</td>\n      <td>€164M</td>\n    </tr>\n    <tr>\n      <th>8</th>\n      <td>155862</td>\n      <td>32</td>\n      <td>Spain</td>\n      <td>Real Madrid</td>\n      <td>€51M</td>\n      <td>€380K</td>\n      <td>Right</td>\n      <td>RCB</td>\n      <td>False</td>\n      <td>NaN</td>\n      <td>2020</td>\n      <td>6'0</td>\n      <td>181lbs</td>\n      <td>€104.6M</td>\n    </tr>\n    <tr>\n      <th>9</th>\n      <td>200389</td>\n      <td>25</td>\n      <td>Slovenia</td>\n      <td>Atlético Madrid</td>\n      <td>€68M</td>\n      <td>€94K</td>\n      <td>Right</td>\n      <td>GK</td>\n      <td>False</td>\n      <td>NaN</td>\n      <td>2021</td>\n      <td>6'2</td>\n      <td>192lbs</td>\n      <td>€144.5M</td>\n    </tr>\n  </tbody>\n</table>\n</div>"
     },
     "execution_count": 23,
     "metadata": {},
     "output_type": "execute_result"
    }
   ],
   "source": [
    "dataframe[dataframe.Loaned == False].head(n=10)"
   ],
   "metadata": {
    "collapsed": false,
    "pycharm": {
     "name": "#%%\n"
    }
   }
  },
  {
   "cell_type": "markdown",
   "source": [
    "Partiendo de lo anterior, se puede corroborar de forma consistente que la operación de reemplazamiento de los registros de la columna **Loaned** ha sido lo esperado."
   ],
   "metadata": {
    "collapsed": false,
    "pycharm": {
     "name": "#%% md\n"
    }
   }
  },
  {
   "cell_type": "markdown",
   "source": [
    "Tomando lo mencionado, se procede a eliminar la columna **Loaned_from** debido a que su información se incluye en la columna **Loaned** de forma consistente."
   ],
   "metadata": {
    "collapsed": false,
    "pycharm": {
     "name": "#%% md\n"
    }
   }
  },
  {
   "cell_type": "code",
   "execution_count": 24,
   "outputs": [],
   "source": [
    "dataframe.drop(['Loaned_from'], axis=1, inplace=True)"
   ],
   "metadata": {
    "collapsed": false,
    "pycharm": {
     "name": "#%%\n"
    }
   }
  },
  {
   "cell_type": "markdown",
   "source": [
    "Seguido a esto, se visualiza el dataframe."
   ],
   "metadata": {
    "collapsed": false,
    "pycharm": {
     "name": "#%% md\n"
    }
   }
  },
  {
   "cell_type": "code",
   "execution_count": 25,
   "outputs": [
    {
     "data": {
      "text/plain": "           ID  Age Nationality                 Club    Value   Wage  \\\n0      158023   31   Argentina         FC Barcelona  €110.5M  €565K   \n1       20801   33    Portugal             Juventus     €77M  €405K   \n2      190871   26      Brazil  Paris Saint-Germain  €118.5M  €290K   \n3      193080   27       Spain    Manchester United     €72M  €260K   \n4      192985   27     Belgium      Manchester City    €102M  €355K   \n...       ...  ...         ...                  ...      ...    ...   \n18202  238813   19     England      Crewe Alexandra     €60K    €1K   \n18203  243165   19      Sweden       Trelleborgs FF     €60K    €1K   \n18204  241638   16     England     Cambridge United     €60K    €1K   \n18205  246268   17     England      Tranmere Rovers     €60K    €1K   \n18206  246269   16     England      Tranmere Rovers     €60K    €1K   \n\n      Preferred_foot Position  Loaned Contract_Valid_Until Height  Weight  \\\n0               Left       RF   False                 2021    5'7  159lbs   \n1              Right       ST   False                 2022    6'2  183lbs   \n2              Right       LW   False                 2022    5'9  150lbs   \n3              Right       GK   False                 2020    6'4  168lbs   \n4              Right      RCM   False                 2023   5'11  154lbs   \n...              ...      ...     ...                  ...    ...     ...   \n18202          Right       CM   False                 2019    5'9  134lbs   \n18203          Right       ST   False                 2020    6'3  170lbs   \n18204          Right       ST   False                 2021    5'8  148lbs   \n18205          Right       RW   False                 2019   5'10  154lbs   \n18206          Right       CM   False                 2019   5'10  176lbs   \n\n      Release_clause  \n0            €226.5M  \n1            €127.1M  \n2            €228.1M  \n3            €138.6M  \n4            €196.4M  \n...              ...  \n18202          €143K  \n18203          €113K  \n18204          €165K  \n18205          €143K  \n18206          €165K  \n\n[17918 rows x 13 columns]",
      "text/html": "<div>\n<style scoped>\n    .dataframe tbody tr th:only-of-type {\n        vertical-align: middle;\n    }\n\n    .dataframe tbody tr th {\n        vertical-align: top;\n    }\n\n    .dataframe thead th {\n        text-align: right;\n    }\n</style>\n<table border=\"1\" class=\"dataframe\">\n  <thead>\n    <tr style=\"text-align: right;\">\n      <th></th>\n      <th>ID</th>\n      <th>Age</th>\n      <th>Nationality</th>\n      <th>Club</th>\n      <th>Value</th>\n      <th>Wage</th>\n      <th>Preferred_foot</th>\n      <th>Position</th>\n      <th>Loaned</th>\n      <th>Contract_Valid_Until</th>\n      <th>Height</th>\n      <th>Weight</th>\n      <th>Release_clause</th>\n    </tr>\n  </thead>\n  <tbody>\n    <tr>\n      <th>0</th>\n      <td>158023</td>\n      <td>31</td>\n      <td>Argentina</td>\n      <td>FC Barcelona</td>\n      <td>€110.5M</td>\n      <td>€565K</td>\n      <td>Left</td>\n      <td>RF</td>\n      <td>False</td>\n      <td>2021</td>\n      <td>5'7</td>\n      <td>159lbs</td>\n      <td>€226.5M</td>\n    </tr>\n    <tr>\n      <th>1</th>\n      <td>20801</td>\n      <td>33</td>\n      <td>Portugal</td>\n      <td>Juventus</td>\n      <td>€77M</td>\n      <td>€405K</td>\n      <td>Right</td>\n      <td>ST</td>\n      <td>False</td>\n      <td>2022</td>\n      <td>6'2</td>\n      <td>183lbs</td>\n      <td>€127.1M</td>\n    </tr>\n    <tr>\n      <th>2</th>\n      <td>190871</td>\n      <td>26</td>\n      <td>Brazil</td>\n      <td>Paris Saint-Germain</td>\n      <td>€118.5M</td>\n      <td>€290K</td>\n      <td>Right</td>\n      <td>LW</td>\n      <td>False</td>\n      <td>2022</td>\n      <td>5'9</td>\n      <td>150lbs</td>\n      <td>€228.1M</td>\n    </tr>\n    <tr>\n      <th>3</th>\n      <td>193080</td>\n      <td>27</td>\n      <td>Spain</td>\n      <td>Manchester United</td>\n      <td>€72M</td>\n      <td>€260K</td>\n      <td>Right</td>\n      <td>GK</td>\n      <td>False</td>\n      <td>2020</td>\n      <td>6'4</td>\n      <td>168lbs</td>\n      <td>€138.6M</td>\n    </tr>\n    <tr>\n      <th>4</th>\n      <td>192985</td>\n      <td>27</td>\n      <td>Belgium</td>\n      <td>Manchester City</td>\n      <td>€102M</td>\n      <td>€355K</td>\n      <td>Right</td>\n      <td>RCM</td>\n      <td>False</td>\n      <td>2023</td>\n      <td>5'11</td>\n      <td>154lbs</td>\n      <td>€196.4M</td>\n    </tr>\n    <tr>\n      <th>...</th>\n      <td>...</td>\n      <td>...</td>\n      <td>...</td>\n      <td>...</td>\n      <td>...</td>\n      <td>...</td>\n      <td>...</td>\n      <td>...</td>\n      <td>...</td>\n      <td>...</td>\n      <td>...</td>\n      <td>...</td>\n      <td>...</td>\n    </tr>\n    <tr>\n      <th>18202</th>\n      <td>238813</td>\n      <td>19</td>\n      <td>England</td>\n      <td>Crewe Alexandra</td>\n      <td>€60K</td>\n      <td>€1K</td>\n      <td>Right</td>\n      <td>CM</td>\n      <td>False</td>\n      <td>2019</td>\n      <td>5'9</td>\n      <td>134lbs</td>\n      <td>€143K</td>\n    </tr>\n    <tr>\n      <th>18203</th>\n      <td>243165</td>\n      <td>19</td>\n      <td>Sweden</td>\n      <td>Trelleborgs FF</td>\n      <td>€60K</td>\n      <td>€1K</td>\n      <td>Right</td>\n      <td>ST</td>\n      <td>False</td>\n      <td>2020</td>\n      <td>6'3</td>\n      <td>170lbs</td>\n      <td>€113K</td>\n    </tr>\n    <tr>\n      <th>18204</th>\n      <td>241638</td>\n      <td>16</td>\n      <td>England</td>\n      <td>Cambridge United</td>\n      <td>€60K</td>\n      <td>€1K</td>\n      <td>Right</td>\n      <td>ST</td>\n      <td>False</td>\n      <td>2021</td>\n      <td>5'8</td>\n      <td>148lbs</td>\n      <td>€165K</td>\n    </tr>\n    <tr>\n      <th>18205</th>\n      <td>246268</td>\n      <td>17</td>\n      <td>England</td>\n      <td>Tranmere Rovers</td>\n      <td>€60K</td>\n      <td>€1K</td>\n      <td>Right</td>\n      <td>RW</td>\n      <td>False</td>\n      <td>2019</td>\n      <td>5'10</td>\n      <td>154lbs</td>\n      <td>€143K</td>\n    </tr>\n    <tr>\n      <th>18206</th>\n      <td>246269</td>\n      <td>16</td>\n      <td>England</td>\n      <td>Tranmere Rovers</td>\n      <td>€60K</td>\n      <td>€1K</td>\n      <td>Right</td>\n      <td>CM</td>\n      <td>False</td>\n      <td>2019</td>\n      <td>5'10</td>\n      <td>176lbs</td>\n      <td>€165K</td>\n    </tr>\n  </tbody>\n</table>\n<p>17918 rows × 13 columns</p>\n</div>"
     },
     "execution_count": 25,
     "metadata": {},
     "output_type": "execute_result"
    }
   ],
   "source": [
    "dataframe"
   ],
   "metadata": {
    "collapsed": false,
    "pycharm": {
     "name": "#%%\n"
    }
   }
  },
  {
   "cell_type": "markdown",
   "source": [
    "Nuevamente, se procede a realizar una comprobación de los registros para corroborar en cuantos aun persisten registros nulos o vacios."
   ],
   "metadata": {
    "collapsed": false,
    "pycharm": {
     "name": "#%% md\n"
    }
   }
  },
  {
   "cell_type": "code",
   "execution_count": 26,
   "outputs": [
    {
     "data": {
      "text/plain": "                      Datos nulos\nID                              0\nAge                             0\nNationality                     0\nClub                            0\nValue                           0\nWage                            0\nPreferred_foot                  0\nPosition                        0\nLoaned                          0\nContract_Valid_Until            0\nHeight                          0\nWeight                          0\nRelease_clause               1275",
      "text/html": "<div>\n<style scoped>\n    .dataframe tbody tr th:only-of-type {\n        vertical-align: middle;\n    }\n\n    .dataframe tbody tr th {\n        vertical-align: top;\n    }\n\n    .dataframe thead th {\n        text-align: right;\n    }\n</style>\n<table border=\"1\" class=\"dataframe\">\n  <thead>\n    <tr style=\"text-align: right;\">\n      <th></th>\n      <th>Datos nulos</th>\n    </tr>\n  </thead>\n  <tbody>\n    <tr>\n      <th>ID</th>\n      <td>0</td>\n    </tr>\n    <tr>\n      <th>Age</th>\n      <td>0</td>\n    </tr>\n    <tr>\n      <th>Nationality</th>\n      <td>0</td>\n    </tr>\n    <tr>\n      <th>Club</th>\n      <td>0</td>\n    </tr>\n    <tr>\n      <th>Value</th>\n      <td>0</td>\n    </tr>\n    <tr>\n      <th>Wage</th>\n      <td>0</td>\n    </tr>\n    <tr>\n      <th>Preferred_foot</th>\n      <td>0</td>\n    </tr>\n    <tr>\n      <th>Position</th>\n      <td>0</td>\n    </tr>\n    <tr>\n      <th>Loaned</th>\n      <td>0</td>\n    </tr>\n    <tr>\n      <th>Contract_Valid_Until</th>\n      <td>0</td>\n    </tr>\n    <tr>\n      <th>Height</th>\n      <td>0</td>\n    </tr>\n    <tr>\n      <th>Weight</th>\n      <td>0</td>\n    </tr>\n    <tr>\n      <th>Release_clause</th>\n      <td>1275</td>\n    </tr>\n  </tbody>\n</table>\n</div>"
     },
     "execution_count": 26,
     "metadata": {},
     "output_type": "execute_result"
    }
   ],
   "source": [
    "pd.DataFrame(dataframe.isnull().sum(), columns=['Datos nulos'])"
   ],
   "metadata": {
    "collapsed": false,
    "pycharm": {
     "name": "#%%\n"
    }
   }
  },
  {
   "cell_type": "markdown",
   "source": [
    "**Nota importante:** se puede observar que solamnente la columna **Release_clause** es la que contiene valores nulos o vacios."
   ],
   "metadata": {
    "collapsed": false,
    "pycharm": {
     "name": "#%% md\n"
    }
   }
  },
  {
   "cell_type": "markdown",
   "source": [
    "Partiendo del contexto, los valores nulos o vacios existentes en los registros de la columna **Release_clause** puede inferir a que sea una cláusula de recesión de 0 euros, se procede a reemplazar los valores de los registros por una cadena \"0\"."
   ],
   "metadata": {
    "collapsed": false,
    "pycharm": {
     "name": "#%% md\n"
    }
   }
  },
  {
   "cell_type": "code",
   "execution_count": 27,
   "outputs": [],
   "source": [
    "dataframe.loc[dataframe.Release_clause.isnull(),'Release_clause']='0'"
   ],
   "metadata": {
    "collapsed": false,
    "pycharm": {
     "name": "#%%\n"
    }
   }
  },
  {
   "cell_type": "markdown",
   "source": [
    "Posteriormente, se comprueba que sean los mismos registros presentes en la columna **Release_clause** a los que se hayan reemplazado su valor nulo con la cadena \"0\"."
   ],
   "metadata": {
    "collapsed": false,
    "pycharm": {
     "name": "#%% md\n"
    }
   }
  },
  {
   "cell_type": "code",
   "execution_count": 28,
   "outputs": [
    {
     "data": {
      "text/plain": "           ID  Age Nationality                            Club   Value   Wage  \\\n28     198710   26    Colombia               FC Bayern München  €69.5M  €315K   \n38     167664   30   Argentina                           Milan    €57M  €245K   \n91     187961   29      Brazil  Guangzhou Evergrande Taobao FC    €37M  €235K   \n166    212523   24      Brazil  Guangzhou Evergrande Taobao FC  €36.5M   €18K   \n176    207410   24     Croatia                         Chelsea    €35M  €165K   \n...       ...  ...         ...                             ...     ...    ...   \n17979  241341   21    China PR             Guizhou Hengfeng FC    €60K    €2K   \n18026  241444   21    China PR             Guizhou Hengfeng FC    €50K    €2K   \n18031  243506   20    China PR                  Stabæk Fotball    €40K    €2K   \n18056  244872   19       Italy                          Ascoli    €60K    €3K   \n18183   53748   44     England                Cambridge United      €0    €1K   \n\n      Preferred_foot Position  Loaned Contract_Valid_Until Height  Weight  \\\n28              Left      LAM    True         Jun 30, 2019   5'11  172lbs   \n38             Right       LS    True         Jun 30, 2019    6'1  196lbs   \n91             Right      LDM    True         Jun 30, 2019    6'0  157lbs   \n166             Left      CAM    True         Dec 31, 2018    6'3  176lbs   \n176            Right      LCM    True         Jun 30, 2019    5'9  172lbs   \n...              ...      ...     ...                  ...    ...     ...   \n17979          Right       CM    True         Dec 31, 2018    6'0  172lbs   \n18026          Right       LM    True         Dec 31, 2018   5'10  143lbs   \n18031          Right       RB    True         Dec 31, 2018    5'7  143lbs   \n18056           Left       CM    True         Jun 30, 2019   5'10  143lbs   \n18183          Right       GK   False                 2023    6'2  190lbs   \n\n      Release_clause  \n28                 0  \n38                 0  \n91                 0  \n166                0  \n176                0  \n...              ...  \n17979              0  \n18026              0  \n18031              0  \n18056              0  \n18183              0  \n\n[1275 rows x 13 columns]",
      "text/html": "<div>\n<style scoped>\n    .dataframe tbody tr th:only-of-type {\n        vertical-align: middle;\n    }\n\n    .dataframe tbody tr th {\n        vertical-align: top;\n    }\n\n    .dataframe thead th {\n        text-align: right;\n    }\n</style>\n<table border=\"1\" class=\"dataframe\">\n  <thead>\n    <tr style=\"text-align: right;\">\n      <th></th>\n      <th>ID</th>\n      <th>Age</th>\n      <th>Nationality</th>\n      <th>Club</th>\n      <th>Value</th>\n      <th>Wage</th>\n      <th>Preferred_foot</th>\n      <th>Position</th>\n      <th>Loaned</th>\n      <th>Contract_Valid_Until</th>\n      <th>Height</th>\n      <th>Weight</th>\n      <th>Release_clause</th>\n    </tr>\n  </thead>\n  <tbody>\n    <tr>\n      <th>28</th>\n      <td>198710</td>\n      <td>26</td>\n      <td>Colombia</td>\n      <td>FC Bayern München</td>\n      <td>€69.5M</td>\n      <td>€315K</td>\n      <td>Left</td>\n      <td>LAM</td>\n      <td>True</td>\n      <td>Jun 30, 2019</td>\n      <td>5'11</td>\n      <td>172lbs</td>\n      <td>0</td>\n    </tr>\n    <tr>\n      <th>38</th>\n      <td>167664</td>\n      <td>30</td>\n      <td>Argentina</td>\n      <td>Milan</td>\n      <td>€57M</td>\n      <td>€245K</td>\n      <td>Right</td>\n      <td>LS</td>\n      <td>True</td>\n      <td>Jun 30, 2019</td>\n      <td>6'1</td>\n      <td>196lbs</td>\n      <td>0</td>\n    </tr>\n    <tr>\n      <th>91</th>\n      <td>187961</td>\n      <td>29</td>\n      <td>Brazil</td>\n      <td>Guangzhou Evergrande Taobao FC</td>\n      <td>€37M</td>\n      <td>€235K</td>\n      <td>Right</td>\n      <td>LDM</td>\n      <td>True</td>\n      <td>Jun 30, 2019</td>\n      <td>6'0</td>\n      <td>157lbs</td>\n      <td>0</td>\n    </tr>\n    <tr>\n      <th>166</th>\n      <td>212523</td>\n      <td>24</td>\n      <td>Brazil</td>\n      <td>Guangzhou Evergrande Taobao FC</td>\n      <td>€36.5M</td>\n      <td>€18K</td>\n      <td>Left</td>\n      <td>CAM</td>\n      <td>True</td>\n      <td>Dec 31, 2018</td>\n      <td>6'3</td>\n      <td>176lbs</td>\n      <td>0</td>\n    </tr>\n    <tr>\n      <th>176</th>\n      <td>207410</td>\n      <td>24</td>\n      <td>Croatia</td>\n      <td>Chelsea</td>\n      <td>€35M</td>\n      <td>€165K</td>\n      <td>Right</td>\n      <td>LCM</td>\n      <td>True</td>\n      <td>Jun 30, 2019</td>\n      <td>5'9</td>\n      <td>172lbs</td>\n      <td>0</td>\n    </tr>\n    <tr>\n      <th>...</th>\n      <td>...</td>\n      <td>...</td>\n      <td>...</td>\n      <td>...</td>\n      <td>...</td>\n      <td>...</td>\n      <td>...</td>\n      <td>...</td>\n      <td>...</td>\n      <td>...</td>\n      <td>...</td>\n      <td>...</td>\n      <td>...</td>\n    </tr>\n    <tr>\n      <th>17979</th>\n      <td>241341</td>\n      <td>21</td>\n      <td>China PR</td>\n      <td>Guizhou Hengfeng FC</td>\n      <td>€60K</td>\n      <td>€2K</td>\n      <td>Right</td>\n      <td>CM</td>\n      <td>True</td>\n      <td>Dec 31, 2018</td>\n      <td>6'0</td>\n      <td>172lbs</td>\n      <td>0</td>\n    </tr>\n    <tr>\n      <th>18026</th>\n      <td>241444</td>\n      <td>21</td>\n      <td>China PR</td>\n      <td>Guizhou Hengfeng FC</td>\n      <td>€50K</td>\n      <td>€2K</td>\n      <td>Right</td>\n      <td>LM</td>\n      <td>True</td>\n      <td>Dec 31, 2018</td>\n      <td>5'10</td>\n      <td>143lbs</td>\n      <td>0</td>\n    </tr>\n    <tr>\n      <th>18031</th>\n      <td>243506</td>\n      <td>20</td>\n      <td>China PR</td>\n      <td>Stabæk Fotball</td>\n      <td>€40K</td>\n      <td>€2K</td>\n      <td>Right</td>\n      <td>RB</td>\n      <td>True</td>\n      <td>Dec 31, 2018</td>\n      <td>5'7</td>\n      <td>143lbs</td>\n      <td>0</td>\n    </tr>\n    <tr>\n      <th>18056</th>\n      <td>244872</td>\n      <td>19</td>\n      <td>Italy</td>\n      <td>Ascoli</td>\n      <td>€60K</td>\n      <td>€3K</td>\n      <td>Left</td>\n      <td>CM</td>\n      <td>True</td>\n      <td>Jun 30, 2019</td>\n      <td>5'10</td>\n      <td>143lbs</td>\n      <td>0</td>\n    </tr>\n    <tr>\n      <th>18183</th>\n      <td>53748</td>\n      <td>44</td>\n      <td>England</td>\n      <td>Cambridge United</td>\n      <td>€0</td>\n      <td>€1K</td>\n      <td>Right</td>\n      <td>GK</td>\n      <td>False</td>\n      <td>2023</td>\n      <td>6'2</td>\n      <td>190lbs</td>\n      <td>0</td>\n    </tr>\n  </tbody>\n</table>\n<p>1275 rows × 13 columns</p>\n</div>"
     },
     "execution_count": 28,
     "metadata": {},
     "output_type": "execute_result"
    }
   ],
   "source": [
    "dataframe[dataframe.Release_clause =='0']"
   ],
   "metadata": {
    "collapsed": false,
    "pycharm": {
     "name": "#%%\n"
    }
   }
  },
  {
   "cell_type": "markdown",
   "source": [
    "**Nota importante:** se puede observar que es la misma cantidad de los valores nulos o vacios iniciales de la columna **Release_clause** a los que se reemplazo con la cadena \"0\"."
   ],
   "metadata": {
    "collapsed": false,
    "pycharm": {
     "name": "#%% md\n"
    }
   }
  },
  {
   "cell_type": "markdown",
   "source": [
    "Nuevamente, se procede a realizar una comprobación de los registros para corroborar en cuantos aun persisten registros nulos o vacios."
   ],
   "metadata": {
    "collapsed": false,
    "pycharm": {
     "name": "#%% md\n"
    }
   }
  },
  {
   "cell_type": "code",
   "execution_count": 29,
   "outputs": [
    {
     "data": {
      "text/plain": "                      Datos nulos\nID                              0\nAge                             0\nNationality                     0\nClub                            0\nValue                           0\nWage                            0\nPreferred_foot                  0\nPosition                        0\nLoaned                          0\nContract_Valid_Until            0\nHeight                          0\nWeight                          0\nRelease_clause                  0",
      "text/html": "<div>\n<style scoped>\n    .dataframe tbody tr th:only-of-type {\n        vertical-align: middle;\n    }\n\n    .dataframe tbody tr th {\n        vertical-align: top;\n    }\n\n    .dataframe thead th {\n        text-align: right;\n    }\n</style>\n<table border=\"1\" class=\"dataframe\">\n  <thead>\n    <tr style=\"text-align: right;\">\n      <th></th>\n      <th>Datos nulos</th>\n    </tr>\n  </thead>\n  <tbody>\n    <tr>\n      <th>ID</th>\n      <td>0</td>\n    </tr>\n    <tr>\n      <th>Age</th>\n      <td>0</td>\n    </tr>\n    <tr>\n      <th>Nationality</th>\n      <td>0</td>\n    </tr>\n    <tr>\n      <th>Club</th>\n      <td>0</td>\n    </tr>\n    <tr>\n      <th>Value</th>\n      <td>0</td>\n    </tr>\n    <tr>\n      <th>Wage</th>\n      <td>0</td>\n    </tr>\n    <tr>\n      <th>Preferred_foot</th>\n      <td>0</td>\n    </tr>\n    <tr>\n      <th>Position</th>\n      <td>0</td>\n    </tr>\n    <tr>\n      <th>Loaned</th>\n      <td>0</td>\n    </tr>\n    <tr>\n      <th>Contract_Valid_Until</th>\n      <td>0</td>\n    </tr>\n    <tr>\n      <th>Height</th>\n      <td>0</td>\n    </tr>\n    <tr>\n      <th>Weight</th>\n      <td>0</td>\n    </tr>\n    <tr>\n      <th>Release_clause</th>\n      <td>0</td>\n    </tr>\n  </tbody>\n</table>\n</div>"
     },
     "execution_count": 29,
     "metadata": {},
     "output_type": "execute_result"
    }
   ],
   "source": [
    "pd.DataFrame(dataframe.isnull().sum(), columns=['Datos nulos'])"
   ],
   "metadata": {
    "collapsed": false,
    "pycharm": {
     "name": "#%%\n"
    }
   }
  },
  {
   "cell_type": "markdown",
   "source": [
    "**Nota importante:** se puede observar que ya no existen todos los valores nulos o vacios en todas las columnas del dataframe."
   ],
   "metadata": {
    "collapsed": false,
    "pycharm": {
     "name": "#%% md\n"
    }
   }
  },
  {
   "cell_type": "markdown",
   "source": [
    "Una vez modificado los valores nulos o vacios, se procede a se analizar el tipo de dato de todas las columnas del dataframe."
   ],
   "metadata": {
    "collapsed": false,
    "pycharm": {
     "name": "#%% md\n"
    }
   }
  },
  {
   "cell_type": "code",
   "execution_count": 30,
   "outputs": [
    {
     "data": {
      "text/plain": "                     Tipo de dato\nID                         uint32\nAge                         uint8\nNationality                object\nClub                       object\nValue                      object\nWage                       object\nPreferred_foot             object\nPosition                   object\nLoaned                       bool\nContract_Valid_Until       object\nHeight                     object\nWeight                     object\nRelease_clause             object",
      "text/html": "<div>\n<style scoped>\n    .dataframe tbody tr th:only-of-type {\n        vertical-align: middle;\n    }\n\n    .dataframe tbody tr th {\n        vertical-align: top;\n    }\n\n    .dataframe thead th {\n        text-align: right;\n    }\n</style>\n<table border=\"1\" class=\"dataframe\">\n  <thead>\n    <tr style=\"text-align: right;\">\n      <th></th>\n      <th>Tipo de dato</th>\n    </tr>\n  </thead>\n  <tbody>\n    <tr>\n      <th>ID</th>\n      <td>uint32</td>\n    </tr>\n    <tr>\n      <th>Age</th>\n      <td>uint8</td>\n    </tr>\n    <tr>\n      <th>Nationality</th>\n      <td>object</td>\n    </tr>\n    <tr>\n      <th>Club</th>\n      <td>object</td>\n    </tr>\n    <tr>\n      <th>Value</th>\n      <td>object</td>\n    </tr>\n    <tr>\n      <th>Wage</th>\n      <td>object</td>\n    </tr>\n    <tr>\n      <th>Preferred_foot</th>\n      <td>object</td>\n    </tr>\n    <tr>\n      <th>Position</th>\n      <td>object</td>\n    </tr>\n    <tr>\n      <th>Loaned</th>\n      <td>bool</td>\n    </tr>\n    <tr>\n      <th>Contract_Valid_Until</th>\n      <td>object</td>\n    </tr>\n    <tr>\n      <th>Height</th>\n      <td>object</td>\n    </tr>\n    <tr>\n      <th>Weight</th>\n      <td>object</td>\n    </tr>\n    <tr>\n      <th>Release_clause</th>\n      <td>object</td>\n    </tr>\n  </tbody>\n</table>\n</div>"
     },
     "execution_count": 30,
     "metadata": {},
     "output_type": "execute_result"
    }
   ],
   "source": [
    "pd.DataFrame(dataframe.dtypes, columns=['Tipo de dato'])"
   ],
   "metadata": {
    "collapsed": false,
    "pycharm": {
     "name": "#%%\n"
    }
   }
  },
  {
   "cell_type": "markdown",
   "source": [
    "**Nota importante:** se puede observar que todas las columnas corresponden a su tipo de dato con la excepción de las columnas **Value**, **Wage**, **Height** y **Release_clause** son tipo cadena (object), cuando realmente estos deberian ser de tipo numérico (int64)."
   ],
   "metadata": {
    "collapsed": false,
    "pycharm": {
     "name": "#%% md\n"
    }
   }
  },
  {
   "cell_type": "markdown",
   "source": [
    "Como primer paso, se procede a convertir las columnas **Value**, **Wage** y **Release_clause** que representan una cantidad de dinero evaluado en euros. Estos contienen de forma adicional lo siguiente:\n",
    "- Signo de euro (€).\n",
    "- Posfijo de miles (K) o millones (M)."
   ],
   "metadata": {
    "collapsed": false,
    "pycharm": {
     "name": "#%% md\n"
    }
   }
  },
  {
   "cell_type": "markdown",
   "source": [
    "Seguidamente, se comprueba que todos los registros posean un formato antes mencionado."
   ],
   "metadata": {
    "collapsed": false,
    "pycharm": {
     "name": "#%% md\n"
    }
   }
  },
  {
   "cell_type": "code",
   "execution_count": 31,
   "outputs": [
    {
     "data": {
      "text/plain": "True"
     },
     "execution_count": 31,
     "metadata": {},
     "output_type": "execute_result"
    }
   ],
   "source": [
    "all([re.search('€*(\\d*.+\\d*[MK]*|0)', value) for tupla in dataframe[['Value', 'Wage', 'Release_clause']] for value in tupla])"
   ],
   "metadata": {
    "collapsed": false,
    "pycharm": {
     "name": "#%%\n"
    }
   }
  },
  {
   "cell_type": "markdown",
   "source": [
    "Una vez comprobado, se procede a eliminar los caracteres innecesarios y a convertir de forma inmediata los valores de miles o millones asi como tambien definir el nuevo valor de tipo flotante para los registros existentes de las columnas **Value**, **Wage** y **Release Clause**."
   ],
   "metadata": {
    "collapsed": false,
    "pycharm": {
     "name": "#%% md\n"
    }
   }
  },
  {
   "cell_type": "code",
   "execution_count": 32,
   "outputs": [],
   "source": [
    "dataframe[['Value','Wage', 'Release_clause']] = dataframe[['Value','Wage', 'Release_clause']].apply(lambda x: [tupla[1]*1000 if ('M' in tupla[0]) else tupla[1] for tupla in [(value, float(re.findall('(\\d+(?:\\.\\d+)?)', value)[0])) for value in x]])"
   ],
   "metadata": {
    "collapsed": false,
    "pycharm": {
     "name": "#%%\n"
    }
   }
  },
  {
   "cell_type": "markdown",
   "source": [
    "Como segundo paso, se procede a convertir las columna **Weight** que representan una cantidad de peso evaluado en libras. Estos contienen de forma adicional lo siguiente:\n",
    "- Posfijo de libra (lbs)."
   ],
   "metadata": {
    "collapsed": false,
    "pycharm": {
     "name": "#%% md\n"
    }
   }
  },
  {
   "cell_type": "markdown",
   "source": [
    "Posteriormente, se comprueba que todos los registros posean un formato antes mencionado."
   ],
   "metadata": {
    "collapsed": false,
    "pycharm": {
     "name": "#%% md\n"
    }
   }
  },
  {
   "cell_type": "markdown",
   "source": [
    "Validamos que cumpla la siguiente expresión regular"
   ],
   "metadata": {
    "collapsed": false,
    "pycharm": {
     "name": "#%% md\n"
    }
   }
  },
  {
   "cell_type": "code",
   "execution_count": 33,
   "outputs": [
    {
     "data": {
      "text/plain": "True"
     },
     "execution_count": 33,
     "metadata": {},
     "output_type": "execute_result"
    }
   ],
   "source": [
    "all([re.findall('(\\d+(?:\\.\\d+)?)', value) for value in dataframe.Weight])"
   ],
   "metadata": {
    "collapsed": false,
    "pycharm": {
     "name": "#%%\n"
    }
   }
  },
  {
   "cell_type": "markdown",
   "source": [
    "Una vez validado, comprobaremos cuál es el elemento con la longitud máxima para asignar el tipo de dato óptimo para la variable"
   ],
   "metadata": {
    "collapsed": false,
    "pycharm": {
     "name": "#%% md\n"
    }
   }
  },
  {
   "cell_type": "code",
   "execution_count": 34,
   "outputs": [
    {
     "data": {
      "text/plain": "3"
     },
     "execution_count": 34,
     "metadata": {},
     "output_type": "execute_result"
    }
   ],
   "source": [
    "max([len(re.findall('(\\d+(?:\\.\\d+)?)', value)[0]) for value in dataframe.Weight])"
   ],
   "metadata": {
    "collapsed": false,
    "pycharm": {
     "name": "#%%\n"
    }
   }
  },
  {
   "cell_type": "markdown",
   "source": [
    "Comprobando que la cadena de texto numérica a convertir es de longitud 3 en el caso máximo, se nos permitiría emplear float16 sin problema"
   ],
   "metadata": {
    "collapsed": false,
    "pycharm": {
     "name": "#%% md\n"
    }
   }
  },
  {
   "cell_type": "markdown",
   "source": [
    "Una vez comprobado, se procede a eliminar los caracteres innecesarios y a definir el nuevo valor de tipo flotante de la columna **Weigth**."
   ],
   "metadata": {
    "collapsed": false,
    "pycharm": {
     "name": "#%% md\n"
    }
   }
  },
  {
   "cell_type": "code",
   "execution_count": 35,
   "outputs": [],
   "source": [
    "dataframe.Weight = dataframe.Weight.apply(lambda x: np.uint8(re.findall('(\\d+(?:\\.\\d+)?)', x)[0]))"
   ],
   "metadata": {
    "collapsed": false,
    "pycharm": {
     "name": "#%%\n"
    }
   }
  },
  {
   "cell_type": "markdown",
   "source": [
    "Como tercer paso, se procede a convertir las columna **Height** que representan una cantidad de altura evaluado en pulgadas. Estos contienen de forma adicional lo siguiente:\n",
    "- Infijo de pulgadas (')."
   ],
   "metadata": {
    "collapsed": false,
    "pycharm": {
     "name": "#%% md\n"
    }
   }
  },
  {
   "cell_type": "markdown",
   "source": [
    "Seguidamente, se comprueba que todos los registros posean un formato antes mencionado."
   ],
   "metadata": {
    "collapsed": false,
    "pycharm": {
     "name": "#%% md\n"
    }
   }
  },
  {
   "cell_type": "code",
   "execution_count": 36,
   "outputs": [
    {
     "data": {
      "text/plain": "False"
     },
     "execution_count": 36,
     "metadata": {},
     "output_type": "execute_result"
    }
   ],
   "source": [
    "all([re.findall('(\\d\\'\\d{2})', value) for value in dataframe.Height])"
   ],
   "metadata": {
    "collapsed": false,
    "pycharm": {
     "name": "#%%\n"
    }
   }
  },
  {
   "cell_type": "markdown",
   "source": [
    "Una vez comprobado, se procede a reemplazar el caracter de pulgada, convertir y definir el nuevo valor de tipo flotante de la columna **Heigth**."
   ],
   "metadata": {
    "collapsed": false,
    "pycharm": {
     "name": "#%% md\n"
    }
   }
  },
  {
   "cell_type": "markdown",
   "source": [
    "Verificar que no haya algún jugador con datos erróneos de\n"
   ],
   "metadata": {
    "collapsed": false,
    "pycharm": {
     "name": "#%% md\n"
    }
   }
  },
  {
   "cell_type": "code",
   "execution_count": 37,
   "outputs": [],
   "source": [
    "dataframe.Height = [np.uint8(y[0]*12+y[1]) for y in [[np.uint8(y) for y in x.split(\"'\")] for x in dataframe.Height]]"
   ],
   "metadata": {
    "collapsed": false,
    "pycharm": {
     "name": "#%%\n"
    }
   }
  },
  {
   "cell_type": "markdown",
   "source": [
    "**Nota importante:** la conversión aplicada es necesaria para poder interpretar de forma correcta el valor de altura compuesta."
   ],
   "metadata": {
    "collapsed": false,
    "pycharm": {
     "name": "#%% md\n"
    }
   }
  },
  {
   "cell_type": "markdown",
   "source": [
    "Como cuarto paso, se procede a convertir las columna **Contract_Valid_Until** que representan una fecha pero sin un formato establecido. Estos contienen de forma adicional lo siguiente:\n",
    "- Mes (3 caracteres).\n",
    "- Dia (1 a 2 caracteres).\n",
    "- Año (4 caracteres)."
   ],
   "metadata": {
    "collapsed": false,
    "pycharm": {
     "name": "#%% md\n"
    }
   }
  },
  {
   "cell_type": "markdown",
   "source": [
    "Seguidamente, se comprueba que todos los registros posean por lo mínimo el año del contrato."
   ],
   "metadata": {
    "collapsed": false,
    "pycharm": {
     "name": "#%% md\n"
    }
   }
  },
  {
   "cell_type": "code",
   "execution_count": 38,
   "outputs": [
    {
     "data": {
      "text/plain": "True"
     },
     "execution_count": 38,
     "metadata": {},
     "output_type": "execute_result"
    }
   ],
   "source": [
    "all([re.findall('20[1-2][0-9]', x)[0] for x in dataframe.Contract_Valid_Until])"
   ],
   "metadata": {
    "collapsed": false,
    "pycharm": {
     "name": "#%%\n"
    }
   }
  },
  {
   "cell_type": "markdown",
   "source": [
    "Una vez comprobado, se procede a eliminar los caracteres innesesarios y a definir el nuevo valor de tipo entero de la columna **Contract_Valid_Until**."
   ],
   "metadata": {
    "collapsed": false,
    "pycharm": {
     "name": "#%% md\n"
    }
   }
  },
  {
   "cell_type": "code",
   "execution_count": 39,
   "outputs": [],
   "source": [
    "dataframe.Contract_Valid_Until = dataframe.Contract_Valid_Until.apply(lambda x: np.uint16(re.findall('20[1-2][0-9]', x)[0]))"
   ],
   "metadata": {
    "collapsed": false,
    "pycharm": {
     "name": "#%%\n"
    }
   }
  },
  {
   "cell_type": "markdown",
   "source": [
    "Por ultimo, se procede a comprobar los registros de la columna **Preferred_foot**."
   ],
   "metadata": {
    "collapsed": false,
    "pycharm": {
     "name": "#%% md\n"
    }
   }
  },
  {
   "cell_type": "code",
   "execution_count": 40,
   "outputs": [
    {
     "data": {
      "text/plain": "  Preferred_foot\n0          Right\n1           Left",
      "text/html": "<div>\n<style scoped>\n    .dataframe tbody tr th:only-of-type {\n        vertical-align: middle;\n    }\n\n    .dataframe tbody tr th {\n        vertical-align: top;\n    }\n\n    .dataframe thead th {\n        text-align: right;\n    }\n</style>\n<table border=\"1\" class=\"dataframe\">\n  <thead>\n    <tr style=\"text-align: right;\">\n      <th></th>\n      <th>Preferred_foot</th>\n    </tr>\n  </thead>\n  <tbody>\n    <tr>\n      <th>0</th>\n      <td>Right</td>\n    </tr>\n    <tr>\n      <th>1</th>\n      <td>Left</td>\n    </tr>\n  </tbody>\n</table>\n</div>"
     },
     "execution_count": 40,
     "metadata": {},
     "output_type": "execute_result"
    }
   ],
   "source": [
    "pd.DataFrame((lambda x:{'Preferred_foot':x.index})(dataframe.Preferred_foot.value_counts()))"
   ],
   "metadata": {
    "collapsed": false,
    "pycharm": {
     "name": "#%%\n"
    }
   }
  },
  {
   "cell_type": "markdown",
   "source": [
    "**Nota importante:** se puede observar que esta columna solamente contiene valores entre las cadenas \"Left\" o \"Righ\"."
   ],
   "metadata": {
    "collapsed": false,
    "pycharm": {
     "name": "#%% md\n"
    }
   }
  },
  {
   "cell_type": "markdown",
   "source": [
    "Finalmente, se comprueba el tipo de dato de cada columna del dataframe."
   ],
   "metadata": {
    "collapsed": false,
    "pycharm": {
     "name": "#%% md\n"
    }
   }
  },
  {
   "cell_type": "code",
   "execution_count": 41,
   "outputs": [
    {
     "data": {
      "text/plain": "                     Tipo de dato\nID                         uint32\nAge                         uint8\nNationality                object\nClub                       object\nValue                     float64\nWage                      float64\nPreferred_foot             object\nPosition                   object\nLoaned                       bool\nContract_Valid_Until        int16\nHeight                       int8\nWeight                       int8\nRelease_clause            float64",
      "text/html": "<div>\n<style scoped>\n    .dataframe tbody tr th:only-of-type {\n        vertical-align: middle;\n    }\n\n    .dataframe tbody tr th {\n        vertical-align: top;\n    }\n\n    .dataframe thead th {\n        text-align: right;\n    }\n</style>\n<table border=\"1\" class=\"dataframe\">\n  <thead>\n    <tr style=\"text-align: right;\">\n      <th></th>\n      <th>Tipo de dato</th>\n    </tr>\n  </thead>\n  <tbody>\n    <tr>\n      <th>ID</th>\n      <td>uint32</td>\n    </tr>\n    <tr>\n      <th>Age</th>\n      <td>uint8</td>\n    </tr>\n    <tr>\n      <th>Nationality</th>\n      <td>object</td>\n    </tr>\n    <tr>\n      <th>Club</th>\n      <td>object</td>\n    </tr>\n    <tr>\n      <th>Value</th>\n      <td>float64</td>\n    </tr>\n    <tr>\n      <th>Wage</th>\n      <td>float64</td>\n    </tr>\n    <tr>\n      <th>Preferred_foot</th>\n      <td>object</td>\n    </tr>\n    <tr>\n      <th>Position</th>\n      <td>object</td>\n    </tr>\n    <tr>\n      <th>Loaned</th>\n      <td>bool</td>\n    </tr>\n    <tr>\n      <th>Contract_Valid_Until</th>\n      <td>int16</td>\n    </tr>\n    <tr>\n      <th>Height</th>\n      <td>int8</td>\n    </tr>\n    <tr>\n      <th>Weight</th>\n      <td>int8</td>\n    </tr>\n    <tr>\n      <th>Release_clause</th>\n      <td>float64</td>\n    </tr>\n  </tbody>\n</table>\n</div>"
     },
     "execution_count": 41,
     "metadata": {},
     "output_type": "execute_result"
    }
   ],
   "source": [
    "pd.DataFrame(dataframe.dtypes, columns=['Tipo de dato'])"
   ],
   "metadata": {
    "collapsed": false,
    "pycharm": {
     "name": "#%%\n"
    }
   }
  },
  {
   "cell_type": "markdown",
   "source": [
    "Seguido a esto, se visualiza el dataframe."
   ],
   "metadata": {
    "collapsed": false,
    "pycharm": {
     "name": "#%% md\n"
    }
   }
  },
  {
   "cell_type": "code",
   "execution_count": 42,
   "outputs": [
    {
     "data": {
      "text/plain": "           ID  Age Nationality                 Club     Value   Wage  \\\n0      158023   31   Argentina         FC Barcelona  110500.0  565.0   \n1       20801   33    Portugal             Juventus   77000.0  405.0   \n2      190871   26      Brazil  Paris Saint-Germain  118500.0  290.0   \n3      193080   27       Spain    Manchester United   72000.0  260.0   \n4      192985   27     Belgium      Manchester City  102000.0  355.0   \n...       ...  ...         ...                  ...       ...    ...   \n18202  238813   19     England      Crewe Alexandra      60.0    1.0   \n18203  243165   19      Sweden       Trelleborgs FF      60.0    1.0   \n18204  241638   16     England     Cambridge United      60.0    1.0   \n18205  246268   17     England      Tranmere Rovers      60.0    1.0   \n18206  246269   16     England      Tranmere Rovers      60.0    1.0   \n\n      Preferred_foot Position  Loaned  Contract_Valid_Until  Height  Weight  \\\n0               Left       RF   False                  2021      67     -97   \n1              Right       ST   False                  2022      74     -73   \n2              Right       LW   False                  2022      69    -106   \n3              Right       GK   False                  2020      76     -88   \n4              Right      RCM   False                  2023      71    -102   \n...              ...      ...     ...                   ...     ...     ...   \n18202          Right       CM   False                  2019      69    -122   \n18203          Right       ST   False                  2020      75     -86   \n18204          Right       ST   False                  2021      68    -108   \n18205          Right       RW   False                  2019      70    -102   \n18206          Right       CM   False                  2019      70     -80   \n\n       Release_clause  \n0            226500.0  \n1            127100.0  \n2            228100.0  \n3            138600.0  \n4            196400.0  \n...               ...  \n18202           143.0  \n18203           113.0  \n18204           165.0  \n18205           143.0  \n18206           165.0  \n\n[17918 rows x 13 columns]",
      "text/html": "<div>\n<style scoped>\n    .dataframe tbody tr th:only-of-type {\n        vertical-align: middle;\n    }\n\n    .dataframe tbody tr th {\n        vertical-align: top;\n    }\n\n    .dataframe thead th {\n        text-align: right;\n    }\n</style>\n<table border=\"1\" class=\"dataframe\">\n  <thead>\n    <tr style=\"text-align: right;\">\n      <th></th>\n      <th>ID</th>\n      <th>Age</th>\n      <th>Nationality</th>\n      <th>Club</th>\n      <th>Value</th>\n      <th>Wage</th>\n      <th>Preferred_foot</th>\n      <th>Position</th>\n      <th>Loaned</th>\n      <th>Contract_Valid_Until</th>\n      <th>Height</th>\n      <th>Weight</th>\n      <th>Release_clause</th>\n    </tr>\n  </thead>\n  <tbody>\n    <tr>\n      <th>0</th>\n      <td>158023</td>\n      <td>31</td>\n      <td>Argentina</td>\n      <td>FC Barcelona</td>\n      <td>110500.0</td>\n      <td>565.0</td>\n      <td>Left</td>\n      <td>RF</td>\n      <td>False</td>\n      <td>2021</td>\n      <td>67</td>\n      <td>-97</td>\n      <td>226500.0</td>\n    </tr>\n    <tr>\n      <th>1</th>\n      <td>20801</td>\n      <td>33</td>\n      <td>Portugal</td>\n      <td>Juventus</td>\n      <td>77000.0</td>\n      <td>405.0</td>\n      <td>Right</td>\n      <td>ST</td>\n      <td>False</td>\n      <td>2022</td>\n      <td>74</td>\n      <td>-73</td>\n      <td>127100.0</td>\n    </tr>\n    <tr>\n      <th>2</th>\n      <td>190871</td>\n      <td>26</td>\n      <td>Brazil</td>\n      <td>Paris Saint-Germain</td>\n      <td>118500.0</td>\n      <td>290.0</td>\n      <td>Right</td>\n      <td>LW</td>\n      <td>False</td>\n      <td>2022</td>\n      <td>69</td>\n      <td>-106</td>\n      <td>228100.0</td>\n    </tr>\n    <tr>\n      <th>3</th>\n      <td>193080</td>\n      <td>27</td>\n      <td>Spain</td>\n      <td>Manchester United</td>\n      <td>72000.0</td>\n      <td>260.0</td>\n      <td>Right</td>\n      <td>GK</td>\n      <td>False</td>\n      <td>2020</td>\n      <td>76</td>\n      <td>-88</td>\n      <td>138600.0</td>\n    </tr>\n    <tr>\n      <th>4</th>\n      <td>192985</td>\n      <td>27</td>\n      <td>Belgium</td>\n      <td>Manchester City</td>\n      <td>102000.0</td>\n      <td>355.0</td>\n      <td>Right</td>\n      <td>RCM</td>\n      <td>False</td>\n      <td>2023</td>\n      <td>71</td>\n      <td>-102</td>\n      <td>196400.0</td>\n    </tr>\n    <tr>\n      <th>...</th>\n      <td>...</td>\n      <td>...</td>\n      <td>...</td>\n      <td>...</td>\n      <td>...</td>\n      <td>...</td>\n      <td>...</td>\n      <td>...</td>\n      <td>...</td>\n      <td>...</td>\n      <td>...</td>\n      <td>...</td>\n      <td>...</td>\n    </tr>\n    <tr>\n      <th>18202</th>\n      <td>238813</td>\n      <td>19</td>\n      <td>England</td>\n      <td>Crewe Alexandra</td>\n      <td>60.0</td>\n      <td>1.0</td>\n      <td>Right</td>\n      <td>CM</td>\n      <td>False</td>\n      <td>2019</td>\n      <td>69</td>\n      <td>-122</td>\n      <td>143.0</td>\n    </tr>\n    <tr>\n      <th>18203</th>\n      <td>243165</td>\n      <td>19</td>\n      <td>Sweden</td>\n      <td>Trelleborgs FF</td>\n      <td>60.0</td>\n      <td>1.0</td>\n      <td>Right</td>\n      <td>ST</td>\n      <td>False</td>\n      <td>2020</td>\n      <td>75</td>\n      <td>-86</td>\n      <td>113.0</td>\n    </tr>\n    <tr>\n      <th>18204</th>\n      <td>241638</td>\n      <td>16</td>\n      <td>England</td>\n      <td>Cambridge United</td>\n      <td>60.0</td>\n      <td>1.0</td>\n      <td>Right</td>\n      <td>ST</td>\n      <td>False</td>\n      <td>2021</td>\n      <td>68</td>\n      <td>-108</td>\n      <td>165.0</td>\n    </tr>\n    <tr>\n      <th>18205</th>\n      <td>246268</td>\n      <td>17</td>\n      <td>England</td>\n      <td>Tranmere Rovers</td>\n      <td>60.0</td>\n      <td>1.0</td>\n      <td>Right</td>\n      <td>RW</td>\n      <td>False</td>\n      <td>2019</td>\n      <td>70</td>\n      <td>-102</td>\n      <td>143.0</td>\n    </tr>\n    <tr>\n      <th>18206</th>\n      <td>246269</td>\n      <td>16</td>\n      <td>England</td>\n      <td>Tranmere Rovers</td>\n      <td>60.0</td>\n      <td>1.0</td>\n      <td>Right</td>\n      <td>CM</td>\n      <td>False</td>\n      <td>2019</td>\n      <td>70</td>\n      <td>-80</td>\n      <td>165.0</td>\n    </tr>\n  </tbody>\n</table>\n<p>17918 rows × 13 columns</p>\n</div>"
     },
     "execution_count": 42,
     "metadata": {},
     "output_type": "execute_result"
    }
   ],
   "source": [
    "dataframe"
   ],
   "metadata": {
    "collapsed": false,
    "pycharm": {
     "name": "#%%\n"
    }
   }
  },
  {
   "cell_type": "code",
   "execution_count": 43,
   "outputs": [
    {
     "data": {
      "text/plain": "81"
     },
     "execution_count": 43,
     "metadata": {},
     "output_type": "execute_result"
    }
   ],
   "source": [
    "dataframe.Height.max()"
   ],
   "metadata": {
    "collapsed": false,
    "pycharm": {
     "name": "#%%\n"
    }
   }
  },
  {
   "cell_type": "markdown",
   "source": [
    "**Nota importante:** se puede observar que las modificaciones han dado como resultado la reducción una columna y el completado de los datos en los valores de registros que antes contenian valores nulos o vacios."
   ],
   "metadata": {
    "collapsed": false,
    "pycharm": {
     "name": "#%% md\n"
    }
   }
  },
  {
   "cell_type": "markdown",
   "source": [
    "## Normalización de los registros de datos"
   ],
   "metadata": {
    "collapsed": false,
    "pycharm": {
     "name": "#%% md\n"
    }
   }
  },
  {
   "cell_type": "markdown",
   "source": [
    "Partiendo de los datos modificados, se procede a crear una copia del dataframe con el objetivo de modificar los datos para posteriormente normalizarlos, pero sin modificar el dataframe original."
   ],
   "metadata": {
    "collapsed": false,
    "pycharm": {
     "name": "#%% md\n"
    }
   }
  },
  {
   "cell_type": "code",
   "execution_count": 44,
   "outputs": [],
   "source": [
    "normalizedDataframe = dataframe.copy()"
   ],
   "metadata": {
    "collapsed": false,
    "pycharm": {
     "name": "#%%\n"
    }
   }
  },
  {
   "cell_type": "markdown",
   "source": [
    "Se visualiza la copia del dataframe creado."
   ],
   "metadata": {
    "collapsed": false,
    "pycharm": {
     "name": "#%% md\n"
    }
   }
  },
  {
   "cell_type": "code",
   "execution_count": 45,
   "outputs": [
    {
     "data": {
      "text/plain": "           ID  Age Nationality                 Club     Value   Wage  \\\n0      158023   31   Argentina         FC Barcelona  110500.0  565.0   \n1       20801   33    Portugal             Juventus   77000.0  405.0   \n2      190871   26      Brazil  Paris Saint-Germain  118500.0  290.0   \n3      193080   27       Spain    Manchester United   72000.0  260.0   \n4      192985   27     Belgium      Manchester City  102000.0  355.0   \n...       ...  ...         ...                  ...       ...    ...   \n18202  238813   19     England      Crewe Alexandra      60.0    1.0   \n18203  243165   19      Sweden       Trelleborgs FF      60.0    1.0   \n18204  241638   16     England     Cambridge United      60.0    1.0   \n18205  246268   17     England      Tranmere Rovers      60.0    1.0   \n18206  246269   16     England      Tranmere Rovers      60.0    1.0   \n\n      Preferred_foot Position  Loaned  Contract_Valid_Until  Height  Weight  \\\n0               Left       RF   False                  2021      67     -97   \n1              Right       ST   False                  2022      74     -73   \n2              Right       LW   False                  2022      69    -106   \n3              Right       GK   False                  2020      76     -88   \n4              Right      RCM   False                  2023      71    -102   \n...              ...      ...     ...                   ...     ...     ...   \n18202          Right       CM   False                  2019      69    -122   \n18203          Right       ST   False                  2020      75     -86   \n18204          Right       ST   False                  2021      68    -108   \n18205          Right       RW   False                  2019      70    -102   \n18206          Right       CM   False                  2019      70     -80   \n\n       Release_clause  \n0            226500.0  \n1            127100.0  \n2            228100.0  \n3            138600.0  \n4            196400.0  \n...               ...  \n18202           143.0  \n18203           113.0  \n18204           165.0  \n18205           143.0  \n18206           165.0  \n\n[17918 rows x 13 columns]",
      "text/html": "<div>\n<style scoped>\n    .dataframe tbody tr th:only-of-type {\n        vertical-align: middle;\n    }\n\n    .dataframe tbody tr th {\n        vertical-align: top;\n    }\n\n    .dataframe thead th {\n        text-align: right;\n    }\n</style>\n<table border=\"1\" class=\"dataframe\">\n  <thead>\n    <tr style=\"text-align: right;\">\n      <th></th>\n      <th>ID</th>\n      <th>Age</th>\n      <th>Nationality</th>\n      <th>Club</th>\n      <th>Value</th>\n      <th>Wage</th>\n      <th>Preferred_foot</th>\n      <th>Position</th>\n      <th>Loaned</th>\n      <th>Contract_Valid_Until</th>\n      <th>Height</th>\n      <th>Weight</th>\n      <th>Release_clause</th>\n    </tr>\n  </thead>\n  <tbody>\n    <tr>\n      <th>0</th>\n      <td>158023</td>\n      <td>31</td>\n      <td>Argentina</td>\n      <td>FC Barcelona</td>\n      <td>110500.0</td>\n      <td>565.0</td>\n      <td>Left</td>\n      <td>RF</td>\n      <td>False</td>\n      <td>2021</td>\n      <td>67</td>\n      <td>-97</td>\n      <td>226500.0</td>\n    </tr>\n    <tr>\n      <th>1</th>\n      <td>20801</td>\n      <td>33</td>\n      <td>Portugal</td>\n      <td>Juventus</td>\n      <td>77000.0</td>\n      <td>405.0</td>\n      <td>Right</td>\n      <td>ST</td>\n      <td>False</td>\n      <td>2022</td>\n      <td>74</td>\n      <td>-73</td>\n      <td>127100.0</td>\n    </tr>\n    <tr>\n      <th>2</th>\n      <td>190871</td>\n      <td>26</td>\n      <td>Brazil</td>\n      <td>Paris Saint-Germain</td>\n      <td>118500.0</td>\n      <td>290.0</td>\n      <td>Right</td>\n      <td>LW</td>\n      <td>False</td>\n      <td>2022</td>\n      <td>69</td>\n      <td>-106</td>\n      <td>228100.0</td>\n    </tr>\n    <tr>\n      <th>3</th>\n      <td>193080</td>\n      <td>27</td>\n      <td>Spain</td>\n      <td>Manchester United</td>\n      <td>72000.0</td>\n      <td>260.0</td>\n      <td>Right</td>\n      <td>GK</td>\n      <td>False</td>\n      <td>2020</td>\n      <td>76</td>\n      <td>-88</td>\n      <td>138600.0</td>\n    </tr>\n    <tr>\n      <th>4</th>\n      <td>192985</td>\n      <td>27</td>\n      <td>Belgium</td>\n      <td>Manchester City</td>\n      <td>102000.0</td>\n      <td>355.0</td>\n      <td>Right</td>\n      <td>RCM</td>\n      <td>False</td>\n      <td>2023</td>\n      <td>71</td>\n      <td>-102</td>\n      <td>196400.0</td>\n    </tr>\n    <tr>\n      <th>...</th>\n      <td>...</td>\n      <td>...</td>\n      <td>...</td>\n      <td>...</td>\n      <td>...</td>\n      <td>...</td>\n      <td>...</td>\n      <td>...</td>\n      <td>...</td>\n      <td>...</td>\n      <td>...</td>\n      <td>...</td>\n      <td>...</td>\n    </tr>\n    <tr>\n      <th>18202</th>\n      <td>238813</td>\n      <td>19</td>\n      <td>England</td>\n      <td>Crewe Alexandra</td>\n      <td>60.0</td>\n      <td>1.0</td>\n      <td>Right</td>\n      <td>CM</td>\n      <td>False</td>\n      <td>2019</td>\n      <td>69</td>\n      <td>-122</td>\n      <td>143.0</td>\n    </tr>\n    <tr>\n      <th>18203</th>\n      <td>243165</td>\n      <td>19</td>\n      <td>Sweden</td>\n      <td>Trelleborgs FF</td>\n      <td>60.0</td>\n      <td>1.0</td>\n      <td>Right</td>\n      <td>ST</td>\n      <td>False</td>\n      <td>2020</td>\n      <td>75</td>\n      <td>-86</td>\n      <td>113.0</td>\n    </tr>\n    <tr>\n      <th>18204</th>\n      <td>241638</td>\n      <td>16</td>\n      <td>England</td>\n      <td>Cambridge United</td>\n      <td>60.0</td>\n      <td>1.0</td>\n      <td>Right</td>\n      <td>ST</td>\n      <td>False</td>\n      <td>2021</td>\n      <td>68</td>\n      <td>-108</td>\n      <td>165.0</td>\n    </tr>\n    <tr>\n      <th>18205</th>\n      <td>246268</td>\n      <td>17</td>\n      <td>England</td>\n      <td>Tranmere Rovers</td>\n      <td>60.0</td>\n      <td>1.0</td>\n      <td>Right</td>\n      <td>RW</td>\n      <td>False</td>\n      <td>2019</td>\n      <td>70</td>\n      <td>-102</td>\n      <td>143.0</td>\n    </tr>\n    <tr>\n      <th>18206</th>\n      <td>246269</td>\n      <td>16</td>\n      <td>England</td>\n      <td>Tranmere Rovers</td>\n      <td>60.0</td>\n      <td>1.0</td>\n      <td>Right</td>\n      <td>CM</td>\n      <td>False</td>\n      <td>2019</td>\n      <td>70</td>\n      <td>-80</td>\n      <td>165.0</td>\n    </tr>\n  </tbody>\n</table>\n<p>17918 rows × 13 columns</p>\n</div>"
     },
     "execution_count": 45,
     "metadata": {},
     "output_type": "execute_result"
    }
   ],
   "source": [
    "normalizedDataframe"
   ],
   "metadata": {
    "collapsed": false,
    "pycharm": {
     "name": "#%%\n"
    }
   }
  },
  {
   "cell_type": "markdown",
   "source": [
    "**Nota importante:** debido a que existen columnas del dataframe de tipo cadena estos no se pueden normalizar, por lo que se requiere crear subconjunto de datos para relacionar estos valores para que posteriormente sean normalizados."
   ],
   "metadata": {
    "collapsed": false,
    "pycharm": {
     "name": "#%% md\n"
    }
   }
  },
  {
   "cell_type": "markdown",
   "source": [
    "Como primer paso, se crea un subconjunto de datos para representar la frecuencia de los valores duplicados para la columna **Nationality**."
   ],
   "metadata": {
    "collapsed": false,
    "pycharm": {
     "name": "#%% md\n"
    }
   }
  },
  {
   "cell_type": "code",
   "execution_count": 46,
   "outputs": [],
   "source": [
    "countryDataframe = pd.DataFrame((lambda x:{'Nationality':x.index, 'Frequency':x.values.astype('int16')})(dataframe.Nationality.value_counts()))"
   ],
   "metadata": {
    "collapsed": false,
    "pycharm": {
     "name": "#%%\n"
    }
   }
  },
  {
   "cell_type": "markdown",
   "source": [
    "Se visualiza el nuevo subconjunto creado."
   ],
   "metadata": {
    "collapsed": false,
    "pycharm": {
     "name": "#%% md\n"
    }
   }
  },
  {
   "cell_type": "code",
   "execution_count": 47,
   "outputs": [
    {
     "data": {
      "text/plain": "    Nationality  Frequency\n0       England       1657\n1       Germany       1195\n2         Spain       1071\n3     Argentina        935\n4        France        911\n..          ...        ...\n158        Guam          1\n159        Fiji          1\n160     Liberia          1\n161   Mauritius          1\n162    Botswana          1\n\n[163 rows x 2 columns]",
      "text/html": "<div>\n<style scoped>\n    .dataframe tbody tr th:only-of-type {\n        vertical-align: middle;\n    }\n\n    .dataframe tbody tr th {\n        vertical-align: top;\n    }\n\n    .dataframe thead th {\n        text-align: right;\n    }\n</style>\n<table border=\"1\" class=\"dataframe\">\n  <thead>\n    <tr style=\"text-align: right;\">\n      <th></th>\n      <th>Nationality</th>\n      <th>Frequency</th>\n    </tr>\n  </thead>\n  <tbody>\n    <tr>\n      <th>0</th>\n      <td>England</td>\n      <td>1657</td>\n    </tr>\n    <tr>\n      <th>1</th>\n      <td>Germany</td>\n      <td>1195</td>\n    </tr>\n    <tr>\n      <th>2</th>\n      <td>Spain</td>\n      <td>1071</td>\n    </tr>\n    <tr>\n      <th>3</th>\n      <td>Argentina</td>\n      <td>935</td>\n    </tr>\n    <tr>\n      <th>4</th>\n      <td>France</td>\n      <td>911</td>\n    </tr>\n    <tr>\n      <th>...</th>\n      <td>...</td>\n      <td>...</td>\n    </tr>\n    <tr>\n      <th>158</th>\n      <td>Guam</td>\n      <td>1</td>\n    </tr>\n    <tr>\n      <th>159</th>\n      <td>Fiji</td>\n      <td>1</td>\n    </tr>\n    <tr>\n      <th>160</th>\n      <td>Liberia</td>\n      <td>1</td>\n    </tr>\n    <tr>\n      <th>161</th>\n      <td>Mauritius</td>\n      <td>1</td>\n    </tr>\n    <tr>\n      <th>162</th>\n      <td>Botswana</td>\n      <td>1</td>\n    </tr>\n  </tbody>\n</table>\n<p>163 rows × 2 columns</p>\n</div>"
     },
     "execution_count": 47,
     "metadata": {},
     "output_type": "execute_result"
    }
   ],
   "source": [
    "countryDataframe"
   ],
   "metadata": {
    "collapsed": false,
    "pycharm": {
     "name": "#%%\n"
    }
   }
  },
  {
   "cell_type": "markdown",
   "source": [
    "Como segundo paso, se crea un subconjunto de datos para representar la frecuencia de los valores duplicados para la columna **Club**."
   ],
   "metadata": {
    "collapsed": false,
    "pycharm": {
     "name": "#%% md\n"
    }
   }
  },
  {
   "cell_type": "code",
   "execution_count": 48,
   "outputs": [],
   "source": [
    "clubDataframe = pd.DataFrame((lambda x:{'Club':x.index, 'Frequency':x.values.astype('int16')})(dataframe.Club.value_counts()))"
   ],
   "metadata": {
    "collapsed": false,
    "pycharm": {
     "name": "#%%\n"
    }
   }
  },
  {
   "cell_type": "markdown",
   "source": [
    "Se visualiza el nuevo subconjunto creado."
   ],
   "metadata": {
    "collapsed": false,
    "pycharm": {
     "name": "#%% md\n"
    }
   }
  },
  {
   "cell_type": "code",
   "execution_count": 49,
   "outputs": [
    {
     "data": {
      "text/plain": "                        Club  Frequency\n0               FC Barcelona         33\n1                Southampton         33\n2               Cardiff City         33\n3        TSG 1899 Hoffenheim         33\n4    Wolverhampton Wanderers         33\n..                       ...        ...\n646                  Vitória         20\n647                   Paraná         20\n648             Sligo Rovers         19\n649              Limerick FC         19\n650               Derry City         18\n\n[651 rows x 2 columns]",
      "text/html": "<div>\n<style scoped>\n    .dataframe tbody tr th:only-of-type {\n        vertical-align: middle;\n    }\n\n    .dataframe tbody tr th {\n        vertical-align: top;\n    }\n\n    .dataframe thead th {\n        text-align: right;\n    }\n</style>\n<table border=\"1\" class=\"dataframe\">\n  <thead>\n    <tr style=\"text-align: right;\">\n      <th></th>\n      <th>Club</th>\n      <th>Frequency</th>\n    </tr>\n  </thead>\n  <tbody>\n    <tr>\n      <th>0</th>\n      <td>FC Barcelona</td>\n      <td>33</td>\n    </tr>\n    <tr>\n      <th>1</th>\n      <td>Southampton</td>\n      <td>33</td>\n    </tr>\n    <tr>\n      <th>2</th>\n      <td>Cardiff City</td>\n      <td>33</td>\n    </tr>\n    <tr>\n      <th>3</th>\n      <td>TSG 1899 Hoffenheim</td>\n      <td>33</td>\n    </tr>\n    <tr>\n      <th>4</th>\n      <td>Wolverhampton Wanderers</td>\n      <td>33</td>\n    </tr>\n    <tr>\n      <th>...</th>\n      <td>...</td>\n      <td>...</td>\n    </tr>\n    <tr>\n      <th>646</th>\n      <td>Vitória</td>\n      <td>20</td>\n    </tr>\n    <tr>\n      <th>647</th>\n      <td>Paraná</td>\n      <td>20</td>\n    </tr>\n    <tr>\n      <th>648</th>\n      <td>Sligo Rovers</td>\n      <td>19</td>\n    </tr>\n    <tr>\n      <th>649</th>\n      <td>Limerick FC</td>\n      <td>19</td>\n    </tr>\n    <tr>\n      <th>650</th>\n      <td>Derry City</td>\n      <td>18</td>\n    </tr>\n  </tbody>\n</table>\n<p>651 rows × 2 columns</p>\n</div>"
     },
     "execution_count": 49,
     "metadata": {},
     "output_type": "execute_result"
    }
   ],
   "source": [
    "clubDataframe"
   ],
   "metadata": {
    "collapsed": false,
    "pycharm": {
     "name": "#%%\n"
    }
   }
  },
  {
   "cell_type": "markdown",
   "source": [
    "Como tercer paso, se crea un subconjunto de datos para representar la frecuencia de los valores duplicados para la columna **Preferred_foot**."
   ],
   "metadata": {
    "collapsed": false,
    "pycharm": {
     "name": "#%% md\n"
    }
   }
  },
  {
   "cell_type": "code",
   "execution_count": 50,
   "outputs": [],
   "source": [
    "preferredFootDataframe = pd.DataFrame((lambda x:{'Preferred_foot':x.index, 'Frequency':x.values.astype('int16')})(dataframe.Preferred_foot.value_counts()))"
   ],
   "metadata": {
    "collapsed": false,
    "pycharm": {
     "name": "#%%\n"
    }
   }
  },
  {
   "cell_type": "markdown",
   "source": [
    "Se visualiza el nuevo subconjunto creado."
   ],
   "metadata": {
    "collapsed": false,
    "pycharm": {
     "name": "#%% md\n"
    }
   }
  },
  {
   "cell_type": "code",
   "execution_count": 51,
   "outputs": [
    {
     "data": {
      "text/plain": "  Preferred_foot  Frequency\n0          Right      13756\n1           Left       4162",
      "text/html": "<div>\n<style scoped>\n    .dataframe tbody tr th:only-of-type {\n        vertical-align: middle;\n    }\n\n    .dataframe tbody tr th {\n        vertical-align: top;\n    }\n\n    .dataframe thead th {\n        text-align: right;\n    }\n</style>\n<table border=\"1\" class=\"dataframe\">\n  <thead>\n    <tr style=\"text-align: right;\">\n      <th></th>\n      <th>Preferred_foot</th>\n      <th>Frequency</th>\n    </tr>\n  </thead>\n  <tbody>\n    <tr>\n      <th>0</th>\n      <td>Right</td>\n      <td>13756</td>\n    </tr>\n    <tr>\n      <th>1</th>\n      <td>Left</td>\n      <td>4162</td>\n    </tr>\n  </tbody>\n</table>\n</div>"
     },
     "execution_count": 51,
     "metadata": {},
     "output_type": "execute_result"
    }
   ],
   "source": [
    "preferredFootDataframe"
   ],
   "metadata": {
    "collapsed": false,
    "pycharm": {
     "name": "#%%\n"
    }
   }
  },
  {
   "cell_type": "markdown",
   "source": [
    "Como cuarto paso, se crea un subconjunto de datos para representar la frecuencia de los valores duplicados para la columna **Position**."
   ],
   "metadata": {
    "collapsed": false,
    "pycharm": {
     "name": "#%% md\n"
    }
   }
  },
  {
   "cell_type": "code",
   "execution_count": 52,
   "outputs": [],
   "source": [
    "positionDataframe = pd.DataFrame((lambda x:{'Position':x.index, 'Frequency':x.values.astype('int16')})(dataframe.Position.value_counts()))"
   ],
   "metadata": {
    "collapsed": false,
    "pycharm": {
     "name": "#%%\n"
    }
   }
  },
  {
   "cell_type": "markdown",
   "source": [
    "Se visualiza el nuevo subconjunto creado."
   ],
   "metadata": {
    "collapsed": false,
    "pycharm": {
     "name": "#%% md\n"
    }
   }
  },
  {
   "cell_type": "code",
   "execution_count": 53,
   "outputs": [
    {
     "data": {
      "text/plain": "   Position  Frequency\n0        ST       2130\n1        GK       1992\n2        CB       1754\n3        CM       1377\n4        LB       1305\n5        RB       1268\n6        RM       1114\n7        LM       1086\n8       CAM        948\n9       CDM        936\n10      RCB        652\n11      LCB        637\n12      LCM        389\n13      RCM        387\n14       LW        374\n15       RW        365\n16      RDM        246\n17      LDM        239\n18       LS        206\n19       RS        201\n20      RWB         87\n21      LWB         78\n22       CF         74\n23      LAM         21\n24      RAM         21\n25       RF         16\n26       LF         15",
      "text/html": "<div>\n<style scoped>\n    .dataframe tbody tr th:only-of-type {\n        vertical-align: middle;\n    }\n\n    .dataframe tbody tr th {\n        vertical-align: top;\n    }\n\n    .dataframe thead th {\n        text-align: right;\n    }\n</style>\n<table border=\"1\" class=\"dataframe\">\n  <thead>\n    <tr style=\"text-align: right;\">\n      <th></th>\n      <th>Position</th>\n      <th>Frequency</th>\n    </tr>\n  </thead>\n  <tbody>\n    <tr>\n      <th>0</th>\n      <td>ST</td>\n      <td>2130</td>\n    </tr>\n    <tr>\n      <th>1</th>\n      <td>GK</td>\n      <td>1992</td>\n    </tr>\n    <tr>\n      <th>2</th>\n      <td>CB</td>\n      <td>1754</td>\n    </tr>\n    <tr>\n      <th>3</th>\n      <td>CM</td>\n      <td>1377</td>\n    </tr>\n    <tr>\n      <th>4</th>\n      <td>LB</td>\n      <td>1305</td>\n    </tr>\n    <tr>\n      <th>5</th>\n      <td>RB</td>\n      <td>1268</td>\n    </tr>\n    <tr>\n      <th>6</th>\n      <td>RM</td>\n      <td>1114</td>\n    </tr>\n    <tr>\n      <th>7</th>\n      <td>LM</td>\n      <td>1086</td>\n    </tr>\n    <tr>\n      <th>8</th>\n      <td>CAM</td>\n      <td>948</td>\n    </tr>\n    <tr>\n      <th>9</th>\n      <td>CDM</td>\n      <td>936</td>\n    </tr>\n    <tr>\n      <th>10</th>\n      <td>RCB</td>\n      <td>652</td>\n    </tr>\n    <tr>\n      <th>11</th>\n      <td>LCB</td>\n      <td>637</td>\n    </tr>\n    <tr>\n      <th>12</th>\n      <td>LCM</td>\n      <td>389</td>\n    </tr>\n    <tr>\n      <th>13</th>\n      <td>RCM</td>\n      <td>387</td>\n    </tr>\n    <tr>\n      <th>14</th>\n      <td>LW</td>\n      <td>374</td>\n    </tr>\n    <tr>\n      <th>15</th>\n      <td>RW</td>\n      <td>365</td>\n    </tr>\n    <tr>\n      <th>16</th>\n      <td>RDM</td>\n      <td>246</td>\n    </tr>\n    <tr>\n      <th>17</th>\n      <td>LDM</td>\n      <td>239</td>\n    </tr>\n    <tr>\n      <th>18</th>\n      <td>LS</td>\n      <td>206</td>\n    </tr>\n    <tr>\n      <th>19</th>\n      <td>RS</td>\n      <td>201</td>\n    </tr>\n    <tr>\n      <th>20</th>\n      <td>RWB</td>\n      <td>87</td>\n    </tr>\n    <tr>\n      <th>21</th>\n      <td>LWB</td>\n      <td>78</td>\n    </tr>\n    <tr>\n      <th>22</th>\n      <td>CF</td>\n      <td>74</td>\n    </tr>\n    <tr>\n      <th>23</th>\n      <td>LAM</td>\n      <td>21</td>\n    </tr>\n    <tr>\n      <th>24</th>\n      <td>RAM</td>\n      <td>21</td>\n    </tr>\n    <tr>\n      <th>25</th>\n      <td>RF</td>\n      <td>16</td>\n    </tr>\n    <tr>\n      <th>26</th>\n      <td>LF</td>\n      <td>15</td>\n    </tr>\n  </tbody>\n</table>\n</div>"
     },
     "execution_count": 53,
     "metadata": {},
     "output_type": "execute_result"
    }
   ],
   "source": [
    "positionDataframe"
   ],
   "metadata": {
    "collapsed": false,
    "pycharm": {
     "name": "#%%\n"
    }
   }
  },
  {
   "cell_type": "markdown",
   "source": [
    "Como quinto paso, se crea un subconjunto de datos para representar la frecuencia de los valores duplicados para la columna **Loaned**."
   ],
   "metadata": {
    "collapsed": false,
    "pycharm": {
     "name": "#%% md\n"
    }
   }
  },
  {
   "cell_type": "code",
   "execution_count": 54,
   "outputs": [],
   "source": [
    "loanedDataframe = pd.DataFrame((lambda x:{'Loaned':x.index, 'Frequency':x.values.astype('int16')})(dataframe.Loaned.value_counts()))"
   ],
   "metadata": {
    "collapsed": false,
    "pycharm": {
     "name": "#%%\n"
    }
   }
  },
  {
   "cell_type": "markdown",
   "source": [
    "Se visualiza el nuevo subconjunto creado."
   ],
   "metadata": {
    "collapsed": false,
    "pycharm": {
     "name": "#%% md\n"
    }
   }
  },
  {
   "cell_type": "code",
   "execution_count": 55,
   "outputs": [
    {
     "data": {
      "text/plain": "  Loaned  Frequency\n0  False      16654\n1   True       1264",
      "text/html": "<div>\n<style scoped>\n    .dataframe tbody tr th:only-of-type {\n        vertical-align: middle;\n    }\n\n    .dataframe tbody tr th {\n        vertical-align: top;\n    }\n\n    .dataframe thead th {\n        text-align: right;\n    }\n</style>\n<table border=\"1\" class=\"dataframe\">\n  <thead>\n    <tr style=\"text-align: right;\">\n      <th></th>\n      <th>Loaned</th>\n      <th>Frequency</th>\n    </tr>\n  </thead>\n  <tbody>\n    <tr>\n      <th>0</th>\n      <td>False</td>\n      <td>16654</td>\n    </tr>\n    <tr>\n      <th>1</th>\n      <td>True</td>\n      <td>1264</td>\n    </tr>\n  </tbody>\n</table>\n</div>"
     },
     "execution_count": 55,
     "metadata": {},
     "output_type": "execute_result"
    }
   ],
   "source": [
    "loanedDataframe"
   ],
   "metadata": {
    "collapsed": false,
    "pycharm": {
     "name": "#%%\n"
    }
   }
  },
  {
   "cell_type": "markdown",
   "source": [
    "Como ultimo paso, se indexa las columnas **Nationality**, **Club**, **Preferred_foot**, **Position** y **Loaned** con los subconjuntos de datos creados en los pasos anteriores, esto sustituyendo los valores del nuevo dataframe con los nuevos pertenecienctes en los subconjuntos."
   ],
   "metadata": {
    "collapsed": false,
    "pycharm": {
     "name": "#%% md\n"
    }
   }
  },
  {
   "cell_type": "code",
   "execution_count": 56,
   "outputs": [],
   "source": [
    "for tupla in {'Nationality': countryDataframe, 'Club':clubDataframe, 'Preferred_foot':preferredFootDataframe, 'Position':positionDataframe, 'Loaned':loanedDataframe}.items(): normalizedDataframe[tupla[0]] = dataframe[tupla[0]].apply(lambda x:(tupla[1][tupla[0]].loc[tupla[1][tupla[0]] == x].index[0]))"
   ],
   "metadata": {
    "collapsed": false,
    "pycharm": {
     "name": "#%%\n"
    }
   }
  },
  {
   "cell_type": "markdown",
   "source": [
    "Finalmente, se procede a normalizar todos los registros de todas las columnas del nuevo dataframe."
   ],
   "metadata": {
    "collapsed": false,
    "pycharm": {
     "name": "#%% md\n"
    }
   }
  },
  {
   "cell_type": "code",
   "execution_count": 57,
   "outputs": [],
   "source": [
    "normalizedDataframe = pd.DataFrame(MinMaxScaler().fit_transform(normalizedDataframe).astype('float32'), columns=normalizedDataframe.columns)"
   ],
   "metadata": {
    "collapsed": false,
    "pycharm": {
     "name": "#%%\n"
    }
   }
  },
  {
   "cell_type": "markdown",
   "source": [
    "Se procede a visualizar el nuevo dataframe con los registros normalizados."
   ],
   "metadata": {
    "collapsed": false,
    "pycharm": {
     "name": "#%% md\n"
    }
   }
  },
  {
   "cell_type": "code",
   "execution_count": 58,
   "outputs": [
    {
     "data": {
      "text/plain": "             ID       Age  Nationality      Club     Value      Wage  \\\n0      0.640732  0.517241     0.018519  0.000000  0.932489  1.000000   \n1      0.084285  0.586207     0.129630  0.860000  0.649789  0.716312   \n2      0.773933  0.344828     0.030864  0.224615  1.000000  0.512411   \n3      0.782891  0.379310     0.012346  0.035385  0.607595  0.459220   \n4      0.782506  0.379310     0.154321  0.036923  0.860759  0.627660   \n...         ...       ...          ...       ...       ...       ...   \n17913  0.968342  0.103448     0.000000  0.455385  0.000506  0.000000   \n17914  0.985990  0.103448     0.061728  0.578462  0.000506  0.000000   \n17915  0.979798  0.000000     0.000000  0.463077  0.000506  0.000000   \n17916  0.998573  0.034483     0.000000  0.583077  0.000506  0.000000   \n17917  0.998577  0.000000     0.000000  0.583077  0.000506  0.000000   \n\n       Preferred_foot  Position  Loaned  Contract_Valid_Until  Height  \\\n0                 1.0  0.961538     0.0                 0.375    0.30   \n1                 0.0  0.000000     0.0                 0.500    0.65   \n2                 0.0  0.538462     0.0                 0.500    0.40   \n3                 0.0  0.038462     0.0                 0.250    0.75   \n4                 0.0  0.500000     0.0                 0.625    0.50   \n...               ...       ...     ...                   ...     ...   \n17913             0.0  0.115385     0.0                 0.125    0.40   \n17914             0.0  0.000000     0.0                 0.250    0.70   \n17915             0.0  0.000000     0.0                 0.375    0.35   \n17916             0.0  0.576923     0.0                 0.125    0.45   \n17917             0.0  0.115385     0.0                 0.125    0.45   \n\n         Weight  Release_clause  \n0      0.122047        0.992986  \n1      0.216535        0.557212  \n2      0.086614        1.000000  \n3      0.157480        0.607628  \n4      0.102362        0.861026  \n...         ...             ...  \n17913  0.023622        0.000627  \n17914  0.165354        0.000495  \n17915  0.078740        0.000723  \n17916  0.102362        0.000627  \n17917  0.188976        0.000723  \n\n[17918 rows x 13 columns]",
      "text/html": "<div>\n<style scoped>\n    .dataframe tbody tr th:only-of-type {\n        vertical-align: middle;\n    }\n\n    .dataframe tbody tr th {\n        vertical-align: top;\n    }\n\n    .dataframe thead th {\n        text-align: right;\n    }\n</style>\n<table border=\"1\" class=\"dataframe\">\n  <thead>\n    <tr style=\"text-align: right;\">\n      <th></th>\n      <th>ID</th>\n      <th>Age</th>\n      <th>Nationality</th>\n      <th>Club</th>\n      <th>Value</th>\n      <th>Wage</th>\n      <th>Preferred_foot</th>\n      <th>Position</th>\n      <th>Loaned</th>\n      <th>Contract_Valid_Until</th>\n      <th>Height</th>\n      <th>Weight</th>\n      <th>Release_clause</th>\n    </tr>\n  </thead>\n  <tbody>\n    <tr>\n      <th>0</th>\n      <td>0.640732</td>\n      <td>0.517241</td>\n      <td>0.018519</td>\n      <td>0.000000</td>\n      <td>0.932489</td>\n      <td>1.000000</td>\n      <td>1.0</td>\n      <td>0.961538</td>\n      <td>0.0</td>\n      <td>0.375</td>\n      <td>0.30</td>\n      <td>0.122047</td>\n      <td>0.992986</td>\n    </tr>\n    <tr>\n      <th>1</th>\n      <td>0.084285</td>\n      <td>0.586207</td>\n      <td>0.129630</td>\n      <td>0.860000</td>\n      <td>0.649789</td>\n      <td>0.716312</td>\n      <td>0.0</td>\n      <td>0.000000</td>\n      <td>0.0</td>\n      <td>0.500</td>\n      <td>0.65</td>\n      <td>0.216535</td>\n      <td>0.557212</td>\n    </tr>\n    <tr>\n      <th>2</th>\n      <td>0.773933</td>\n      <td>0.344828</td>\n      <td>0.030864</td>\n      <td>0.224615</td>\n      <td>1.000000</td>\n      <td>0.512411</td>\n      <td>0.0</td>\n      <td>0.538462</td>\n      <td>0.0</td>\n      <td>0.500</td>\n      <td>0.40</td>\n      <td>0.086614</td>\n      <td>1.000000</td>\n    </tr>\n    <tr>\n      <th>3</th>\n      <td>0.782891</td>\n      <td>0.379310</td>\n      <td>0.012346</td>\n      <td>0.035385</td>\n      <td>0.607595</td>\n      <td>0.459220</td>\n      <td>0.0</td>\n      <td>0.038462</td>\n      <td>0.0</td>\n      <td>0.250</td>\n      <td>0.75</td>\n      <td>0.157480</td>\n      <td>0.607628</td>\n    </tr>\n    <tr>\n      <th>4</th>\n      <td>0.782506</td>\n      <td>0.379310</td>\n      <td>0.154321</td>\n      <td>0.036923</td>\n      <td>0.860759</td>\n      <td>0.627660</td>\n      <td>0.0</td>\n      <td>0.500000</td>\n      <td>0.0</td>\n      <td>0.625</td>\n      <td>0.50</td>\n      <td>0.102362</td>\n      <td>0.861026</td>\n    </tr>\n    <tr>\n      <th>...</th>\n      <td>...</td>\n      <td>...</td>\n      <td>...</td>\n      <td>...</td>\n      <td>...</td>\n      <td>...</td>\n      <td>...</td>\n      <td>...</td>\n      <td>...</td>\n      <td>...</td>\n      <td>...</td>\n      <td>...</td>\n      <td>...</td>\n    </tr>\n    <tr>\n      <th>17913</th>\n      <td>0.968342</td>\n      <td>0.103448</td>\n      <td>0.000000</td>\n      <td>0.455385</td>\n      <td>0.000506</td>\n      <td>0.000000</td>\n      <td>0.0</td>\n      <td>0.115385</td>\n      <td>0.0</td>\n      <td>0.125</td>\n      <td>0.40</td>\n      <td>0.023622</td>\n      <td>0.000627</td>\n    </tr>\n    <tr>\n      <th>17914</th>\n      <td>0.985990</td>\n      <td>0.103448</td>\n      <td>0.061728</td>\n      <td>0.578462</td>\n      <td>0.000506</td>\n      <td>0.000000</td>\n      <td>0.0</td>\n      <td>0.000000</td>\n      <td>0.0</td>\n      <td>0.250</td>\n      <td>0.70</td>\n      <td>0.165354</td>\n      <td>0.000495</td>\n    </tr>\n    <tr>\n      <th>17915</th>\n      <td>0.979798</td>\n      <td>0.000000</td>\n      <td>0.000000</td>\n      <td>0.463077</td>\n      <td>0.000506</td>\n      <td>0.000000</td>\n      <td>0.0</td>\n      <td>0.000000</td>\n      <td>0.0</td>\n      <td>0.375</td>\n      <td>0.35</td>\n      <td>0.078740</td>\n      <td>0.000723</td>\n    </tr>\n    <tr>\n      <th>17916</th>\n      <td>0.998573</td>\n      <td>0.034483</td>\n      <td>0.000000</td>\n      <td>0.583077</td>\n      <td>0.000506</td>\n      <td>0.000000</td>\n      <td>0.0</td>\n      <td>0.576923</td>\n      <td>0.0</td>\n      <td>0.125</td>\n      <td>0.45</td>\n      <td>0.102362</td>\n      <td>0.000627</td>\n    </tr>\n    <tr>\n      <th>17917</th>\n      <td>0.998577</td>\n      <td>0.000000</td>\n      <td>0.000000</td>\n      <td>0.583077</td>\n      <td>0.000506</td>\n      <td>0.000000</td>\n      <td>0.0</td>\n      <td>0.115385</td>\n      <td>0.0</td>\n      <td>0.125</td>\n      <td>0.45</td>\n      <td>0.188976</td>\n      <td>0.000723</td>\n    </tr>\n  </tbody>\n</table>\n<p>17918 rows × 13 columns</p>\n</div>"
     },
     "execution_count": 58,
     "metadata": {},
     "output_type": "execute_result"
    }
   ],
   "source": [
    "normalizedDataframe"
   ],
   "metadata": {
    "collapsed": false,
    "pycharm": {
     "name": "#%%\n"
    }
   }
  },
  {
   "cell_type": "markdown",
   "source": [
    "## Visualización de los registros de datos"
   ],
   "metadata": {
    "collapsed": false,
    "pycharm": {
     "name": "#%% md\n"
    }
   }
  },
  {
   "cell_type": "markdown",
   "source": [
    "Partiendo del dataframe normalizados, se procede a generar gráficas con el objetivo de observar de forma visual el comportamiento de los datos."
   ],
   "metadata": {
    "collapsed": false,
    "pycharm": {
     "name": "#%% md\n"
    }
   }
  },
  {
   "cell_type": "markdown",
   "source": [
    "Como primer paso, se visualiza las graficas de tipo histograma de todas las columnas del dataframe normalizado."
   ],
   "metadata": {
    "collapsed": false,
    "pycharm": {
     "name": "#%% md\n"
    }
   }
  },
  {
   "cell_type": "code",
   "execution_count": 59,
   "outputs": [
    {
     "data": {
      "text/plain": "<Figure size 2160x2160 with 16 Axes>",
      "image/png": "[encoded data removed]"
     },
     "metadata": {
      "needs_background": "light"
     },
     "output_type": "display_data"
    }
   ],
   "source": [
    "normalizedDataframe.hist(figsize=(30,30))\n",
    "plt.show()"
   ],
   "metadata": {
    "collapsed": false,
    "pycharm": {
     "name": "#%%\n"
    }
   }
  },
  {
   "cell_type": "markdown",
   "source": [
    "Como segundo paso, se visualiza las gráficas de tipo dispersión todas las columnas a excepción de la columna **ID** común."
   ],
   "metadata": {
    "collapsed": false,
    "pycharm": {
     "name": "#%% md\n"
    }
   }
  },
  {
   "cell_type": "markdown",
   "source": [
    "Se procede a visualizar gráfica de tipo dispersión entre la columna **ID** y **Age**."
   ],
   "metadata": {
    "collapsed": false,
    "pycharm": {
     "name": "#%% md\n"
    }
   }
  },
  {
   "cell_type": "code",
   "execution_count": 60,
   "outputs": [
    {
     "data": {
      "text/plain": "<Figure size 360x360 with 1 Axes>",
      "image/png": "[encoded data removed]"
     },
     "metadata": {
      "needs_background": "light"
     },
     "output_type": "display_data"
    }
   ],
   "source": [
    "normalizedDataframe.plot.scatter(x = 'ID', y = 'Age', s = 10, c = 'red', figsize=(5,5))\n",
    "plt.show()"
   ],
   "metadata": {
    "collapsed": false,
    "pycharm": {
     "name": "#%%\n"
    }
   }
  },
  {
   "cell_type": "markdown",
   "source": [
    "Se procede a visualizar gráfica de tipo dispersión entre la columna **ID** y **Nationality**."
   ],
   "metadata": {
    "collapsed": false,
    "pycharm": {
     "name": "#%% md\n"
    }
   }
  },
  {
   "cell_type": "code",
   "execution_count": 61,
   "outputs": [
    {
     "data": {
      "text/plain": "<Figure size 360x360 with 1 Axes>",
      "image/png": "[encoded data removed]"
     },
     "metadata": {
      "needs_background": "light"
     },
     "output_type": "display_data"
    }
   ],
   "source": [
    "normalizedDataframe.plot.scatter(x = 'ID', y = 'Nationality', s = 10, c = 'red', figsize=(5,5))\n",
    "plt.show()"
   ],
   "metadata": {
    "collapsed": false,
    "pycharm": {
     "name": "#%%\n"
    }
   }
  },
  {
   "cell_type": "markdown",
   "source": [
    "Se procede a visualizar gráfica de tipo dispersión entre la columna **ID** y **Club**."
   ],
   "metadata": {
    "collapsed": false,
    "pycharm": {
     "name": "#%% md\n"
    }
   }
  },
  {
   "cell_type": "code",
   "execution_count": 62,
   "outputs": [
    {
     "data": {
      "text/plain": "<Figure size 360x360 with 1 Axes>",
      "image/png": "[encoded data removed]"
     },
     "metadata": {
      "needs_background": "light"
     },
     "output_type": "display_data"
    }
   ],
   "source": [
    "normalizedDataframe.plot.scatter(x = 'ID', y = 'Club', s = 10, c = 'red', figsize=(5,5))\n",
    "plt.show()"
   ],
   "metadata": {
    "collapsed": false,
    "pycharm": {
     "name": "#%%\n"
    }
   }
  },
  {
   "cell_type": "markdown",
   "source": [
    "Se procede a visualizar gráfica de tipo dispersión entre la columna **ID** y **Value**."
   ],
   "metadata": {
    "collapsed": false,
    "pycharm": {
     "name": "#%% md\n"
    }
   }
  },
  {
   "cell_type": "code",
   "execution_count": 63,
   "outputs": [
    {
     "data": {
      "text/plain": "<Figure size 360x360 with 1 Axes>",
      "image/png": "[encoded data removed]"
     },
     "metadata": {
      "needs_background": "light"
     },
     "output_type": "display_data"
    }
   ],
   "source": [
    "normalizedDataframe.plot.scatter(x = 'ID', y = 'Value', s = 10, c = 'red', figsize=(5,5))\n",
    "plt.show()"
   ],
   "metadata": {
    "collapsed": false,
    "pycharm": {
     "name": "#%%\n"
    }
   }
  },
  {
   "cell_type": "markdown",
   "source": [
    "Se procede a visualizar gráfica de tipo dispersión entre la columna **ID** y **Wage**."
   ],
   "metadata": {
    "collapsed": false,
    "pycharm": {
     "name": "#%% md\n"
    }
   }
  },
  {
   "cell_type": "code",
   "execution_count": 64,
   "outputs": [
    {
     "data": {
      "text/plain": "<Figure size 360x360 with 1 Axes>",
      "image/png": "[encoded data removed]"
     },
     "metadata": {
      "needs_background": "light"
     },
     "output_type": "display_data"
    }
   ],
   "source": [
    "normalizedDataframe.plot.scatter(x = 'ID', y = 'Wage', s = 10, c = 'red', figsize=(5,5))\n",
    "plt.show()"
   ],
   "metadata": {
    "collapsed": false,
    "pycharm": {
     "name": "#%%\n"
    }
   }
  },
  {
   "cell_type": "markdown",
   "source": [
    "Se procede a visualizar gráfica de tipo dispersión entre la columna **ID** y **Preferred_foot**."
   ],
   "metadata": {
    "collapsed": false,
    "pycharm": {
     "name": "#%% md\n"
    }
   }
  },
  {
   "cell_type": "code",
   "execution_count": 65,
   "outputs": [
    {
     "data": {
      "text/plain": "<Figure size 360x360 with 1 Axes>",
      "image/png": "[encoded data removed]"
     },
     "metadata": {
      "needs_background": "light"
     },
     "output_type": "display_data"
    }
   ],
   "source": [
    "normalizedDataframe.plot.scatter(x = 'ID', y = 'Preferred_foot', s = 10, c = 'red', figsize=(5,5))\n",
    "plt.show()"
   ],
   "metadata": {
    "collapsed": false,
    "pycharm": {
     "name": "#%%\n"
    }
   }
  },
  {
   "cell_type": "markdown",
   "source": [
    "Se procede a visualizar gráfica de tipo dispersión entre la columna **ID** y **Position**."
   ],
   "metadata": {
    "collapsed": false,
    "pycharm": {
     "name": "#%% md\n"
    }
   }
  },
  {
   "cell_type": "code",
   "execution_count": 66,
   "outputs": [
    {
     "data": {
      "text/plain": "<Figure size 360x360 with 1 Axes>",
      "image/png": "[encoded data removed]"
     },
     "metadata": {
      "needs_background": "light"
     },
     "output_type": "display_data"
    }
   ],
   "source": [
    "normalizedDataframe.plot.scatter(x = 'ID', y = 'Position', s = 10, c = 'red', figsize=(5,5))\n",
    "plt.show()"
   ],
   "metadata": {
    "collapsed": false,
    "pycharm": {
     "name": "#%%\n"
    }
   }
  },
  {
   "cell_type": "markdown",
   "source": [
    "Se procede a visualizar gráfica de tipo dispersión entre la columna **ID** y **Loaned**."
   ],
   "metadata": {
    "collapsed": false,
    "pycharm": {
     "name": "#%% md\n"
    }
   }
  },
  {
   "cell_type": "code",
   "execution_count": 67,
   "outputs": [
    {
     "data": {
      "text/plain": "<Figure size 360x360 with 1 Axes>",
      "image/png": "[encoded data removed]"
     },
     "metadata": {
      "needs_background": "light"
     },
     "output_type": "display_data"
    }
   ],
   "source": [
    "normalizedDataframe.plot.scatter(x = 'ID', y = 'Loaned', s = 10, c = 'red', figsize=(5,5))\n",
    "plt.show()"
   ],
   "metadata": {
    "collapsed": false,
    "pycharm": {
     "name": "#%%\n"
    }
   }
  },
  {
   "cell_type": "markdown",
   "source": [
    "Se procede a visualizar gráfica de tipo dispersión entre la columna **ID** y **Contract_Valid_Util**."
   ],
   "metadata": {
    "collapsed": false,
    "pycharm": {
     "name": "#%% md\n"
    }
   }
  },
  {
   "cell_type": "code",
   "execution_count": 68,
   "outputs": [
    {
     "data": {
      "text/plain": "<Figure size 360x360 with 1 Axes>",
      "image/png": "[encoded data removed]"
     },
     "metadata": {
      "needs_background": "light"
     },
     "output_type": "display_data"
    }
   ],
   "source": [
    "normalizedDataframe.plot.scatter(x = 'ID', y = 'Contract_Valid_Until', s = 10, c = 'red', figsize=(5,5))\n",
    "plt.show()"
   ],
   "metadata": {
    "collapsed": false,
    "pycharm": {
     "name": "#%%\n"
    }
   }
  },
  {
   "cell_type": "markdown",
   "source": [
    "Se procede a visualizar gráfica de tipo dispersión entre la columna **ID** y **Heigth**."
   ],
   "metadata": {
    "collapsed": false,
    "pycharm": {
     "name": "#%% md\n"
    }
   }
  },
  {
   "cell_type": "code",
   "execution_count": 69,
   "outputs": [
    {
     "data": {
      "text/plain": "<Figure size 360x360 with 1 Axes>",
      "image/png": "[encoded data removed]"
     },
     "metadata": {
      "needs_background": "light"
     },
     "output_type": "display_data"
    }
   ],
   "source": [
    "normalizedDataframe.plot.scatter(x = 'ID', y = 'Height', s = 10, c = 'red', figsize=(5,5))\n",
    "plt.show()"
   ],
   "metadata": {
    "collapsed": false,
    "pycharm": {
     "name": "#%%\n"
    }
   }
  },
  {
   "cell_type": "markdown",
   "source": [
    "Se procede a visualizar gráfica de tipo dispersión entre la columna **ID** y **Weight**."
   ],
   "metadata": {
    "collapsed": false,
    "pycharm": {
     "name": "#%% md\n"
    }
   }
  },
  {
   "cell_type": "code",
   "execution_count": 70,
   "outputs": [
    {
     "data": {
      "text/plain": "<Figure size 360x360 with 1 Axes>",
      "image/png": "[encoded data removed]"
     },
     "metadata": {
      "needs_background": "light"
     },
     "output_type": "display_data"
    }
   ],
   "source": [
    "normalizedDataframe.plot.scatter(x = 'ID', y = 'Weight', s = 10, c = 'red', figsize=(5,5))\n",
    "plt.show()"
   ],
   "metadata": {
    "collapsed": false,
    "pycharm": {
     "name": "#%%\n"
    }
   }
  },
  {
   "cell_type": "markdown",
   "source": [
    "Se procede a visualizar gráfica de tipo dispersión entre la columna **ID** y **Release_clause**."
   ],
   "metadata": {
    "collapsed": false,
    "pycharm": {
     "name": "#%% md\n"
    }
   }
  },
  {
   "cell_type": "code",
   "execution_count": 71,
   "outputs": [
    {
     "data": {
      "text/plain": "<Figure size 360x360 with 1 Axes>",
      "image/png": "[encoded data removed]"
     },
     "metadata": {
      "needs_background": "light"
     },
     "output_type": "display_data"
    }
   ],
   "source": [
    "normalizedDataframe.plot.scatter(x = 'ID', y = 'Release_clause', s = 10, c = 'red', figsize=(5,5))\n",
    "plt.show()"
   ],
   "metadata": {
    "collapsed": false,
    "pycharm": {
     "name": "#%%\n"
    }
   }
  },
  {
   "cell_type": "markdown",
   "source": [
    "Como último paso, se visualiza la gráfica de tipo correlación para observar las relaciones mas significativas entre las columnas del dataframe normalizado."
   ],
   "metadata": {
    "collapsed": false,
    "pycharm": {
     "name": "#%% md\n"
    }
   }
  },
  {
   "cell_type": "code",
   "execution_count": 72,
   "outputs": [
    {
     "data": {
      "text/plain": "<Figure size 2160x2160 with 2 Axes>",
      "image/png": "[encoded data removed]"
     },
     "metadata": {
      "needs_background": "light"
     },
     "output_type": "display_data"
    }
   ],
   "source": [
    "plt.figure(figsize=(30,30))\n",
    "sb.heatmap(normalizedDataframe.corr(), cmap ='Blues', linewidths = 0.30, annot = True)\n",
    "plt.show()"
   ],
   "metadata": {
    "collapsed": false,
    "pycharm": {
     "name": "#%%\n"
    }
   }
  },
  {
   "cell_type": "markdown",
   "source": [
    "## Predictive modelling"
   ],
   "metadata": {
    "collapsed": false,
    "pycharm": {
     "name": "#%% md\n"
    }
   }
  },
  {
   "cell_type": "code",
   "execution_count": null,
   "outputs": [],
   "source": [
    "pd.DataFrame(dataframe.isnull().sum(), columns=['Datos nulos'])"
   ],
   "metadata": {
    "collapsed": false
   }
  },
  {
   "cell_type": "markdown",
   "source": [
    "**Nota importante:** se puede observar que ya no existen todos los valores nulos o vacios en todas las columnas del dataframe."
   ],
   "metadata": {
    "collapsed": false
   }
  },
  {
   "cell_type": "markdown",
   "source": [
    "Una vez modificado los valores nulos o vacios, se procede a se analizar el tipo de dato de todas las columnas del dataframe."
   ],
   "metadata": {
    "collapsed": false
   }
  },
  {
   "cell_type": "code",
   "execution_count": null,
   "outputs": [],
   "source": [
    "pd.DataFrame(dataframe.dtypes, columns=['Tipo de dato'])"
   ],
   "metadata": {
    "collapsed": false
   }
  },
  {
   "cell_type": "markdown",
   "source": [
    "**Nota importante:** se puede observar que todas las columnas corresponden a su tipo de dato con la excepción de las columnas **Value**, **Wage**, **Height** y **Release_clause** son tipo cadena (object), cuando realmente estos deberian ser de tipo numérico (int64)."
   ],
   "metadata": {
    "collapsed": false
   }
  },
  {
   "cell_type": "markdown",
   "source": [
    "Como primer paso, se procede a convertir las columnas **Value**, **Wage** y **Release_clause** que representan una cantidad de dinero evaluado en euros. Estos contienen de forma adicional lo siguiente:\n",
    "- Signo de euro (€).\n",
    "- Posfijo de miles (K) o millones (M)."
   ],
   "metadata": {
    "collapsed": false
   }
  },
  {
   "cell_type": "markdown",
   "source": [
    "Seguidamente, se comprueba que todos los registros posean un formato antes mencionado."
   ],
   "metadata": {
    "collapsed": false
   }
  },
  {
   "cell_type": "code",
   "execution_count": null,
   "outputs": [],
   "source": [
    "all([re.search('€*(\\d*.+\\d*[MK]*|0)', value) for tupla in dataframe[['Value', 'Wage', 'Release_clause']] for value in tupla])"
   ],
   "metadata": {
    "collapsed": false
   }
  },
  {
   "cell_type": "markdown",
   "source": [
    "Una vez comprobado, se procede a eliminar los caracteres innecesarios y a convertir de forma inmediata los valores de miles o millones asi como tambien definir el nuevo valor de tipo flotante para los registros existentes de las columnas **Value**, **Wage** y **Release Clause**."
   ],
   "metadata": {
    "collapsed": false
   }
  },
  {
   "cell_type": "code",
   "execution_count": null,
   "outputs": [],
   "source": [
    "dataframe[['Value','Wage', 'Release_clause']] = dataframe[['Value','Wage', 'Release_clause']].apply(lambda x: [tupla[1]*1000 if ('M' in tupla[0]) else tupla[1] for tupla in [(value, float(re.findall('(\\d+(?:\\.\\d+)?)', value)[0])) for value in x]])"
   ],
   "metadata": {
    "collapsed": false
   }
  },
  {
   "cell_type": "markdown",
   "source": [
    "Como segundo paso, se procede a convertir las columna **Weight** que representan una cantidad de peso evaluado en libras. Estos contienen de forma adicional lo siguiente:\n",
    "- Posfijo de libra (lbs)."
   ],
   "metadata": {
    "collapsed": false
   }
  },
  {
   "cell_type": "markdown",
   "source": [
    "Posteriormente, se comprueba que todos los registros posean un formato antes mencionado."
   ],
   "metadata": {
    "collapsed": false
   }
  },
  {
   "cell_type": "code",
   "execution_count": null,
   "outputs": [],
   "source": [
    "all([re.findall('(\\d+(?:\\.\\d+)?)lbs', value) for value in dataframe.Weight.values])"
   ],
   "metadata": {
    "collapsed": false
   }
  },
  {
   "cell_type": "markdown",
   "source": [
    "Una vez comprobado, se procede a eliminar los caracteres innecesarios y a definir el nuevo valor de tipo flotante de la columna **Weigth**."
   ],
   "metadata": {
    "collapsed": false
   }
  },
  {
   "cell_type": "code",
   "execution_count": null,
   "outputs": [],
   "source": [
    "dataframe.Weight = dataframe.Weight.apply(lambda x: float(re.findall('(\\d+(?:\\.\\d+)?)', x)[0]))"
   ],
   "metadata": {
    "collapsed": false
   }
  },
  {
   "cell_type": "markdown",
   "source": [
    "Como tercer paso, se procede a convertir las columna **Height** que representan una cantidad de altura evaluado en pulgadas. Estos contienen de forma adicional lo siguiente:\n",
    "- Infijo de pulgadas (')."
   ],
   "metadata": {
    "collapsed": false
   }
  },
  {
   "cell_type": "markdown",
   "source": [
    "Seguidamente, se comprueba que todos los registros posean un formato antes mencionado."
   ],
   "metadata": {
    "collapsed": false
   }
  },
  {
   "cell_type": "code",
   "execution_count": null,
   "outputs": [],
   "source": [
    "all([re.findall('(\\d\\'\\d*)', value) for value in dataframe.Height])"
   ],
   "metadata": {
    "collapsed": false
   }
  },
  {
   "cell_type": "markdown",
   "source": [
    "Una vez comprobado, se procede a reemplazar el caracter de pulgada y a definir el nuevo valor de tipo flotante de la columna **Heigth**."
   ],
   "metadata": {
    "collapsed": false
   }
  },
  {
   "cell_type": "code",
   "execution_count": null,
   "outputs": [],
   "source": [
    "dataframe.Height = [y[0]+(y[1] / 10) for y in [[int(y) for y in x.split(\"'\")] for x in dataframe.Height]]"
   ],
   "metadata": {
    "collapsed": false
   }
  },
  {
   "cell_type": "markdown",
   "source": [
    "Como cuarto paso, se procede a convertir las columna **Contract_Valid_Until** que representan una fecha pero sin un formato establecido. Estos contienen de forma adicional lo siguiente:\n",
    "- Mes (3 caracteres).\n",
    "- Dia (1 a 2 caracteres).\n",
    "- Año (4 caracteres)."
   ],
   "metadata": {
    "collapsed": false
   }
  },
  {
   "cell_type": "markdown",
   "source": [
    "Seguidamente, se comprueba que todos los registros posean por lo mínimo el año del contrato."
   ],
   "metadata": {
    "collapsed": false
   }
  },
  {
   "cell_type": "code",
   "execution_count": null,
   "outputs": [],
   "source": [
    "all([re.findall('\\d{4}', x)[0] for x in dataframe.Contract_Valid_Until])"
   ],
   "metadata": {
    "collapsed": false
   }
  },
  {
   "cell_type": "markdown",
   "source": [
    "Una vez comprobado, se procede a eliminar los caracteres innesesarios y a definir el nuevo valor de tipo entero de la columna **Contract_Valid_Until**."
   ],
   "metadata": {
    "collapsed": false
   }
  },
  {
   "cell_type": "code",
   "execution_count": null,
   "outputs": [],
   "source": [
    "dataframe.Contract_Valid_Until = dataframe.Contract_Valid_Until.apply(lambda x: int(re.findall('\\d{4}', x)[0]))"
   ],
   "metadata": {
    "collapsed": false
   }
  },
  {
   "cell_type": "markdown",
   "source": [
    "Por ultimo, se procede a comprobar los registros de la columna **Preferred_foot**."
   ],
   "metadata": {
    "collapsed": false
   }
  },
  {
   "cell_type": "code",
   "execution_count": null,
   "outputs": [],
   "source": [
    "pd.DataFrame((lambda x:{'Preferred_foot':x.index})(dataframe.Preferred_foot.value_counts()))"
   ],
   "metadata": {
    "collapsed": false
   }
  },
  {
   "cell_type": "markdown",
   "source": [
    "**Nota importante:** se puede observar que esta columna solamente contiene valores entre las cadenas \"Left\" o \"Righ\"."
   ],
   "metadata": {
    "collapsed": false
   }
  },
  {
   "cell_type": "markdown",
   "source": [
    "Finalmente, se comprueba el tipo de dato de cada columna del dataframe."
   ],
   "metadata": {
    "collapsed": false
   }
  },
  {
   "cell_type": "code",
   "execution_count": null,
   "outputs": [],
   "source": [
    "pd.DataFrame(dataframe.dtypes, columns=['Tipo de dato'])"
   ],
   "metadata": {
    "collapsed": false
   }
  },
  {
   "cell_type": "markdown",
   "source": [
    "Seguido a esto, se visualiza el dataframe."
   ],
   "metadata": {
    "collapsed": false
   }
  },
  {
   "cell_type": "code",
   "execution_count": null,
   "outputs": [],
   "source": [
    "dataframe"
   ],
   "metadata": {
    "collapsed": false
   }
  },
  {
   "cell_type": "markdown",
   "source": [
    "**Nota importante:** se puede observar que las modificaciones han dado como resultado la reducción una columna y el completado de los datos en los valores de registros que antes contenian valores nulos o vacios."
   ],
   "metadata": {
    "collapsed": false
   }
  },
  {
   "cell_type": "markdown",
   "source": [
    "## Normalización de los registros de datos"
   ],
   "metadata": {
    "collapsed": false
   }
  },
  {
   "cell_type": "markdown",
   "source": [
    "Partiendo de los datos modificados, se procede a crear una copia del dataframe con el objetivo de modificar los datos para posteriormente normalizarlos, pero sin modificar el dataframe original."
   ],
   "metadata": {
    "collapsed": false
   }
  },
  {
   "cell_type": "code",
   "execution_count": null,
   "outputs": [],
   "source": [
    "normalizedDataframe = dataframe.copy()"
   ],
   "metadata": {
    "collapsed": false
   }
  },
  {
   "cell_type": "markdown",
   "source": [
    "Se visualiza la copia del dataframe creado."
   ],
   "metadata": {
    "collapsed": false
   }
  },
  {
   "cell_type": "code",
   "execution_count": null,
   "outputs": [],
   "source": [
    "normalizedDataframe"
   ],
   "metadata": {
    "collapsed": false
   }
  },
  {
   "cell_type": "markdown",
   "source": [
    "**Nota importante:** debido a que existen columnas del dataframe de tipo cadena estos no se pueden normalizar, por lo que se requiere crear subconjunto de datos para relacionar estos valores para que posteriormente sean normalizados."
   ],
   "metadata": {
    "collapsed": false
   }
  },
  {
   "cell_type": "markdown",
   "source": [
    "Como primer paso, se crea un subconjunto de datos para representar la frecuencia de los valores duplicados para la columna **Nationality**."
   ],
   "metadata": {
    "collapsed": false
   }
  },
  {
   "cell_type": "code",
   "execution_count": null,
   "outputs": [],
   "source": [
    "countryDataframe = pd.DataFrame((lambda x:{'Nationality':x.index, 'Frequency':x.values})(dataframe.Nationality.value_counts()))"
   ],
   "metadata": {
    "collapsed": false
   }
  },
  {
   "cell_type": "markdown",
   "source": [
    "Se visualiza el nuevo subconjunto creado."
   ],
   "metadata": {
    "collapsed": false
   }
  },
  {
   "cell_type": "code",
   "execution_count": null,
   "outputs": [],
   "source": [
    "countryDataframe"
   ],
   "metadata": {
    "collapsed": false
   }
  },
  {
   "cell_type": "markdown",
   "source": [
    "Como segundo paso, se crea un subconjunto de datos para representar la frecuencia de los valores duplicados para la columna **Club**."
   ],
   "metadata": {
    "collapsed": false
   }
  },
  {
   "cell_type": "code",
   "execution_count": null,
   "outputs": [],
   "source": [
    "clubDataframe = pd.DataFrame((lambda x:{'Club':x.index, 'Frequency':x.values})(dataframe.Club.value_counts()))"
   ],
   "metadata": {
    "collapsed": false
   }
  },
  {
   "cell_type": "markdown",
   "source": [
    "Se visualiza el nuevo subconjunto creado."
   ],
   "metadata": {
    "collapsed": false
   }
  },
  {
   "cell_type": "code",
   "execution_count": null,
   "outputs": [],
   "source": [
    "clubDataframe"
   ],
   "metadata": {
    "collapsed": false
   }
  },
  {
   "cell_type": "markdown",
   "source": [
    "Como tercer paso, se crea un subconjunto de datos para representar la frecuencia de los valores duplicados para la columna **Preferred_foot**."
   ],
   "metadata": {
    "collapsed": false
   }
  },
  {
   "cell_type": "code",
   "execution_count": null,
   "outputs": [],
   "source": [
    "preferredFootDataframe = pd.DataFrame((lambda x:{'Preferred_foot':x.index, 'Frequency':x.values})(dataframe.Preferred_foot.value_counts()))"
   ],
   "metadata": {
    "collapsed": false
   }
  },
  {
   "cell_type": "markdown",
   "source": [
    "Se visualiza el nuevo subconjunto creado."
   ],
   "metadata": {
    "collapsed": false
   }
  },
  {
   "cell_type": "code",
   "execution_count": null,
   "outputs": [],
   "source": [
    "preferredFootDataframe"
   ],
   "metadata": {
    "collapsed": false
   }
  },
  {
   "cell_type": "markdown",
   "source": [
    "Como cuarto paso, se crea un subconjunto de datos para representar la frecuencia de los valores duplicados para la columna **Position**."
   ],
   "metadata": {
    "collapsed": false
   }
  },
  {
   "cell_type": "code",
   "execution_count": null,
   "outputs": [],
   "source": [
    "positionDataframe = pd.DataFrame((lambda x:{'Position':x.index, 'Frequency':x.values})(dataframe.Position.value_counts()))"
   ],
   "metadata": {
    "collapsed": false
   }
  },
  {
   "cell_type": "markdown",
   "source": [
    "Se visualiza el nuevo subconjunto creado."
   ],
   "metadata": {
    "collapsed": false
   }
  },
  {
   "cell_type": "code",
   "execution_count": null,
   "outputs": [],
   "source": [
    "positionDataframe"
   ],
   "metadata": {
    "collapsed": false
   }
  },
  {
   "cell_type": "markdown",
   "source": [
    "Como quinto paso, se crea un subconjunto de datos para representar la frecuencia de los valores duplicados para la columna **Loaned**."
   ],
   "metadata": {
    "collapsed": false
   }
  },
  {
   "cell_type": "code",
   "execution_count": null,
   "outputs": [],
   "source": [
    "loanedDataframe = pd.DataFrame((lambda x:{'Loaned':x.index, 'Frequency':x.values})(dataframe.Loaned.value_counts()))"
   ],
   "metadata": {
    "collapsed": false
   }
  },
  {
   "cell_type": "markdown",
   "source": [
    "Se visualiza el nuevo subconjunto creado."
   ],
   "metadata": {
    "collapsed": false
   }
  },
  {
   "cell_type": "code",
   "execution_count": null,
   "outputs": [],
   "source": [
    "loanedDataframe"
   ],
   "metadata": {
    "collapsed": false
   }
  },
  {
   "cell_type": "markdown",
   "source": [
    "Como ultimo paso, se indexa las columnas **Nationality**, **Club**, **Preferred_foot**, **Position** y **Loaned** con los subconjuntos de datos creados en los pasos anteriores, esto sustituyendo los valores del nuevo dataframe con los nuevos pertenecienctes en los subconjuntos."
   ],
   "metadata": {
    "collapsed": false
   }
  },
  {
   "cell_type": "code",
   "execution_count": null,
   "outputs": [],
   "source": [
    "for tupla in {'Nationality': countryDataframe, 'Club':clubDataframe, 'Preferred_foot':preferredFootDataframe, 'Position':positionDataframe, 'Loaned':loanedDataframe}.items(): normalizedDataframe[tupla[0]] = dataframe[tupla[0]].apply(lambda x:(tupla[1][tupla[0]].loc[tupla[1][tupla[0]] == x].index[0]))"
   ],
   "metadata": {
    "collapsed": false
   }
  },
  {
   "cell_type": "markdown",
   "source": [
    "Finalmente, se procede a normalizar todos los registros de todas las columnas del nuevo dataframe."
   ],
   "metadata": {
    "collapsed": false
   }
  },
  {
   "cell_type": "code",
   "execution_count": null,
   "outputs": [],
   "source": [
    "normalizedDataframe = pd.DataFrame(MinMaxScaler().fit_transform(normalizedDataframe), columns=normalizedDataframe.columns)"
   ],
   "metadata": {
    "collapsed": false
   }
  },
  {
   "cell_type": "markdown",
   "source": [
    "Se procede a visualizar el nuevo dataframe con los registros normalizados."
   ],
   "metadata": {
    "collapsed": false
   }
  },
  {
   "cell_type": "code",
   "execution_count": null,
   "outputs": [],
   "source": [
    "normalizedDataframe"
   ],
   "metadata": {
    "collapsed": false
   }
  },
  {
   "cell_type": "markdown",
   "source": [
    "## Visualización de los registros de datos"
   ],
   "metadata": {
    "collapsed": false
   }
  },
  {
   "cell_type": "markdown",
   "source": [
    "Partiendo del dataframe normalizados, se procede a generar gráficas con el objetivo de observar de forma visual el comportamiento de los datos."
   ],
   "metadata": {
    "collapsed": false
   }
  },
  {
   "cell_type": "markdown",
   "source": [
    "Como primer paso, se visualiza las graficas de tipo histograma de todas las columnas del dataframe normalizado."
   ],
   "metadata": {
    "collapsed": false
   }
  },
  {
   "cell_type": "code",
   "execution_count": null,
   "outputs": [],
   "source": [
    "normalizedDataframe.hist(figsize=(30,30))\n",
    "plt.show()"
   ],
   "metadata": {
    "collapsed": false
   }
  },
  {
   "cell_type": "markdown",
   "source": [
    "Como segundo paso, se visualiza las gráficas de tipo dispersión todas las columnas a excepción de la columna **ID** común."
   ],
   "metadata": {
    "collapsed": false
   }
  },
  {
   "cell_type": "markdown",
   "source": [
    "Se procede a visualizar gráfica de tipo dispersión entre la columna **ID** y **Age**."
   ],
   "metadata": {
    "collapsed": false
   }
  },
  {
   "cell_type": "code",
   "execution_count": null,
   "outputs": [],
   "source": [
    "normalizedDataframe.plot.scatter(x = 'ID', y = 'Age', s = 10, c = 'red', figsize=(5,5));\n",
    "plt.show()"
   ],
   "metadata": {
    "collapsed": false
   }
  },
  {
   "cell_type": "markdown",
   "source": [
    "Se procede a visualizar gráfica de tipo dispersión entre la columna **ID** y **Nationality**."
   ],
   "metadata": {
    "collapsed": false
   }
  },
  {
   "cell_type": "code",
   "execution_count": null,
   "outputs": [],
   "source": [
    "normalizedDataframe.plot.scatter(x = 'ID', y = 'Nationality', s = 10, c = 'red', figsize=(5,5));\n",
    "plt.show()"
   ],
   "metadata": {
    "collapsed": false
   }
  },
  {
   "cell_type": "markdown",
   "source": [
    "Se procede a visualizar gráfica de tipo dispersión entre la columna **ID** y **Club**."
   ],
   "metadata": {
    "collapsed": false
   }
  },
  {
   "cell_type": "code",
   "execution_count": null,
   "outputs": [],
   "source": [
    "normalizedDataframe.plot.scatter(x = 'ID', y = 'Club', s = 10, c = 'red', figsize=(5,5));\n",
    "plt.show()"
   ],
   "metadata": {
    "collapsed": false
   }
  },
  {
   "cell_type": "markdown",
   "source": [
    "Se procede a visualizar gráfica de tipo dispersión entre la columna **ID** y **Value**."
   ],
   "metadata": {
    "collapsed": false
   }
  },
  {
   "cell_type": "code",
   "execution_count": null,
   "outputs": [],
   "source": [
    "normalizedDataframe.plot.scatter(x = 'ID', y = 'Value', s = 10, c = 'red', figsize=(5,5));\n",
    "plt.show()"
   ],
   "metadata": {
    "collapsed": false
   }
  },
  {
   "cell_type": "markdown",
   "source": [
    "Se procede a visualizar gráfica de tipo dispersión entre la columna **ID** y **Wage**."
   ],
   "metadata": {
    "collapsed": false
   }
  },
  {
   "cell_type": "code",
   "execution_count": null,
   "outputs": [],
   "source": [
    "normalizedDataframe.plot.scatter(x = 'ID', y = 'Wage', s = 10, c = 'red', figsize=(5,5));\n",
    "plt.show()"
   ],
   "metadata": {
    "collapsed": false
   }
  },
  {
   "cell_type": "markdown",
   "source": [
    "Se procede a visualizar gráfica de tipo dispersión entre la columna **ID** y **Preferred_foot**."
   ],
   "metadata": {
    "collapsed": false
   }
  },
  {
   "cell_type": "code",
   "execution_count": null,
   "outputs": [],
   "source": [
    "normalizedDataframe.plot.scatter(x = 'ID', y = 'Preferred_foot', s = 10, c = 'red', figsize=(5,5));\n",
    "plt.show()"
   ],
   "metadata": {
    "collapsed": false
   }
  },
  {
   "cell_type": "markdown",
   "source": [
    "Se procede a visualizar gráfica de tipo dispersión entre la columna **ID** y **Position**."
   ],
   "metadata": {
    "collapsed": false
   }
  },
  {
   "cell_type": "code",
   "execution_count": null,
   "outputs": [],
   "source": [
    "normalizedDataframe.plot.scatter(x = 'ID', y = 'Position', s = 10, c = 'red', figsize=(5,5));\n",
    "plt.show()"
   ],
   "metadata": {
    "collapsed": false
   }
  },
  {
   "cell_type": "markdown",
   "source": [
    "Se procede a visualizar gráfica de tipo dispersión entre la columna **ID** y **Loaned**."
   ],
   "metadata": {
    "collapsed": false
   }
  },
  {
   "cell_type": "code",
   "execution_count": null,
   "outputs": [],
   "source": [
    "normalizedDataframe.plot.scatter(x = 'ID', y = 'Loaned', s = 10, c = 'red', figsize=(5,5));\n",
    "plt.show()"
   ],
   "metadata": {
    "collapsed": false
   }
  },
  {
   "cell_type": "markdown",
   "source": [
    "Se procede a visualizar gráfica de tipo dispersión entre la columna **ID** y **Contract_Valid_Util**."
   ],
   "metadata": {
    "collapsed": false
   }
  },
  {
   "cell_type": "code",
   "execution_count": null,
   "outputs": [],
   "source": [
    "normalizedDataframe.plot.scatter(x = 'ID', y = 'Contract_Valid_Until', s = 10, c = 'red', figsize=(5,5));\n",
    "plt.show()"
   ],
   "metadata": {
    "collapsed": false
   }
  },
  {
   "cell_type": "markdown",
   "source": [
    "Se procede a visualizar gráfica de tipo dispersión entre la columna **ID** y **Heigth**."
   ],
   "metadata": {
    "collapsed": false
   }
  },
  {
   "cell_type": "code",
   "execution_count": null,
   "outputs": [],
   "source": [
    "normalizedDataframe.plot.scatter(x = 'ID', y = 'Height', s = 10, c = 'red', figsize=(5,5));\n",
    "plt.show()"
   ],
   "metadata": {
    "collapsed": false
   }
  },
  {
   "cell_type": "markdown",
   "source": [
    "Se procede a visualizar gráfica de tipo dispersión entre la columna **ID** y **Weight**."
   ],
   "metadata": {
    "collapsed": false
   }
  },
  {
   "cell_type": "code",
   "execution_count": null,
   "outputs": [],
   "source": [
    "normalizedDataframe.plot.scatter(x = 'ID', y = 'Weight', s = 10, c = 'red', figsize=(5,5));\n",
    "plt.show()"
   ],
   "metadata": {
    "collapsed": false
   }
  },
  {
   "cell_type": "markdown",
   "source": [
    "Se procede a visualizar gráfica de tipo dispersión entre la columna **ID** y **Release_clause**."
   ],
   "metadata": {
    "collapsed": false
   }
  },
  {
   "cell_type": "code",
   "execution_count": null,
   "outputs": [],
   "source": [
    "normalizedDataframe.plot.scatter(x = 'ID', y = 'Release_clause', s = 10, c = 'red', figsize=(5,5));\n",
    "plt.show()"
   ],
   "metadata": {
    "collapsed": false
   }
  },
  {
   "cell_type": "markdown",
   "source": [
    "Como último paso, se visualiza la gráfica de tipo correlación para observar las relaciones mas significativas entre las columnas del dataframe normalizado."
   ],
   "metadata": {
    "collapsed": false
   }
  },
  {
   "cell_type": "code",
   "execution_count": null,
   "outputs": [],
   "source": [
    "plt.figure(figsize=(30,30))\n",
    "sb.heatmap(normalizedDataframe.corr(), cmap ='Blues', linewidths = 0.30, annot = True)\n",
    "plt.show()"
   ],
   "metadata": {
    "collapsed": false
   }
  },
  {
   "cell_type": "code",
   "execution_count": null,
   "outputs": [],
   "source": [],
   "metadata": {
    "collapsed": false
   }
  }
 ],
 "metadata": {
  "kernelspec": {
   "display_name": "Python 3 (ipykernel)",
   "language": "python",
   "name": "python3"
  },
  "language_info": {
   "codemirror_mode": {
    "name": "ipython",
    "version": 3
   },
   "file_extension": ".py",
   "mimetype": "text/x-python",
   "name": "python",
   "nbconvert_exporter": "python",
   "pygments_lexer": "ipython3",
   "version": "3.10.6"
  }
 },
 "nbformat": 4,
 "nbformat_minor": 5
}