{
 "cells": [
  {
   "cell_type": "code",
   "execution_count": 1,
   "id": "781c1d8b",
   "metadata": {},
   "outputs": [],
   "source": [
    "import pandas as pd\n",
    "import numpy as np\n",
    "import matplotlib.pyplot as plt\n",
    "import operator\n",
    "from sklearn import preprocessing\n",
    "import seaborn as sb\n",
    "from sklearn.model_selection import train_test_split"
   ]
  },
  {
   "cell_type": "code",
   "execution_count": 2,
   "id": "9254d6ed",
   "metadata": {
    "scrolled": true
   },
   "outputs": [],
   "source": [
    "df = pd.read_csv(\"futbol.csv\", parse_dates= True, index_col= 1)"
   ]
  },
  {
   "cell_type": "code",
   "execution_count": 3,
   "id": "c0c74b4c",
   "metadata": {},
   "outputs": [],
   "source": [
    "dataset = np.array(df.filter([\"Nationality\",\"Club\",\"Overall\",\"Potential\",\"Value\",\"Wage\"]).values)"
   ]
  },
  {
   "cell_type": "code",
   "execution_count": 4,
   "id": "89a200e2",
   "metadata": {},
   "outputs": [],
   "source": [
    "unique, counts = np.unique(dataset[:,0], return_counts=True)"
   ]
  },
  {
   "cell_type": "code",
   "execution_count": 5,
   "id": "d94fa921",
   "metadata": {},
   "outputs": [],
   "source": [
    "newDataset = dataset"
   ]
  },
  {
   "cell_type": "code",
   "execution_count": 7,
   "id": "c2b10399",
   "metadata": {},
   "outputs": [],
   "source": [
    "for i in range(np.where(counts<dataset.shape[0]/unique.shape[0])[0].shape[0]):\n",
    "    newDataset=np.delete(newDataset,np.where(newDataset == np.delete(unique,np.where(counts>dataset.shape[0]/unique.shape[0]))[i])[0],axis=0)"
   ]
  },
  {
   "cell_type": "code",
   "execution_count": null,
   "id": "b99c6909",
   "metadata": {},
   "outputs": [],
   "source": [
    "unique, counts = np.unique(newDataset[:,0], return_counts=True)"
   ]
  },
  {
   "cell_type": "code",
   "execution_count": null,
   "id": "abdaa459",
   "metadata": {},
   "outputs": [],
   "source": [
    "promedios = [sum([dataset[j][2] for j in np.where(dataset == unique[i])[0]])/np.where(dataset == unique[i])[0].shape[0] for i in range(len(unique))]"
   ]
  },
  {
   "cell_type": "code",
   "execution_count": null,
   "id": "a212491c",
   "metadata": {},
   "outputs": [],
   "source": [
    "dic = {x[0]:x[1] for x in zip(unique,promedios)}\n",
    "teams_sort = dict(sorted(dic.items(), key=operator.itemgetter(1), reverse=True))"
   ]
  },
  {
   "cell_type": "code",
   "execution_count": null,
   "id": "c4e1eb24",
   "metadata": {},
   "outputs": [],
   "source": [
    "plt.figure(figsize=(30,12))\n",
    "plt.bar(teams_sort.keys(),teams_sort.values())\n",
    "plt.ylim(55,75)\n",
    "plt.yticks(fontsize=24)\n",
    "plt.xticks(list(teams_sort.keys()), rotation='vertical', fontsize=28)\n",
    "plt.grid()\n",
    "plt.show()"
   ]
  },
  {
   "cell_type": "code",
   "execution_count": null,
   "id": "b1806f19",
   "metadata": {
    "scrolled": true
   },
   "outputs": [],
   "source": [
    "borrar = \"€K\"\n",
    "for i in range(0,2,1):\n",
    "    for j in range(len(newDataset[:,4+i])):\n",
    "        for k in range(len(borrar)):\n",
    "            newDataset[:,4+i][j] = newDataset[:,4+i][j].replace(borrar[k],\"\")\n",
    "for i in range(0,2,1):\n",
    "    for j in range(len(newDataset[:,4+i])):\n",
    "        if newDataset[:,4+i][j][-1] == \"M\":\n",
    "            newDataset[:,4+i][j] = float(newDataset[:,4+i][j].replace(\"M\",\"\"))*1000"
   ]
  },
  {
   "cell_type": "code",
   "execution_count": null,
   "id": "1e89934a",
   "metadata": {},
   "outputs": [],
   "source": [
    "for n in range(2):\n",
    "    newDataset[:,4+n] = [float(num) for num in newDataset[:,4+n]]\n",
    "for n in range(4):\n",
    "    newDataset[:,2+n] = (newDataset[:,2+n] - min(newDataset[:,2+n]))/(max(newDataset[:,2+n])-min(newDataset[:,2+n]))"
   ]
  },
  {
   "cell_type": "code",
   "execution_count": null,
   "id": "a864b217",
   "metadata": {
    "scrolled": true
   },
   "outputs": [],
   "source": [
    "for pais in unique:\n",
    "    plt.figure(figsize=(15,6))\n",
    "    plt.plot(newDataset[np.where(newDataset == pais)[0]][:,5])\n",
    "    plt.plot(newDataset[np.where(newDataset == pais)[0]][:,2])\n",
    "    plt.grid()\n",
    "    plt.ylim(0,1)\n",
    "    plt.title(pais, fontsize=20)\n",
    "    plt.show()\n",
    "    print(np.corrcoef(list(newDataset[np.where(newDataset == pais)[0]][:,5]),list(newDataset[np.where(newDataset == pais)[0]][:,2]))[0][1])"
   ]
  },
  {
   "cell_type": "code",
   "execution_count": null,
   "id": "f2e76d69",
   "metadata": {},
   "outputs": [],
   "source": [
    "newDf = pd.DataFrame(data=newDataset,columns=[\"Pais\",\"Club\",\"Overall\",\"Potential\",\"Value\",\"Salario\"])\n",
    "newDf"
   ]
  },
  {
   "cell_type": "code",
   "execution_count": null,
   "id": "b672d41d",
   "metadata": {},
   "outputs": [],
   "source": [
    "sb.pairplot(newDf.dropna(), hue='Pais',size=4,vars=[\"Overall\",\"Potential\",\"Value\",\"Salario\"])"
   ]
  },
  {
   "cell_type": "code",
   "execution_count": null,
   "id": "3eb1c5c3",
   "metadata": {
    "scrolled": true
   },
   "outputs": [],
   "source": [
    "sb.pairplot(newDf.dropna(), hue='Club',size=4,vars=[\"Overall\",\"Potential\",\"Value\",\"Salario\"])"
   ]
  },
  {
   "cell_type": "code",
   "execution_count": null,
   "id": "e506ee84",
   "metadata": {},
   "outputs": [],
   "source": [
    "newDf[\"Pais\"] = newDf.Pais.astype(\"category\").cat.codes\n",
    "newDf[\"Club\"] = newDf.Club.astype(\"category\").cat.codes\n",
    "newDf[\"Pais\"] = (newDf[\"Pais\"] - min(newDf[\"Pais\"]))/ (max(newDf[\"Pais\"])-min(newDf[\"Pais\"]))\n",
    "newDf[\"Club\"] = (newDf[\"Club\"] - min(newDf[\"Club\"]))/ (max(newDf[\"Club\"])-min(newDf[\"Club\"]))"
   ]
  },
  {
   "cell_type": "code",
   "execution_count": null,
   "id": "fa4ee287",
   "metadata": {},
   "outputs": [],
   "source": [
    "newDf"
   ]
  },
  {
   "cell_type": "code",
   "execution_count": null,
   "id": "94ac0c58",
   "metadata": {},
   "outputs": [],
   "source": [
    "\n",
    "mCorr=newDf.corr().round(2)\n",
    "mCorr"
   ]
  },
  {
   "cell_type": "code",
   "execution_count": null,
   "id": "75b10e8d",
   "metadata": {},
   "outputs": [],
   "source": [
    "input_train, input_test, target_train, target_test = train_test_split(newDf.drop([\"Pais\",\"Club\"],axis=1), newDf[\"Pais\"], test_size = 0.3, random_state=4,shuffle=True)"
   ]
  },
  {
   "cell_type": "markdown",
   "id": "7689585d",
   "metadata": {},
   "source": [
    "model = Sequential()\n",
    "model.add(layers.Conv2D())\n",
    "model.add((100, activation = 'relu', return_sequences = True, input_shape = (step_days ,input_train.shape[2])))\n",
    "model.add(LSTM(32, activation = 'relu', return_sequences=False))\n",
    "model.add(Dropout(0.2))\n",
    "model.add(Dense(3))\n",
    "model.compile(optimizer = 'adam', loss = 'mse')\n",
    "history = model.fit(input_train, target_train, validation_data = (input_test, target_test),batch_size = 16, epochs = 100)"
   ]
  }
 ],
 "metadata": {
  "kernelspec": {
   "display_name": "Python 3 (ipykernel)",
   "language": "python",
   "name": "python3"
  },
  "language_info": {
   "codemirror_mode": {
    "name": "ipython",
    "version": 3
   },
   "file_extension": ".py",
   "mimetype": "text/x-python",
   "name": "python",
   "nbconvert_exporter": "python",
   "pygments_lexer": "ipython3",
   "version": "3.10.4"
  }
 },
 "nbformat": 4,
 "nbformat_minor": 5
}
