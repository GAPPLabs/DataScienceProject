{
 "cells": [
  {
   "cell_type": "code",
   "execution_count": 1,
   "id": "781c1d8b",
   "metadata": {},
   "outputs": [],
   "source": [
    "import pandas as pd\n",
    "import numpy as np\n",
    "import matplotlib.pyplot as plt\n",
    "import operator, math, statistics\n",
    "from sklearn.preprocessing import MinMaxScaler, RobustScaler, StandardScaler\n",
    "import seaborn as sb\n",
    "from sklearn.model_selection import train_test_split"
   ]
  },
  {
   "cell_type": "code",
   "execution_count": 2,
   "id": "9254d6ed",
   "metadata": {
    "scrolled": true
   },
   "outputs": [],
   "source": [
    "df = pd.read_csv(\"futbol.csv\", parse_dates= True, index_col= 1)"
   ]
  },
  {
   "cell_type": "code",
   "execution_count": 3,
   "id": "c0c74b4c",
   "metadata": {},
   "outputs": [],
   "source": [
    "dataset = np.array(df.filter([\"Nationality\",\"Club\",\"Overall\",\"Potential\",\"Value\",\"Wage\"]).values)"
   ]
  },
  {
   "cell_type": "code",
   "execution_count": 4,
   "id": "89a200e2",
   "metadata": {},
   "outputs": [],
   "source": [
    "unique, counts = np.unique(dataset[:,0], return_counts=True)\n",
    "diccionario = dict(zip(unique, counts))"
   ]
  },
  {
   "cell_type": "code",
   "execution_count": 5,
   "id": "0b17cb29",
   "metadata": {},
   "outputs": [],
   "source": [
    "#Creación de variables usadas para el marco de datos normalizedDataset\n",
    "robustCount = MinMaxScaler().fit_transform(np.array(list(diccionario.values())).reshape(-1,1)).flat[:]\n",
    "robustCountNormalized = (((robustCount - min(robustCount).reshape(-1,1))).flat[:])\n",
    "\n",
    "mean = [statistics.geometric_mean(df[df[\"Nationality\"]==pais][\"Overall\"])for pais in list(diccionario.keys())]\n",
    "robustMean = (MinMaxScaler().fit_transform(np.array(mean).reshape(-1,1))).flat[:]\n",
    "robustMeanNormalized = (robustMean - min(robustMean).reshape(-1,1)).flat[:]"
   ]
  },
  {
   "cell_type": "code",
   "execution_count": 6,
   "id": "ebd91a66",
   "metadata": {},
   "outputs": [],
   "source": [
    "normalizedDataset = pd.DataFrame(data={'Nationality':list(diccionario.keys()), 'Count': diccionario.values(),\n",
    "                         \"Mean\": mean, 'RobustCount': robustCount, 'RobustMean': robustMean,\n",
    "                      'RobustCountNormalized': robustCountNormalized,'RobustMeanNormalized': robustMeanNormalized\n",
    "                                      })"
   ]
  },
  {
   "cell_type": "code",
   "execution_count": null,
   "id": "7372b50b",
   "metadata": {},
   "outputs": [],
   "source": [
    "normalizedDataset = normalizedDataset.assign(GeometricMean=[statistics.geometric_mean([x[0]+.0000001,x[1]+.0000001])\n",
    "                for x in zip(normalizedDataset['RobustCountNormalized'], normalizedDataset['RobustMeanNormalized'])])"
   ]
  },
  {
   "cell_type": "code",
   "execution_count": null,
   "id": "a8ee5548",
   "metadata": {},
   "outputs": [],
   "source": [
    "normalizedDataset.sort_values('GeometricMean',ascending=True).head(n=60)"
   ]
  },
  {
   "cell_type": "code",
   "execution_count": null,
   "id": "532c1aae",
   "metadata": {
    "scrolled": true
   },
   "outputs": [],
   "source": [
    "plt.scatter(normalizedDataset[\"RobustCountNormalized\"].values, normalizedDataset[\"RobustMeanNormalized\"].values, color='r')\n",
    "plt.show()"
   ]
  }
 ],
 "metadata": {
  "kernelspec": {
   "display_name": "Python 3 (ipykernel)",
   "language": "python",
   "name": "python3"
  },
  "language_info": {
   "codemirror_mode": {
    "name": "ipython",
    "version": 3
   },
   "file_extension": ".py",
   "mimetype": "text/x-python",
   "name": "python",
   "nbconvert_exporter": "python",
   "pygments_lexer": "ipython3",
   "version": "3.8.10"
  }
 },
 "nbformat": 4,
 "nbformat_minor": 5
}
