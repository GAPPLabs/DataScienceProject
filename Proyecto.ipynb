{
 "cells": [
  {
   "cell_type": "markdown",
   "id": "cc0e109c",
   "metadata": {},
   "source": [
    "# Data Science Project"
   ]
  },
  {
   "cell_type": "markdown",
   "id": "7d803734",
   "metadata": {},
   "source": [
    "Importando las bilbiotecas empleadas"
   ]
  },
  {
   "cell_type": "code",
   "execution_count": 1,
   "id": "781c1d8b",
   "metadata": {},
   "outputs": [],
   "source": [
    "import pandas as pd\n",
    "import numpy as np\n",
    "import matplotlib.pyplot as plt\n",
    "import seaborn as sb\n",
    "import re, functools\n",
    "from sklearn.preprocessing import MinMaxScaler, RobustScaler, StandardScaler\n",
    "from sklearn.model_selection import train_test_split"
   ]
  },
  {
   "cell_type": "markdown",
   "id": "37ecfd93",
   "metadata": {},
   "source": [
    "Leyendo el archivo del conjunto de datos filtrando las dos columnas a usar:"
   ]
  },
  {
   "cell_type": "code",
   "execution_count": 2,
   "id": "9254d6ed",
   "metadata": {
    "scrolled": true
   },
   "outputs": [],
   "source": [
    "dataframe = (pd.read_csv(\"futbol.csv\")).filter([\"ID\", \"Age\", \"Nationality\",\"Club\",\"Value\", \"Wage\", \"Preferred Foot\", \"Position\", \"Joined\",\"Loaned From\", \"Contract Valid Until\", \"Height\", \"Weight\", \"Release Clause\"]).rename(columns={\"Preferred Foot\":'Preferred_foot', 'Loaned From': 'Loaned_from', 'Contract Valid Until':'Contract_Valid_Until', 'Release Clause': 'Release_clause'})"
   ]
  },
  {
   "cell_type": "markdown",
   "id": "3673a615",
   "metadata": {},
   "source": [
    "Visualización del marco de datos importados"
   ]
  },
  {
   "cell_type": "code",
   "execution_count": 3,
   "id": "38a871eb",
   "metadata": {},
   "outputs": [
    {
     "data": {
      "text/plain": "           ID  Age Nationality                 Club    Value   Wage  \\\n0      158023   31   Argentina         FC Barcelona  €110.5M  €565K   \n1       20801   33    Portugal             Juventus     €77M  €405K   \n2      190871   26      Brazil  Paris Saint-Germain  €118.5M  €290K   \n3      193080   27       Spain    Manchester United     €72M  €260K   \n4      192985   27     Belgium      Manchester City    €102M  €355K   \n...       ...  ...         ...                  ...      ...    ...   \n18202  238813   19     England      Crewe Alexandra     €60K    €1K   \n18203  243165   19      Sweden       Trelleborgs FF     €60K    €1K   \n18204  241638   16     England     Cambridge United     €60K    €1K   \n18205  246268   17     England      Tranmere Rovers     €60K    €1K   \n18206  246269   16     England      Tranmere Rovers     €60K    €1K   \n\n      Preferred_foot Position        Joined Loaned_from Contract_Valid_Until  \\\n0               Left       RF   Jul 1, 2004         NaN                 2021   \n1              Right       ST  Jul 10, 2018         NaN                 2022   \n2              Right       LW   Aug 3, 2017         NaN                 2022   \n3              Right       GK   Jul 1, 2011         NaN                 2020   \n4              Right      RCM  Aug 30, 2015         NaN                 2023   \n...              ...      ...           ...         ...                  ...   \n18202          Right       CM   May 3, 2017         NaN                 2019   \n18203          Right       ST  Mar 19, 2018         NaN                 2020   \n18204          Right       ST   Jul 1, 2017         NaN                 2021   \n18205          Right       RW  Apr 24, 2018         NaN                 2019   \n18206          Right       CM  Oct 30, 2018         NaN                 2019   \n\n      Height  Weight Release_clause  \n0        5'7  159lbs        €226.5M  \n1        6'2  183lbs        €127.1M  \n2        5'9  150lbs        €228.1M  \n3        6'4  168lbs        €138.6M  \n4       5'11  154lbs        €196.4M  \n...      ...     ...            ...  \n18202    5'9  134lbs          €143K  \n18203    6'3  170lbs          €113K  \n18204    5'8  148lbs          €165K  \n18205   5'10  154lbs          €143K  \n18206   5'10  176lbs          €165K  \n\n[18207 rows x 14 columns]",
      "text/html": "<div>\n<style scoped>\n    .dataframe tbody tr th:only-of-type {\n        vertical-align: middle;\n    }\n\n    .dataframe tbody tr th {\n        vertical-align: top;\n    }\n\n    .dataframe thead th {\n        text-align: right;\n    }\n</style>\n<table border=\"1\" class=\"dataframe\">\n  <thead>\n    <tr style=\"text-align: right;\">\n      <th></th>\n      <th>ID</th>\n      <th>Age</th>\n      <th>Nationality</th>\n      <th>Club</th>\n      <th>Value</th>\n      <th>Wage</th>\n      <th>Preferred_foot</th>\n      <th>Position</th>\n      <th>Joined</th>\n      <th>Loaned_from</th>\n      <th>Contract_Valid_Until</th>\n      <th>Height</th>\n      <th>Weight</th>\n      <th>Release_clause</th>\n    </tr>\n  </thead>\n  <tbody>\n    <tr>\n      <th>0</th>\n      <td>158023</td>\n      <td>31</td>\n      <td>Argentina</td>\n      <td>FC Barcelona</td>\n      <td>€110.5M</td>\n      <td>€565K</td>\n      <td>Left</td>\n      <td>RF</td>\n      <td>Jul 1, 2004</td>\n      <td>NaN</td>\n      <td>2021</td>\n      <td>5'7</td>\n      <td>159lbs</td>\n      <td>€226.5M</td>\n    </tr>\n    <tr>\n      <th>1</th>\n      <td>20801</td>\n      <td>33</td>\n      <td>Portugal</td>\n      <td>Juventus</td>\n      <td>€77M</td>\n      <td>€405K</td>\n      <td>Right</td>\n      <td>ST</td>\n      <td>Jul 10, 2018</td>\n      <td>NaN</td>\n      <td>2022</td>\n      <td>6'2</td>\n      <td>183lbs</td>\n      <td>€127.1M</td>\n    </tr>\n    <tr>\n      <th>2</th>\n      <td>190871</td>\n      <td>26</td>\n      <td>Brazil</td>\n      <td>Paris Saint-Germain</td>\n      <td>€118.5M</td>\n      <td>€290K</td>\n      <td>Right</td>\n      <td>LW</td>\n      <td>Aug 3, 2017</td>\n      <td>NaN</td>\n      <td>2022</td>\n      <td>5'9</td>\n      <td>150lbs</td>\n      <td>€228.1M</td>\n    </tr>\n    <tr>\n      <th>3</th>\n      <td>193080</td>\n      <td>27</td>\n      <td>Spain</td>\n      <td>Manchester United</td>\n      <td>€72M</td>\n      <td>€260K</td>\n      <td>Right</td>\n      <td>GK</td>\n      <td>Jul 1, 2011</td>\n      <td>NaN</td>\n      <td>2020</td>\n      <td>6'4</td>\n      <td>168lbs</td>\n      <td>€138.6M</td>\n    </tr>\n    <tr>\n      <th>4</th>\n      <td>192985</td>\n      <td>27</td>\n      <td>Belgium</td>\n      <td>Manchester City</td>\n      <td>€102M</td>\n      <td>€355K</td>\n      <td>Right</td>\n      <td>RCM</td>\n      <td>Aug 30, 2015</td>\n      <td>NaN</td>\n      <td>2023</td>\n      <td>5'11</td>\n      <td>154lbs</td>\n      <td>€196.4M</td>\n    </tr>\n    <tr>\n      <th>...</th>\n      <td>...</td>\n      <td>...</td>\n      <td>...</td>\n      <td>...</td>\n      <td>...</td>\n      <td>...</td>\n      <td>...</td>\n      <td>...</td>\n      <td>...</td>\n      <td>...</td>\n      <td>...</td>\n      <td>...</td>\n      <td>...</td>\n      <td>...</td>\n    </tr>\n    <tr>\n      <th>18202</th>\n      <td>238813</td>\n      <td>19</td>\n      <td>England</td>\n      <td>Crewe Alexandra</td>\n      <td>€60K</td>\n      <td>€1K</td>\n      <td>Right</td>\n      <td>CM</td>\n      <td>May 3, 2017</td>\n      <td>NaN</td>\n      <td>2019</td>\n      <td>5'9</td>\n      <td>134lbs</td>\n      <td>€143K</td>\n    </tr>\n    <tr>\n      <th>18203</th>\n      <td>243165</td>\n      <td>19</td>\n      <td>Sweden</td>\n      <td>Trelleborgs FF</td>\n      <td>€60K</td>\n      <td>€1K</td>\n      <td>Right</td>\n      <td>ST</td>\n      <td>Mar 19, 2018</td>\n      <td>NaN</td>\n      <td>2020</td>\n      <td>6'3</td>\n      <td>170lbs</td>\n      <td>€113K</td>\n    </tr>\n    <tr>\n      <th>18204</th>\n      <td>241638</td>\n      <td>16</td>\n      <td>England</td>\n      <td>Cambridge United</td>\n      <td>€60K</td>\n      <td>€1K</td>\n      <td>Right</td>\n      <td>ST</td>\n      <td>Jul 1, 2017</td>\n      <td>NaN</td>\n      <td>2021</td>\n      <td>5'8</td>\n      <td>148lbs</td>\n      <td>€165K</td>\n    </tr>\n    <tr>\n      <th>18205</th>\n      <td>246268</td>\n      <td>17</td>\n      <td>England</td>\n      <td>Tranmere Rovers</td>\n      <td>€60K</td>\n      <td>€1K</td>\n      <td>Right</td>\n      <td>RW</td>\n      <td>Apr 24, 2018</td>\n      <td>NaN</td>\n      <td>2019</td>\n      <td>5'10</td>\n      <td>154lbs</td>\n      <td>€143K</td>\n    </tr>\n    <tr>\n      <th>18206</th>\n      <td>246269</td>\n      <td>16</td>\n      <td>England</td>\n      <td>Tranmere Rovers</td>\n      <td>€60K</td>\n      <td>€1K</td>\n      <td>Right</td>\n      <td>CM</td>\n      <td>Oct 30, 2018</td>\n      <td>NaN</td>\n      <td>2019</td>\n      <td>5'10</td>\n      <td>176lbs</td>\n      <td>€165K</td>\n    </tr>\n  </tbody>\n</table>\n<p>18207 rows × 14 columns</p>\n</div>"
     },
     "execution_count": 3,
     "metadata": {},
     "output_type": "execute_result"
    }
   ],
   "source": [
    "dataframe"
   ]
  },
  {
   "cell_type": "markdown",
   "id": "7ad1f9fa",
   "metadata": {},
   "source": [
    "Visualizar cantidad de datos nulos por columna"
   ]
  },
  {
   "cell_type": "code",
   "execution_count": 4,
   "id": "e9bada6c",
   "metadata": {},
   "outputs": [
    {
     "data": {
      "text/plain": "                      Datos nulos\nID                              0\nAge                             0\nNationality                     0\nClub                          241\nValue                           0\nWage                            0\nPreferred_foot                 48\nPosition                       60\nJoined                       1553\nLoaned_from                 16943\nContract_Valid_Until          289\nHeight                         48\nWeight                         48\nRelease_clause               1564",
      "text/html": "<div>\n<style scoped>\n    .dataframe tbody tr th:only-of-type {\n        vertical-align: middle;\n    }\n\n    .dataframe tbody tr th {\n        vertical-align: top;\n    }\n\n    .dataframe thead th {\n        text-align: right;\n    }\n</style>\n<table border=\"1\" class=\"dataframe\">\n  <thead>\n    <tr style=\"text-align: right;\">\n      <th></th>\n      <th>Datos nulos</th>\n    </tr>\n  </thead>\n  <tbody>\n    <tr>\n      <th>ID</th>\n      <td>0</td>\n    </tr>\n    <tr>\n      <th>Age</th>\n      <td>0</td>\n    </tr>\n    <tr>\n      <th>Nationality</th>\n      <td>0</td>\n    </tr>\n    <tr>\n      <th>Club</th>\n      <td>241</td>\n    </tr>\n    <tr>\n      <th>Value</th>\n      <td>0</td>\n    </tr>\n    <tr>\n      <th>Wage</th>\n      <td>0</td>\n    </tr>\n    <tr>\n      <th>Preferred_foot</th>\n      <td>48</td>\n    </tr>\n    <tr>\n      <th>Position</th>\n      <td>60</td>\n    </tr>\n    <tr>\n      <th>Joined</th>\n      <td>1553</td>\n    </tr>\n    <tr>\n      <th>Loaned_from</th>\n      <td>16943</td>\n    </tr>\n    <tr>\n      <th>Contract_Valid_Until</th>\n      <td>289</td>\n    </tr>\n    <tr>\n      <th>Height</th>\n      <td>48</td>\n    </tr>\n    <tr>\n      <th>Weight</th>\n      <td>48</td>\n    </tr>\n    <tr>\n      <th>Release_clause</th>\n      <td>1564</td>\n    </tr>\n  </tbody>\n</table>\n</div>"
     },
     "execution_count": 4,
     "metadata": {},
     "output_type": "execute_result"
    }
   ],
   "source": [
    "pd.DataFrame(dataframe.isnull().sum(), columns=['Datos nulos'])"
   ]
  },
  {
   "cell_type": "markdown",
   "id": "e1495c30",
   "metadata": {},
   "source": [
    "Mencionar que los datos nulos importantes son todos los que no sean de club y release clause porque se pueden sustituir valores"
   ]
  },
  {
   "cell_type": "markdown",
   "id": "48a25e7e",
   "metadata": {},
   "source": [
    "Visualizar cuáles de lso datos nulos se intersecan"
   ]
  },
  {
   "cell_type": "code",
   "execution_count": 5,
   "id": "7a91ed54",
   "metadata": {},
   "outputs": [
    {
     "data": {
      "text/plain": "           ID  Age       Nationality                           Club  Value  \\\n13236  177971   33          Scotland                       Rochdale  €120K   \n13237  195380   29         Nicaragua                Boyacá Chicó FC  €300K   \n13238  139317   35           England                   Notts County  €140K   \n13239  240437   20             Italy                        Brescia  €425K   \n13240  209462   24           England         Hamilton Academical FC  €400K   \n13241  219702   21            Poland                  Śląsk Wrocław  €425K   \n13242  225590   23         Argentina         Club Atlético Aldosivi  €450K   \n13243  233782   19           England                        Everton  €600K   \n13244  239158   30           Denmark                       Hobro IK  €230K   \n13245  242998   21            Brazil                   HJK Helsinki  €425K   \n13246  244022   22            France                     AS Béziers  €425K   \n13247  189238   28           Austria                 SV Mattersburg  €240K   \n13248  211511   24  Northern Ireland                Tranmere Rovers  €375K   \n13249  224055   27          China PR  Shanghai Greenland Shenhua FC  €250K   \n13250  244535   29          Paraguay               Itagüí Leones FC  €300K   \n13251  134968   34           Belgium                      NAC Breda  €150K   \n13252  225336   22           Albania                       Malmö FF  €375K   \n13253  171320   31          Scotland                Carlisle United  €200K   \n13254  246328   17           Germany                  VfB Stuttgart  €550K   \n13255  196921   25           Germany         Hamilton Academical FC  €325K   \n13256  202809   26           England                      Dundee FC  €325K   \n13257  226617   25    Korea Republic        Suwon Samsung Bluewings  €375K   \n13258  230713   23      Saudi Arabia                       Al Wehda  €350K   \n13259  234809   27             Chile                   CD Palestino  €300K   \n13260  246073   20             Spain                    Albacete BP  €425K   \n13261  221498   25      Saudi Arabia                       Al Nassr  €300K   \n13262  244026   24           Germany               TSV 1860 München  €325K   \n13263  244538   25           Austria       FC Admira Wacker Mödling  €325K   \n13264  201019   29            France               Grenoble Foot 38  €300K   \n13265  221499   28           England                Oldham Athletic  €300K   \n13266  237371   20            Sweden                    Hammarby IF  €525K   \n13267  242491   22          Colombia               Itagüí Leones FC  €450K   \n13268  153148   37            Poland                  Miedź Legnica  €100K   \n13269  244540   26          Colombia            Jaguares de Córdoba  €375K   \n13270  245564   19            Brazil                        Bologna  €525K   \n13271  213821   26             Chile                 CD Antofagasta  €290K   \n13272  240701   22          Scotland                      Dundee FC  €450K   \n13273  242237   25           Estonia                Kristiansund BK  €400K   \n13274  244029   27             Italy               TSV 1860 München  €325K   \n13275  244541   23         Venezuela                Boyacá Chicó FC  €375K   \n13276  211006   26      Saudi Arabia                        Al Raed  €290K   \n13277  215102   26             Chile               Deportes Iquique  €325K   \n13278  246078   17       Netherlands                     FC Utrecht  €550K   \n13279  239679   22             Italy                        Perugia  €350K   \n13280  244543   19            France                Montpellier HSC  €650K   \n13281  212800   27    Korea Republic                   Gyeongnam FC  €300K   \n13282  231232   25            Mexico    Tiburones Rojos de Veracruz  €375K   \n13283  232256   25          China PR            Guizhou Hengfeng FC  €325K   \n\n      Wage Preferred_foot Position Joined Loaned_from Contract_Valid_Until  \\\n13236  €1K            NaN      NaN    NaN         NaN                  NaN   \n13237  €1K            NaN      NaN    NaN         NaN                  NaN   \n13238  €3K            NaN      NaN    NaN         NaN                  NaN   \n13239  €1K            NaN      NaN    NaN         NaN                  NaN   \n13240  €1K            NaN      NaN    NaN         NaN                  NaN   \n13241  €1K            NaN      NaN    NaN         NaN                  NaN   \n13242  €2K            NaN      NaN    NaN         NaN                  NaN   \n13243  €5K            NaN      NaN    NaN         NaN                  NaN   \n13244  €2K            NaN      NaN    NaN         NaN                  NaN   \n13245  €1K            NaN      NaN    NaN         NaN                  NaN   \n13246  €2K            NaN      NaN    NaN         NaN                  NaN   \n13247  €3K            NaN      NaN    NaN         NaN                  NaN   \n13248  €2K            NaN      NaN    NaN         NaN                  NaN   \n13249  €3K            NaN      NaN    NaN         NaN                  NaN   \n13250  €1K            NaN      NaN    NaN         NaN                  NaN   \n13251  €2K            NaN      NaN    NaN         NaN                  NaN   \n13252  €1K            NaN      NaN    NaN         NaN                  NaN   \n13253  €2K            NaN      NaN    NaN         NaN                  NaN   \n13254  €2K            NaN      NaN    NaN         NaN                  NaN   \n13255  €1K            NaN      NaN    NaN         NaN                  NaN   \n13256  €1K            NaN      NaN    NaN         NaN                  NaN   \n13257  €2K            NaN      NaN    NaN         NaN                  NaN   \n13258  €3K            NaN      NaN    NaN         NaN                  NaN   \n13259  €1K            NaN      NaN    NaN         NaN                  NaN   \n13260  €1K            NaN      NaN    NaN         NaN                  NaN   \n13261  €5K            NaN      NaN    NaN         NaN                  NaN   \n13262  €1K            NaN      NaN    NaN         NaN                  NaN   \n13263  €2K            NaN      NaN    NaN         NaN                  NaN   \n13264  €1K            NaN      NaN    NaN         NaN                  NaN   \n13265  €3K            NaN      NaN    NaN         NaN                  NaN   \n13266  €1K            NaN      NaN    NaN         NaN                  NaN   \n13267  €1K            NaN      NaN    NaN         NaN                  NaN   \n13268  €1K            NaN      NaN    NaN         NaN                  NaN   \n13269  €1K            NaN      NaN    NaN         NaN                  NaN   \n13270  €1K            NaN      NaN    NaN         NaN                  NaN   \n13271  €1K            NaN      NaN    NaN         NaN                  NaN   \n13272  €1K            NaN      NaN    NaN         NaN                  NaN   \n13273  €1K            NaN      NaN    NaN         NaN                  NaN   \n13274  €2K            NaN      NaN    NaN         NaN                  NaN   \n13275  €1K            NaN      NaN    NaN         NaN                  NaN   \n13276  €3K            NaN      NaN    NaN         NaN                  NaN   \n13277  €1K            NaN      NaN    NaN         NaN                  NaN   \n13278  €1K            NaN      NaN    NaN         NaN                  NaN   \n13279  €1K            NaN      NaN    NaN         NaN                  NaN   \n13280  €2K            NaN      NaN    NaN         NaN                  NaN   \n13281  €1K            NaN      NaN    NaN         NaN                  NaN   \n13282  €2K            NaN      NaN    NaN         NaN                  NaN   \n13283  €2K            NaN      NaN    NaN         NaN                  NaN   \n\n      Height Weight Release_clause  \n13236    NaN    NaN            NaN  \n13237    NaN    NaN            NaN  \n13238    NaN    NaN            NaN  \n13239    NaN    NaN            NaN  \n13240    NaN    NaN            NaN  \n13241    NaN    NaN            NaN  \n13242    NaN    NaN            NaN  \n13243    NaN    NaN            NaN  \n13244    NaN    NaN            NaN  \n13245    NaN    NaN            NaN  \n13246    NaN    NaN            NaN  \n13247    NaN    NaN            NaN  \n13248    NaN    NaN            NaN  \n13249    NaN    NaN            NaN  \n13250    NaN    NaN            NaN  \n13251    NaN    NaN            NaN  \n13252    NaN    NaN            NaN  \n13253    NaN    NaN            NaN  \n13254    NaN    NaN            NaN  \n13255    NaN    NaN            NaN  \n13256    NaN    NaN            NaN  \n13257    NaN    NaN            NaN  \n13258    NaN    NaN            NaN  \n13259    NaN    NaN            NaN  \n13260    NaN    NaN            NaN  \n13261    NaN    NaN            NaN  \n13262    NaN    NaN            NaN  \n13263    NaN    NaN            NaN  \n13264    NaN    NaN            NaN  \n13265    NaN    NaN            NaN  \n13266    NaN    NaN            NaN  \n13267    NaN    NaN            NaN  \n13268    NaN    NaN            NaN  \n13269    NaN    NaN            NaN  \n13270    NaN    NaN            NaN  \n13271    NaN    NaN            NaN  \n13272    NaN    NaN            NaN  \n13273    NaN    NaN            NaN  \n13274    NaN    NaN            NaN  \n13275    NaN    NaN            NaN  \n13276    NaN    NaN            NaN  \n13277    NaN    NaN            NaN  \n13278    NaN    NaN            NaN  \n13279    NaN    NaN            NaN  \n13280    NaN    NaN            NaN  \n13281    NaN    NaN            NaN  \n13282    NaN    NaN            NaN  \n13283    NaN    NaN            NaN  ",
      "text/html": "<div>\n<style scoped>\n    .dataframe tbody tr th:only-of-type {\n        vertical-align: middle;\n    }\n\n    .dataframe tbody tr th {\n        vertical-align: top;\n    }\n\n    .dataframe thead th {\n        text-align: right;\n    }\n</style>\n<table border=\"1\" class=\"dataframe\">\n  <thead>\n    <tr style=\"text-align: right;\">\n      <th></th>\n      <th>ID</th>\n      <th>Age</th>\n      <th>Nationality</th>\n      <th>Club</th>\n      <th>Value</th>\n      <th>Wage</th>\n      <th>Preferred_foot</th>\n      <th>Position</th>\n      <th>Joined</th>\n      <th>Loaned_from</th>\n      <th>Contract_Valid_Until</th>\n      <th>Height</th>\n      <th>Weight</th>\n      <th>Release_clause</th>\n    </tr>\n  </thead>\n  <tbody>\n    <tr>\n      <th>13236</th>\n      <td>177971</td>\n      <td>33</td>\n      <td>Scotland</td>\n      <td>Rochdale</td>\n      <td>€120K</td>\n      <td>€1K</td>\n      <td>NaN</td>\n      <td>NaN</td>\n      <td>NaN</td>\n      <td>NaN</td>\n      <td>NaN</td>\n      <td>NaN</td>\n      <td>NaN</td>\n      <td>NaN</td>\n    </tr>\n    <tr>\n      <th>13237</th>\n      <td>195380</td>\n      <td>29</td>\n      <td>Nicaragua</td>\n      <td>Boyacá Chicó FC</td>\n      <td>€300K</td>\n      <td>€1K</td>\n      <td>NaN</td>\n      <td>NaN</td>\n      <td>NaN</td>\n      <td>NaN</td>\n      <td>NaN</td>\n      <td>NaN</td>\n      <td>NaN</td>\n      <td>NaN</td>\n    </tr>\n    <tr>\n      <th>13238</th>\n      <td>139317</td>\n      <td>35</td>\n      <td>England</td>\n      <td>Notts County</td>\n      <td>€140K</td>\n      <td>€3K</td>\n      <td>NaN</td>\n      <td>NaN</td>\n      <td>NaN</td>\n      <td>NaN</td>\n      <td>NaN</td>\n      <td>NaN</td>\n      <td>NaN</td>\n      <td>NaN</td>\n    </tr>\n    <tr>\n      <th>13239</th>\n      <td>240437</td>\n      <td>20</td>\n      <td>Italy</td>\n      <td>Brescia</td>\n      <td>€425K</td>\n      <td>€1K</td>\n      <td>NaN</td>\n      <td>NaN</td>\n      <td>NaN</td>\n      <td>NaN</td>\n      <td>NaN</td>\n      <td>NaN</td>\n      <td>NaN</td>\n      <td>NaN</td>\n    </tr>\n    <tr>\n      <th>13240</th>\n      <td>209462</td>\n      <td>24</td>\n      <td>England</td>\n      <td>Hamilton Academical FC</td>\n      <td>€400K</td>\n      <td>€1K</td>\n      <td>NaN</td>\n      <td>NaN</td>\n      <td>NaN</td>\n      <td>NaN</td>\n      <td>NaN</td>\n      <td>NaN</td>\n      <td>NaN</td>\n      <td>NaN</td>\n    </tr>\n    <tr>\n      <th>13241</th>\n      <td>219702</td>\n      <td>21</td>\n      <td>Poland</td>\n      <td>Śląsk Wrocław</td>\n      <td>€425K</td>\n      <td>€1K</td>\n      <td>NaN</td>\n      <td>NaN</td>\n      <td>NaN</td>\n      <td>NaN</td>\n      <td>NaN</td>\n      <td>NaN</td>\n      <td>NaN</td>\n      <td>NaN</td>\n    </tr>\n    <tr>\n      <th>13242</th>\n      <td>225590</td>\n      <td>23</td>\n      <td>Argentina</td>\n      <td>Club Atlético Aldosivi</td>\n      <td>€450K</td>\n      <td>€2K</td>\n      <td>NaN</td>\n      <td>NaN</td>\n      <td>NaN</td>\n      <td>NaN</td>\n      <td>NaN</td>\n      <td>NaN</td>\n      <td>NaN</td>\n      <td>NaN</td>\n    </tr>\n    <tr>\n      <th>13243</th>\n      <td>233782</td>\n      <td>19</td>\n      <td>England</td>\n      <td>Everton</td>\n      <td>€600K</td>\n      <td>€5K</td>\n      <td>NaN</td>\n      <td>NaN</td>\n      <td>NaN</td>\n      <td>NaN</td>\n      <td>NaN</td>\n      <td>NaN</td>\n      <td>NaN</td>\n      <td>NaN</td>\n    </tr>\n    <tr>\n      <th>13244</th>\n      <td>239158</td>\n      <td>30</td>\n      <td>Denmark</td>\n      <td>Hobro IK</td>\n      <td>€230K</td>\n      <td>€2K</td>\n      <td>NaN</td>\n      <td>NaN</td>\n      <td>NaN</td>\n      <td>NaN</td>\n      <td>NaN</td>\n      <td>NaN</td>\n      <td>NaN</td>\n      <td>NaN</td>\n    </tr>\n    <tr>\n      <th>13245</th>\n      <td>242998</td>\n      <td>21</td>\n      <td>Brazil</td>\n      <td>HJK Helsinki</td>\n      <td>€425K</td>\n      <td>€1K</td>\n      <td>NaN</td>\n      <td>NaN</td>\n      <td>NaN</td>\n      <td>NaN</td>\n      <td>NaN</td>\n      <td>NaN</td>\n      <td>NaN</td>\n      <td>NaN</td>\n    </tr>\n    <tr>\n      <th>13246</th>\n      <td>244022</td>\n      <td>22</td>\n      <td>France</td>\n      <td>AS Béziers</td>\n      <td>€425K</td>\n      <td>€2K</td>\n      <td>NaN</td>\n      <td>NaN</td>\n      <td>NaN</td>\n      <td>NaN</td>\n      <td>NaN</td>\n      <td>NaN</td>\n      <td>NaN</td>\n      <td>NaN</td>\n    </tr>\n    <tr>\n      <th>13247</th>\n      <td>189238</td>\n      <td>28</td>\n      <td>Austria</td>\n      <td>SV Mattersburg</td>\n      <td>€240K</td>\n      <td>€3K</td>\n      <td>NaN</td>\n      <td>NaN</td>\n      <td>NaN</td>\n      <td>NaN</td>\n      <td>NaN</td>\n      <td>NaN</td>\n      <td>NaN</td>\n      <td>NaN</td>\n    </tr>\n    <tr>\n      <th>13248</th>\n      <td>211511</td>\n      <td>24</td>\n      <td>Northern Ireland</td>\n      <td>Tranmere Rovers</td>\n      <td>€375K</td>\n      <td>€2K</td>\n      <td>NaN</td>\n      <td>NaN</td>\n      <td>NaN</td>\n      <td>NaN</td>\n      <td>NaN</td>\n      <td>NaN</td>\n      <td>NaN</td>\n      <td>NaN</td>\n    </tr>\n    <tr>\n      <th>13249</th>\n      <td>224055</td>\n      <td>27</td>\n      <td>China PR</td>\n      <td>Shanghai Greenland Shenhua FC</td>\n      <td>€250K</td>\n      <td>€3K</td>\n      <td>NaN</td>\n      <td>NaN</td>\n      <td>NaN</td>\n      <td>NaN</td>\n      <td>NaN</td>\n      <td>NaN</td>\n      <td>NaN</td>\n      <td>NaN</td>\n    </tr>\n    <tr>\n      <th>13250</th>\n      <td>244535</td>\n      <td>29</td>\n      <td>Paraguay</td>\n      <td>Itagüí Leones FC</td>\n      <td>€300K</td>\n      <td>€1K</td>\n      <td>NaN</td>\n      <td>NaN</td>\n      <td>NaN</td>\n      <td>NaN</td>\n      <td>NaN</td>\n      <td>NaN</td>\n      <td>NaN</td>\n      <td>NaN</td>\n    </tr>\n    <tr>\n      <th>13251</th>\n      <td>134968</td>\n      <td>34</td>\n      <td>Belgium</td>\n      <td>NAC Breda</td>\n      <td>€150K</td>\n      <td>€2K</td>\n      <td>NaN</td>\n      <td>NaN</td>\n      <td>NaN</td>\n      <td>NaN</td>\n      <td>NaN</td>\n      <td>NaN</td>\n      <td>NaN</td>\n      <td>NaN</td>\n    </tr>\n    <tr>\n      <th>13252</th>\n      <td>225336</td>\n      <td>22</td>\n      <td>Albania</td>\n      <td>Malmö FF</td>\n      <td>€375K</td>\n      <td>€1K</td>\n      <td>NaN</td>\n      <td>NaN</td>\n      <td>NaN</td>\n      <td>NaN</td>\n      <td>NaN</td>\n      <td>NaN</td>\n      <td>NaN</td>\n      <td>NaN</td>\n    </tr>\n    <tr>\n      <th>13253</th>\n      <td>171320</td>\n      <td>31</td>\n      <td>Scotland</td>\n      <td>Carlisle United</td>\n      <td>€200K</td>\n      <td>€2K</td>\n      <td>NaN</td>\n      <td>NaN</td>\n      <td>NaN</td>\n      <td>NaN</td>\n      <td>NaN</td>\n      <td>NaN</td>\n      <td>NaN</td>\n      <td>NaN</td>\n    </tr>\n    <tr>\n      <th>13254</th>\n      <td>246328</td>\n      <td>17</td>\n      <td>Germany</td>\n      <td>VfB Stuttgart</td>\n      <td>€550K</td>\n      <td>€2K</td>\n      <td>NaN</td>\n      <td>NaN</td>\n      <td>NaN</td>\n      <td>NaN</td>\n      <td>NaN</td>\n      <td>NaN</td>\n      <td>NaN</td>\n      <td>NaN</td>\n    </tr>\n    <tr>\n      <th>13255</th>\n      <td>196921</td>\n      <td>25</td>\n      <td>Germany</td>\n      <td>Hamilton Academical FC</td>\n      <td>€325K</td>\n      <td>€1K</td>\n      <td>NaN</td>\n      <td>NaN</td>\n      <td>NaN</td>\n      <td>NaN</td>\n      <td>NaN</td>\n      <td>NaN</td>\n      <td>NaN</td>\n      <td>NaN</td>\n    </tr>\n    <tr>\n      <th>13256</th>\n      <td>202809</td>\n      <td>26</td>\n      <td>England</td>\n      <td>Dundee FC</td>\n      <td>€325K</td>\n      <td>€1K</td>\n      <td>NaN</td>\n      <td>NaN</td>\n      <td>NaN</td>\n      <td>NaN</td>\n      <td>NaN</td>\n      <td>NaN</td>\n      <td>NaN</td>\n      <td>NaN</td>\n    </tr>\n    <tr>\n      <th>13257</th>\n      <td>226617</td>\n      <td>25</td>\n      <td>Korea Republic</td>\n      <td>Suwon Samsung Bluewings</td>\n      <td>€375K</td>\n      <td>€2K</td>\n      <td>NaN</td>\n      <td>NaN</td>\n      <td>NaN</td>\n      <td>NaN</td>\n      <td>NaN</td>\n      <td>NaN</td>\n      <td>NaN</td>\n      <td>NaN</td>\n    </tr>\n    <tr>\n      <th>13258</th>\n      <td>230713</td>\n      <td>23</td>\n      <td>Saudi Arabia</td>\n      <td>Al Wehda</td>\n      <td>€350K</td>\n      <td>€3K</td>\n      <td>NaN</td>\n      <td>NaN</td>\n      <td>NaN</td>\n      <td>NaN</td>\n      <td>NaN</td>\n      <td>NaN</td>\n      <td>NaN</td>\n      <td>NaN</td>\n    </tr>\n    <tr>\n      <th>13259</th>\n      <td>234809</td>\n      <td>27</td>\n      <td>Chile</td>\n      <td>CD Palestino</td>\n      <td>€300K</td>\n      <td>€1K</td>\n      <td>NaN</td>\n      <td>NaN</td>\n      <td>NaN</td>\n      <td>NaN</td>\n      <td>NaN</td>\n      <td>NaN</td>\n      <td>NaN</td>\n      <td>NaN</td>\n    </tr>\n    <tr>\n      <th>13260</th>\n      <td>246073</td>\n      <td>20</td>\n      <td>Spain</td>\n      <td>Albacete BP</td>\n      <td>€425K</td>\n      <td>€1K</td>\n      <td>NaN</td>\n      <td>NaN</td>\n      <td>NaN</td>\n      <td>NaN</td>\n      <td>NaN</td>\n      <td>NaN</td>\n      <td>NaN</td>\n      <td>NaN</td>\n    </tr>\n    <tr>\n      <th>13261</th>\n      <td>221498</td>\n      <td>25</td>\n      <td>Saudi Arabia</td>\n      <td>Al Nassr</td>\n      <td>€300K</td>\n      <td>€5K</td>\n      <td>NaN</td>\n      <td>NaN</td>\n      <td>NaN</td>\n      <td>NaN</td>\n      <td>NaN</td>\n      <td>NaN</td>\n      <td>NaN</td>\n      <td>NaN</td>\n    </tr>\n    <tr>\n      <th>13262</th>\n      <td>244026</td>\n      <td>24</td>\n      <td>Germany</td>\n      <td>TSV 1860 München</td>\n      <td>€325K</td>\n      <td>€1K</td>\n      <td>NaN</td>\n      <td>NaN</td>\n      <td>NaN</td>\n      <td>NaN</td>\n      <td>NaN</td>\n      <td>NaN</td>\n      <td>NaN</td>\n      <td>NaN</td>\n    </tr>\n    <tr>\n      <th>13263</th>\n      <td>244538</td>\n      <td>25</td>\n      <td>Austria</td>\n      <td>FC Admira Wacker Mödling</td>\n      <td>€325K</td>\n      <td>€2K</td>\n      <td>NaN</td>\n      <td>NaN</td>\n      <td>NaN</td>\n      <td>NaN</td>\n      <td>NaN</td>\n      <td>NaN</td>\n      <td>NaN</td>\n      <td>NaN</td>\n    </tr>\n    <tr>\n      <th>13264</th>\n      <td>201019</td>\n      <td>29</td>\n      <td>France</td>\n      <td>Grenoble Foot 38</td>\n      <td>€300K</td>\n      <td>€1K</td>\n      <td>NaN</td>\n      <td>NaN</td>\n      <td>NaN</td>\n      <td>NaN</td>\n      <td>NaN</td>\n      <td>NaN</td>\n      <td>NaN</td>\n      <td>NaN</td>\n    </tr>\n    <tr>\n      <th>13265</th>\n      <td>221499</td>\n      <td>28</td>\n      <td>England</td>\n      <td>Oldham Athletic</td>\n      <td>€300K</td>\n      <td>€3K</td>\n      <td>NaN</td>\n      <td>NaN</td>\n      <td>NaN</td>\n      <td>NaN</td>\n      <td>NaN</td>\n      <td>NaN</td>\n      <td>NaN</td>\n      <td>NaN</td>\n    </tr>\n    <tr>\n      <th>13266</th>\n      <td>237371</td>\n      <td>20</td>\n      <td>Sweden</td>\n      <td>Hammarby IF</td>\n      <td>€525K</td>\n      <td>€1K</td>\n      <td>NaN</td>\n      <td>NaN</td>\n      <td>NaN</td>\n      <td>NaN</td>\n      <td>NaN</td>\n      <td>NaN</td>\n      <td>NaN</td>\n      <td>NaN</td>\n    </tr>\n    <tr>\n      <th>13267</th>\n      <td>242491</td>\n      <td>22</td>\n      <td>Colombia</td>\n      <td>Itagüí Leones FC</td>\n      <td>€450K</td>\n      <td>€1K</td>\n      <td>NaN</td>\n      <td>NaN</td>\n      <td>NaN</td>\n      <td>NaN</td>\n      <td>NaN</td>\n      <td>NaN</td>\n      <td>NaN</td>\n      <td>NaN</td>\n    </tr>\n    <tr>\n      <th>13268</th>\n      <td>153148</td>\n      <td>37</td>\n      <td>Poland</td>\n      <td>Miedź Legnica</td>\n      <td>€100K</td>\n      <td>€1K</td>\n      <td>NaN</td>\n      <td>NaN</td>\n      <td>NaN</td>\n      <td>NaN</td>\n      <td>NaN</td>\n      <td>NaN</td>\n      <td>NaN</td>\n      <td>NaN</td>\n    </tr>\n    <tr>\n      <th>13269</th>\n      <td>244540</td>\n      <td>26</td>\n      <td>Colombia</td>\n      <td>Jaguares de Córdoba</td>\n      <td>€375K</td>\n      <td>€1K</td>\n      <td>NaN</td>\n      <td>NaN</td>\n      <td>NaN</td>\n      <td>NaN</td>\n      <td>NaN</td>\n      <td>NaN</td>\n      <td>NaN</td>\n      <td>NaN</td>\n    </tr>\n    <tr>\n      <th>13270</th>\n      <td>245564</td>\n      <td>19</td>\n      <td>Brazil</td>\n      <td>Bologna</td>\n      <td>€525K</td>\n      <td>€1K</td>\n      <td>NaN</td>\n      <td>NaN</td>\n      <td>NaN</td>\n      <td>NaN</td>\n      <td>NaN</td>\n      <td>NaN</td>\n      <td>NaN</td>\n      <td>NaN</td>\n    </tr>\n    <tr>\n      <th>13271</th>\n      <td>213821</td>\n      <td>26</td>\n      <td>Chile</td>\n      <td>CD Antofagasta</td>\n      <td>€290K</td>\n      <td>€1K</td>\n      <td>NaN</td>\n      <td>NaN</td>\n      <td>NaN</td>\n      <td>NaN</td>\n      <td>NaN</td>\n      <td>NaN</td>\n      <td>NaN</td>\n      <td>NaN</td>\n    </tr>\n    <tr>\n      <th>13272</th>\n      <td>240701</td>\n      <td>22</td>\n      <td>Scotland</td>\n      <td>Dundee FC</td>\n      <td>€450K</td>\n      <td>€1K</td>\n      <td>NaN</td>\n      <td>NaN</td>\n      <td>NaN</td>\n      <td>NaN</td>\n      <td>NaN</td>\n      <td>NaN</td>\n      <td>NaN</td>\n      <td>NaN</td>\n    </tr>\n    <tr>\n      <th>13273</th>\n      <td>242237</td>\n      <td>25</td>\n      <td>Estonia</td>\n      <td>Kristiansund BK</td>\n      <td>€400K</td>\n      <td>€1K</td>\n      <td>NaN</td>\n      <td>NaN</td>\n      <td>NaN</td>\n      <td>NaN</td>\n      <td>NaN</td>\n      <td>NaN</td>\n      <td>NaN</td>\n      <td>NaN</td>\n    </tr>\n    <tr>\n      <th>13274</th>\n      <td>244029</td>\n      <td>27</td>\n      <td>Italy</td>\n      <td>TSV 1860 München</td>\n      <td>€325K</td>\n      <td>€2K</td>\n      <td>NaN</td>\n      <td>NaN</td>\n      <td>NaN</td>\n      <td>NaN</td>\n      <td>NaN</td>\n      <td>NaN</td>\n      <td>NaN</td>\n      <td>NaN</td>\n    </tr>\n    <tr>\n      <th>13275</th>\n      <td>244541</td>\n      <td>23</td>\n      <td>Venezuela</td>\n      <td>Boyacá Chicó FC</td>\n      <td>€375K</td>\n      <td>€1K</td>\n      <td>NaN</td>\n      <td>NaN</td>\n      <td>NaN</td>\n      <td>NaN</td>\n      <td>NaN</td>\n      <td>NaN</td>\n      <td>NaN</td>\n      <td>NaN</td>\n    </tr>\n    <tr>\n      <th>13276</th>\n      <td>211006</td>\n      <td>26</td>\n      <td>Saudi Arabia</td>\n      <td>Al Raed</td>\n      <td>€290K</td>\n      <td>€3K</td>\n      <td>NaN</td>\n      <td>NaN</td>\n      <td>NaN</td>\n      <td>NaN</td>\n      <td>NaN</td>\n      <td>NaN</td>\n      <td>NaN</td>\n      <td>NaN</td>\n    </tr>\n    <tr>\n      <th>13277</th>\n      <td>215102</td>\n      <td>26</td>\n      <td>Chile</td>\n      <td>Deportes Iquique</td>\n      <td>€325K</td>\n      <td>€1K</td>\n      <td>NaN</td>\n      <td>NaN</td>\n      <td>NaN</td>\n      <td>NaN</td>\n      <td>NaN</td>\n      <td>NaN</td>\n      <td>NaN</td>\n      <td>NaN</td>\n    </tr>\n    <tr>\n      <th>13278</th>\n      <td>246078</td>\n      <td>17</td>\n      <td>Netherlands</td>\n      <td>FC Utrecht</td>\n      <td>€550K</td>\n      <td>€1K</td>\n      <td>NaN</td>\n      <td>NaN</td>\n      <td>NaN</td>\n      <td>NaN</td>\n      <td>NaN</td>\n      <td>NaN</td>\n      <td>NaN</td>\n      <td>NaN</td>\n    </tr>\n    <tr>\n      <th>13279</th>\n      <td>239679</td>\n      <td>22</td>\n      <td>Italy</td>\n      <td>Perugia</td>\n      <td>€350K</td>\n      <td>€1K</td>\n      <td>NaN</td>\n      <td>NaN</td>\n      <td>NaN</td>\n      <td>NaN</td>\n      <td>NaN</td>\n      <td>NaN</td>\n      <td>NaN</td>\n      <td>NaN</td>\n    </tr>\n    <tr>\n      <th>13280</th>\n      <td>244543</td>\n      <td>19</td>\n      <td>France</td>\n      <td>Montpellier HSC</td>\n      <td>€650K</td>\n      <td>€2K</td>\n      <td>NaN</td>\n      <td>NaN</td>\n      <td>NaN</td>\n      <td>NaN</td>\n      <td>NaN</td>\n      <td>NaN</td>\n      <td>NaN</td>\n      <td>NaN</td>\n    </tr>\n    <tr>\n      <th>13281</th>\n      <td>212800</td>\n      <td>27</td>\n      <td>Korea Republic</td>\n      <td>Gyeongnam FC</td>\n      <td>€300K</td>\n      <td>€1K</td>\n      <td>NaN</td>\n      <td>NaN</td>\n      <td>NaN</td>\n      <td>NaN</td>\n      <td>NaN</td>\n      <td>NaN</td>\n      <td>NaN</td>\n      <td>NaN</td>\n    </tr>\n    <tr>\n      <th>13282</th>\n      <td>231232</td>\n      <td>25</td>\n      <td>Mexico</td>\n      <td>Tiburones Rojos de Veracruz</td>\n      <td>€375K</td>\n      <td>€2K</td>\n      <td>NaN</td>\n      <td>NaN</td>\n      <td>NaN</td>\n      <td>NaN</td>\n      <td>NaN</td>\n      <td>NaN</td>\n      <td>NaN</td>\n      <td>NaN</td>\n    </tr>\n    <tr>\n      <th>13283</th>\n      <td>232256</td>\n      <td>25</td>\n      <td>China PR</td>\n      <td>Guizhou Hengfeng FC</td>\n      <td>€325K</td>\n      <td>€2K</td>\n      <td>NaN</td>\n      <td>NaN</td>\n      <td>NaN</td>\n      <td>NaN</td>\n      <td>NaN</td>\n      <td>NaN</td>\n      <td>NaN</td>\n      <td>NaN</td>\n    </tr>\n  </tbody>\n</table>\n</div>"
     },
     "execution_count": 5,
     "metadata": {},
     "output_type": "execute_result"
    }
   ],
   "source": [
    "dataframe[dataframe.Preferred_foot.isnull() & dataframe.Position.isnull() & dataframe.Joined.isnull() & dataframe.Loaned_from.isnull() & dataframe.Contract_Valid_Until.isnull() & dataframe.Height.isnull() & dataframe.Weight.isnull()]"
   ]
  },
  {
   "cell_type": "markdown",
   "id": "5b8a5719",
   "metadata": {},
   "source": [
    "Eliminar esos 48 jugadores"
   ]
  },
  {
   "cell_type": "code",
   "execution_count": 6,
   "id": "878701e4",
   "metadata": {},
   "outputs": [
    {
     "data": {
      "text/plain": "           ID  Age Nationality                 Club    Value   Wage  \\\n0      158023   31   Argentina         FC Barcelona  €110.5M  €565K   \n1       20801   33    Portugal             Juventus     €77M  €405K   \n2      190871   26      Brazil  Paris Saint-Germain  €118.5M  €290K   \n3      193080   27       Spain    Manchester United     €72M  €260K   \n4      192985   27     Belgium      Manchester City    €102M  €355K   \n...       ...  ...         ...                  ...      ...    ...   \n18202  238813   19     England      Crewe Alexandra     €60K    €1K   \n18203  243165   19      Sweden       Trelleborgs FF     €60K    €1K   \n18204  241638   16     England     Cambridge United     €60K    €1K   \n18205  246268   17     England      Tranmere Rovers     €60K    €1K   \n18206  246269   16     England      Tranmere Rovers     €60K    €1K   \n\n      Preferred_foot Position        Joined Loaned_from Contract_Valid_Until  \\\n0               Left       RF   Jul 1, 2004         NaN                 2021   \n1              Right       ST  Jul 10, 2018         NaN                 2022   \n2              Right       LW   Aug 3, 2017         NaN                 2022   \n3              Right       GK   Jul 1, 2011         NaN                 2020   \n4              Right      RCM  Aug 30, 2015         NaN                 2023   \n...              ...      ...           ...         ...                  ...   \n18202          Right       CM   May 3, 2017         NaN                 2019   \n18203          Right       ST  Mar 19, 2018         NaN                 2020   \n18204          Right       ST   Jul 1, 2017         NaN                 2021   \n18205          Right       RW  Apr 24, 2018         NaN                 2019   \n18206          Right       CM  Oct 30, 2018         NaN                 2019   \n\n      Height  Weight Release_clause  \n0        5'7  159lbs        €226.5M  \n1        6'2  183lbs        €127.1M  \n2        5'9  150lbs        €228.1M  \n3        6'4  168lbs        €138.6M  \n4       5'11  154lbs        €196.4M  \n...      ...     ...            ...  \n18202    5'9  134lbs          €143K  \n18203    6'3  170lbs          €113K  \n18204    5'8  148lbs          €165K  \n18205   5'10  154lbs          €143K  \n18206   5'10  176lbs          €165K  \n\n[18147 rows x 14 columns]",
      "text/html": "<div>\n<style scoped>\n    .dataframe tbody tr th:only-of-type {\n        vertical-align: middle;\n    }\n\n    .dataframe tbody tr th {\n        vertical-align: top;\n    }\n\n    .dataframe thead th {\n        text-align: right;\n    }\n</style>\n<table border=\"1\" class=\"dataframe\">\n  <thead>\n    <tr style=\"text-align: right;\">\n      <th></th>\n      <th>ID</th>\n      <th>Age</th>\n      <th>Nationality</th>\n      <th>Club</th>\n      <th>Value</th>\n      <th>Wage</th>\n      <th>Preferred_foot</th>\n      <th>Position</th>\n      <th>Joined</th>\n      <th>Loaned_from</th>\n      <th>Contract_Valid_Until</th>\n      <th>Height</th>\n      <th>Weight</th>\n      <th>Release_clause</th>\n    </tr>\n  </thead>\n  <tbody>\n    <tr>\n      <th>0</th>\n      <td>158023</td>\n      <td>31</td>\n      <td>Argentina</td>\n      <td>FC Barcelona</td>\n      <td>€110.5M</td>\n      <td>€565K</td>\n      <td>Left</td>\n      <td>RF</td>\n      <td>Jul 1, 2004</td>\n      <td>NaN</td>\n      <td>2021</td>\n      <td>5'7</td>\n      <td>159lbs</td>\n      <td>€226.5M</td>\n    </tr>\n    <tr>\n      <th>1</th>\n      <td>20801</td>\n      <td>33</td>\n      <td>Portugal</td>\n      <td>Juventus</td>\n      <td>€77M</td>\n      <td>€405K</td>\n      <td>Right</td>\n      <td>ST</td>\n      <td>Jul 10, 2018</td>\n      <td>NaN</td>\n      <td>2022</td>\n      <td>6'2</td>\n      <td>183lbs</td>\n      <td>€127.1M</td>\n    </tr>\n    <tr>\n      <th>2</th>\n      <td>190871</td>\n      <td>26</td>\n      <td>Brazil</td>\n      <td>Paris Saint-Germain</td>\n      <td>€118.5M</td>\n      <td>€290K</td>\n      <td>Right</td>\n      <td>LW</td>\n      <td>Aug 3, 2017</td>\n      <td>NaN</td>\n      <td>2022</td>\n      <td>5'9</td>\n      <td>150lbs</td>\n      <td>€228.1M</td>\n    </tr>\n    <tr>\n      <th>3</th>\n      <td>193080</td>\n      <td>27</td>\n      <td>Spain</td>\n      <td>Manchester United</td>\n      <td>€72M</td>\n      <td>€260K</td>\n      <td>Right</td>\n      <td>GK</td>\n      <td>Jul 1, 2011</td>\n      <td>NaN</td>\n      <td>2020</td>\n      <td>6'4</td>\n      <td>168lbs</td>\n      <td>€138.6M</td>\n    </tr>\n    <tr>\n      <th>4</th>\n      <td>192985</td>\n      <td>27</td>\n      <td>Belgium</td>\n      <td>Manchester City</td>\n      <td>€102M</td>\n      <td>€355K</td>\n      <td>Right</td>\n      <td>RCM</td>\n      <td>Aug 30, 2015</td>\n      <td>NaN</td>\n      <td>2023</td>\n      <td>5'11</td>\n      <td>154lbs</td>\n      <td>€196.4M</td>\n    </tr>\n    <tr>\n      <th>...</th>\n      <td>...</td>\n      <td>...</td>\n      <td>...</td>\n      <td>...</td>\n      <td>...</td>\n      <td>...</td>\n      <td>...</td>\n      <td>...</td>\n      <td>...</td>\n      <td>...</td>\n      <td>...</td>\n      <td>...</td>\n      <td>...</td>\n      <td>...</td>\n    </tr>\n    <tr>\n      <th>18202</th>\n      <td>238813</td>\n      <td>19</td>\n      <td>England</td>\n      <td>Crewe Alexandra</td>\n      <td>€60K</td>\n      <td>€1K</td>\n      <td>Right</td>\n      <td>CM</td>\n      <td>May 3, 2017</td>\n      <td>NaN</td>\n      <td>2019</td>\n      <td>5'9</td>\n      <td>134lbs</td>\n      <td>€143K</td>\n    </tr>\n    <tr>\n      <th>18203</th>\n      <td>243165</td>\n      <td>19</td>\n      <td>Sweden</td>\n      <td>Trelleborgs FF</td>\n      <td>€60K</td>\n      <td>€1K</td>\n      <td>Right</td>\n      <td>ST</td>\n      <td>Mar 19, 2018</td>\n      <td>NaN</td>\n      <td>2020</td>\n      <td>6'3</td>\n      <td>170lbs</td>\n      <td>€113K</td>\n    </tr>\n    <tr>\n      <th>18204</th>\n      <td>241638</td>\n      <td>16</td>\n      <td>England</td>\n      <td>Cambridge United</td>\n      <td>€60K</td>\n      <td>€1K</td>\n      <td>Right</td>\n      <td>ST</td>\n      <td>Jul 1, 2017</td>\n      <td>NaN</td>\n      <td>2021</td>\n      <td>5'8</td>\n      <td>148lbs</td>\n      <td>€165K</td>\n    </tr>\n    <tr>\n      <th>18205</th>\n      <td>246268</td>\n      <td>17</td>\n      <td>England</td>\n      <td>Tranmere Rovers</td>\n      <td>€60K</td>\n      <td>€1K</td>\n      <td>Right</td>\n      <td>RW</td>\n      <td>Apr 24, 2018</td>\n      <td>NaN</td>\n      <td>2019</td>\n      <td>5'10</td>\n      <td>154lbs</td>\n      <td>€143K</td>\n    </tr>\n    <tr>\n      <th>18206</th>\n      <td>246269</td>\n      <td>16</td>\n      <td>England</td>\n      <td>Tranmere Rovers</td>\n      <td>€60K</td>\n      <td>€1K</td>\n      <td>Right</td>\n      <td>CM</td>\n      <td>Oct 30, 2018</td>\n      <td>NaN</td>\n      <td>2019</td>\n      <td>5'10</td>\n      <td>176lbs</td>\n      <td>€165K</td>\n    </tr>\n  </tbody>\n</table>\n<p>18147 rows × 14 columns</p>\n</div>"
     },
     "execution_count": 6,
     "metadata": {},
     "output_type": "execute_result"
    }
   ],
   "source": [
    "dataframe.dropna(subset=['Position'], inplace=True)\n",
    "dataframe"
   ]
  },
  {
   "cell_type": "markdown",
   "id": "5b310f40",
   "metadata": {},
   "source": [
    "Revisando los datos nulos de nuevo, se observa que ahora 229 no tienen lub y esos mismos 229 son los que no han de tener contrato"
   ]
  },
  {
   "cell_type": "code",
   "execution_count": 7,
   "id": "9edd5517",
   "metadata": {},
   "outputs": [
    {
     "data": {
      "text/plain": "                      Datos nulos\nID                              0\nAge                             0\nNationality                     0\nClub                          229\nValue                           0\nWage                            0\nPreferred_foot                  0\nPosition                        0\nJoined                       1493\nLoaned_from                 16883\nContract_Valid_Until          229\nHeight                          0\nWeight                          0\nRelease_clause               1504",
      "text/html": "<div>\n<style scoped>\n    .dataframe tbody tr th:only-of-type {\n        vertical-align: middle;\n    }\n\n    .dataframe tbody tr th {\n        vertical-align: top;\n    }\n\n    .dataframe thead th {\n        text-align: right;\n    }\n</style>\n<table border=\"1\" class=\"dataframe\">\n  <thead>\n    <tr style=\"text-align: right;\">\n      <th></th>\n      <th>Datos nulos</th>\n    </tr>\n  </thead>\n  <tbody>\n    <tr>\n      <th>ID</th>\n      <td>0</td>\n    </tr>\n    <tr>\n      <th>Age</th>\n      <td>0</td>\n    </tr>\n    <tr>\n      <th>Nationality</th>\n      <td>0</td>\n    </tr>\n    <tr>\n      <th>Club</th>\n      <td>229</td>\n    </tr>\n    <tr>\n      <th>Value</th>\n      <td>0</td>\n    </tr>\n    <tr>\n      <th>Wage</th>\n      <td>0</td>\n    </tr>\n    <tr>\n      <th>Preferred_foot</th>\n      <td>0</td>\n    </tr>\n    <tr>\n      <th>Position</th>\n      <td>0</td>\n    </tr>\n    <tr>\n      <th>Joined</th>\n      <td>1493</td>\n    </tr>\n    <tr>\n      <th>Loaned_from</th>\n      <td>16883</td>\n    </tr>\n    <tr>\n      <th>Contract_Valid_Until</th>\n      <td>229</td>\n    </tr>\n    <tr>\n      <th>Height</th>\n      <td>0</td>\n    </tr>\n    <tr>\n      <th>Weight</th>\n      <td>0</td>\n    </tr>\n    <tr>\n      <th>Release_clause</th>\n      <td>1504</td>\n    </tr>\n  </tbody>\n</table>\n</div>"
     },
     "execution_count": 7,
     "metadata": {},
     "output_type": "execute_result"
    }
   ],
   "source": [
    "pd.DataFrame(dataframe.isnull().sum(), columns=['Datos nulos'])"
   ]
  },
  {
   "cell_type": "markdown",
   "id": "9095f701",
   "metadata": {},
   "source": [
    "Buscamos la intersección de las variables con valores nulos así como se hizo el paso anterior"
   ]
  },
  {
   "cell_type": "code",
   "execution_count": 8,
   "id": "b9ce02d7",
   "metadata": {},
   "outputs": [
    {
     "data": {
      "text/plain": "           ID  Age Nationality Club Value Wage Preferred_foot Position Joined  \\\n452    207439   24   Argentina  NaN    €0   €0          Right       CM    NaN   \n538    156713   33      Sweden  NaN    €0   €0          Right      LCB    NaN   \n568    229909   26      Russia  NaN    €0   €0          Right       GK    NaN   \n677    187347   29      Russia  NaN    €0   €0          Right       RB    NaN   \n874    187607   29      Russia  NaN    €0   €0          Right       ST    NaN   \n...       ...  ...         ...  ...   ...  ...            ...      ...    ...   \n16947  225489   23     Iceland  NaN    €0   €0          Right       GK    NaN   \n16976  236774   21       India  NaN    €0   €0           Left       LW    NaN   \n17008  234234   27    Bulgaria  NaN    €0   €0          Right      LDM    NaN   \n17197  245164   21       India  NaN    €0   €0          Right       GK    NaN   \n17215  243131   26     Finland  NaN    €0   €0          Right       RB    NaN   \n\n      Loaned_from Contract_Valid_Until Height  Weight Release_clause  \n452           NaN                  NaN   5'11  165lbs            NaN  \n538           NaN                  NaN    6'4  185lbs            NaN  \n568           NaN                  NaN    6'2  176lbs            NaN  \n677           NaN                  NaN   5'10  154lbs            NaN  \n874           NaN                  NaN    6'5  201lbs            NaN  \n...           ...                  ...    ...     ...            ...  \n16947         NaN                  NaN    6'5  187lbs            NaN  \n16976         NaN                  NaN    5'9  154lbs            NaN  \n17008         NaN                  NaN    6'0  163lbs            NaN  \n17197         NaN                  NaN    6'2  176lbs            NaN  \n17215         NaN                  NaN    6'4  187lbs            NaN  \n\n[229 rows x 14 columns]",
      "text/html": "<div>\n<style scoped>\n    .dataframe tbody tr th:only-of-type {\n        vertical-align: middle;\n    }\n\n    .dataframe tbody tr th {\n        vertical-align: top;\n    }\n\n    .dataframe thead th {\n        text-align: right;\n    }\n</style>\n<table border=\"1\" class=\"dataframe\">\n  <thead>\n    <tr style=\"text-align: right;\">\n      <th></th>\n      <th>ID</th>\n      <th>Age</th>\n      <th>Nationality</th>\n      <th>Club</th>\n      <th>Value</th>\n      <th>Wage</th>\n      <th>Preferred_foot</th>\n      <th>Position</th>\n      <th>Joined</th>\n      <th>Loaned_from</th>\n      <th>Contract_Valid_Until</th>\n      <th>Height</th>\n      <th>Weight</th>\n      <th>Release_clause</th>\n    </tr>\n  </thead>\n  <tbody>\n    <tr>\n      <th>452</th>\n      <td>207439</td>\n      <td>24</td>\n      <td>Argentina</td>\n      <td>NaN</td>\n      <td>€0</td>\n      <td>€0</td>\n      <td>Right</td>\n      <td>CM</td>\n      <td>NaN</td>\n      <td>NaN</td>\n      <td>NaN</td>\n      <td>5'11</td>\n      <td>165lbs</td>\n      <td>NaN</td>\n    </tr>\n    <tr>\n      <th>538</th>\n      <td>156713</td>\n      <td>33</td>\n      <td>Sweden</td>\n      <td>NaN</td>\n      <td>€0</td>\n      <td>€0</td>\n      <td>Right</td>\n      <td>LCB</td>\n      <td>NaN</td>\n      <td>NaN</td>\n      <td>NaN</td>\n      <td>6'4</td>\n      <td>185lbs</td>\n      <td>NaN</td>\n    </tr>\n    <tr>\n      <th>568</th>\n      <td>229909</td>\n      <td>26</td>\n      <td>Russia</td>\n      <td>NaN</td>\n      <td>€0</td>\n      <td>€0</td>\n      <td>Right</td>\n      <td>GK</td>\n      <td>NaN</td>\n      <td>NaN</td>\n      <td>NaN</td>\n      <td>6'2</td>\n      <td>176lbs</td>\n      <td>NaN</td>\n    </tr>\n    <tr>\n      <th>677</th>\n      <td>187347</td>\n      <td>29</td>\n      <td>Russia</td>\n      <td>NaN</td>\n      <td>€0</td>\n      <td>€0</td>\n      <td>Right</td>\n      <td>RB</td>\n      <td>NaN</td>\n      <td>NaN</td>\n      <td>NaN</td>\n      <td>5'10</td>\n      <td>154lbs</td>\n      <td>NaN</td>\n    </tr>\n    <tr>\n      <th>874</th>\n      <td>187607</td>\n      <td>29</td>\n      <td>Russia</td>\n      <td>NaN</td>\n      <td>€0</td>\n      <td>€0</td>\n      <td>Right</td>\n      <td>ST</td>\n      <td>NaN</td>\n      <td>NaN</td>\n      <td>NaN</td>\n      <td>6'5</td>\n      <td>201lbs</td>\n      <td>NaN</td>\n    </tr>\n    <tr>\n      <th>...</th>\n      <td>...</td>\n      <td>...</td>\n      <td>...</td>\n      <td>...</td>\n      <td>...</td>\n      <td>...</td>\n      <td>...</td>\n      <td>...</td>\n      <td>...</td>\n      <td>...</td>\n      <td>...</td>\n      <td>...</td>\n      <td>...</td>\n      <td>...</td>\n    </tr>\n    <tr>\n      <th>16947</th>\n      <td>225489</td>\n      <td>23</td>\n      <td>Iceland</td>\n      <td>NaN</td>\n      <td>€0</td>\n      <td>€0</td>\n      <td>Right</td>\n      <td>GK</td>\n      <td>NaN</td>\n      <td>NaN</td>\n      <td>NaN</td>\n      <td>6'5</td>\n      <td>187lbs</td>\n      <td>NaN</td>\n    </tr>\n    <tr>\n      <th>16976</th>\n      <td>236774</td>\n      <td>21</td>\n      <td>India</td>\n      <td>NaN</td>\n      <td>€0</td>\n      <td>€0</td>\n      <td>Left</td>\n      <td>LW</td>\n      <td>NaN</td>\n      <td>NaN</td>\n      <td>NaN</td>\n      <td>5'9</td>\n      <td>154lbs</td>\n      <td>NaN</td>\n    </tr>\n    <tr>\n      <th>17008</th>\n      <td>234234</td>\n      <td>27</td>\n      <td>Bulgaria</td>\n      <td>NaN</td>\n      <td>€0</td>\n      <td>€0</td>\n      <td>Right</td>\n      <td>LDM</td>\n      <td>NaN</td>\n      <td>NaN</td>\n      <td>NaN</td>\n      <td>6'0</td>\n      <td>163lbs</td>\n      <td>NaN</td>\n    </tr>\n    <tr>\n      <th>17197</th>\n      <td>245164</td>\n      <td>21</td>\n      <td>India</td>\n      <td>NaN</td>\n      <td>€0</td>\n      <td>€0</td>\n      <td>Right</td>\n      <td>GK</td>\n      <td>NaN</td>\n      <td>NaN</td>\n      <td>NaN</td>\n      <td>6'2</td>\n      <td>176lbs</td>\n      <td>NaN</td>\n    </tr>\n    <tr>\n      <th>17215</th>\n      <td>243131</td>\n      <td>26</td>\n      <td>Finland</td>\n      <td>NaN</td>\n      <td>€0</td>\n      <td>€0</td>\n      <td>Right</td>\n      <td>RB</td>\n      <td>NaN</td>\n      <td>NaN</td>\n      <td>NaN</td>\n      <td>6'4</td>\n      <td>187lbs</td>\n      <td>NaN</td>\n    </tr>\n  </tbody>\n</table>\n<p>229 rows × 14 columns</p>\n</div>"
     },
     "execution_count": 8,
     "metadata": {},
     "output_type": "execute_result"
    }
   ],
   "source": [
    "dataframe[dataframe.Contract_Valid_Until.isnull() & dataframe.Joined.isnull() & dataframe.Loaned_from.isnull()]"
   ]
  },
  {
   "cell_type": "markdown",
   "id": "980558c6",
   "metadata": {},
   "source": [
    "Se eliminan esas 229 filas"
   ]
  },
  {
   "cell_type": "code",
   "execution_count": 9,
   "id": "b4eab668",
   "metadata": {},
   "outputs": [
    {
     "data": {
      "text/plain": "           ID  Age Nationality                 Club    Value   Wage  \\\n0      158023   31   Argentina         FC Barcelona  €110.5M  €565K   \n1       20801   33    Portugal             Juventus     €77M  €405K   \n2      190871   26      Brazil  Paris Saint-Germain  €118.5M  €290K   \n3      193080   27       Spain    Manchester United     €72M  €260K   \n4      192985   27     Belgium      Manchester City    €102M  €355K   \n...       ...  ...         ...                  ...      ...    ...   \n18202  238813   19     England      Crewe Alexandra     €60K    €1K   \n18203  243165   19      Sweden       Trelleborgs FF     €60K    €1K   \n18204  241638   16     England     Cambridge United     €60K    €1K   \n18205  246268   17     England      Tranmere Rovers     €60K    €1K   \n18206  246269   16     England      Tranmere Rovers     €60K    €1K   \n\n      Preferred_foot Position        Joined Loaned_from Contract_Valid_Until  \\\n0               Left       RF   Jul 1, 2004         NaN                 2021   \n1              Right       ST  Jul 10, 2018         NaN                 2022   \n2              Right       LW   Aug 3, 2017         NaN                 2022   \n3              Right       GK   Jul 1, 2011         NaN                 2020   \n4              Right      RCM  Aug 30, 2015         NaN                 2023   \n...              ...      ...           ...         ...                  ...   \n18202          Right       CM   May 3, 2017         NaN                 2019   \n18203          Right       ST  Mar 19, 2018         NaN                 2020   \n18204          Right       ST   Jul 1, 2017         NaN                 2021   \n18205          Right       RW  Apr 24, 2018         NaN                 2019   \n18206          Right       CM  Oct 30, 2018         NaN                 2019   \n\n      Height  Weight Release_clause  \n0        5'7  159lbs        €226.5M  \n1        6'2  183lbs        €127.1M  \n2        5'9  150lbs        €228.1M  \n3        6'4  168lbs        €138.6M  \n4       5'11  154lbs        €196.4M  \n...      ...     ...            ...  \n18202    5'9  134lbs          €143K  \n18203    6'3  170lbs          €113K  \n18204    5'8  148lbs          €165K  \n18205   5'10  154lbs          €143K  \n18206   5'10  176lbs          €165K  \n\n[17918 rows x 14 columns]",
      "text/html": "<div>\n<style scoped>\n    .dataframe tbody tr th:only-of-type {\n        vertical-align: middle;\n    }\n\n    .dataframe tbody tr th {\n        vertical-align: top;\n    }\n\n    .dataframe thead th {\n        text-align: right;\n    }\n</style>\n<table border=\"1\" class=\"dataframe\">\n  <thead>\n    <tr style=\"text-align: right;\">\n      <th></th>\n      <th>ID</th>\n      <th>Age</th>\n      <th>Nationality</th>\n      <th>Club</th>\n      <th>Value</th>\n      <th>Wage</th>\n      <th>Preferred_foot</th>\n      <th>Position</th>\n      <th>Joined</th>\n      <th>Loaned_from</th>\n      <th>Contract_Valid_Until</th>\n      <th>Height</th>\n      <th>Weight</th>\n      <th>Release_clause</th>\n    </tr>\n  </thead>\n  <tbody>\n    <tr>\n      <th>0</th>\n      <td>158023</td>\n      <td>31</td>\n      <td>Argentina</td>\n      <td>FC Barcelona</td>\n      <td>€110.5M</td>\n      <td>€565K</td>\n      <td>Left</td>\n      <td>RF</td>\n      <td>Jul 1, 2004</td>\n      <td>NaN</td>\n      <td>2021</td>\n      <td>5'7</td>\n      <td>159lbs</td>\n      <td>€226.5M</td>\n    </tr>\n    <tr>\n      <th>1</th>\n      <td>20801</td>\n      <td>33</td>\n      <td>Portugal</td>\n      <td>Juventus</td>\n      <td>€77M</td>\n      <td>€405K</td>\n      <td>Right</td>\n      <td>ST</td>\n      <td>Jul 10, 2018</td>\n      <td>NaN</td>\n      <td>2022</td>\n      <td>6'2</td>\n      <td>183lbs</td>\n      <td>€127.1M</td>\n    </tr>\n    <tr>\n      <th>2</th>\n      <td>190871</td>\n      <td>26</td>\n      <td>Brazil</td>\n      <td>Paris Saint-Germain</td>\n      <td>€118.5M</td>\n      <td>€290K</td>\n      <td>Right</td>\n      <td>LW</td>\n      <td>Aug 3, 2017</td>\n      <td>NaN</td>\n      <td>2022</td>\n      <td>5'9</td>\n      <td>150lbs</td>\n      <td>€228.1M</td>\n    </tr>\n    <tr>\n      <th>3</th>\n      <td>193080</td>\n      <td>27</td>\n      <td>Spain</td>\n      <td>Manchester United</td>\n      <td>€72M</td>\n      <td>€260K</td>\n      <td>Right</td>\n      <td>GK</td>\n      <td>Jul 1, 2011</td>\n      <td>NaN</td>\n      <td>2020</td>\n      <td>6'4</td>\n      <td>168lbs</td>\n      <td>€138.6M</td>\n    </tr>\n    <tr>\n      <th>4</th>\n      <td>192985</td>\n      <td>27</td>\n      <td>Belgium</td>\n      <td>Manchester City</td>\n      <td>€102M</td>\n      <td>€355K</td>\n      <td>Right</td>\n      <td>RCM</td>\n      <td>Aug 30, 2015</td>\n      <td>NaN</td>\n      <td>2023</td>\n      <td>5'11</td>\n      <td>154lbs</td>\n      <td>€196.4M</td>\n    </tr>\n    <tr>\n      <th>...</th>\n      <td>...</td>\n      <td>...</td>\n      <td>...</td>\n      <td>...</td>\n      <td>...</td>\n      <td>...</td>\n      <td>...</td>\n      <td>...</td>\n      <td>...</td>\n      <td>...</td>\n      <td>...</td>\n      <td>...</td>\n      <td>...</td>\n      <td>...</td>\n    </tr>\n    <tr>\n      <th>18202</th>\n      <td>238813</td>\n      <td>19</td>\n      <td>England</td>\n      <td>Crewe Alexandra</td>\n      <td>€60K</td>\n      <td>€1K</td>\n      <td>Right</td>\n      <td>CM</td>\n      <td>May 3, 2017</td>\n      <td>NaN</td>\n      <td>2019</td>\n      <td>5'9</td>\n      <td>134lbs</td>\n      <td>€143K</td>\n    </tr>\n    <tr>\n      <th>18203</th>\n      <td>243165</td>\n      <td>19</td>\n      <td>Sweden</td>\n      <td>Trelleborgs FF</td>\n      <td>€60K</td>\n      <td>€1K</td>\n      <td>Right</td>\n      <td>ST</td>\n      <td>Mar 19, 2018</td>\n      <td>NaN</td>\n      <td>2020</td>\n      <td>6'3</td>\n      <td>170lbs</td>\n      <td>€113K</td>\n    </tr>\n    <tr>\n      <th>18204</th>\n      <td>241638</td>\n      <td>16</td>\n      <td>England</td>\n      <td>Cambridge United</td>\n      <td>€60K</td>\n      <td>€1K</td>\n      <td>Right</td>\n      <td>ST</td>\n      <td>Jul 1, 2017</td>\n      <td>NaN</td>\n      <td>2021</td>\n      <td>5'8</td>\n      <td>148lbs</td>\n      <td>€165K</td>\n    </tr>\n    <tr>\n      <th>18205</th>\n      <td>246268</td>\n      <td>17</td>\n      <td>England</td>\n      <td>Tranmere Rovers</td>\n      <td>€60K</td>\n      <td>€1K</td>\n      <td>Right</td>\n      <td>RW</td>\n      <td>Apr 24, 2018</td>\n      <td>NaN</td>\n      <td>2019</td>\n      <td>5'10</td>\n      <td>154lbs</td>\n      <td>€143K</td>\n    </tr>\n    <tr>\n      <th>18206</th>\n      <td>246269</td>\n      <td>16</td>\n      <td>England</td>\n      <td>Tranmere Rovers</td>\n      <td>€60K</td>\n      <td>€1K</td>\n      <td>Right</td>\n      <td>CM</td>\n      <td>Oct 30, 2018</td>\n      <td>NaN</td>\n      <td>2019</td>\n      <td>5'10</td>\n      <td>176lbs</td>\n      <td>€165K</td>\n    </tr>\n  </tbody>\n</table>\n<p>17918 rows × 14 columns</p>\n</div>"
     },
     "execution_count": 9,
     "metadata": {},
     "output_type": "execute_result"
    }
   ],
   "source": [
    "dataframe.dropna(subset=['Contract_Valid_Until'], inplace=True)\n",
    "dataframe"
   ]
  },
  {
   "cell_type": "markdown",
   "id": "be3c9eae",
   "metadata": {},
   "source": [
    "Se hace una tercera revisión de valores nulos"
   ]
  },
  {
   "cell_type": "code",
   "execution_count": 10,
   "id": "86e80d47",
   "metadata": {},
   "outputs": [
    {
     "data": {
      "text/plain": "                      Datos nulos\nID                              0\nAge                             0\nNationality                     0\nClub                            0\nValue                           0\nWage                            0\nPreferred_foot                  0\nPosition                        0\nJoined                       1264\nLoaned_from                 16654\nContract_Valid_Until            0\nHeight                          0\nWeight                          0\nRelease_clause               1275",
      "text/html": "<div>\n<style scoped>\n    .dataframe tbody tr th:only-of-type {\n        vertical-align: middle;\n    }\n\n    .dataframe tbody tr th {\n        vertical-align: top;\n    }\n\n    .dataframe thead th {\n        text-align: right;\n    }\n</style>\n<table border=\"1\" class=\"dataframe\">\n  <thead>\n    <tr style=\"text-align: right;\">\n      <th></th>\n      <th>Datos nulos</th>\n    </tr>\n  </thead>\n  <tbody>\n    <tr>\n      <th>ID</th>\n      <td>0</td>\n    </tr>\n    <tr>\n      <th>Age</th>\n      <td>0</td>\n    </tr>\n    <tr>\n      <th>Nationality</th>\n      <td>0</td>\n    </tr>\n    <tr>\n      <th>Club</th>\n      <td>0</td>\n    </tr>\n    <tr>\n      <th>Value</th>\n      <td>0</td>\n    </tr>\n    <tr>\n      <th>Wage</th>\n      <td>0</td>\n    </tr>\n    <tr>\n      <th>Preferred_foot</th>\n      <td>0</td>\n    </tr>\n    <tr>\n      <th>Position</th>\n      <td>0</td>\n    </tr>\n    <tr>\n      <th>Joined</th>\n      <td>1264</td>\n    </tr>\n    <tr>\n      <th>Loaned_from</th>\n      <td>16654</td>\n    </tr>\n    <tr>\n      <th>Contract_Valid_Until</th>\n      <td>0</td>\n    </tr>\n    <tr>\n      <th>Height</th>\n      <td>0</td>\n    </tr>\n    <tr>\n      <th>Weight</th>\n      <td>0</td>\n    </tr>\n    <tr>\n      <th>Release_clause</th>\n      <td>1275</td>\n    </tr>\n  </tbody>\n</table>\n</div>"
     },
     "execution_count": 10,
     "metadata": {},
     "output_type": "execute_result"
    }
   ],
   "source": [
    "pd.DataFrame(dataframe.isnull().sum(), columns=['Datos nulos'])"
   ]
  },
  {
   "cell_type": "markdown",
   "id": "c0ff3a3a",
   "metadata": {},
   "source": [
    "Visualizando el datase, se puede observar que la columna de Joined es excluyente con Loaned From."
   ]
  },
  {
   "cell_type": "markdown",
   "id": "279841d8",
   "metadata": {},
   "source": [
    "Esto se comprueba imprimiendo los valores que sean nulos de Loaned From y los valores no nulos de Joined. Se puede observar que la cantidad de filas de haber aplicado el filtrado son la totalidad del nuevo dataframe después de haber realizado todas las eliminaciones de filas"
   ]
  },
  {
   "cell_type": "code",
   "execution_count": 11,
   "id": "6ecb7f01",
   "metadata": {},
   "outputs": [
    {
     "data": {
      "text/plain": "           ID  Age Nationality                 Club    Value   Wage  \\\n0      158023   31   Argentina         FC Barcelona  €110.5M  €565K   \n1       20801   33    Portugal             Juventus     €77M  €405K   \n2      190871   26      Brazil  Paris Saint-Germain  €118.5M  €290K   \n3      193080   27       Spain    Manchester United     €72M  €260K   \n4      192985   27     Belgium      Manchester City    €102M  €355K   \n...       ...  ...         ...                  ...      ...    ...   \n18202  238813   19     England      Crewe Alexandra     €60K    €1K   \n18203  243165   19      Sweden       Trelleborgs FF     €60K    €1K   \n18204  241638   16     England     Cambridge United     €60K    €1K   \n18205  246268   17     England      Tranmere Rovers     €60K    €1K   \n18206  246269   16     England      Tranmere Rovers     €60K    €1K   \n\n      Preferred_foot Position        Joined Loaned_from Contract_Valid_Until  \\\n0               Left       RF   Jul 1, 2004         NaN                 2021   \n1              Right       ST  Jul 10, 2018         NaN                 2022   \n2              Right       LW   Aug 3, 2017         NaN                 2022   \n3              Right       GK   Jul 1, 2011         NaN                 2020   \n4              Right      RCM  Aug 30, 2015         NaN                 2023   \n...              ...      ...           ...         ...                  ...   \n18202          Right       CM   May 3, 2017         NaN                 2019   \n18203          Right       ST  Mar 19, 2018         NaN                 2020   \n18204          Right       ST   Jul 1, 2017         NaN                 2021   \n18205          Right       RW  Apr 24, 2018         NaN                 2019   \n18206          Right       CM  Oct 30, 2018         NaN                 2019   \n\n      Height  Weight Release_clause  \n0        5'7  159lbs        €226.5M  \n1        6'2  183lbs        €127.1M  \n2        5'9  150lbs        €228.1M  \n3        6'4  168lbs        €138.6M  \n4       5'11  154lbs        €196.4M  \n...      ...     ...            ...  \n18202    5'9  134lbs          €143K  \n18203    6'3  170lbs          €113K  \n18204    5'8  148lbs          €165K  \n18205   5'10  154lbs          €143K  \n18206   5'10  176lbs          €165K  \n\n[17918 rows x 14 columns]",
      "text/html": "<div>\n<style scoped>\n    .dataframe tbody tr th:only-of-type {\n        vertical-align: middle;\n    }\n\n    .dataframe tbody tr th {\n        vertical-align: top;\n    }\n\n    .dataframe thead th {\n        text-align: right;\n    }\n</style>\n<table border=\"1\" class=\"dataframe\">\n  <thead>\n    <tr style=\"text-align: right;\">\n      <th></th>\n      <th>ID</th>\n      <th>Age</th>\n      <th>Nationality</th>\n      <th>Club</th>\n      <th>Value</th>\n      <th>Wage</th>\n      <th>Preferred_foot</th>\n      <th>Position</th>\n      <th>Joined</th>\n      <th>Loaned_from</th>\n      <th>Contract_Valid_Until</th>\n      <th>Height</th>\n      <th>Weight</th>\n      <th>Release_clause</th>\n    </tr>\n  </thead>\n  <tbody>\n    <tr>\n      <th>0</th>\n      <td>158023</td>\n      <td>31</td>\n      <td>Argentina</td>\n      <td>FC Barcelona</td>\n      <td>€110.5M</td>\n      <td>€565K</td>\n      <td>Left</td>\n      <td>RF</td>\n      <td>Jul 1, 2004</td>\n      <td>NaN</td>\n      <td>2021</td>\n      <td>5'7</td>\n      <td>159lbs</td>\n      <td>€226.5M</td>\n    </tr>\n    <tr>\n      <th>1</th>\n      <td>20801</td>\n      <td>33</td>\n      <td>Portugal</td>\n      <td>Juventus</td>\n      <td>€77M</td>\n      <td>€405K</td>\n      <td>Right</td>\n      <td>ST</td>\n      <td>Jul 10, 2018</td>\n      <td>NaN</td>\n      <td>2022</td>\n      <td>6'2</td>\n      <td>183lbs</td>\n      <td>€127.1M</td>\n    </tr>\n    <tr>\n      <th>2</th>\n      <td>190871</td>\n      <td>26</td>\n      <td>Brazil</td>\n      <td>Paris Saint-Germain</td>\n      <td>€118.5M</td>\n      <td>€290K</td>\n      <td>Right</td>\n      <td>LW</td>\n      <td>Aug 3, 2017</td>\n      <td>NaN</td>\n      <td>2022</td>\n      <td>5'9</td>\n      <td>150lbs</td>\n      <td>€228.1M</td>\n    </tr>\n    <tr>\n      <th>3</th>\n      <td>193080</td>\n      <td>27</td>\n      <td>Spain</td>\n      <td>Manchester United</td>\n      <td>€72M</td>\n      <td>€260K</td>\n      <td>Right</td>\n      <td>GK</td>\n      <td>Jul 1, 2011</td>\n      <td>NaN</td>\n      <td>2020</td>\n      <td>6'4</td>\n      <td>168lbs</td>\n      <td>€138.6M</td>\n    </tr>\n    <tr>\n      <th>4</th>\n      <td>192985</td>\n      <td>27</td>\n      <td>Belgium</td>\n      <td>Manchester City</td>\n      <td>€102M</td>\n      <td>€355K</td>\n      <td>Right</td>\n      <td>RCM</td>\n      <td>Aug 30, 2015</td>\n      <td>NaN</td>\n      <td>2023</td>\n      <td>5'11</td>\n      <td>154lbs</td>\n      <td>€196.4M</td>\n    </tr>\n    <tr>\n      <th>...</th>\n      <td>...</td>\n      <td>...</td>\n      <td>...</td>\n      <td>...</td>\n      <td>...</td>\n      <td>...</td>\n      <td>...</td>\n      <td>...</td>\n      <td>...</td>\n      <td>...</td>\n      <td>...</td>\n      <td>...</td>\n      <td>...</td>\n      <td>...</td>\n    </tr>\n    <tr>\n      <th>18202</th>\n      <td>238813</td>\n      <td>19</td>\n      <td>England</td>\n      <td>Crewe Alexandra</td>\n      <td>€60K</td>\n      <td>€1K</td>\n      <td>Right</td>\n      <td>CM</td>\n      <td>May 3, 2017</td>\n      <td>NaN</td>\n      <td>2019</td>\n      <td>5'9</td>\n      <td>134lbs</td>\n      <td>€143K</td>\n    </tr>\n    <tr>\n      <th>18203</th>\n      <td>243165</td>\n      <td>19</td>\n      <td>Sweden</td>\n      <td>Trelleborgs FF</td>\n      <td>€60K</td>\n      <td>€1K</td>\n      <td>Right</td>\n      <td>ST</td>\n      <td>Mar 19, 2018</td>\n      <td>NaN</td>\n      <td>2020</td>\n      <td>6'3</td>\n      <td>170lbs</td>\n      <td>€113K</td>\n    </tr>\n    <tr>\n      <th>18204</th>\n      <td>241638</td>\n      <td>16</td>\n      <td>England</td>\n      <td>Cambridge United</td>\n      <td>€60K</td>\n      <td>€1K</td>\n      <td>Right</td>\n      <td>ST</td>\n      <td>Jul 1, 2017</td>\n      <td>NaN</td>\n      <td>2021</td>\n      <td>5'8</td>\n      <td>148lbs</td>\n      <td>€165K</td>\n    </tr>\n    <tr>\n      <th>18205</th>\n      <td>246268</td>\n      <td>17</td>\n      <td>England</td>\n      <td>Tranmere Rovers</td>\n      <td>€60K</td>\n      <td>€1K</td>\n      <td>Right</td>\n      <td>RW</td>\n      <td>Apr 24, 2018</td>\n      <td>NaN</td>\n      <td>2019</td>\n      <td>5'10</td>\n      <td>154lbs</td>\n      <td>€143K</td>\n    </tr>\n    <tr>\n      <th>18206</th>\n      <td>246269</td>\n      <td>16</td>\n      <td>England</td>\n      <td>Tranmere Rovers</td>\n      <td>€60K</td>\n      <td>€1K</td>\n      <td>Right</td>\n      <td>CM</td>\n      <td>Oct 30, 2018</td>\n      <td>NaN</td>\n      <td>2019</td>\n      <td>5'10</td>\n      <td>176lbs</td>\n      <td>€165K</td>\n    </tr>\n  </tbody>\n</table>\n<p>17918 rows × 14 columns</p>\n</div>"
     },
     "execution_count": 11,
     "metadata": {},
     "output_type": "execute_result"
    }
   ],
   "source": [
    "dataframe[dataframe.Loaned_from.isnull() & dataframe.Joined.isnull()==False]"
   ]
  },
  {
   "cell_type": "markdown",
   "id": "e71c0319",
   "metadata": {},
   "source": [
    "Comprobamos si la dimensión de los datos filtrados en la celda anterior son iguales al dataframe con las filas eliminadas"
   ]
  },
  {
   "cell_type": "code",
   "execution_count": 12,
   "id": "c986067c",
   "metadata": {},
   "outputs": [
    {
     "data": {
      "text/plain": "True"
     },
     "execution_count": 12,
     "metadata": {},
     "output_type": "execute_result"
    }
   ],
   "source": [
    "dataframe[dataframe.Loaned_from.isnull() & dataframe.Joined.isnull()==False].values.shape == dataframe.shape"
   ]
  },
  {
   "cell_type": "markdown",
   "id": "5d3f03c7",
   "metadata": {},
   "source": [
    "Sabiendo que son Loaned From es excluyente de Joined y que son de tipo cadena con información compleja.\n",
    "Hay que recordar que Joined se refiere a la fecha que el jugador se unió al club al que pertenece actualmente\n",
    "Loaned From se refiere al club al que fue prestado incluyendo la fecha \n",
    "Se realizará una nueva variable que sea de tipo booleana que indique si está en préstamo es verdadero (significa que hay información en Loaned From), y falso si no lo está (significa que hay información en Joined) "
   ]
  },
  {
   "cell_type": "markdown",
   "id": "5b22cb70",
   "metadata": {},
   "source": [
    "Se cambia el nombre de la columna de Joined a Loaned, ya que la información contenida no va a ser necesaria y se evita crear una nueva columna en el dataframe"
   ]
  },
  {
   "cell_type": "code",
   "execution_count": 13,
   "id": "5e7280d0",
   "metadata": {},
   "outputs": [],
   "source": [
    "dataframe = dataframe.rename({'Joined': 'Loaned'}, axis=1)"
   ]
  },
  {
   "cell_type": "markdown",
   "id": "abd380b8",
   "metadata": {},
   "source": [
    "Se pretende cambiar los valores nulos de Loaned (valores originales a Joined) a True indicando que están en préstamo y a False las celdas que sí tengan indicando que no está en préstamo"
   ]
  },
  {
   "cell_type": "code",
   "execution_count": 14,
   "id": "d22e5297",
   "metadata": {},
   "outputs": [],
   "source": [
    "dataframe.Loaned = (dataframe.Loaned.isnull())"
   ]
  },
  {
   "cell_type": "markdown",
   "id": "4672086a",
   "metadata": {},
   "source": [
    "Para comprobar que el resultado es el deseado, se imprime Loaned = True y en Loaned From debe contener datos no nulos"
   ]
  },
  {
   "cell_type": "code",
   "execution_count": 15,
   "id": "8b67ea5e",
   "metadata": {},
   "outputs": [
    {
     "data": {
      "text/plain": "         ID  Age Nationality                            Club   Value   Wage  \\\n28   198710   26    Colombia               FC Bayern München  €69.5M  €315K   \n38   167664   30   Argentina                           Milan    €57M  €245K   \n91   187961   29      Brazil  Guangzhou Evergrande Taobao FC    €37M  €235K   \n166  212523   24      Brazil  Guangzhou Evergrande Taobao FC  €36.5M   €18K   \n176  207410   24     Croatia                         Chelsea    €35M  €165K   \n332  216409   24       Italy                           Inter  €22.5M   €57K   \n354  203890   26     Croatia                           Inter    €18M   €57K   \n357  202685   27       Italy                          Torino    €21M   €48K   \n427  226226   22   Argentina                      Real Betis    €20M   €72K   \n434  219809   23      France                           Milan    €17M   €85K   \n\n    Preferred_foot Position  Loaned          Loaned_from Contract_Valid_Until  \\\n28            Left      LAM    True          Real Madrid         Jun 30, 2019   \n38           Right       LS    True             Juventus         Jun 30, 2019   \n91           Right      LDM    True         FC Barcelona         Jun 30, 2019   \n166           Left      CAM    True           SL Benfica         Dec 31, 2018   \n176          Right      LCM    True          Real Madrid         Jun 30, 2019   \n332           Left       RM    True             Sassuolo         Jun 30, 2019   \n354          Right       RB    True      Atlético Madrid         Jun 30, 2019   \n357           Left       RS    True          Valencia CF         Jun 30, 2019   \n427           Left      RCM    True  Paris Saint-Germain         Jun 30, 2019   \n434          Right      LCM    True              Chelsea         Jun 30, 2019   \n\n    Height  Weight Release_clause  \n28    5'11  172lbs            NaN  \n38     6'1  196lbs            NaN  \n91     6'0  157lbs            NaN  \n166    6'3  176lbs            NaN  \n176    5'9  172lbs            NaN  \n332    5'7  148lbs            NaN  \n354   5'11  168lbs            NaN  \n357    6'1  185lbs            NaN  \n427    5'9  154lbs            NaN  \n434    6'2  187lbs            NaN  ",
      "text/html": "<div>\n<style scoped>\n    .dataframe tbody tr th:only-of-type {\n        vertical-align: middle;\n    }\n\n    .dataframe tbody tr th {\n        vertical-align: top;\n    }\n\n    .dataframe thead th {\n        text-align: right;\n    }\n</style>\n<table border=\"1\" class=\"dataframe\">\n  <thead>\n    <tr style=\"text-align: right;\">\n      <th></th>\n      <th>ID</th>\n      <th>Age</th>\n      <th>Nationality</th>\n      <th>Club</th>\n      <th>Value</th>\n      <th>Wage</th>\n      <th>Preferred_foot</th>\n      <th>Position</th>\n      <th>Loaned</th>\n      <th>Loaned_from</th>\n      <th>Contract_Valid_Until</th>\n      <th>Height</th>\n      <th>Weight</th>\n      <th>Release_clause</th>\n    </tr>\n  </thead>\n  <tbody>\n    <tr>\n      <th>28</th>\n      <td>198710</td>\n      <td>26</td>\n      <td>Colombia</td>\n      <td>FC Bayern München</td>\n      <td>€69.5M</td>\n      <td>€315K</td>\n      <td>Left</td>\n      <td>LAM</td>\n      <td>True</td>\n      <td>Real Madrid</td>\n      <td>Jun 30, 2019</td>\n      <td>5'11</td>\n      <td>172lbs</td>\n      <td>NaN</td>\n    </tr>\n    <tr>\n      <th>38</th>\n      <td>167664</td>\n      <td>30</td>\n      <td>Argentina</td>\n      <td>Milan</td>\n      <td>€57M</td>\n      <td>€245K</td>\n      <td>Right</td>\n      <td>LS</td>\n      <td>True</td>\n      <td>Juventus</td>\n      <td>Jun 30, 2019</td>\n      <td>6'1</td>\n      <td>196lbs</td>\n      <td>NaN</td>\n    </tr>\n    <tr>\n      <th>91</th>\n      <td>187961</td>\n      <td>29</td>\n      <td>Brazil</td>\n      <td>Guangzhou Evergrande Taobao FC</td>\n      <td>€37M</td>\n      <td>€235K</td>\n      <td>Right</td>\n      <td>LDM</td>\n      <td>True</td>\n      <td>FC Barcelona</td>\n      <td>Jun 30, 2019</td>\n      <td>6'0</td>\n      <td>157lbs</td>\n      <td>NaN</td>\n    </tr>\n    <tr>\n      <th>166</th>\n      <td>212523</td>\n      <td>24</td>\n      <td>Brazil</td>\n      <td>Guangzhou Evergrande Taobao FC</td>\n      <td>€36.5M</td>\n      <td>€18K</td>\n      <td>Left</td>\n      <td>CAM</td>\n      <td>True</td>\n      <td>SL Benfica</td>\n      <td>Dec 31, 2018</td>\n      <td>6'3</td>\n      <td>176lbs</td>\n      <td>NaN</td>\n    </tr>\n    <tr>\n      <th>176</th>\n      <td>207410</td>\n      <td>24</td>\n      <td>Croatia</td>\n      <td>Chelsea</td>\n      <td>€35M</td>\n      <td>€165K</td>\n      <td>Right</td>\n      <td>LCM</td>\n      <td>True</td>\n      <td>Real Madrid</td>\n      <td>Jun 30, 2019</td>\n      <td>5'9</td>\n      <td>172lbs</td>\n      <td>NaN</td>\n    </tr>\n    <tr>\n      <th>332</th>\n      <td>216409</td>\n      <td>24</td>\n      <td>Italy</td>\n      <td>Inter</td>\n      <td>€22.5M</td>\n      <td>€57K</td>\n      <td>Left</td>\n      <td>RM</td>\n      <td>True</td>\n      <td>Sassuolo</td>\n      <td>Jun 30, 2019</td>\n      <td>5'7</td>\n      <td>148lbs</td>\n      <td>NaN</td>\n    </tr>\n    <tr>\n      <th>354</th>\n      <td>203890</td>\n      <td>26</td>\n      <td>Croatia</td>\n      <td>Inter</td>\n      <td>€18M</td>\n      <td>€57K</td>\n      <td>Right</td>\n      <td>RB</td>\n      <td>True</td>\n      <td>Atlético Madrid</td>\n      <td>Jun 30, 2019</td>\n      <td>5'11</td>\n      <td>168lbs</td>\n      <td>NaN</td>\n    </tr>\n    <tr>\n      <th>357</th>\n      <td>202685</td>\n      <td>27</td>\n      <td>Italy</td>\n      <td>Torino</td>\n      <td>€21M</td>\n      <td>€48K</td>\n      <td>Left</td>\n      <td>RS</td>\n      <td>True</td>\n      <td>Valencia CF</td>\n      <td>Jun 30, 2019</td>\n      <td>6'1</td>\n      <td>185lbs</td>\n      <td>NaN</td>\n    </tr>\n    <tr>\n      <th>427</th>\n      <td>226226</td>\n      <td>22</td>\n      <td>Argentina</td>\n      <td>Real Betis</td>\n      <td>€20M</td>\n      <td>€72K</td>\n      <td>Left</td>\n      <td>RCM</td>\n      <td>True</td>\n      <td>Paris Saint-Germain</td>\n      <td>Jun 30, 2019</td>\n      <td>5'9</td>\n      <td>154lbs</td>\n      <td>NaN</td>\n    </tr>\n    <tr>\n      <th>434</th>\n      <td>219809</td>\n      <td>23</td>\n      <td>France</td>\n      <td>Milan</td>\n      <td>€17M</td>\n      <td>€85K</td>\n      <td>Right</td>\n      <td>LCM</td>\n      <td>True</td>\n      <td>Chelsea</td>\n      <td>Jun 30, 2019</td>\n      <td>6'2</td>\n      <td>187lbs</td>\n      <td>NaN</td>\n    </tr>\n  </tbody>\n</table>\n</div>"
     },
     "execution_count": 15,
     "metadata": {},
     "output_type": "execute_result"
    }
   ],
   "source": [
    "dataframe[dataframe.Loaned == True].head(n=10)"
   ]
  },
  {
   "cell_type": "markdown",
   "id": "906dc783",
   "metadata": {},
   "source": [
    "Se imprime Loaned = False y en Loaned From debe contener datos nulos"
   ]
  },
  {
   "cell_type": "code",
   "execution_count": 16,
   "id": "579dd194",
   "metadata": {},
   "outputs": [
    {
     "data": {
      "text/plain": "       ID  Age Nationality                 Club    Value   Wage  \\\n0  158023   31   Argentina         FC Barcelona  €110.5M  €565K   \n1   20801   33    Portugal             Juventus     €77M  €405K   \n2  190871   26      Brazil  Paris Saint-Germain  €118.5M  €290K   \n3  193080   27       Spain    Manchester United     €72M  €260K   \n4  192985   27     Belgium      Manchester City    €102M  €355K   \n5  183277   27     Belgium              Chelsea     €93M  €340K   \n6  177003   32     Croatia          Real Madrid     €67M  €420K   \n7  176580   31     Uruguay         FC Barcelona     €80M  €455K   \n8  155862   32       Spain          Real Madrid     €51M  €380K   \n9  200389   25    Slovenia      Atlético Madrid     €68M   €94K   \n\n  Preferred_foot Position  Loaned Loaned_from Contract_Valid_Until Height  \\\n0           Left       RF   False         NaN                 2021    5'7   \n1          Right       ST   False         NaN                 2022    6'2   \n2          Right       LW   False         NaN                 2022    5'9   \n3          Right       GK   False         NaN                 2020    6'4   \n4          Right      RCM   False         NaN                 2023   5'11   \n5          Right       LF   False         NaN                 2020    5'8   \n6          Right      RCM   False         NaN                 2020    5'8   \n7          Right       RS   False         NaN                 2021    6'0   \n8          Right      RCB   False         NaN                 2020    6'0   \n9          Right       GK   False         NaN                 2021    6'2   \n\n   Weight Release_clause  \n0  159lbs        €226.5M  \n1  183lbs        €127.1M  \n2  150lbs        €228.1M  \n3  168lbs        €138.6M  \n4  154lbs        €196.4M  \n5  163lbs        €172.1M  \n6  146lbs        €137.4M  \n7  190lbs          €164M  \n8  181lbs        €104.6M  \n9  192lbs        €144.5M  ",
      "text/html": "<div>\n<style scoped>\n    .dataframe tbody tr th:only-of-type {\n        vertical-align: middle;\n    }\n\n    .dataframe tbody tr th {\n        vertical-align: top;\n    }\n\n    .dataframe thead th {\n        text-align: right;\n    }\n</style>\n<table border=\"1\" class=\"dataframe\">\n  <thead>\n    <tr style=\"text-align: right;\">\n      <th></th>\n      <th>ID</th>\n      <th>Age</th>\n      <th>Nationality</th>\n      <th>Club</th>\n      <th>Value</th>\n      <th>Wage</th>\n      <th>Preferred_foot</th>\n      <th>Position</th>\n      <th>Loaned</th>\n      <th>Loaned_from</th>\n      <th>Contract_Valid_Until</th>\n      <th>Height</th>\n      <th>Weight</th>\n      <th>Release_clause</th>\n    </tr>\n  </thead>\n  <tbody>\n    <tr>\n      <th>0</th>\n      <td>158023</td>\n      <td>31</td>\n      <td>Argentina</td>\n      <td>FC Barcelona</td>\n      <td>€110.5M</td>\n      <td>€565K</td>\n      <td>Left</td>\n      <td>RF</td>\n      <td>False</td>\n      <td>NaN</td>\n      <td>2021</td>\n      <td>5'7</td>\n      <td>159lbs</td>\n      <td>€226.5M</td>\n    </tr>\n    <tr>\n      <th>1</th>\n      <td>20801</td>\n      <td>33</td>\n      <td>Portugal</td>\n      <td>Juventus</td>\n      <td>€77M</td>\n      <td>€405K</td>\n      <td>Right</td>\n      <td>ST</td>\n      <td>False</td>\n      <td>NaN</td>\n      <td>2022</td>\n      <td>6'2</td>\n      <td>183lbs</td>\n      <td>€127.1M</td>\n    </tr>\n    <tr>\n      <th>2</th>\n      <td>190871</td>\n      <td>26</td>\n      <td>Brazil</td>\n      <td>Paris Saint-Germain</td>\n      <td>€118.5M</td>\n      <td>€290K</td>\n      <td>Right</td>\n      <td>LW</td>\n      <td>False</td>\n      <td>NaN</td>\n      <td>2022</td>\n      <td>5'9</td>\n      <td>150lbs</td>\n      <td>€228.1M</td>\n    </tr>\n    <tr>\n      <th>3</th>\n      <td>193080</td>\n      <td>27</td>\n      <td>Spain</td>\n      <td>Manchester United</td>\n      <td>€72M</td>\n      <td>€260K</td>\n      <td>Right</td>\n      <td>GK</td>\n      <td>False</td>\n      <td>NaN</td>\n      <td>2020</td>\n      <td>6'4</td>\n      <td>168lbs</td>\n      <td>€138.6M</td>\n    </tr>\n    <tr>\n      <th>4</th>\n      <td>192985</td>\n      <td>27</td>\n      <td>Belgium</td>\n      <td>Manchester City</td>\n      <td>€102M</td>\n      <td>€355K</td>\n      <td>Right</td>\n      <td>RCM</td>\n      <td>False</td>\n      <td>NaN</td>\n      <td>2023</td>\n      <td>5'11</td>\n      <td>154lbs</td>\n      <td>€196.4M</td>\n    </tr>\n    <tr>\n      <th>5</th>\n      <td>183277</td>\n      <td>27</td>\n      <td>Belgium</td>\n      <td>Chelsea</td>\n      <td>€93M</td>\n      <td>€340K</td>\n      <td>Right</td>\n      <td>LF</td>\n      <td>False</td>\n      <td>NaN</td>\n      <td>2020</td>\n      <td>5'8</td>\n      <td>163lbs</td>\n      <td>€172.1M</td>\n    </tr>\n    <tr>\n      <th>6</th>\n      <td>177003</td>\n      <td>32</td>\n      <td>Croatia</td>\n      <td>Real Madrid</td>\n      <td>€67M</td>\n      <td>€420K</td>\n      <td>Right</td>\n      <td>RCM</td>\n      <td>False</td>\n      <td>NaN</td>\n      <td>2020</td>\n      <td>5'8</td>\n      <td>146lbs</td>\n      <td>€137.4M</td>\n    </tr>\n    <tr>\n      <th>7</th>\n      <td>176580</td>\n      <td>31</td>\n      <td>Uruguay</td>\n      <td>FC Barcelona</td>\n      <td>€80M</td>\n      <td>€455K</td>\n      <td>Right</td>\n      <td>RS</td>\n      <td>False</td>\n      <td>NaN</td>\n      <td>2021</td>\n      <td>6'0</td>\n      <td>190lbs</td>\n      <td>€164M</td>\n    </tr>\n    <tr>\n      <th>8</th>\n      <td>155862</td>\n      <td>32</td>\n      <td>Spain</td>\n      <td>Real Madrid</td>\n      <td>€51M</td>\n      <td>€380K</td>\n      <td>Right</td>\n      <td>RCB</td>\n      <td>False</td>\n      <td>NaN</td>\n      <td>2020</td>\n      <td>6'0</td>\n      <td>181lbs</td>\n      <td>€104.6M</td>\n    </tr>\n    <tr>\n      <th>9</th>\n      <td>200389</td>\n      <td>25</td>\n      <td>Slovenia</td>\n      <td>Atlético Madrid</td>\n      <td>€68M</td>\n      <td>€94K</td>\n      <td>Right</td>\n      <td>GK</td>\n      <td>False</td>\n      <td>NaN</td>\n      <td>2021</td>\n      <td>6'2</td>\n      <td>192lbs</td>\n      <td>€144.5M</td>\n    </tr>\n  </tbody>\n</table>\n</div>"
     },
     "execution_count": 16,
     "metadata": {},
     "output_type": "execute_result"
    }
   ],
   "source": [
    "dataframe[dataframe.Loaned == False].head(n=10)"
   ]
  },
  {
   "cell_type": "markdown",
   "id": "78991e00",
   "metadata": {},
   "source": [
    "Ahora se elimina la columna de Loaned From ya que su información no es necesaria y el campo de Loaned almacena inteligentemente con el booleano si tiene o no información dicha variable"
   ]
  },
  {
   "cell_type": "code",
   "execution_count": 17,
   "id": "4317b546",
   "metadata": {},
   "outputs": [],
   "source": [
    "dataframe.drop(['Loaned_from'], axis=1, inplace=True)"
   ]
  },
  {
   "cell_type": "code",
   "execution_count": 18,
   "id": "5ac2d720",
   "metadata": {},
   "outputs": [
    {
     "data": {
      "text/plain": "           ID  Age Nationality                 Club    Value   Wage  \\\n0      158023   31   Argentina         FC Barcelona  €110.5M  €565K   \n1       20801   33    Portugal             Juventus     €77M  €405K   \n2      190871   26      Brazil  Paris Saint-Germain  €118.5M  €290K   \n3      193080   27       Spain    Manchester United     €72M  €260K   \n4      192985   27     Belgium      Manchester City    €102M  €355K   \n...       ...  ...         ...                  ...      ...    ...   \n18202  238813   19     England      Crewe Alexandra     €60K    €1K   \n18203  243165   19      Sweden       Trelleborgs FF     €60K    €1K   \n18204  241638   16     England     Cambridge United     €60K    €1K   \n18205  246268   17     England      Tranmere Rovers     €60K    €1K   \n18206  246269   16     England      Tranmere Rovers     €60K    €1K   \n\n      Preferred_foot Position  Loaned Contract_Valid_Until Height  Weight  \\\n0               Left       RF   False                 2021    5'7  159lbs   \n1              Right       ST   False                 2022    6'2  183lbs   \n2              Right       LW   False                 2022    5'9  150lbs   \n3              Right       GK   False                 2020    6'4  168lbs   \n4              Right      RCM   False                 2023   5'11  154lbs   \n...              ...      ...     ...                  ...    ...     ...   \n18202          Right       CM   False                 2019    5'9  134lbs   \n18203          Right       ST   False                 2020    6'3  170lbs   \n18204          Right       ST   False                 2021    5'8  148lbs   \n18205          Right       RW   False                 2019   5'10  154lbs   \n18206          Right       CM   False                 2019   5'10  176lbs   \n\n      Release_clause  \n0            €226.5M  \n1            €127.1M  \n2            €228.1M  \n3            €138.6M  \n4            €196.4M  \n...              ...  \n18202          €143K  \n18203          €113K  \n18204          €165K  \n18205          €143K  \n18206          €165K  \n\n[17918 rows x 13 columns]",
      "text/html": "<div>\n<style scoped>\n    .dataframe tbody tr th:only-of-type {\n        vertical-align: middle;\n    }\n\n    .dataframe tbody tr th {\n        vertical-align: top;\n    }\n\n    .dataframe thead th {\n        text-align: right;\n    }\n</style>\n<table border=\"1\" class=\"dataframe\">\n  <thead>\n    <tr style=\"text-align: right;\">\n      <th></th>\n      <th>ID</th>\n      <th>Age</th>\n      <th>Nationality</th>\n      <th>Club</th>\n      <th>Value</th>\n      <th>Wage</th>\n      <th>Preferred_foot</th>\n      <th>Position</th>\n      <th>Loaned</th>\n      <th>Contract_Valid_Until</th>\n      <th>Height</th>\n      <th>Weight</th>\n      <th>Release_clause</th>\n    </tr>\n  </thead>\n  <tbody>\n    <tr>\n      <th>0</th>\n      <td>158023</td>\n      <td>31</td>\n      <td>Argentina</td>\n      <td>FC Barcelona</td>\n      <td>€110.5M</td>\n      <td>€565K</td>\n      <td>Left</td>\n      <td>RF</td>\n      <td>False</td>\n      <td>2021</td>\n      <td>5'7</td>\n      <td>159lbs</td>\n      <td>€226.5M</td>\n    </tr>\n    <tr>\n      <th>1</th>\n      <td>20801</td>\n      <td>33</td>\n      <td>Portugal</td>\n      <td>Juventus</td>\n      <td>€77M</td>\n      <td>€405K</td>\n      <td>Right</td>\n      <td>ST</td>\n      <td>False</td>\n      <td>2022</td>\n      <td>6'2</td>\n      <td>183lbs</td>\n      <td>€127.1M</td>\n    </tr>\n    <tr>\n      <th>2</th>\n      <td>190871</td>\n      <td>26</td>\n      <td>Brazil</td>\n      <td>Paris Saint-Germain</td>\n      <td>€118.5M</td>\n      <td>€290K</td>\n      <td>Right</td>\n      <td>LW</td>\n      <td>False</td>\n      <td>2022</td>\n      <td>5'9</td>\n      <td>150lbs</td>\n      <td>€228.1M</td>\n    </tr>\n    <tr>\n      <th>3</th>\n      <td>193080</td>\n      <td>27</td>\n      <td>Spain</td>\n      <td>Manchester United</td>\n      <td>€72M</td>\n      <td>€260K</td>\n      <td>Right</td>\n      <td>GK</td>\n      <td>False</td>\n      <td>2020</td>\n      <td>6'4</td>\n      <td>168lbs</td>\n      <td>€138.6M</td>\n    </tr>\n    <tr>\n      <th>4</th>\n      <td>192985</td>\n      <td>27</td>\n      <td>Belgium</td>\n      <td>Manchester City</td>\n      <td>€102M</td>\n      <td>€355K</td>\n      <td>Right</td>\n      <td>RCM</td>\n      <td>False</td>\n      <td>2023</td>\n      <td>5'11</td>\n      <td>154lbs</td>\n      <td>€196.4M</td>\n    </tr>\n    <tr>\n      <th>...</th>\n      <td>...</td>\n      <td>...</td>\n      <td>...</td>\n      <td>...</td>\n      <td>...</td>\n      <td>...</td>\n      <td>...</td>\n      <td>...</td>\n      <td>...</td>\n      <td>...</td>\n      <td>...</td>\n      <td>...</td>\n      <td>...</td>\n    </tr>\n    <tr>\n      <th>18202</th>\n      <td>238813</td>\n      <td>19</td>\n      <td>England</td>\n      <td>Crewe Alexandra</td>\n      <td>€60K</td>\n      <td>€1K</td>\n      <td>Right</td>\n      <td>CM</td>\n      <td>False</td>\n      <td>2019</td>\n      <td>5'9</td>\n      <td>134lbs</td>\n      <td>€143K</td>\n    </tr>\n    <tr>\n      <th>18203</th>\n      <td>243165</td>\n      <td>19</td>\n      <td>Sweden</td>\n      <td>Trelleborgs FF</td>\n      <td>€60K</td>\n      <td>€1K</td>\n      <td>Right</td>\n      <td>ST</td>\n      <td>False</td>\n      <td>2020</td>\n      <td>6'3</td>\n      <td>170lbs</td>\n      <td>€113K</td>\n    </tr>\n    <tr>\n      <th>18204</th>\n      <td>241638</td>\n      <td>16</td>\n      <td>England</td>\n      <td>Cambridge United</td>\n      <td>€60K</td>\n      <td>€1K</td>\n      <td>Right</td>\n      <td>ST</td>\n      <td>False</td>\n      <td>2021</td>\n      <td>5'8</td>\n      <td>148lbs</td>\n      <td>€165K</td>\n    </tr>\n    <tr>\n      <th>18205</th>\n      <td>246268</td>\n      <td>17</td>\n      <td>England</td>\n      <td>Tranmere Rovers</td>\n      <td>€60K</td>\n      <td>€1K</td>\n      <td>Right</td>\n      <td>RW</td>\n      <td>False</td>\n      <td>2019</td>\n      <td>5'10</td>\n      <td>154lbs</td>\n      <td>€143K</td>\n    </tr>\n    <tr>\n      <th>18206</th>\n      <td>246269</td>\n      <td>16</td>\n      <td>England</td>\n      <td>Tranmere Rovers</td>\n      <td>€60K</td>\n      <td>€1K</td>\n      <td>Right</td>\n      <td>CM</td>\n      <td>False</td>\n      <td>2019</td>\n      <td>5'10</td>\n      <td>176lbs</td>\n      <td>€165K</td>\n    </tr>\n  </tbody>\n</table>\n<p>17918 rows × 13 columns</p>\n</div>"
     },
     "execution_count": 18,
     "metadata": {},
     "output_type": "execute_result"
    }
   ],
   "source": [
    "dataframe"
   ]
  },
  {
   "cell_type": "markdown",
   "id": "d53b1475",
   "metadata": {},
   "source": [
    "Los únicos valores nulos que quedan son los de la columna Release Clause"
   ]
  },
  {
   "cell_type": "code",
   "execution_count": 19,
   "id": "ce919e18",
   "metadata": {},
   "outputs": [
    {
     "data": {
      "text/plain": "                      Datos nulos\nID                              0\nAge                             0\nNationality                     0\nClub                            0\nValue                           0\nWage                            0\nPreferred_foot                  0\nPosition                        0\nLoaned                          0\nContract_Valid_Until            0\nHeight                          0\nWeight                          0\nRelease_clause               1275",
      "text/html": "<div>\n<style scoped>\n    .dataframe tbody tr th:only-of-type {\n        vertical-align: middle;\n    }\n\n    .dataframe tbody tr th {\n        vertical-align: top;\n    }\n\n    .dataframe thead th {\n        text-align: right;\n    }\n</style>\n<table border=\"1\" class=\"dataframe\">\n  <thead>\n    <tr style=\"text-align: right;\">\n      <th></th>\n      <th>Datos nulos</th>\n    </tr>\n  </thead>\n  <tbody>\n    <tr>\n      <th>ID</th>\n      <td>0</td>\n    </tr>\n    <tr>\n      <th>Age</th>\n      <td>0</td>\n    </tr>\n    <tr>\n      <th>Nationality</th>\n      <td>0</td>\n    </tr>\n    <tr>\n      <th>Club</th>\n      <td>0</td>\n    </tr>\n    <tr>\n      <th>Value</th>\n      <td>0</td>\n    </tr>\n    <tr>\n      <th>Wage</th>\n      <td>0</td>\n    </tr>\n    <tr>\n      <th>Preferred_foot</th>\n      <td>0</td>\n    </tr>\n    <tr>\n      <th>Position</th>\n      <td>0</td>\n    </tr>\n    <tr>\n      <th>Loaned</th>\n      <td>0</td>\n    </tr>\n    <tr>\n      <th>Contract_Valid_Until</th>\n      <td>0</td>\n    </tr>\n    <tr>\n      <th>Height</th>\n      <td>0</td>\n    </tr>\n    <tr>\n      <th>Weight</th>\n      <td>0</td>\n    </tr>\n    <tr>\n      <th>Release_clause</th>\n      <td>1275</td>\n    </tr>\n  </tbody>\n</table>\n</div>"
     },
     "execution_count": 19,
     "metadata": {},
     "output_type": "execute_result"
    }
   ],
   "source": [
    "pd.DataFrame(dataframe.isnull().sum(), columns=['Datos nulos'])"
   ]
  },
  {
   "cell_type": "markdown",
   "id": "b5e2027f",
   "metadata": {},
   "source": [
    "Sabiendo que para esta columna los que no tienen cláusula de recisión se puede inferir que es una cláusula de 0 euros, se eliminan los valores  nulos por 0"
   ]
  },
  {
   "cell_type": "code",
   "execution_count": 20,
   "id": "045af496",
   "metadata": {},
   "outputs": [],
   "source": [
    "dataframe.loc[dataframe.Release_clause.isnull(),'Release_clause']='0'"
   ]
  },
  {
   "cell_type": "markdown",
   "id": "b9b3fafe",
   "metadata": {},
   "source": [
    "Se comprueba que se hayan insertado los nuevos valores para los datos nulos. Se puede observar que es la misma cantidad de los valores nulos iniciales"
   ]
  },
  {
   "cell_type": "code",
   "execution_count": 21,
   "id": "a9cec89b",
   "metadata": {},
   "outputs": [
    {
     "data": {
      "text/plain": "           ID  Age Nationality                            Club   Value   Wage  \\\n28     198710   26    Colombia               FC Bayern München  €69.5M  €315K   \n38     167664   30   Argentina                           Milan    €57M  €245K   \n91     187961   29      Brazil  Guangzhou Evergrande Taobao FC    €37M  €235K   \n166    212523   24      Brazil  Guangzhou Evergrande Taobao FC  €36.5M   €18K   \n176    207410   24     Croatia                         Chelsea    €35M  €165K   \n...       ...  ...         ...                             ...     ...    ...   \n17979  241341   21    China PR             Guizhou Hengfeng FC    €60K    €2K   \n18026  241444   21    China PR             Guizhou Hengfeng FC    €50K    €2K   \n18031  243506   20    China PR                  Stabæk Fotball    €40K    €2K   \n18056  244872   19       Italy                          Ascoli    €60K    €3K   \n18183   53748   44     England                Cambridge United      €0    €1K   \n\n      Preferred_foot Position  Loaned Contract_Valid_Until Height  Weight  \\\n28              Left      LAM    True         Jun 30, 2019   5'11  172lbs   \n38             Right       LS    True         Jun 30, 2019    6'1  196lbs   \n91             Right      LDM    True         Jun 30, 2019    6'0  157lbs   \n166             Left      CAM    True         Dec 31, 2018    6'3  176lbs   \n176            Right      LCM    True         Jun 30, 2019    5'9  172lbs   \n...              ...      ...     ...                  ...    ...     ...   \n17979          Right       CM    True         Dec 31, 2018    6'0  172lbs   \n18026          Right       LM    True         Dec 31, 2018   5'10  143lbs   \n18031          Right       RB    True         Dec 31, 2018    5'7  143lbs   \n18056           Left       CM    True         Jun 30, 2019   5'10  143lbs   \n18183          Right       GK   False                 2023    6'2  190lbs   \n\n      Release_clause  \n28                 0  \n38                 0  \n91                 0  \n166                0  \n176                0  \n...              ...  \n17979              0  \n18026              0  \n18031              0  \n18056              0  \n18183              0  \n\n[1275 rows x 13 columns]",
      "text/html": "<div>\n<style scoped>\n    .dataframe tbody tr th:only-of-type {\n        vertical-align: middle;\n    }\n\n    .dataframe tbody tr th {\n        vertical-align: top;\n    }\n\n    .dataframe thead th {\n        text-align: right;\n    }\n</style>\n<table border=\"1\" class=\"dataframe\">\n  <thead>\n    <tr style=\"text-align: right;\">\n      <th></th>\n      <th>ID</th>\n      <th>Age</th>\n      <th>Nationality</th>\n      <th>Club</th>\n      <th>Value</th>\n      <th>Wage</th>\n      <th>Preferred_foot</th>\n      <th>Position</th>\n      <th>Loaned</th>\n      <th>Contract_Valid_Until</th>\n      <th>Height</th>\n      <th>Weight</th>\n      <th>Release_clause</th>\n    </tr>\n  </thead>\n  <tbody>\n    <tr>\n      <th>28</th>\n      <td>198710</td>\n      <td>26</td>\n      <td>Colombia</td>\n      <td>FC Bayern München</td>\n      <td>€69.5M</td>\n      <td>€315K</td>\n      <td>Left</td>\n      <td>LAM</td>\n      <td>True</td>\n      <td>Jun 30, 2019</td>\n      <td>5'11</td>\n      <td>172lbs</td>\n      <td>0</td>\n    </tr>\n    <tr>\n      <th>38</th>\n      <td>167664</td>\n      <td>30</td>\n      <td>Argentina</td>\n      <td>Milan</td>\n      <td>€57M</td>\n      <td>€245K</td>\n      <td>Right</td>\n      <td>LS</td>\n      <td>True</td>\n      <td>Jun 30, 2019</td>\n      <td>6'1</td>\n      <td>196lbs</td>\n      <td>0</td>\n    </tr>\n    <tr>\n      <th>91</th>\n      <td>187961</td>\n      <td>29</td>\n      <td>Brazil</td>\n      <td>Guangzhou Evergrande Taobao FC</td>\n      <td>€37M</td>\n      <td>€235K</td>\n      <td>Right</td>\n      <td>LDM</td>\n      <td>True</td>\n      <td>Jun 30, 2019</td>\n      <td>6'0</td>\n      <td>157lbs</td>\n      <td>0</td>\n    </tr>\n    <tr>\n      <th>166</th>\n      <td>212523</td>\n      <td>24</td>\n      <td>Brazil</td>\n      <td>Guangzhou Evergrande Taobao FC</td>\n      <td>€36.5M</td>\n      <td>€18K</td>\n      <td>Left</td>\n      <td>CAM</td>\n      <td>True</td>\n      <td>Dec 31, 2018</td>\n      <td>6'3</td>\n      <td>176lbs</td>\n      <td>0</td>\n    </tr>\n    <tr>\n      <th>176</th>\n      <td>207410</td>\n      <td>24</td>\n      <td>Croatia</td>\n      <td>Chelsea</td>\n      <td>€35M</td>\n      <td>€165K</td>\n      <td>Right</td>\n      <td>LCM</td>\n      <td>True</td>\n      <td>Jun 30, 2019</td>\n      <td>5'9</td>\n      <td>172lbs</td>\n      <td>0</td>\n    </tr>\n    <tr>\n      <th>...</th>\n      <td>...</td>\n      <td>...</td>\n      <td>...</td>\n      <td>...</td>\n      <td>...</td>\n      <td>...</td>\n      <td>...</td>\n      <td>...</td>\n      <td>...</td>\n      <td>...</td>\n      <td>...</td>\n      <td>...</td>\n      <td>...</td>\n    </tr>\n    <tr>\n      <th>17979</th>\n      <td>241341</td>\n      <td>21</td>\n      <td>China PR</td>\n      <td>Guizhou Hengfeng FC</td>\n      <td>€60K</td>\n      <td>€2K</td>\n      <td>Right</td>\n      <td>CM</td>\n      <td>True</td>\n      <td>Dec 31, 2018</td>\n      <td>6'0</td>\n      <td>172lbs</td>\n      <td>0</td>\n    </tr>\n    <tr>\n      <th>18026</th>\n      <td>241444</td>\n      <td>21</td>\n      <td>China PR</td>\n      <td>Guizhou Hengfeng FC</td>\n      <td>€50K</td>\n      <td>€2K</td>\n      <td>Right</td>\n      <td>LM</td>\n      <td>True</td>\n      <td>Dec 31, 2018</td>\n      <td>5'10</td>\n      <td>143lbs</td>\n      <td>0</td>\n    </tr>\n    <tr>\n      <th>18031</th>\n      <td>243506</td>\n      <td>20</td>\n      <td>China PR</td>\n      <td>Stabæk Fotball</td>\n      <td>€40K</td>\n      <td>€2K</td>\n      <td>Right</td>\n      <td>RB</td>\n      <td>True</td>\n      <td>Dec 31, 2018</td>\n      <td>5'7</td>\n      <td>143lbs</td>\n      <td>0</td>\n    </tr>\n    <tr>\n      <th>18056</th>\n      <td>244872</td>\n      <td>19</td>\n      <td>Italy</td>\n      <td>Ascoli</td>\n      <td>€60K</td>\n      <td>€3K</td>\n      <td>Left</td>\n      <td>CM</td>\n      <td>True</td>\n      <td>Jun 30, 2019</td>\n      <td>5'10</td>\n      <td>143lbs</td>\n      <td>0</td>\n    </tr>\n    <tr>\n      <th>18183</th>\n      <td>53748</td>\n      <td>44</td>\n      <td>England</td>\n      <td>Cambridge United</td>\n      <td>€0</td>\n      <td>€1K</td>\n      <td>Right</td>\n      <td>GK</td>\n      <td>False</td>\n      <td>2023</td>\n      <td>6'2</td>\n      <td>190lbs</td>\n      <td>0</td>\n    </tr>\n  </tbody>\n</table>\n<p>1275 rows × 13 columns</p>\n</div>"
     },
     "execution_count": 21,
     "metadata": {},
     "output_type": "execute_result"
    }
   ],
   "source": [
    "dataframe[dataframe.Release_clause =='0']"
   ]
  },
  {
   "cell_type": "markdown",
   "id": "107f666f",
   "metadata": {},
   "source": [
    "Ahora nos aseguramos que no hay ningún dato nulo en el dataframe"
   ]
  },
  {
   "cell_type": "code",
   "execution_count": 22,
   "id": "70bfcd68",
   "metadata": {},
   "outputs": [
    {
     "data": {
      "text/plain": "                      Datos nulos\nID                              0\nAge                             0\nNationality                     0\nClub                            0\nValue                           0\nWage                            0\nPreferred_foot                  0\nPosition                        0\nLoaned                          0\nContract_Valid_Until            0\nHeight                          0\nWeight                          0\nRelease_clause                  0",
      "text/html": "<div>\n<style scoped>\n    .dataframe tbody tr th:only-of-type {\n        vertical-align: middle;\n    }\n\n    .dataframe tbody tr th {\n        vertical-align: top;\n    }\n\n    .dataframe thead th {\n        text-align: right;\n    }\n</style>\n<table border=\"1\" class=\"dataframe\">\n  <thead>\n    <tr style=\"text-align: right;\">\n      <th></th>\n      <th>Datos nulos</th>\n    </tr>\n  </thead>\n  <tbody>\n    <tr>\n      <th>ID</th>\n      <td>0</td>\n    </tr>\n    <tr>\n      <th>Age</th>\n      <td>0</td>\n    </tr>\n    <tr>\n      <th>Nationality</th>\n      <td>0</td>\n    </tr>\n    <tr>\n      <th>Club</th>\n      <td>0</td>\n    </tr>\n    <tr>\n      <th>Value</th>\n      <td>0</td>\n    </tr>\n    <tr>\n      <th>Wage</th>\n      <td>0</td>\n    </tr>\n    <tr>\n      <th>Preferred_foot</th>\n      <td>0</td>\n    </tr>\n    <tr>\n      <th>Position</th>\n      <td>0</td>\n    </tr>\n    <tr>\n      <th>Loaned</th>\n      <td>0</td>\n    </tr>\n    <tr>\n      <th>Contract_Valid_Until</th>\n      <td>0</td>\n    </tr>\n    <tr>\n      <th>Height</th>\n      <td>0</td>\n    </tr>\n    <tr>\n      <th>Weight</th>\n      <td>0</td>\n    </tr>\n    <tr>\n      <th>Release_clause</th>\n      <td>0</td>\n    </tr>\n  </tbody>\n</table>\n</div>"
     },
     "execution_count": 22,
     "metadata": {},
     "output_type": "execute_result"
    }
   ],
   "source": [
    "pd.DataFrame(dataframe.isnull().sum(), columns=['Datos nulos'])"
   ]
  },
  {
   "cell_type": "markdown",
   "id": "7a78312f",
   "metadata": {},
   "source": [
    "Ahora que se han limpiado las columnas de los valores nulos, se analizan el tipo de dato de las mismas."
   ]
  },
  {
   "cell_type": "code",
   "execution_count": 23,
   "id": "4ac11a3c",
   "metadata": {},
   "outputs": [
    {
     "data": {
      "text/plain": "                     Tipo de dato\nID                          int64\nAge                         int64\nNationality                object\nClub                       object\nValue                      object\nWage                       object\nPreferred_foot             object\nPosition                   object\nLoaned                       bool\nContract_Valid_Until       object\nHeight                     object\nWeight                     object\nRelease_clause             object",
      "text/html": "<div>\n<style scoped>\n    .dataframe tbody tr th:only-of-type {\n        vertical-align: middle;\n    }\n\n    .dataframe tbody tr th {\n        vertical-align: top;\n    }\n\n    .dataframe thead th {\n        text-align: right;\n    }\n</style>\n<table border=\"1\" class=\"dataframe\">\n  <thead>\n    <tr style=\"text-align: right;\">\n      <th></th>\n      <th>Tipo de dato</th>\n    </tr>\n  </thead>\n  <tbody>\n    <tr>\n      <th>ID</th>\n      <td>int64</td>\n    </tr>\n    <tr>\n      <th>Age</th>\n      <td>int64</td>\n    </tr>\n    <tr>\n      <th>Nationality</th>\n      <td>object</td>\n    </tr>\n    <tr>\n      <th>Club</th>\n      <td>object</td>\n    </tr>\n    <tr>\n      <th>Value</th>\n      <td>object</td>\n    </tr>\n    <tr>\n      <th>Wage</th>\n      <td>object</td>\n    </tr>\n    <tr>\n      <th>Preferred_foot</th>\n      <td>object</td>\n    </tr>\n    <tr>\n      <th>Position</th>\n      <td>object</td>\n    </tr>\n    <tr>\n      <th>Loaned</th>\n      <td>bool</td>\n    </tr>\n    <tr>\n      <th>Contract_Valid_Until</th>\n      <td>object</td>\n    </tr>\n    <tr>\n      <th>Height</th>\n      <td>object</td>\n    </tr>\n    <tr>\n      <th>Weight</th>\n      <td>object</td>\n    </tr>\n    <tr>\n      <th>Release_clause</th>\n      <td>object</td>\n    </tr>\n  </tbody>\n</table>\n</div>"
     },
     "execution_count": 23,
     "metadata": {},
     "output_type": "execute_result"
    }
   ],
   "source": [
    "pd.DataFrame(dataframe.dtypes, columns=['Tipo de dato'])"
   ]
  },
  {
   "cell_type": "markdown",
   "id": "9d62df01",
   "metadata": {},
   "source": [
    "Se puede ver que Value, Wage, Height y Release Clause son tipo object, cuando realmente deben ser numérico"
   ]
  },
  {
   "cell_type": "markdown",
   "id": "4ae2e04c",
   "metadata": {},
   "source": [
    "Primero se tratarán Value, Wage y Release Clause que son lo de cantidad de dinero. Contienen el signo de euro y si son miles o millones"
   ]
  },
  {
   "cell_type": "markdown",
   "id": "56493035",
   "metadata": {},
   "source": [
    "Comprobaremos que todas esas filas de dichas columnas tienen el mismo formato para luego eliminar caracteres innecesarios"
   ]
  },
  {
   "cell_type": "code",
   "execution_count": 24,
   "id": "46394bd0",
   "metadata": {},
   "outputs": [
    {
     "data": {
      "text/plain": "True"
     },
     "execution_count": 24,
     "metadata": {},
     "output_type": "execute_result"
    }
   ],
   "source": [
    "all([re.search('€*(\\d*.+\\d*[MK]*|0)', value) for tupla in dataframe[['Value', 'Wage', 'Release_clause']] for value in tupla])"
   ]
  },
  {
   "cell_type": "markdown",
   "id": "157a12d3",
   "metadata": {},
   "source": [
    "Eliminación de caracteres innecesarios en las columnas de Value, Wage y Release Clause"
   ]
  },
  {
   "cell_type": "code",
   "execution_count": 25,
   "id": "dee7f66e",
   "metadata": {},
   "outputs": [],
   "source": [
    "dataframe[['Value','Wage', 'Release_clause']] = dataframe[['Value','Wage', 'Release_clause']].apply(lambda x: [tupla[1]*1000 if ('M' in tupla[0]) else tupla[1] for tupla in [(value, float(re.findall('(\\d+(?:\\.\\d+)?)', value)[0])) for value in x]])\n"
   ]
  },
  {
   "cell_type": "markdown",
   "id": "bcc39d9f",
   "metadata": {},
   "source": [
    "Ahora se obtienen dichos valores y se efectúa la condición de que si son miles o millones"
   ]
  },
  {
   "cell_type": "markdown",
   "id": "0a210ef6",
   "metadata": {},
   "source": [
    "Se valida que todas las columnas de peso cumplan la expresión regular para la columna de peso"
   ]
  },
  {
   "cell_type": "code",
   "execution_count": 26,
   "id": "acd3a909",
   "metadata": {},
   "outputs": [
    {
     "data": {
      "text/plain": "True"
     },
     "execution_count": 26,
     "metadata": {},
     "output_type": "execute_result"
    }
   ],
   "source": [
    "all([re.findall('(\\d+(?:\\.\\d+)?)lbs', value) for value in dataframe.Weight.values])"
   ]
  },
  {
   "cell_type": "markdown",
   "id": "55b53c0a",
   "metadata": {},
   "source": [
    "Ahora se extraen los valores y se asignan a la misma celda de Weight"
   ]
  },
  {
   "cell_type": "code",
   "execution_count": 27,
   "id": "05cc5f13",
   "metadata": {},
   "outputs": [],
   "source": [
    "dataframe.Weight = dataframe.Weight.apply(lambda x: float(re.findall('(\\d+(?:\\.\\d+)?)', x)[0]))"
   ]
  },
  {
   "cell_type": "markdown",
   "id": "23e41c0b",
   "metadata": {},
   "source": [
    "Se comprueban los datos de altura cumplan con la expresión regular"
   ]
  },
  {
   "cell_type": "code",
   "execution_count": 28,
   "id": "06f44310",
   "metadata": {},
   "outputs": [
    {
     "data": {
      "text/plain": "True"
     },
     "execution_count": 28,
     "metadata": {},
     "output_type": "execute_result"
    }
   ],
   "source": [
    "all([re.findall('(\\d\\'\\d*)', value) for value in dataframe.Height])"
   ]
  },
  {
   "cell_type": "markdown",
   "source": [
    "Convirtiendo la columna Height a valores flotante para convertirlo en pulgadas"
   ],
   "metadata": {
    "collapsed": false
   }
  },
  {
   "cell_type": "code",
   "execution_count": 29,
   "outputs": [],
   "source": [
    "dataframe.Height = [y[0]*12+y[1] for y in [[int(y) for y in x.split(\"'\")] for x in dataframe.Height]]"
   ],
   "metadata": {
    "collapsed": false
   }
  },
  {
   "cell_type": "markdown",
   "source": [
    "Se actualizan los valores cadena de la columna "
   ],
   "metadata": {
    "collapsed": false
   }
  },
  {
   "cell_type": "code",
   "execution_count": 30,
   "id": "33e7d895",
   "metadata": {},
   "outputs": [],
   "source": [
    "# dataframe.Height = dataframe.Height.apply(lambda x: float(x.replace('\\'','.')))"
   ]
  },
  {
   "cell_type": "markdown",
   "source": [
    "Se valida la existencia de 4 dígitos consecutivos como año"
   ],
   "metadata": {
    "collapsed": false
   }
  },
  {
   "cell_type": "code",
   "execution_count": 31,
   "outputs": [
    {
     "data": {
      "text/plain": "True"
     },
     "execution_count": 31,
     "metadata": {},
     "output_type": "execute_result"
    }
   ],
   "source": [
    "all([re.findall('\\d{4}', x)[0] for x in dataframe.Contract_Valid_Until])"
   ],
   "metadata": {
    "collapsed": false
   }
  },
  {
   "cell_type": "markdown",
   "source": [
    "En la siguiente celda se debe realizar la reasignación de los datos para la columna de Contract Valid Until"
   ],
   "metadata": {
    "collapsed": false
   }
  },
  {
   "cell_type": "code",
   "execution_count": 32,
   "outputs": [],
   "source": [
    "dataframe.Contract_Valid_Until = dataframe.Contract_Valid_Until.apply(lambda x: int(re.findall('\\d{4}', x)[0]))"
   ],
   "metadata": {
    "collapsed": false
   }
  },
  {
   "cell_type": "code",
   "execution_count": 33,
   "outputs": [
    {
     "data": {
      "text/plain": "           ID  Age Nationality                 Club     Value   Wage  \\\n0      158023   31   Argentina         FC Barcelona  110500.0  565.0   \n1       20801   33    Portugal             Juventus   77000.0  405.0   \n2      190871   26      Brazil  Paris Saint-Germain  118500.0  290.0   \n3      193080   27       Spain    Manchester United   72000.0  260.0   \n4      192985   27     Belgium      Manchester City  102000.0  355.0   \n...       ...  ...         ...                  ...       ...    ...   \n18202  238813   19     England      Crewe Alexandra      60.0    1.0   \n18203  243165   19      Sweden       Trelleborgs FF      60.0    1.0   \n18204  241638   16     England     Cambridge United      60.0    1.0   \n18205  246268   17     England      Tranmere Rovers      60.0    1.0   \n18206  246269   16     England      Tranmere Rovers      60.0    1.0   \n\n      Preferred_foot Position  Loaned  Contract_Valid_Until  Height  Weight  \\\n0               Left       RF   False                  2021      67   159.0   \n1              Right       ST   False                  2022      74   183.0   \n2              Right       LW   False                  2022      69   150.0   \n3              Right       GK   False                  2020      76   168.0   \n4              Right      RCM   False                  2023      71   154.0   \n...              ...      ...     ...                   ...     ...     ...   \n18202          Right       CM   False                  2019      69   134.0   \n18203          Right       ST   False                  2020      75   170.0   \n18204          Right       ST   False                  2021      68   148.0   \n18205          Right       RW   False                  2019      70   154.0   \n18206          Right       CM   False                  2019      70   176.0   \n\n       Release_clause  \n0            226500.0  \n1            127100.0  \n2            228100.0  \n3            138600.0  \n4            196400.0  \n...               ...  \n18202           143.0  \n18203           113.0  \n18204           165.0  \n18205           143.0  \n18206           165.0  \n\n[17918 rows x 13 columns]",
      "text/html": "<div>\n<style scoped>\n    .dataframe tbody tr th:only-of-type {\n        vertical-align: middle;\n    }\n\n    .dataframe tbody tr th {\n        vertical-align: top;\n    }\n\n    .dataframe thead th {\n        text-align: right;\n    }\n</style>\n<table border=\"1\" class=\"dataframe\">\n  <thead>\n    <tr style=\"text-align: right;\">\n      <th></th>\n      <th>ID</th>\n      <th>Age</th>\n      <th>Nationality</th>\n      <th>Club</th>\n      <th>Value</th>\n      <th>Wage</th>\n      <th>Preferred_foot</th>\n      <th>Position</th>\n      <th>Loaned</th>\n      <th>Contract_Valid_Until</th>\n      <th>Height</th>\n      <th>Weight</th>\n      <th>Release_clause</th>\n    </tr>\n  </thead>\n  <tbody>\n    <tr>\n      <th>0</th>\n      <td>158023</td>\n      <td>31</td>\n      <td>Argentina</td>\n      <td>FC Barcelona</td>\n      <td>110500.0</td>\n      <td>565.0</td>\n      <td>Left</td>\n      <td>RF</td>\n      <td>False</td>\n      <td>2021</td>\n      <td>67</td>\n      <td>159.0</td>\n      <td>226500.0</td>\n    </tr>\n    <tr>\n      <th>1</th>\n      <td>20801</td>\n      <td>33</td>\n      <td>Portugal</td>\n      <td>Juventus</td>\n      <td>77000.0</td>\n      <td>405.0</td>\n      <td>Right</td>\n      <td>ST</td>\n      <td>False</td>\n      <td>2022</td>\n      <td>74</td>\n      <td>183.0</td>\n      <td>127100.0</td>\n    </tr>\n    <tr>\n      <th>2</th>\n      <td>190871</td>\n      <td>26</td>\n      <td>Brazil</td>\n      <td>Paris Saint-Germain</td>\n      <td>118500.0</td>\n      <td>290.0</td>\n      <td>Right</td>\n      <td>LW</td>\n      <td>False</td>\n      <td>2022</td>\n      <td>69</td>\n      <td>150.0</td>\n      <td>228100.0</td>\n    </tr>\n    <tr>\n      <th>3</th>\n      <td>193080</td>\n      <td>27</td>\n      <td>Spain</td>\n      <td>Manchester United</td>\n      <td>72000.0</td>\n      <td>260.0</td>\n      <td>Right</td>\n      <td>GK</td>\n      <td>False</td>\n      <td>2020</td>\n      <td>76</td>\n      <td>168.0</td>\n      <td>138600.0</td>\n    </tr>\n    <tr>\n      <th>4</th>\n      <td>192985</td>\n      <td>27</td>\n      <td>Belgium</td>\n      <td>Manchester City</td>\n      <td>102000.0</td>\n      <td>355.0</td>\n      <td>Right</td>\n      <td>RCM</td>\n      <td>False</td>\n      <td>2023</td>\n      <td>71</td>\n      <td>154.0</td>\n      <td>196400.0</td>\n    </tr>\n    <tr>\n      <th>...</th>\n      <td>...</td>\n      <td>...</td>\n      <td>...</td>\n      <td>...</td>\n      <td>...</td>\n      <td>...</td>\n      <td>...</td>\n      <td>...</td>\n      <td>...</td>\n      <td>...</td>\n      <td>...</td>\n      <td>...</td>\n      <td>...</td>\n    </tr>\n    <tr>\n      <th>18202</th>\n      <td>238813</td>\n      <td>19</td>\n      <td>England</td>\n      <td>Crewe Alexandra</td>\n      <td>60.0</td>\n      <td>1.0</td>\n      <td>Right</td>\n      <td>CM</td>\n      <td>False</td>\n      <td>2019</td>\n      <td>69</td>\n      <td>134.0</td>\n      <td>143.0</td>\n    </tr>\n    <tr>\n      <th>18203</th>\n      <td>243165</td>\n      <td>19</td>\n      <td>Sweden</td>\n      <td>Trelleborgs FF</td>\n      <td>60.0</td>\n      <td>1.0</td>\n      <td>Right</td>\n      <td>ST</td>\n      <td>False</td>\n      <td>2020</td>\n      <td>75</td>\n      <td>170.0</td>\n      <td>113.0</td>\n    </tr>\n    <tr>\n      <th>18204</th>\n      <td>241638</td>\n      <td>16</td>\n      <td>England</td>\n      <td>Cambridge United</td>\n      <td>60.0</td>\n      <td>1.0</td>\n      <td>Right</td>\n      <td>ST</td>\n      <td>False</td>\n      <td>2021</td>\n      <td>68</td>\n      <td>148.0</td>\n      <td>165.0</td>\n    </tr>\n    <tr>\n      <th>18205</th>\n      <td>246268</td>\n      <td>17</td>\n      <td>England</td>\n      <td>Tranmere Rovers</td>\n      <td>60.0</td>\n      <td>1.0</td>\n      <td>Right</td>\n      <td>RW</td>\n      <td>False</td>\n      <td>2019</td>\n      <td>70</td>\n      <td>154.0</td>\n      <td>143.0</td>\n    </tr>\n    <tr>\n      <th>18206</th>\n      <td>246269</td>\n      <td>16</td>\n      <td>England</td>\n      <td>Tranmere Rovers</td>\n      <td>60.0</td>\n      <td>1.0</td>\n      <td>Right</td>\n      <td>CM</td>\n      <td>False</td>\n      <td>2019</td>\n      <td>70</td>\n      <td>176.0</td>\n      <td>165.0</td>\n    </tr>\n  </tbody>\n</table>\n<p>17918 rows × 13 columns</p>\n</div>"
     },
     "execution_count": 33,
     "metadata": {},
     "output_type": "execute_result"
    }
   ],
   "source": [
    "dataframe"
   ],
   "metadata": {
    "collapsed": false
   }
  },
  {
   "cell_type": "markdown",
   "source": [
    "El campo Preferred Fot es el campo que no se ha validado como los otros por ser de tipo cadena de texto, pero al visualizar el conjunto de datos, es posible comprobar si solamente tiene los valores de Left y Right,por lo tanto se comprueba que no haya otro dato que pudiera afectar"
   ],
   "metadata": {
    "collapsed": false
   }
  },
  {
   "cell_type": "code",
   "execution_count": 34,
   "outputs": [
    {
     "data": {
      "text/plain": "True"
     },
     "execution_count": 34,
     "metadata": {},
     "output_type": "execute_result"
    }
   ],
   "source": [
    "all(foot == 'Left' or foot == 'Right' for foot in dataframe.Preferred_foot)"
   ],
   "metadata": {
    "collapsed": false
   }
  },
  {
   "cell_type": "markdown",
   "source": [
    "Se comprueba el tipo de dato de las columnas"
   ],
   "metadata": {
    "collapsed": false
   }
  },
  {
   "cell_type": "code",
   "execution_count": 35,
   "outputs": [
    {
     "data": {
      "text/plain": "ID                        int64\nAge                       int64\nNationality              object\nClub                     object\nValue                   float64\nWage                    float64\nPreferred_foot           object\nPosition                 object\nLoaned                     bool\nContract_Valid_Until      int64\nHeight                    int64\nWeight                  float64\nRelease_clause          float64\ndtype: object"
     },
     "execution_count": 35,
     "metadata": {},
     "output_type": "execute_result"
    }
   ],
   "source": [
    "dataframe.dtypes"
   ],
   "metadata": {
    "collapsed": false
   }
  },
  {
   "cell_type": "markdown",
   "source": [
    "Se ha terminado de eliminar y sustituir las filas con valores nulos, verificado el tipo de dato y cmprobado si dichas filas cumplen con su respectiva expresión regular"
   ],
   "metadata": {
    "collapsed": false
   }
  },
  {
   "cell_type": "markdown",
   "source": [
    "## Dataset normalized creation"
   ],
   "metadata": {
    "collapsed": false
   }
  },
  {
   "cell_type": "markdown",
   "source": [
    "Creamos una copia del dataset ya limpio con el fin de modificar los datos, pero mantieniendo una copia del conjunto de datos limpio. Se realiza una copia de esta manera para evitar problemas con el objeto."
   ],
   "metadata": {
    "collapsed": false
   }
  },
  {
   "cell_type": "code",
   "execution_count": 36,
   "outputs": [],
   "source": [
    "normalizedDataframe = dataframe.copy()"
   ],
   "metadata": {
    "collapsed": false
   }
  },
  {
   "cell_type": "markdown",
   "source": [
    "Se visualiza el objeto normalizedDataframe"
   ],
   "metadata": {
    "collapsed": false
   }
  },
  {
   "cell_type": "code",
   "execution_count": 37,
   "outputs": [
    {
     "data": {
      "text/plain": "           ID  Age Nationality                 Club     Value   Wage  \\\n0      158023   31   Argentina         FC Barcelona  110500.0  565.0   \n1       20801   33    Portugal             Juventus   77000.0  405.0   \n2      190871   26      Brazil  Paris Saint-Germain  118500.0  290.0   \n3      193080   27       Spain    Manchester United   72000.0  260.0   \n4      192985   27     Belgium      Manchester City  102000.0  355.0   \n...       ...  ...         ...                  ...       ...    ...   \n18202  238813   19     England      Crewe Alexandra      60.0    1.0   \n18203  243165   19      Sweden       Trelleborgs FF      60.0    1.0   \n18204  241638   16     England     Cambridge United      60.0    1.0   \n18205  246268   17     England      Tranmere Rovers      60.0    1.0   \n18206  246269   16     England      Tranmere Rovers      60.0    1.0   \n\n      Preferred_foot Position  Loaned  Contract_Valid_Until  Height  Weight  \\\n0               Left       RF   False                  2021      67   159.0   \n1              Right       ST   False                  2022      74   183.0   \n2              Right       LW   False                  2022      69   150.0   \n3              Right       GK   False                  2020      76   168.0   \n4              Right      RCM   False                  2023      71   154.0   \n...              ...      ...     ...                   ...     ...     ...   \n18202          Right       CM   False                  2019      69   134.0   \n18203          Right       ST   False                  2020      75   170.0   \n18204          Right       ST   False                  2021      68   148.0   \n18205          Right       RW   False                  2019      70   154.0   \n18206          Right       CM   False                  2019      70   176.0   \n\n       Release_clause  \n0            226500.0  \n1            127100.0  \n2            228100.0  \n3            138600.0  \n4            196400.0  \n...               ...  \n18202           143.0  \n18203           113.0  \n18204           165.0  \n18205           143.0  \n18206           165.0  \n\n[17918 rows x 13 columns]",
      "text/html": "<div>\n<style scoped>\n    .dataframe tbody tr th:only-of-type {\n        vertical-align: middle;\n    }\n\n    .dataframe tbody tr th {\n        vertical-align: top;\n    }\n\n    .dataframe thead th {\n        text-align: right;\n    }\n</style>\n<table border=\"1\" class=\"dataframe\">\n  <thead>\n    <tr style=\"text-align: right;\">\n      <th></th>\n      <th>ID</th>\n      <th>Age</th>\n      <th>Nationality</th>\n      <th>Club</th>\n      <th>Value</th>\n      <th>Wage</th>\n      <th>Preferred_foot</th>\n      <th>Position</th>\n      <th>Loaned</th>\n      <th>Contract_Valid_Until</th>\n      <th>Height</th>\n      <th>Weight</th>\n      <th>Release_clause</th>\n    </tr>\n  </thead>\n  <tbody>\n    <tr>\n      <th>0</th>\n      <td>158023</td>\n      <td>31</td>\n      <td>Argentina</td>\n      <td>FC Barcelona</td>\n      <td>110500.0</td>\n      <td>565.0</td>\n      <td>Left</td>\n      <td>RF</td>\n      <td>False</td>\n      <td>2021</td>\n      <td>67</td>\n      <td>159.0</td>\n      <td>226500.0</td>\n    </tr>\n    <tr>\n      <th>1</th>\n      <td>20801</td>\n      <td>33</td>\n      <td>Portugal</td>\n      <td>Juventus</td>\n      <td>77000.0</td>\n      <td>405.0</td>\n      <td>Right</td>\n      <td>ST</td>\n      <td>False</td>\n      <td>2022</td>\n      <td>74</td>\n      <td>183.0</td>\n      <td>127100.0</td>\n    </tr>\n    <tr>\n      <th>2</th>\n      <td>190871</td>\n      <td>26</td>\n      <td>Brazil</td>\n      <td>Paris Saint-Germain</td>\n      <td>118500.0</td>\n      <td>290.0</td>\n      <td>Right</td>\n      <td>LW</td>\n      <td>False</td>\n      <td>2022</td>\n      <td>69</td>\n      <td>150.0</td>\n      <td>228100.0</td>\n    </tr>\n    <tr>\n      <th>3</th>\n      <td>193080</td>\n      <td>27</td>\n      <td>Spain</td>\n      <td>Manchester United</td>\n      <td>72000.0</td>\n      <td>260.0</td>\n      <td>Right</td>\n      <td>GK</td>\n      <td>False</td>\n      <td>2020</td>\n      <td>76</td>\n      <td>168.0</td>\n      <td>138600.0</td>\n    </tr>\n    <tr>\n      <th>4</th>\n      <td>192985</td>\n      <td>27</td>\n      <td>Belgium</td>\n      <td>Manchester City</td>\n      <td>102000.0</td>\n      <td>355.0</td>\n      <td>Right</td>\n      <td>RCM</td>\n      <td>False</td>\n      <td>2023</td>\n      <td>71</td>\n      <td>154.0</td>\n      <td>196400.0</td>\n    </tr>\n    <tr>\n      <th>...</th>\n      <td>...</td>\n      <td>...</td>\n      <td>...</td>\n      <td>...</td>\n      <td>...</td>\n      <td>...</td>\n      <td>...</td>\n      <td>...</td>\n      <td>...</td>\n      <td>...</td>\n      <td>...</td>\n      <td>...</td>\n      <td>...</td>\n    </tr>\n    <tr>\n      <th>18202</th>\n      <td>238813</td>\n      <td>19</td>\n      <td>England</td>\n      <td>Crewe Alexandra</td>\n      <td>60.0</td>\n      <td>1.0</td>\n      <td>Right</td>\n      <td>CM</td>\n      <td>False</td>\n      <td>2019</td>\n      <td>69</td>\n      <td>134.0</td>\n      <td>143.0</td>\n    </tr>\n    <tr>\n      <th>18203</th>\n      <td>243165</td>\n      <td>19</td>\n      <td>Sweden</td>\n      <td>Trelleborgs FF</td>\n      <td>60.0</td>\n      <td>1.0</td>\n      <td>Right</td>\n      <td>ST</td>\n      <td>False</td>\n      <td>2020</td>\n      <td>75</td>\n      <td>170.0</td>\n      <td>113.0</td>\n    </tr>\n    <tr>\n      <th>18204</th>\n      <td>241638</td>\n      <td>16</td>\n      <td>England</td>\n      <td>Cambridge United</td>\n      <td>60.0</td>\n      <td>1.0</td>\n      <td>Right</td>\n      <td>ST</td>\n      <td>False</td>\n      <td>2021</td>\n      <td>68</td>\n      <td>148.0</td>\n      <td>165.0</td>\n    </tr>\n    <tr>\n      <th>18205</th>\n      <td>246268</td>\n      <td>17</td>\n      <td>England</td>\n      <td>Tranmere Rovers</td>\n      <td>60.0</td>\n      <td>1.0</td>\n      <td>Right</td>\n      <td>RW</td>\n      <td>False</td>\n      <td>2019</td>\n      <td>70</td>\n      <td>154.0</td>\n      <td>143.0</td>\n    </tr>\n    <tr>\n      <th>18206</th>\n      <td>246269</td>\n      <td>16</td>\n      <td>England</td>\n      <td>Tranmere Rovers</td>\n      <td>60.0</td>\n      <td>1.0</td>\n      <td>Right</td>\n      <td>CM</td>\n      <td>False</td>\n      <td>2019</td>\n      <td>70</td>\n      <td>176.0</td>\n      <td>165.0</td>\n    </tr>\n  </tbody>\n</table>\n<p>17918 rows × 13 columns</p>\n</div>"
     },
     "execution_count": 37,
     "metadata": {},
     "output_type": "execute_result"
    }
   ],
   "source": [
    "normalizedDataframe"
   ],
   "metadata": {
    "collapsed": false
   }
  },
  {
   "cell_type": "markdown",
   "source": [
    "Se crea un subconjunto de datos para crear un conjunto de la columna de Nationality"
   ],
   "metadata": {
    "collapsed": false
   }
  },
  {
   "cell_type": "code",
   "execution_count": 38,
   "outputs": [],
   "source": [
    "countryDataframe = pd.DataFrame((lambda x:{'Nationality':x.index, 'Frequency':x.values})(dataframe.Nationality.value_counts()))"
   ],
   "metadata": {
    "collapsed": false
   }
  },
  {
   "cell_type": "markdown",
   "source": [
    "Ahora se indexa con el dataframe limpio sustituyendo el nombre de la nacionalidad con el índice de countryDataframe"
   ],
   "metadata": {
    "collapsed": false
   }
  },
  {
   "cell_type": "code",
   "execution_count": 39,
   "outputs": [],
   "source": [
    "normalizedDataframe.Nationality = dataframe.Nationality.apply(lambda x:countryDataframe.loc[countryDataframe.Nationality==x].index[0])"
   ],
   "metadata": {
    "collapsed": false
   }
  },
  {
   "cell_type": "code",
   "execution_count": 40,
   "outputs": [
    {
     "data": {
      "text/plain": "           ID  Age  Nationality                 Club     Value   Wage  \\\n0      158023   31            3         FC Barcelona  110500.0  565.0   \n1       20801   33           21             Juventus   77000.0  405.0   \n2      190871   26            5  Paris Saint-Germain  118500.0  290.0   \n3      193080   27            2    Manchester United   72000.0  260.0   \n4      192985   27           25      Manchester City  102000.0  355.0   \n...       ...  ...          ...                  ...       ...    ...   \n18202  238813   19            0      Crewe Alexandra      60.0    1.0   \n18203  243165   19           10       Trelleborgs FF      60.0    1.0   \n18204  241638   16            0     Cambridge United      60.0    1.0   \n18205  246268   17            0      Tranmere Rovers      60.0    1.0   \n18206  246269   16            0      Tranmere Rovers      60.0    1.0   \n\n      Preferred_foot Position  Loaned  Contract_Valid_Until  Height  Weight  \\\n0               Left       RF   False                  2021      67   159.0   \n1              Right       ST   False                  2022      74   183.0   \n2              Right       LW   False                  2022      69   150.0   \n3              Right       GK   False                  2020      76   168.0   \n4              Right      RCM   False                  2023      71   154.0   \n...              ...      ...     ...                   ...     ...     ...   \n18202          Right       CM   False                  2019      69   134.0   \n18203          Right       ST   False                  2020      75   170.0   \n18204          Right       ST   False                  2021      68   148.0   \n18205          Right       RW   False                  2019      70   154.0   \n18206          Right       CM   False                  2019      70   176.0   \n\n       Release_clause  \n0            226500.0  \n1            127100.0  \n2            228100.0  \n3            138600.0  \n4            196400.0  \n...               ...  \n18202           143.0  \n18203           113.0  \n18204           165.0  \n18205           143.0  \n18206           165.0  \n\n[17918 rows x 13 columns]",
      "text/html": "<div>\n<style scoped>\n    .dataframe tbody tr th:only-of-type {\n        vertical-align: middle;\n    }\n\n    .dataframe tbody tr th {\n        vertical-align: top;\n    }\n\n    .dataframe thead th {\n        text-align: right;\n    }\n</style>\n<table border=\"1\" class=\"dataframe\">\n  <thead>\n    <tr style=\"text-align: right;\">\n      <th></th>\n      <th>ID</th>\n      <th>Age</th>\n      <th>Nationality</th>\n      <th>Club</th>\n      <th>Value</th>\n      <th>Wage</th>\n      <th>Preferred_foot</th>\n      <th>Position</th>\n      <th>Loaned</th>\n      <th>Contract_Valid_Until</th>\n      <th>Height</th>\n      <th>Weight</th>\n      <th>Release_clause</th>\n    </tr>\n  </thead>\n  <tbody>\n    <tr>\n      <th>0</th>\n      <td>158023</td>\n      <td>31</td>\n      <td>3</td>\n      <td>FC Barcelona</td>\n      <td>110500.0</td>\n      <td>565.0</td>\n      <td>Left</td>\n      <td>RF</td>\n      <td>False</td>\n      <td>2021</td>\n      <td>67</td>\n      <td>159.0</td>\n      <td>226500.0</td>\n    </tr>\n    <tr>\n      <th>1</th>\n      <td>20801</td>\n      <td>33</td>\n      <td>21</td>\n      <td>Juventus</td>\n      <td>77000.0</td>\n      <td>405.0</td>\n      <td>Right</td>\n      <td>ST</td>\n      <td>False</td>\n      <td>2022</td>\n      <td>74</td>\n      <td>183.0</td>\n      <td>127100.0</td>\n    </tr>\n    <tr>\n      <th>2</th>\n      <td>190871</td>\n      <td>26</td>\n      <td>5</td>\n      <td>Paris Saint-Germain</td>\n      <td>118500.0</td>\n      <td>290.0</td>\n      <td>Right</td>\n      <td>LW</td>\n      <td>False</td>\n      <td>2022</td>\n      <td>69</td>\n      <td>150.0</td>\n      <td>228100.0</td>\n    </tr>\n    <tr>\n      <th>3</th>\n      <td>193080</td>\n      <td>27</td>\n      <td>2</td>\n      <td>Manchester United</td>\n      <td>72000.0</td>\n      <td>260.0</td>\n      <td>Right</td>\n      <td>GK</td>\n      <td>False</td>\n      <td>2020</td>\n      <td>76</td>\n      <td>168.0</td>\n      <td>138600.0</td>\n    </tr>\n    <tr>\n      <th>4</th>\n      <td>192985</td>\n      <td>27</td>\n      <td>25</td>\n      <td>Manchester City</td>\n      <td>102000.0</td>\n      <td>355.0</td>\n      <td>Right</td>\n      <td>RCM</td>\n      <td>False</td>\n      <td>2023</td>\n      <td>71</td>\n      <td>154.0</td>\n      <td>196400.0</td>\n    </tr>\n    <tr>\n      <th>...</th>\n      <td>...</td>\n      <td>...</td>\n      <td>...</td>\n      <td>...</td>\n      <td>...</td>\n      <td>...</td>\n      <td>...</td>\n      <td>...</td>\n      <td>...</td>\n      <td>...</td>\n      <td>...</td>\n      <td>...</td>\n      <td>...</td>\n    </tr>\n    <tr>\n      <th>18202</th>\n      <td>238813</td>\n      <td>19</td>\n      <td>0</td>\n      <td>Crewe Alexandra</td>\n      <td>60.0</td>\n      <td>1.0</td>\n      <td>Right</td>\n      <td>CM</td>\n      <td>False</td>\n      <td>2019</td>\n      <td>69</td>\n      <td>134.0</td>\n      <td>143.0</td>\n    </tr>\n    <tr>\n      <th>18203</th>\n      <td>243165</td>\n      <td>19</td>\n      <td>10</td>\n      <td>Trelleborgs FF</td>\n      <td>60.0</td>\n      <td>1.0</td>\n      <td>Right</td>\n      <td>ST</td>\n      <td>False</td>\n      <td>2020</td>\n      <td>75</td>\n      <td>170.0</td>\n      <td>113.0</td>\n    </tr>\n    <tr>\n      <th>18204</th>\n      <td>241638</td>\n      <td>16</td>\n      <td>0</td>\n      <td>Cambridge United</td>\n      <td>60.0</td>\n      <td>1.0</td>\n      <td>Right</td>\n      <td>ST</td>\n      <td>False</td>\n      <td>2021</td>\n      <td>68</td>\n      <td>148.0</td>\n      <td>165.0</td>\n    </tr>\n    <tr>\n      <th>18205</th>\n      <td>246268</td>\n      <td>17</td>\n      <td>0</td>\n      <td>Tranmere Rovers</td>\n      <td>60.0</td>\n      <td>1.0</td>\n      <td>Right</td>\n      <td>RW</td>\n      <td>False</td>\n      <td>2019</td>\n      <td>70</td>\n      <td>154.0</td>\n      <td>143.0</td>\n    </tr>\n    <tr>\n      <th>18206</th>\n      <td>246269</td>\n      <td>16</td>\n      <td>0</td>\n      <td>Tranmere Rovers</td>\n      <td>60.0</td>\n      <td>1.0</td>\n      <td>Right</td>\n      <td>CM</td>\n      <td>False</td>\n      <td>2019</td>\n      <td>70</td>\n      <td>176.0</td>\n      <td>165.0</td>\n    </tr>\n  </tbody>\n</table>\n<p>17918 rows × 13 columns</p>\n</div>"
     },
     "execution_count": 40,
     "metadata": {},
     "output_type": "execute_result"
    }
   ],
   "source": [
    "normalizedDataframe"
   ],
   "metadata": {
    "collapsed": false
   }
  },
  {
   "cell_type": "markdown",
   "source": [
    "Se crea un subconjunto de datos para crear un conjunto de la columna de Club"
   ],
   "metadata": {
    "collapsed": false
   }
  },
  {
   "cell_type": "code",
   "execution_count": 41,
   "outputs": [],
   "source": [
    "clubDataframe = pd.DataFrame((lambda x:{'Club':x.index, 'Frequency':x.values})(dataframe.Club.value_counts()))"
   ],
   "metadata": {
    "collapsed": false
   }
  },
  {
   "cell_type": "code",
   "execution_count": 42,
   "outputs": [
    {
     "data": {
      "text/plain": "                        Club  Frequency\n0               FC Barcelona         33\n1                Southampton         33\n2               Cardiff City         33\n3        TSG 1899 Hoffenheim         33\n4    Wolverhampton Wanderers         33\n..                       ...        ...\n646                  Vitória         20\n647                   Paraná         20\n648             Sligo Rovers         19\n649              Limerick FC         19\n650               Derry City         18\n\n[651 rows x 2 columns]",
      "text/html": "<div>\n<style scoped>\n    .dataframe tbody tr th:only-of-type {\n        vertical-align: middle;\n    }\n\n    .dataframe tbody tr th {\n        vertical-align: top;\n    }\n\n    .dataframe thead th {\n        text-align: right;\n    }\n</style>\n<table border=\"1\" class=\"dataframe\">\n  <thead>\n    <tr style=\"text-align: right;\">\n      <th></th>\n      <th>Club</th>\n      <th>Frequency</th>\n    </tr>\n  </thead>\n  <tbody>\n    <tr>\n      <th>0</th>\n      <td>FC Barcelona</td>\n      <td>33</td>\n    </tr>\n    <tr>\n      <th>1</th>\n      <td>Southampton</td>\n      <td>33</td>\n    </tr>\n    <tr>\n      <th>2</th>\n      <td>Cardiff City</td>\n      <td>33</td>\n    </tr>\n    <tr>\n      <th>3</th>\n      <td>TSG 1899 Hoffenheim</td>\n      <td>33</td>\n    </tr>\n    <tr>\n      <th>4</th>\n      <td>Wolverhampton Wanderers</td>\n      <td>33</td>\n    </tr>\n    <tr>\n      <th>...</th>\n      <td>...</td>\n      <td>...</td>\n    </tr>\n    <tr>\n      <th>646</th>\n      <td>Vitória</td>\n      <td>20</td>\n    </tr>\n    <tr>\n      <th>647</th>\n      <td>Paraná</td>\n      <td>20</td>\n    </tr>\n    <tr>\n      <th>648</th>\n      <td>Sligo Rovers</td>\n      <td>19</td>\n    </tr>\n    <tr>\n      <th>649</th>\n      <td>Limerick FC</td>\n      <td>19</td>\n    </tr>\n    <tr>\n      <th>650</th>\n      <td>Derry City</td>\n      <td>18</td>\n    </tr>\n  </tbody>\n</table>\n<p>651 rows × 2 columns</p>\n</div>"
     },
     "execution_count": 42,
     "metadata": {},
     "output_type": "execute_result"
    }
   ],
   "source": [
    "clubDataframe"
   ],
   "metadata": {
    "collapsed": false
   }
  },
  {
   "cell_type": "markdown",
   "source": [
    "Se sustituye el valor de cadena de texto por el índice de dicho valor en clubDataframe"
   ],
   "metadata": {
    "collapsed": false
   }
  },
  {
   "cell_type": "code",
   "execution_count": 43,
   "outputs": [],
   "source": [
    "normalizedDataframe.Club = dataframe.Club.apply(lambda x:clubDataframe.loc[clubDataframe.Club==x].index[0])"
   ],
   "metadata": {
    "collapsed": false
   }
  },
  {
   "cell_type": "code",
   "execution_count": 44,
   "outputs": [
    {
     "data": {
      "text/plain": "           ID  Age  Nationality  Club     Value   Wage Preferred_foot  \\\n0      158023   31            3     0  110500.0  565.0           Left   \n1       20801   33           21   559   77000.0  405.0          Right   \n2      190871   26            5   146  118500.0  290.0          Right   \n3      193080   27            2    23   72000.0  260.0          Right   \n4      192985   27           25    24  102000.0  355.0          Right   \n...       ...  ...          ...   ...       ...    ...            ...   \n18202  238813   19            0   296      60.0    1.0          Right   \n18203  243165   19           10   376      60.0    1.0          Right   \n18204  241638   16            0   301      60.0    1.0          Right   \n18205  246268   17            0   379      60.0    1.0          Right   \n18206  246269   16            0   379      60.0    1.0          Right   \n\n      Position  Loaned  Contract_Valid_Until  Height  Weight  Release_clause  \n0           RF   False                  2021      67   159.0        226500.0  \n1           ST   False                  2022      74   183.0        127100.0  \n2           LW   False                  2022      69   150.0        228100.0  \n3           GK   False                  2020      76   168.0        138600.0  \n4          RCM   False                  2023      71   154.0        196400.0  \n...        ...     ...                   ...     ...     ...             ...  \n18202       CM   False                  2019      69   134.0           143.0  \n18203       ST   False                  2020      75   170.0           113.0  \n18204       ST   False                  2021      68   148.0           165.0  \n18205       RW   False                  2019      70   154.0           143.0  \n18206       CM   False                  2019      70   176.0           165.0  \n\n[17918 rows x 13 columns]",
      "text/html": "<div>\n<style scoped>\n    .dataframe tbody tr th:only-of-type {\n        vertical-align: middle;\n    }\n\n    .dataframe tbody tr th {\n        vertical-align: top;\n    }\n\n    .dataframe thead th {\n        text-align: right;\n    }\n</style>\n<table border=\"1\" class=\"dataframe\">\n  <thead>\n    <tr style=\"text-align: right;\">\n      <th></th>\n      <th>ID</th>\n      <th>Age</th>\n      <th>Nationality</th>\n      <th>Club</th>\n      <th>Value</th>\n      <th>Wage</th>\n      <th>Preferred_foot</th>\n      <th>Position</th>\n      <th>Loaned</th>\n      <th>Contract_Valid_Until</th>\n      <th>Height</th>\n      <th>Weight</th>\n      <th>Release_clause</th>\n    </tr>\n  </thead>\n  <tbody>\n    <tr>\n      <th>0</th>\n      <td>158023</td>\n      <td>31</td>\n      <td>3</td>\n      <td>0</td>\n      <td>110500.0</td>\n      <td>565.0</td>\n      <td>Left</td>\n      <td>RF</td>\n      <td>False</td>\n      <td>2021</td>\n      <td>67</td>\n      <td>159.0</td>\n      <td>226500.0</td>\n    </tr>\n    <tr>\n      <th>1</th>\n      <td>20801</td>\n      <td>33</td>\n      <td>21</td>\n      <td>559</td>\n      <td>77000.0</td>\n      <td>405.0</td>\n      <td>Right</td>\n      <td>ST</td>\n      <td>False</td>\n      <td>2022</td>\n      <td>74</td>\n      <td>183.0</td>\n      <td>127100.0</td>\n    </tr>\n    <tr>\n      <th>2</th>\n      <td>190871</td>\n      <td>26</td>\n      <td>5</td>\n      <td>146</td>\n      <td>118500.0</td>\n      <td>290.0</td>\n      <td>Right</td>\n      <td>LW</td>\n      <td>False</td>\n      <td>2022</td>\n      <td>69</td>\n      <td>150.0</td>\n      <td>228100.0</td>\n    </tr>\n    <tr>\n      <th>3</th>\n      <td>193080</td>\n      <td>27</td>\n      <td>2</td>\n      <td>23</td>\n      <td>72000.0</td>\n      <td>260.0</td>\n      <td>Right</td>\n      <td>GK</td>\n      <td>False</td>\n      <td>2020</td>\n      <td>76</td>\n      <td>168.0</td>\n      <td>138600.0</td>\n    </tr>\n    <tr>\n      <th>4</th>\n      <td>192985</td>\n      <td>27</td>\n      <td>25</td>\n      <td>24</td>\n      <td>102000.0</td>\n      <td>355.0</td>\n      <td>Right</td>\n      <td>RCM</td>\n      <td>False</td>\n      <td>2023</td>\n      <td>71</td>\n      <td>154.0</td>\n      <td>196400.0</td>\n    </tr>\n    <tr>\n      <th>...</th>\n      <td>...</td>\n      <td>...</td>\n      <td>...</td>\n      <td>...</td>\n      <td>...</td>\n      <td>...</td>\n      <td>...</td>\n      <td>...</td>\n      <td>...</td>\n      <td>...</td>\n      <td>...</td>\n      <td>...</td>\n      <td>...</td>\n    </tr>\n    <tr>\n      <th>18202</th>\n      <td>238813</td>\n      <td>19</td>\n      <td>0</td>\n      <td>296</td>\n      <td>60.0</td>\n      <td>1.0</td>\n      <td>Right</td>\n      <td>CM</td>\n      <td>False</td>\n      <td>2019</td>\n      <td>69</td>\n      <td>134.0</td>\n      <td>143.0</td>\n    </tr>\n    <tr>\n      <th>18203</th>\n      <td>243165</td>\n      <td>19</td>\n      <td>10</td>\n      <td>376</td>\n      <td>60.0</td>\n      <td>1.0</td>\n      <td>Right</td>\n      <td>ST</td>\n      <td>False</td>\n      <td>2020</td>\n      <td>75</td>\n      <td>170.0</td>\n      <td>113.0</td>\n    </tr>\n    <tr>\n      <th>18204</th>\n      <td>241638</td>\n      <td>16</td>\n      <td>0</td>\n      <td>301</td>\n      <td>60.0</td>\n      <td>1.0</td>\n      <td>Right</td>\n      <td>ST</td>\n      <td>False</td>\n      <td>2021</td>\n      <td>68</td>\n      <td>148.0</td>\n      <td>165.0</td>\n    </tr>\n    <tr>\n      <th>18205</th>\n      <td>246268</td>\n      <td>17</td>\n      <td>0</td>\n      <td>379</td>\n      <td>60.0</td>\n      <td>1.0</td>\n      <td>Right</td>\n      <td>RW</td>\n      <td>False</td>\n      <td>2019</td>\n      <td>70</td>\n      <td>154.0</td>\n      <td>143.0</td>\n    </tr>\n    <tr>\n      <th>18206</th>\n      <td>246269</td>\n      <td>16</td>\n      <td>0</td>\n      <td>379</td>\n      <td>60.0</td>\n      <td>1.0</td>\n      <td>Right</td>\n      <td>CM</td>\n      <td>False</td>\n      <td>2019</td>\n      <td>70</td>\n      <td>176.0</td>\n      <td>165.0</td>\n    </tr>\n  </tbody>\n</table>\n<p>17918 rows × 13 columns</p>\n</div>"
     },
     "execution_count": 44,
     "metadata": {},
     "output_type": "execute_result"
    }
   ],
   "source": [
    "normalizedDataframe"
   ],
   "metadata": {
    "collapsed": false
   }
  },
  {
   "cell_type": "markdown",
   "source": [
    "Creamos un dataframe para Preferred Foot"
   ],
   "metadata": {
    "collapsed": false
   }
  },
  {
   "cell_type": "code",
   "execution_count": 45,
   "outputs": [],
   "source": [
    "preferredFootDataframe = pd.DataFrame((lambda x:{'PreferredFoot':x.index, 'Frequency':x.values})(dataframe.Preferred_foot.value_counts()))"
   ],
   "metadata": {
    "collapsed": false
   }
  },
  {
   "cell_type": "code",
   "execution_count": 46,
   "outputs": [
    {
     "data": {
      "text/plain": "  PreferredFoot  Frequency\n0         Right      13756\n1          Left       4162",
      "text/html": "<div>\n<style scoped>\n    .dataframe tbody tr th:only-of-type {\n        vertical-align: middle;\n    }\n\n    .dataframe tbody tr th {\n        vertical-align: top;\n    }\n\n    .dataframe thead th {\n        text-align: right;\n    }\n</style>\n<table border=\"1\" class=\"dataframe\">\n  <thead>\n    <tr style=\"text-align: right;\">\n      <th></th>\n      <th>PreferredFoot</th>\n      <th>Frequency</th>\n    </tr>\n  </thead>\n  <tbody>\n    <tr>\n      <th>0</th>\n      <td>Right</td>\n      <td>13756</td>\n    </tr>\n    <tr>\n      <th>1</th>\n      <td>Left</td>\n      <td>4162</td>\n    </tr>\n  </tbody>\n</table>\n</div>"
     },
     "execution_count": 46,
     "metadata": {},
     "output_type": "execute_result"
    }
   ],
   "source": [
    "preferredFootDataframe"
   ],
   "metadata": {
    "collapsed": false
   }
  },
  {
   "cell_type": "markdown",
   "source": [
    "Sustituimos valores de preferredDataframe in dataframe"
   ],
   "metadata": {
    "collapsed": false
   }
  },
  {
   "cell_type": "code",
   "execution_count": 47,
   "outputs": [],
   "source": [
    "normalizedDataframe.Preferred_foot = dataframe.Preferred_foot.apply(lambda x:preferredFootDataframe.loc[preferredFootDataframe.PreferredFoot==x].index[0])"
   ],
   "metadata": {
    "collapsed": false
   }
  },
  {
   "cell_type": "markdown",
   "source": [
    "Se crea un dataframe para Position"
   ],
   "metadata": {
    "collapsed": false
   }
  },
  {
   "cell_type": "code",
   "execution_count": 48,
   "outputs": [],
   "source": [
    "positionDataframe = pd.DataFrame((lambda x:{'Position':x.index, 'Frequency':x.values})(dataframe.Position.value_counts()))"
   ],
   "metadata": {
    "collapsed": false
   }
  },
  {
   "cell_type": "code",
   "execution_count": 49,
   "outputs": [],
   "source": [
    "normalizedDataframe.Position = dataframe.Position.apply(lambda x:positionDataframe.loc[positionDataframe.Position==x].index[0])"
   ],
   "metadata": {
    "collapsed": false
   }
  },
  {
   "cell_type": "markdown",
   "source": [
    "Se crea un dataframe para Loaned"
   ],
   "metadata": {
    "collapsed": false
   }
  },
  {
   "cell_type": "code",
   "execution_count": 50,
   "outputs": [],
   "source": [
    "loanedDataframe = pd.DataFrame((lambda x:{'Loaned':x.index, 'Frequency':x.values})(dataframe.Loaned.value_counts()))"
   ],
   "metadata": {
    "collapsed": false
   }
  },
  {
   "cell_type": "code",
   "execution_count": 51,
   "outputs": [],
   "source": [
    "normalizedDataframe.Loaned = dataframe.Loaned.apply(lambda x:loanedDataframe.loc[loanedDataframe.Loaned==x].index[0])"
   ],
   "metadata": {
    "collapsed": false
   }
  },
  {
   "cell_type": "code",
   "execution_count": 52,
   "outputs": [
    {
     "data": {
      "text/plain": "           ID  Age  Nationality  Club     Value   Wage  Preferred_foot  \\\n0      158023   31            3     0  110500.0  565.0               1   \n1       20801   33           21   559   77000.0  405.0               0   \n2      190871   26            5   146  118500.0  290.0               0   \n3      193080   27            2    23   72000.0  260.0               0   \n4      192985   27           25    24  102000.0  355.0               0   \n...       ...  ...          ...   ...       ...    ...             ...   \n18202  238813   19            0   296      60.0    1.0               0   \n18203  243165   19           10   376      60.0    1.0               0   \n18204  241638   16            0   301      60.0    1.0               0   \n18205  246268   17            0   379      60.0    1.0               0   \n18206  246269   16            0   379      60.0    1.0               0   \n\n       Position  Loaned  Contract_Valid_Until  Height  Weight  Release_clause  \n0            25       0                  2021      67   159.0        226500.0  \n1             0       0                  2022      74   183.0        127100.0  \n2            14       0                  2022      69   150.0        228100.0  \n3             1       0                  2020      76   168.0        138600.0  \n4            13       0                  2023      71   154.0        196400.0  \n...         ...     ...                   ...     ...     ...             ...  \n18202         3       0                  2019      69   134.0           143.0  \n18203         0       0                  2020      75   170.0           113.0  \n18204         0       0                  2021      68   148.0           165.0  \n18205        15       0                  2019      70   154.0           143.0  \n18206         3       0                  2019      70   176.0           165.0  \n\n[17918 rows x 13 columns]",
      "text/html": "<div>\n<style scoped>\n    .dataframe tbody tr th:only-of-type {\n        vertical-align: middle;\n    }\n\n    .dataframe tbody tr th {\n        vertical-align: top;\n    }\n\n    .dataframe thead th {\n        text-align: right;\n    }\n</style>\n<table border=\"1\" class=\"dataframe\">\n  <thead>\n    <tr style=\"text-align: right;\">\n      <th></th>\n      <th>ID</th>\n      <th>Age</th>\n      <th>Nationality</th>\n      <th>Club</th>\n      <th>Value</th>\n      <th>Wage</th>\n      <th>Preferred_foot</th>\n      <th>Position</th>\n      <th>Loaned</th>\n      <th>Contract_Valid_Until</th>\n      <th>Height</th>\n      <th>Weight</th>\n      <th>Release_clause</th>\n    </tr>\n  </thead>\n  <tbody>\n    <tr>\n      <th>0</th>\n      <td>158023</td>\n      <td>31</td>\n      <td>3</td>\n      <td>0</td>\n      <td>110500.0</td>\n      <td>565.0</td>\n      <td>1</td>\n      <td>25</td>\n      <td>0</td>\n      <td>2021</td>\n      <td>67</td>\n      <td>159.0</td>\n      <td>226500.0</td>\n    </tr>\n    <tr>\n      <th>1</th>\n      <td>20801</td>\n      <td>33</td>\n      <td>21</td>\n      <td>559</td>\n      <td>77000.0</td>\n      <td>405.0</td>\n      <td>0</td>\n      <td>0</td>\n      <td>0</td>\n      <td>2022</td>\n      <td>74</td>\n      <td>183.0</td>\n      <td>127100.0</td>\n    </tr>\n    <tr>\n      <th>2</th>\n      <td>190871</td>\n      <td>26</td>\n      <td>5</td>\n      <td>146</td>\n      <td>118500.0</td>\n      <td>290.0</td>\n      <td>0</td>\n      <td>14</td>\n      <td>0</td>\n      <td>2022</td>\n      <td>69</td>\n      <td>150.0</td>\n      <td>228100.0</td>\n    </tr>\n    <tr>\n      <th>3</th>\n      <td>193080</td>\n      <td>27</td>\n      <td>2</td>\n      <td>23</td>\n      <td>72000.0</td>\n      <td>260.0</td>\n      <td>0</td>\n      <td>1</td>\n      <td>0</td>\n      <td>2020</td>\n      <td>76</td>\n      <td>168.0</td>\n      <td>138600.0</td>\n    </tr>\n    <tr>\n      <th>4</th>\n      <td>192985</td>\n      <td>27</td>\n      <td>25</td>\n      <td>24</td>\n      <td>102000.0</td>\n      <td>355.0</td>\n      <td>0</td>\n      <td>13</td>\n      <td>0</td>\n      <td>2023</td>\n      <td>71</td>\n      <td>154.0</td>\n      <td>196400.0</td>\n    </tr>\n    <tr>\n      <th>...</th>\n      <td>...</td>\n      <td>...</td>\n      <td>...</td>\n      <td>...</td>\n      <td>...</td>\n      <td>...</td>\n      <td>...</td>\n      <td>...</td>\n      <td>...</td>\n      <td>...</td>\n      <td>...</td>\n      <td>...</td>\n      <td>...</td>\n    </tr>\n    <tr>\n      <th>18202</th>\n      <td>238813</td>\n      <td>19</td>\n      <td>0</td>\n      <td>296</td>\n      <td>60.0</td>\n      <td>1.0</td>\n      <td>0</td>\n      <td>3</td>\n      <td>0</td>\n      <td>2019</td>\n      <td>69</td>\n      <td>134.0</td>\n      <td>143.0</td>\n    </tr>\n    <tr>\n      <th>18203</th>\n      <td>243165</td>\n      <td>19</td>\n      <td>10</td>\n      <td>376</td>\n      <td>60.0</td>\n      <td>1.0</td>\n      <td>0</td>\n      <td>0</td>\n      <td>0</td>\n      <td>2020</td>\n      <td>75</td>\n      <td>170.0</td>\n      <td>113.0</td>\n    </tr>\n    <tr>\n      <th>18204</th>\n      <td>241638</td>\n      <td>16</td>\n      <td>0</td>\n      <td>301</td>\n      <td>60.0</td>\n      <td>1.0</td>\n      <td>0</td>\n      <td>0</td>\n      <td>0</td>\n      <td>2021</td>\n      <td>68</td>\n      <td>148.0</td>\n      <td>165.0</td>\n    </tr>\n    <tr>\n      <th>18205</th>\n      <td>246268</td>\n      <td>17</td>\n      <td>0</td>\n      <td>379</td>\n      <td>60.0</td>\n      <td>1.0</td>\n      <td>0</td>\n      <td>15</td>\n      <td>0</td>\n      <td>2019</td>\n      <td>70</td>\n      <td>154.0</td>\n      <td>143.0</td>\n    </tr>\n    <tr>\n      <th>18206</th>\n      <td>246269</td>\n      <td>16</td>\n      <td>0</td>\n      <td>379</td>\n      <td>60.0</td>\n      <td>1.0</td>\n      <td>0</td>\n      <td>3</td>\n      <td>0</td>\n      <td>2019</td>\n      <td>70</td>\n      <td>176.0</td>\n      <td>165.0</td>\n    </tr>\n  </tbody>\n</table>\n<p>17918 rows × 13 columns</p>\n</div>"
     },
     "execution_count": 52,
     "metadata": {},
     "output_type": "execute_result"
    }
   ],
   "source": [
    "normalizedDataframe"
   ],
   "metadata": {
    "collapsed": false
   }
  },
  {
   "cell_type": "code",
   "execution_count": 52,
   "outputs": [],
   "source": [],
   "metadata": {
    "collapsed": false
   }
  }
 ],
 "metadata": {
  "kernelspec": {
   "display_name": "Python 3 (ipykernel)",
   "language": "python",
   "name": "python3"
  },
  "language_info": {
   "codemirror_mode": {
    "name": "ipython",
    "version": 3
   },
   "file_extension": ".py",
   "mimetype": "text/x-python",
   "name": "python",
   "nbconvert_exporter": "python",
   "pygments_lexer": "ipython3",
   "version": "3.10.5"
  }
 },
 "nbformat": 4,
 "nbformat_minor": 5
}
